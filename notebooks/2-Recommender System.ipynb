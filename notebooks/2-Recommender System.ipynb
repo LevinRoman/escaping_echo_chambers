{
 "cells": [
  {
   "cell_type": "code",
   "execution_count": 1,
   "metadata": {},
   "outputs": [],
   "source": [
    "import numpy as np\n",
    "import pandas as pd\n",
    "import os\n",
    "import surprise\n",
    "import pickle"
   ]
  },
  {
   "cell_type": "code",
   "execution_count": 2,
   "metadata": {},
   "outputs": [
    {
     "data": {
      "text/plain": [
       "'/home/levin/escaping_echo_chambers/data/raw/movie_lense'"
      ]
     },
     "execution_count": 2,
     "metadata": {},
     "output_type": "execute_result"
    }
   ],
   "source": [
    "MOVIE_LENS_PATH = os.path.abspath(os.path.join(os.getcwd(), '..', 'data', 'raw', 'movie_lense'))\n",
    "MOVIE_LENS_PATH"
   ]
  },
  {
   "cell_type": "code",
   "execution_count": 3,
   "metadata": {},
   "outputs": [],
   "source": [
    "movielens = pd.read_csv(os.path.join(MOVIE_LENS_PATH, 'ratings.csv'))#.drop('timestamp', axis = 1)\n",
    "# movielens = movielens[movielens.timestamp > (max(movielens['timestamp']) - 10*365*24*60*60)]\n",
    "movielens = movielens.drop('timestamp', axis = 1)"
   ]
  },
  {
   "cell_type": "code",
   "execution_count": 4,
   "metadata": {},
   "outputs": [
    {
     "data": {
      "text/plain": [
       "(27753444, 3)"
      ]
     },
     "execution_count": 4,
     "metadata": {},
     "output_type": "execute_result"
    }
   ],
   "source": [
    "movielens.shape"
   ]
  },
  {
   "cell_type": "code",
   "execution_count": 5,
   "metadata": {},
   "outputs": [],
   "source": [
    "movielens = movielens.rename(columns = {'userId':'uid', 'movieId':'iid', 'rating':'rating'})"
   ]
  },
  {
   "cell_type": "code",
   "execution_count": 6,
   "metadata": {},
   "outputs": [],
   "source": [
    "genome_scores = pd.read_csv(os.path.join(MOVIE_LENS_PATH, 'genome-scores.csv'))"
   ]
  },
  {
   "cell_type": "code",
   "execution_count": 7,
   "metadata": {},
   "outputs": [
    {
     "name": "stdout",
     "output_type": "stream",
     "text": [
      "# of movies with genome tags: 13176\n"
     ]
    }
   ],
   "source": [
    "#Let's look at how many movies have genome tags\n",
    "movies_with_genome = genome_scores['movieId'].unique()\n",
    "print('# of movies with genome tags:', len(movies_with_genome))"
   ]
  },
  {
   "cell_type": "code",
   "execution_count": 8,
   "metadata": {
    "scrolled": true
   },
   "outputs": [
    {
     "name": "stdout",
     "output_type": "stream",
     "text": [
      "# of movies in total: 53889\n"
     ]
    }
   ],
   "source": [
    "#Total number\n",
    "print('# of movies in total:', len(movielens['iid'].unique()))"
   ]
  },
  {
   "cell_type": "code",
   "execution_count": 9,
   "metadata": {},
   "outputs": [],
   "source": [
    "movielens_short = movielens[movielens.iid.isin(movies_with_genome)]"
   ]
  },
  {
   "cell_type": "code",
   "execution_count": 10,
   "metadata": {},
   "outputs": [
    {
     "data": {
      "text/plain": [
       "((27417362, 3), (27753444, 3))"
      ]
     },
     "execution_count": 10,
     "metadata": {},
     "output_type": "execute_result"
    }
   ],
   "source": [
    "#Well, this does not really make it shorter:(\n",
    "movielens_short.shape, movielens.shape"
   ]
  },
  {
   "cell_type": "code",
   "execution_count": 11,
   "metadata": {},
   "outputs": [],
   "source": [
    "movielens = movielens_short"
   ]
  },
  {
   "cell_type": "code",
   "execution_count": 12,
   "metadata": {},
   "outputs": [],
   "source": [
    "# #Let's pick this user to explore the effect of echo chambers\n",
    "# index_of_interest = 26841848\n",
    "# movielens.loc[index_of_interest]"
   ]
  },
  {
   "cell_type": "code",
   "execution_count": 13,
   "metadata": {},
   "outputs": [],
   "source": [
    "# #This user has this number of movies\n",
    "# user_of_interest = movielens.loc[index_of_interest].uid\n",
    "# print('The user_of_interest is uid {} and they have {} of movies'.format(user_of_interest, len(movielens[movielens.uid == user_of_interest])))\n",
    "# # movielens[movielens.uid == 274053]"
   ]
  },
  {
   "cell_type": "code",
   "execution_count": 14,
   "metadata": {},
   "outputs": [],
   "source": [
    "# row[26841848], row[26840745]"
   ]
  },
  {
   "cell_type": "code",
   "execution_count": 15,
   "metadata": {},
   "outputs": [],
   "source": [
    "# #Let's find users similar to the user of interest under the euclidean distance\n",
    "# #First, pivot the dataframe into a sparse matrix (it was so painful!)\n",
    "# from scipy.sparse import csr_matrix\n",
    "# from pandas.api.types import CategoricalDtype\n",
    "\n",
    "# person_c = CategoricalDtype(sorted(movielens.uid.unique()), ordered=True)\n",
    "# thing_c = CategoricalDtype(sorted(movielens.iid.unique()), ordered=True)\n",
    "\n",
    "# row = movielens.uid.astype(person_c).cat.codes\n",
    "# col = movielens.iid.astype(thing_c).cat.codes\n",
    "# sparse_matrix = csr_matrix((movielens.rating, (row, col)), \\\n",
    "#                            shape=(person_c.categories.size, thing_c.categories.size))"
   ]
  },
  {
   "cell_type": "code",
   "execution_count": 16,
   "metadata": {},
   "outputs": [],
   "source": [
    "# sparse_matrix.shape"
   ]
  },
  {
   "cell_type": "code",
   "execution_count": 17,
   "metadata": {},
   "outputs": [],
   "source": [
    "# #Now let's find the closest k users\n",
    "# k_users = 10000 #pick 30000\n",
    "# from sklearn.metrics import pairwise_distances\n",
    "\n",
    "# # user_distances = pairwise_distances(sparse_matrix, Y=sparse_matrix[row[26841848]], metric='euclidean', n_jobs=-1).reshape(-1,)\n",
    "# #!!!! np.save('user_{}_dist.npy'.format(user_of_interest), user_distances)\n",
    "# dist_indices = np.argsort(user_distances)\n",
    "\n",
    "# #This is a way to find index of the row in the original movielens\n",
    "# # i=10 \n",
    "# # row[indices[i] == row].index[0] #i-th closest user index! #Multiple original rows correspond to that user, take the first, we need uid\n",
    "# #These are the closest users, includes the user themselves\n",
    "# closest_user_ids = [movielens.loc[row[dist_indices[i] == row].index[0]].uid for i in range(k_users)]"
   ]
  },
  {
   "cell_type": "code",
   "execution_count": 18,
   "metadata": {},
   "outputs": [],
   "source": [
    "# movielens_similar = movielens[movielens.uid.isin(closest_user_ids)]"
   ]
  },
  {
   "cell_type": "code",
   "execution_count": 19,
   "metadata": {},
   "outputs": [],
   "source": [
    "# movielens_similar.shape"
   ]
  },
  {
   "cell_type": "code",
   "execution_count": 12,
   "metadata": {},
   "outputs": [],
   "source": [
    "n = 1000\n",
    "np.random.seed(1)\n",
    "sample_users = np.random.choice(movielens.uid.unique(), n)"
   ]
  },
  {
   "cell_type": "code",
   "execution_count": 13,
   "metadata": {},
   "outputs": [],
   "source": [
    "movielens = movielens_short[movielens_short.uid.isin(sample_users)]"
   ]
  },
  {
   "cell_type": "code",
   "execution_count": 14,
   "metadata": {},
   "outputs": [
    {
     "data": {
      "text/plain": [
       "(94157, 3)"
      ]
     },
     "execution_count": 14,
     "metadata": {},
     "output_type": "execute_result"
    }
   ],
   "source": [
    "movielens.shape"
   ]
  },
  {
   "cell_type": "code",
   "execution_count": 45,
   "metadata": {},
   "outputs": [],
   "source": [
    "pd.Series(movielens.iid.unique()).to_csv('movie-ids-in-the-system.csv')"
   ]
  },
  {
   "cell_type": "code",
   "execution_count": 15,
   "metadata": {},
   "outputs": [
    {
     "name": "stdout",
     "output_type": "stream",
     "text": [
      "Range: 0.5 5.0\n"
     ]
    }
   ],
   "source": [
    "lower_rating = movielens['rating'].min()\n",
    "upper_rating = movielens['rating'].max()\n",
    "print('Range:', lower_rating, upper_rating)"
   ]
  },
  {
   "cell_type": "code",
   "execution_count": 16,
   "metadata": {},
   "outputs": [],
   "source": [
    "reader = surprise.Reader(rating_scale = (lower_rating, upper_rating))\n",
    "data = surprise.Dataset.load_from_df(movielens, reader)"
   ]
  },
  {
   "cell_type": "code",
   "execution_count": 17,
   "metadata": {},
   "outputs": [
    {
     "name": "stdout",
     "output_type": "stream",
     "text": [
      "CPU times: user 4.17 s, sys: 8.5 ms, total: 4.18 s\n",
      "Wall time: 4.19 s\n"
     ]
    }
   ],
   "source": [
    "%%time\n",
    "alg = surprise.SVD()\n",
    "output = alg.fit(data.build_full_trainset())"
   ]
  },
  {
   "cell_type": "code",
   "execution_count": 26,
   "metadata": {},
   "outputs": [],
   "source": [
    "# param_grid = {'n_epochs': {10, 15, 20, 25, 30, 40}, 'lr_all': {0.01}, 'reg_all': {0.1}}\n",
    "# gs = surprise.model_selection.GridSearchCV(surprise.SVD, param_grid, measures=['rmse', 'mae'], cv = 5, n_jobs=-1)\n",
    "# gs.fit(data)\n",
    "# print(gs.best_params['rmse'])\n",
    "# print(gs.best_params['mae'])\n",
    "# print(gs.best_score)\n",
    "#Result n_epochs = 30 is enough"
   ]
  },
  {
   "cell_type": "code",
   "execution_count": 27,
   "metadata": {},
   "outputs": [
    {
     "name": "stdout",
     "output_type": "stream",
     "text": [
      "{'n_epochs': 30, 'lr_all': 0.01, 'reg_all': 0.1}\n",
      "{'n_epochs': 30, 'lr_all': 0.01, 'reg_all': 0.1}\n",
      "{'rmse': 0.8866088011998731, 'mae': 0.676868899336516}\n"
     ]
    }
   ],
   "source": [
    "param_grid = {'n_epochs':{30},'lr_all' : {0.1, 0.001, 0.01, 0.005}, 'reg_all' : {0.02, .1, .5}}\n",
    "gs = surprise.model_selection.GridSearchCV(surprise.SVD, param_grid, measures=['rmse', 'mae'], cv = 5, n_jobs=-1)\n",
    "gs.fit(data)\n",
    "print(gs.best_params['rmse'])\n",
    "print(gs.best_params['mae'])\n",
    "print(gs.best_score)"
   ]
  },
  {
   "cell_type": "code",
   "execution_count": 28,
   "metadata": {},
   "outputs": [
    {
     "name": "stdout",
     "output_type": "stream",
     "text": [
      "{'lr_all': 0.005, 'reg_all': 0.02}\n",
      "{'lr_all': 0.005, 'reg_all': 0.02}\n",
      "{'rmse': 0.9056273264532209, 'mae': 0.69268386426755}\n"
     ]
    }
   ],
   "source": [
    "#Default:\n",
    "param_grid = {'lr_all' : {0.005}, 'reg_all' : {0.02}}\n",
    "gs = surprise.model_selection.GridSearchCV(surprise.SVD, param_grid, measures=['rmse', 'mae'], cv = 5, n_jobs=-1)\n",
    "gs.fit(data)\n",
    "print(gs.best_params['rmse'])\n",
    "print(gs.best_params['mae'])\n",
    "print(gs.best_score)"
   ]
  },
  {
   "cell_type": "code",
   "execution_count": 26,
   "metadata": {},
   "outputs": [
    {
     "data": {
      "text/plain": [
       "(94157, 3)"
      ]
     },
     "execution_count": 26,
     "metadata": {},
     "output_type": "execute_result"
    }
   ],
   "source": [
    "data.df.shape"
   ]
  },
  {
   "cell_type": "code",
   "execution_count": 63,
   "metadata": {},
   "outputs": [
    {
     "data": {
      "text/plain": [
       "(array([ 318, 1203,   50, 2019, 1193, 5618,  541,  858,  908,  904, 1234,\n",
       "        1276, 2324, 2959, 1250]),\n",
       " array([4.56340869, 4.54125474, 4.53315701, 4.50889273, 4.50736983,\n",
       "        4.50272784, 4.49714948, 4.490778  , 4.47540228, 4.46950693,\n",
       "        4.46895292, 4.46754734, 4.46553675, 4.46436385, 4.45482249]),\n",
       "     uid   iid    rating\n",
       " 0    50   318  4.563409\n",
       " 1    50  1203  4.541255\n",
       " 2    50    50  4.533157\n",
       " 3    50  2019  4.508893\n",
       " 4    50  1193  4.507370\n",
       " 5    50  5618  4.502728\n",
       " 6    50   541  4.497149\n",
       " 7    50   858  4.490778\n",
       " 8    50   908  4.475402\n",
       " 9    50   904  4.469507\n",
       " 10   50  1234  4.468953\n",
       " 11   50  1276  4.467547\n",
       " 12   50  2324  4.465537\n",
       " 13   50  2959  4.464364\n",
       " 14   50  1250  4.454822)"
      ]
     },
     "execution_count": 63,
     "metadata": {},
     "output_type": "execute_result"
    }
   ],
   "source": [
    "recommend(50, data, alg, top_n = 15)"
   ]
  },
  {
   "cell_type": "code",
   "execution_count": 18,
   "metadata": {},
   "outputs": [],
   "source": [
    "def recommend(uid, data, model, top_n = 100):\n",
    "    all_movie_ids = data.df['iid'].unique()\n",
    "    uid_rated = data.df[data.df['uid'] == uid]['iid']\n",
    "    movies_to_recommend = np.setdiff1d(all_movie_ids, uid_rated)\n",
    "    prediction_set = [[uid, iid, 0] for iid in movies_to_recommend] #here 0 is arbitrary, ratings don't matter\n",
    "    predictions = model.test(prediction_set)\n",
    "    pred_ratings = np.array([pred.est for pred in predictions])\n",
    "    top = pred_ratings.argsort()[::-1][:top_n]\n",
    "    data_update = pd.DataFrame([[uid, movies_to_recommend[top][i], pred_ratings[top][i]] for i in range(top_n)], columns = ['uid', 'iid', 'rating'])\n",
    "    return movies_to_recommend[top], pred_ratings[top], data_update#len(movies_to_recommend), len(all_movie_ids) "
   ]
  },
  {
   "cell_type": "code",
   "execution_count": 28,
   "metadata": {},
   "outputs": [],
   "source": [
    "# def recommend(uid, data, model, top_n = 100):\n",
    "#     all_movie_ids = data.df['iid'].unique()\n",
    "#     uid_rated = data.df[data.df['uid'] == uid]['iid']\n",
    "#     movies_to_recommend = np.setdiff1d(all_movie_ids, uid_rated)\n",
    "#     prediction_set = [[uid, iid, 0] for iid in movies_to_recommend] #here 0 is arbitrary, ratings don't matter\n",
    "#     predictions = model.test(prediction_set)\n",
    "#     pred_ratings = np.array([pred.est for pred in predictions])\n",
    "#     top = pred_ratings.argsort()[::-1][:top_n]\n",
    "#     data_update = pd.DataFrame([[uid, movies_to_recommend[top][i], pred_ratings[top][i]] for i in range(top_n)], columns = ['uid', 'iid', 'rating'])\n",
    "#     return movies_to_recommend[top], pred_ratings[top], data_update#len(movies_to_recommend), len(all_movie_ids) "
   ]
  },
  {
   "cell_type": "code",
   "execution_count": 19,
   "metadata": {},
   "outputs": [],
   "source": [
    "from tqdm import tqdm\n",
    "import time\n",
    "\n",
    "\n",
    "def simulate(alg, data, sample_users, n_epochs = 10, top_n = 15, lower_rating = 0.5, upper_rating = 5.0):\n",
    "    #Note that data changes inplace!\n",
    "    evolution_of_movies = []\n",
    "    evolution_of_ratings = []\n",
    "    #First prediction\n",
    "    for epoch in tqdm(range(n_epochs)):\n",
    "        print('Epoch #{}'.format(epoch))\n",
    "        user_top_matrix_per_epoch = []\n",
    "        user_top_rating_matrix_per_epoch = []\n",
    "        start_fit = time.time()\n",
    "        print('Shape of the data:', data.df.shape)\n",
    "        model = alg.fit(data.build_full_trainset())\n",
    "        end_fit = time.time()\n",
    "        print('    Fit took {} seconds'.format(end_fit-start_fit))\n",
    "        #Recommend for everyone\n",
    "        data_new = data.df.copy()\n",
    "        start_predict = time.time()\n",
    "        for uid in sample_users:\n",
    "            iid_recommended, ratings_recommended, data_update = recommend(uid, data, model, top_n = top_n)\n",
    "            user_top_matrix_per_epoch.append(iid_recommended)\n",
    "            user_top_rating_matrix_per_epoch.append(ratings_recommended)\n",
    "#             print(data_new.columns, data_update.columns)\n",
    "            data_new = data_new.append([data_update]).reset_index(drop = True)\n",
    "#             print(data_new.shape)\n",
    "        end_predict = time.time()\n",
    "        print('    Predict took {} seconds'.format(end_predict-start_predict))\n",
    "        user_top_df_per_epoch = pd.DataFrame(user_top_matrix_per_epoch, index = ['uid_{}'.format(i) for i in sample_users], \n",
    "                     columns = ['top_'+str(i+1) for i in range(top_n)])\n",
    "        user_top_rating_df_per_epoch = pd.DataFrame(user_top_rating_matrix_per_epoch, index = ['uid_{}'.format(i) for i in sample_users], \n",
    "                     columns = ['top_'+str(i+1) for i in range(top_n)])\n",
    "        evolution_of_movies.append(user_top_df_per_epoch)\n",
    "        evolution_of_ratings.append(user_top_rating_df_per_epoch)\n",
    "        print('Evolution of movies and ratings appended')\n",
    "        start_update_data = time.time()\n",
    "        reader = surprise.Reader(rating_scale = (lower_rating, upper_rating))\n",
    "        data = surprise.Dataset.load_from_df(data_new, reader)\n",
    "        end_update_data = time.time()\n",
    "        print('    Update_data took {} seconds'.format(end_update_data-start_update_data))\n",
    "        print('Shape:', data.df.shape)\n",
    "    return evolution_of_movies, evolution_of_ratings"
   ]
  },
  {
   "cell_type": "code",
   "execution_count": 20,
   "metadata": {},
   "outputs": [
    {
     "data": {
      "text/plain": [
       "8116"
      ]
     },
     "execution_count": 20,
     "metadata": {},
     "output_type": "execute_result"
    }
   ],
   "source": [
    "len(data.df.iid.unique())"
   ]
  },
  {
   "cell_type": "code",
   "execution_count": 36,
   "metadata": {},
   "outputs": [
    {
     "data": {
      "text/plain": [
       "21"
      ]
     },
     "execution_count": 36,
     "metadata": {},
     "output_type": "execute_result"
    }
   ],
   "source": [
    "np.argmax([len(data.df[data.df.uid == i]) for i in sample_users[:50]])"
   ]
  },
  {
   "cell_type": "code",
   "execution_count": 37,
   "metadata": {},
   "outputs": [
    {
     "data": {
      "text/plain": [
       "117610"
      ]
     },
     "execution_count": 37,
     "metadata": {},
     "output_type": "execute_result"
    }
   ],
   "source": [
    "sample_users[21]"
   ]
  },
  {
   "cell_type": "code",
   "execution_count": 33,
   "metadata": {
    "scrolled": true
   },
   "outputs": [
    {
     "name": "stderr",
     "output_type": "stream",
     "text": [
      "\r",
      "  0%|          | 0/99 [00:00<?, ?it/s]"
     ]
    },
    {
     "name": "stdout",
     "output_type": "stream",
     "text": [
      "Epoch #0\n",
      "Shape of the data: (94157, 3)\n",
      "    Fit took 3.9510271549224854 seconds\n"
     ]
    },
    {
     "name": "stderr",
     "output_type": "stream",
     "text": [
      "\r",
      "  1%|          | 1/99 [00:07<12:09,  7.45s/it]"
     ]
    },
    {
     "name": "stdout",
     "output_type": "stream",
     "text": [
      "    Predict took 3.3673770427703857 seconds\n",
      "Evolution of movies and ratings appended\n",
      "    Update_data took 0.12029433250427246 seconds\n",
      "Shape: (97657, 3)\n",
      "Epoch #1\n",
      "Shape of the data: (97657, 3)\n",
      "    Fit took 4.424938201904297 seconds\n"
     ]
    },
    {
     "name": "stderr",
     "output_type": "stream",
     "text": [
      "\r",
      "  2%|▏         | 2/99 [00:15<12:19,  7.63s/it]"
     ]
    },
    {
     "name": "stdout",
     "output_type": "stream",
     "text": [
      "    Predict took 3.531161069869995 seconds\n",
      "Evolution of movies and ratings appended\n",
      "    Update_data took 0.08078551292419434 seconds\n",
      "Shape: (101157, 3)\n",
      "Epoch #2\n",
      "Shape of the data: (101157, 3)\n",
      "    Fit took 4.627948760986328 seconds\n"
     ]
    },
    {
     "name": "stderr",
     "output_type": "stream",
     "text": [
      "\r",
      "  3%|▎         | 3/99 [00:23<12:18,  7.69s/it]"
     ]
    },
    {
     "name": "stdout",
     "output_type": "stream",
     "text": [
      "    Predict took 3.124268054962158 seconds\n",
      "Evolution of movies and ratings appended\n",
      "    Update_data took 0.07359910011291504 seconds\n",
      "Shape: (104657, 3)\n",
      "Epoch #3\n",
      "Shape of the data: (104657, 3)\n",
      "    Fit took 4.403502464294434 seconds\n"
     ]
    },
    {
     "name": "stderr",
     "output_type": "stream",
     "text": [
      "\r",
      "  4%|▍         | 4/99 [00:30<12:08,  7.67s/it]"
     ]
    },
    {
     "name": "stdout",
     "output_type": "stream",
     "text": [
      "    Predict took 3.079301595687866 seconds\n",
      "Evolution of movies and ratings appended\n",
      "    Update_data took 0.12858343124389648 seconds\n",
      "Shape: (108157, 3)\n",
      "Epoch #4\n",
      "Shape of the data: (108157, 3)\n",
      "    Fit took 4.531994342803955 seconds\n"
     ]
    },
    {
     "name": "stderr",
     "output_type": "stream",
     "text": [
      "\r",
      "  5%|▌         | 5/99 [00:38<12:03,  7.69s/it]"
     ]
    },
    {
     "name": "stdout",
     "output_type": "stream",
     "text": [
      "    Predict took 3.076951503753662 seconds\n",
      "Evolution of movies and ratings appended\n",
      "    Update_data took 0.13135457038879395 seconds\n",
      "Shape: (111657, 3)\n",
      "Epoch #5\n",
      "Shape of the data: (111657, 3)\n",
      "    Fit took 4.856353044509888 seconds\n"
     ]
    },
    {
     "name": "stderr",
     "output_type": "stream",
     "text": [
      "\r",
      "  6%|▌         | 6/99 [00:47<12:12,  7.88s/it]"
     ]
    },
    {
     "name": "stdout",
     "output_type": "stream",
     "text": [
      "    Predict took 3.303955078125 seconds\n",
      "Evolution of movies and ratings appended\n",
      "    Update_data took 0.13658833503723145 seconds\n",
      "Shape: (115157, 3)\n",
      "Epoch #6\n",
      "Shape of the data: (115157, 3)\n",
      "    Fit took 4.85160231590271 seconds\n"
     ]
    },
    {
     "name": "stderr",
     "output_type": "stream",
     "text": [
      "\r",
      "  7%|▋         | 7/99 [00:55<12:10,  7.94s/it]"
     ]
    },
    {
     "name": "stdout",
     "output_type": "stream",
     "text": [
      "    Predict took 3.0836541652679443 seconds\n",
      "Evolution of movies and ratings appended\n",
      "    Update_data took 0.13704776763916016 seconds\n",
      "Shape: (118657, 3)\n",
      "Epoch #7\n",
      "Shape of the data: (118657, 3)\n",
      "    Fit took 5.007855176925659 seconds\n"
     ]
    },
    {
     "name": "stderr",
     "output_type": "stream",
     "text": [
      "\r",
      "  8%|▊         | 8/99 [01:03<12:09,  8.02s/it]"
     ]
    },
    {
     "name": "stdout",
     "output_type": "stream",
     "text": [
      "    Predict took 3.103663921356201 seconds\n",
      "Evolution of movies and ratings appended\n",
      "    Update_data took 0.08642768859863281 seconds\n",
      "Shape: (122157, 3)\n",
      "Epoch #8\n",
      "Shape of the data: (122157, 3)\n",
      "    Fit took 5.511868476867676 seconds\n"
     ]
    },
    {
     "name": "stderr",
     "output_type": "stream",
     "text": [
      "\r",
      "  9%|▉         | 9/99 [01:13<13:03,  8.71s/it]"
     ]
    },
    {
     "name": "stdout",
     "output_type": "stream",
     "text": [
      "    Predict took 4.692469358444214 seconds\n",
      "Evolution of movies and ratings appended\n",
      "    Update_data took 0.09801101684570312 seconds\n",
      "Shape: (125657, 3)\n",
      "Epoch #9\n",
      "Shape of the data: (125657, 3)\n",
      "    Fit took 5.876948833465576 seconds\n"
     ]
    },
    {
     "name": "stderr",
     "output_type": "stream",
     "text": [
      "\r",
      " 10%|█         | 10/99 [01:22<13:10,  8.88s/it]"
     ]
    },
    {
     "name": "stdout",
     "output_type": "stream",
     "text": [
      "    Predict took 3.284740447998047 seconds\n",
      "Evolution of movies and ratings appended\n",
      "    Update_data took 0.09951519966125488 seconds\n",
      "Shape: (129157, 3)\n",
      "Epoch #10\n",
      "Shape of the data: (129157, 3)\n",
      "    Fit took 7.283078670501709 seconds\n"
     ]
    },
    {
     "name": "stderr",
     "output_type": "stream",
     "text": [
      "\r",
      " 11%|█         | 11/99 [01:33<13:44,  9.37s/it]"
     ]
    },
    {
     "name": "stdout",
     "output_type": "stream",
     "text": [
      "    Predict took 3.138504981994629 seconds\n",
      "Evolution of movies and ratings appended\n",
      "    Update_data took 0.10059165954589844 seconds\n",
      "Shape: (132657, 3)\n",
      "Epoch #11\n",
      "Shape of the data: (132657, 3)\n",
      "    Fit took 5.823408365249634 seconds\n"
     ]
    },
    {
     "name": "stderr",
     "output_type": "stream",
     "text": [
      "\r",
      " 12%|█▏        | 12/99 [01:42<13:26,  9.27s/it]"
     ]
    },
    {
     "name": "stdout",
     "output_type": "stream",
     "text": [
      "    Predict took 3.1085972785949707 seconds\n",
      "Evolution of movies and ratings appended\n",
      "    Update_data took 0.0953981876373291 seconds\n",
      "Shape: (136157, 3)\n",
      "Epoch #12\n",
      "Shape of the data: (136157, 3)\n",
      "    Fit took 5.6386895179748535 seconds\n"
     ]
    },
    {
     "name": "stderr",
     "output_type": "stream",
     "text": [
      "\r",
      " 13%|█▎        | 13/99 [01:51<13:04,  9.13s/it]"
     ]
    },
    {
     "name": "stdout",
     "output_type": "stream",
     "text": [
      "    Predict took 3.039841890335083 seconds\n",
      "Evolution of movies and ratings appended\n",
      "    Update_data took 0.0981302261352539 seconds\n",
      "Shape: (139657, 3)\n",
      "Epoch #13\n",
      "Shape of the data: (139657, 3)\n",
      "    Fit took 5.836117744445801 seconds\n"
     ]
    },
    {
     "name": "stderr",
     "output_type": "stream",
     "text": [
      "\r",
      " 14%|█▍        | 14/99 [02:00<12:51,  9.07s/it]"
     ]
    },
    {
     "name": "stdout",
     "output_type": "stream",
     "text": [
      "    Predict took 2.999074935913086 seconds\n",
      "Evolution of movies and ratings appended\n",
      "    Update_data took 0.10109710693359375 seconds\n",
      "Shape: (143157, 3)\n",
      "Epoch #14\n",
      "Shape of the data: (143157, 3)\n",
      "    Fit took 5.930823087692261 seconds\n"
     ]
    },
    {
     "name": "stderr",
     "output_type": "stream",
     "text": [
      "\r",
      " 15%|█▌        | 15/99 [02:09<12:40,  9.05s/it]"
     ]
    },
    {
     "name": "stdout",
     "output_type": "stream",
     "text": [
      "    Predict took 2.892364978790283 seconds\n",
      "Evolution of movies and ratings appended\n",
      "    Update_data took 0.16089296340942383 seconds\n",
      "Shape: (146657, 3)\n",
      "Epoch #15\n",
      "Shape of the data: (146657, 3)\n",
      "    Fit took 6.509381055831909 seconds\n"
     ]
    },
    {
     "name": "stderr",
     "output_type": "stream",
     "text": [
      "\r",
      " 16%|█▌        | 16/99 [02:18<12:47,  9.24s/it]"
     ]
    },
    {
     "name": "stdout",
     "output_type": "stream",
     "text": [
      "    Predict took 3.0060360431671143 seconds\n",
      "Evolution of movies and ratings appended\n",
      "    Update_data took 0.1775350570678711 seconds\n",
      "Shape: (150157, 3)\n",
      "Epoch #16\n",
      "Shape of the data: (150157, 3)\n",
      "    Fit took 6.590822458267212 seconds\n"
     ]
    },
    {
     "name": "stderr",
     "output_type": "stream",
     "text": [
      "\r",
      " 17%|█▋        | 17/99 [02:28<12:46,  9.35s/it]"
     ]
    },
    {
     "name": "stdout",
     "output_type": "stream",
     "text": [
      "    Predict took 2.9003868103027344 seconds\n",
      "Evolution of movies and ratings appended\n",
      "    Update_data took 0.10543680191040039 seconds\n",
      "Shape: (153657, 3)\n",
      "Epoch #17\n",
      "Shape of the data: (153657, 3)\n",
      "    Fit took 6.520910263061523 seconds\n"
     ]
    },
    {
     "name": "stderr",
     "output_type": "stream",
     "text": [
      "\r",
      " 18%|█▊        | 18/99 [02:38<12:44,  9.44s/it]"
     ]
    },
    {
     "name": "stdout",
     "output_type": "stream",
     "text": [
      "    Predict took 2.9813008308410645 seconds\n",
      "Evolution of movies and ratings appended\n",
      "    Update_data took 0.11897730827331543 seconds\n",
      "Shape: (157157, 3)\n",
      "Epoch #18\n",
      "Shape of the data: (157157, 3)\n",
      "    Fit took 6.73040509223938 seconds\n"
     ]
    },
    {
     "name": "stderr",
     "output_type": "stream",
     "text": [
      "\r",
      " 19%|█▉        | 19/99 [02:47<12:45,  9.56s/it]"
     ]
    },
    {
     "name": "stdout",
     "output_type": "stream",
     "text": [
      "    Predict took 3.0001556873321533 seconds\n",
      "Evolution of movies and ratings appended\n",
      "    Update_data took 0.12307381629943848 seconds\n",
      "Shape: (160657, 3)\n",
      "Epoch #19\n",
      "Shape of the data: (160657, 3)\n",
      "    Fit took 7.240429162979126 seconds\n"
     ]
    },
    {
     "name": "stderr",
     "output_type": "stream",
     "text": [
      "\r",
      " 20%|██        | 20/99 [02:58<12:57,  9.84s/it]"
     ]
    },
    {
     "name": "stdout",
     "output_type": "stream",
     "text": [
      "    Predict took 3.091555118560791 seconds\n",
      "Evolution of movies and ratings appended\n",
      "    Update_data took 0.13135743141174316 seconds\n",
      "Shape: (164157, 3)\n",
      "Epoch #20\n",
      "Shape of the data: (164157, 3)\n",
      "    Fit took 7.418382406234741 seconds\n"
     ]
    },
    {
     "name": "stderr",
     "output_type": "stream",
     "text": [
      "\r",
      " 21%|██        | 21/99 [03:09<13:03, 10.05s/it]"
     ]
    },
    {
     "name": "stdout",
     "output_type": "stream",
     "text": [
      "    Predict took 2.9861927032470703 seconds\n",
      "Evolution of movies and ratings appended\n",
      "    Update_data took 0.12801289558410645 seconds\n",
      "Shape: (167657, 3)\n",
      "Epoch #21\n",
      "Shape of the data: (167657, 3)\n",
      "    Fit took 7.320459365844727 seconds\n"
     ]
    },
    {
     "name": "stderr",
     "output_type": "stream",
     "text": [
      "\r",
      " 22%|██▏       | 22/99 [03:19<13:04, 10.19s/it]"
     ]
    },
    {
     "name": "stdout",
     "output_type": "stream",
     "text": [
      "    Predict took 3.0586936473846436 seconds\n",
      "Evolution of movies and ratings appended\n",
      "    Update_data took 0.12801098823547363 seconds\n",
      "Shape: (171157, 3)\n",
      "Epoch #22\n",
      "Shape of the data: (171157, 3)\n",
      "    Fit took 7.684788703918457 seconds\n"
     ]
    },
    {
     "name": "stderr",
     "output_type": "stream",
     "text": [
      "\r",
      " 23%|██▎       | 23/99 [03:30<13:10, 10.40s/it]"
     ]
    },
    {
     "name": "stdout",
     "output_type": "stream",
     "text": [
      "    Predict took 3.0112056732177734 seconds\n",
      "Evolution of movies and ratings appended\n",
      "    Update_data took 0.18825006484985352 seconds\n",
      "Shape: (174657, 3)\n",
      "Epoch #23\n",
      "Shape of the data: (174657, 3)\n",
      "    Fit took 7.402208566665649 seconds\n"
     ]
    },
    {
     "name": "stderr",
     "output_type": "stream",
     "text": [
      "\r",
      " 24%|██▍       | 24/99 [03:40<13:03, 10.44s/it]"
     ]
    },
    {
     "name": "stdout",
     "output_type": "stream",
     "text": [
      "    Predict took 2.9314303398132324 seconds\n",
      "Evolution of movies and ratings appended\n",
      "    Update_data took 0.18961572647094727 seconds\n",
      "Shape: (178157, 3)\n",
      "Epoch #24\n",
      "Shape of the data: (178157, 3)\n",
      "    Fit took 8.09326434135437 seconds\n",
      "    Predict took 3.0127475261688232 seconds\n",
      "Evolution of movies and ratings appended\n"
     ]
    },
    {
     "name": "stderr",
     "output_type": "stream",
     "text": [
      "\r",
      " 25%|██▌       | 25/99 [03:52<13:12, 10.70s/it]"
     ]
    },
    {
     "name": "stdout",
     "output_type": "stream",
     "text": [
      "    Update_data took 0.20137524604797363 seconds\n",
      "Shape: (181657, 3)\n",
      "Epoch #25\n",
      "Shape of the data: (181657, 3)\n",
      "    Fit took 8.235572338104248 seconds\n"
     ]
    },
    {
     "name": "stderr",
     "output_type": "stream",
     "text": [
      "\r",
      " 26%|██▋       | 26/99 [04:03<13:16, 10.91s/it]"
     ]
    },
    {
     "name": "stdout",
     "output_type": "stream",
     "text": [
      "    Predict took 2.9855997562408447 seconds\n",
      "Evolution of movies and ratings appended\n",
      "    Update_data took 0.15494179725646973 seconds\n",
      "Shape: (185157, 3)\n",
      "Epoch #26\n",
      "Shape of the data: (185157, 3)\n",
      "    Fit took 8.435424566268921 seconds\n"
     ]
    },
    {
     "name": "stderr",
     "output_type": "stream",
     "text": [
      "\r",
      " 27%|██▋       | 27/99 [04:15<13:17, 11.07s/it]"
     ]
    },
    {
     "name": "stdout",
     "output_type": "stream",
     "text": [
      "    Predict took 2.869049549102783 seconds\n",
      "Evolution of movies and ratings appended\n",
      "    Update_data took 0.13327264785766602 seconds\n",
      "Shape: (188657, 3)\n",
      "Epoch #27\n",
      "Shape of the data: (188657, 3)\n",
      "    Fit took 7.8417792320251465 seconds\n"
     ]
    },
    {
     "name": "stderr",
     "output_type": "stream",
     "text": [
      "\r",
      " 28%|██▊       | 28/99 [04:25<12:59, 10.98s/it]"
     ]
    },
    {
     "name": "stdout",
     "output_type": "stream",
     "text": [
      "    Predict took 2.7042267322540283 seconds\n",
      "Evolution of movies and ratings appended\n",
      "    Update_data took 0.19578051567077637 seconds\n",
      "Shape: (192157, 3)\n",
      "Epoch #28\n",
      "Shape of the data: (192157, 3)\n",
      "    Fit took 8.468966722488403 seconds\n"
     ]
    },
    {
     "name": "stderr",
     "output_type": "stream",
     "text": [
      "\r",
      " 29%|██▉       | 29/99 [04:37<12:55, 11.08s/it]"
     ]
    },
    {
     "name": "stdout",
     "output_type": "stream",
     "text": [
      "    Predict took 2.714120864868164 seconds\n",
      "Evolution of movies and ratings appended\n",
      "    Update_data took 0.14474058151245117 seconds\n",
      "Shape: (195657, 3)\n",
      "Epoch #29\n",
      "Shape of the data: (195657, 3)\n",
      "    Fit took 8.445637226104736 seconds\n"
     ]
    },
    {
     "name": "stderr",
     "output_type": "stream",
     "text": [
      "\r",
      " 30%|███       | 30/99 [04:48<12:50, 11.16s/it]"
     ]
    },
    {
     "name": "stdout",
     "output_type": "stream",
     "text": [
      "    Predict took 2.7508480548858643 seconds\n",
      "Evolution of movies and ratings appended\n",
      "    Update_data took 0.14072561264038086 seconds\n",
      "Shape: (199157, 3)\n",
      "Epoch #30\n",
      "Shape of the data: (199157, 3)\n",
      "    Fit took 8.586987972259521 seconds\n"
     ]
    },
    {
     "name": "stderr",
     "output_type": "stream",
     "text": [
      "\r",
      " 31%|███▏      | 31/99 [04:59<12:43, 11.23s/it]"
     ]
    },
    {
     "name": "stdout",
     "output_type": "stream",
     "text": [
      "    Predict took 2.6543984413146973 seconds\n",
      "Evolution of movies and ratings appended\n",
      "    Update_data took 0.14539408683776855 seconds\n",
      "Shape: (202657, 3)\n",
      "Epoch #31\n",
      "Shape of the data: (202657, 3)\n",
      "    Fit took 8.395891666412354 seconds\n",
      "    Predict took 2.554579019546509 seconds\n",
      "Evolution of movies and ratings appended\n"
     ]
    },
    {
     "name": "stderr",
     "output_type": "stream",
     "text": [
      "\r",
      " 32%|███▏      | 32/99 [05:11<12:31, 11.21s/it]"
     ]
    },
    {
     "name": "stdout",
     "output_type": "stream",
     "text": [
      "    Update_data took 0.2069849967956543 seconds\n",
      "Shape: (206157, 3)\n",
      "Epoch #32\n",
      "Shape of the data: (206157, 3)\n",
      "    Fit took 8.754921674728394 seconds\n",
      "    Predict took 2.5491952896118164 seconds\n",
      "Evolution of movies and ratings appended\n"
     ]
    },
    {
     "name": "stderr",
     "output_type": "stream",
     "text": [
      "\r",
      " 33%|███▎      | 33/99 [05:22<12:26, 11.31s/it]"
     ]
    },
    {
     "name": "stdout",
     "output_type": "stream",
     "text": [
      "    Update_data took 0.21247243881225586 seconds\n",
      "Shape: (209657, 3)\n",
      "Epoch #33\n",
      "Shape of the data: (209657, 3)\n",
      "    Fit took 8.729199171066284 seconds\n"
     ]
    },
    {
     "name": "stderr",
     "output_type": "stream",
     "text": [
      "\r",
      " 34%|███▍      | 34/99 [05:34<12:16, 11.34s/it]"
     ]
    },
    {
     "name": "stdout",
     "output_type": "stream",
     "text": [
      "    Predict took 2.5091490745544434 seconds\n",
      "Evolution of movies and ratings appended\n",
      "    Update_data took 0.15518879890441895 seconds\n",
      "Shape: (213157, 3)\n",
      "Epoch #34\n",
      "Shape of the data: (213157, 3)\n",
      "    Fit took 9.341030359268188 seconds\n"
     ]
    },
    {
     "name": "stderr",
     "output_type": "stream",
     "text": [
      "\r",
      " 35%|███▌      | 35/99 [05:46<12:20, 11.56s/it]"
     ]
    },
    {
     "name": "stdout",
     "output_type": "stream",
     "text": [
      "    Predict took 2.5876641273498535 seconds\n",
      "Evolution of movies and ratings appended\n",
      "    Update_data took 0.15179204940795898 seconds\n",
      "Shape: (216657, 3)\n",
      "Epoch #35\n",
      "Shape of the data: (216657, 3)\n",
      "    Fit took 9.564248323440552 seconds\n"
     ]
    },
    {
     "name": "stderr",
     "output_type": "stream",
     "text": [
      "\r",
      " 36%|███▋      | 36/99 [05:58<12:24, 11.82s/it]"
     ]
    },
    {
     "name": "stdout",
     "output_type": "stream",
     "text": [
      "    Predict took 2.656799077987671 seconds\n",
      "Evolution of movies and ratings appended\n",
      "    Update_data took 0.17719244956970215 seconds\n",
      "Shape: (220157, 3)\n",
      "Epoch #36\n",
      "Shape of the data: (220157, 3)\n",
      "    Fit took 10.025864362716675 seconds\n"
     ]
    },
    {
     "name": "stderr",
     "output_type": "stream",
     "text": [
      "\r",
      " 37%|███▋      | 37/99 [06:11<12:28, 12.07s/it]"
     ]
    },
    {
     "name": "stdout",
     "output_type": "stream",
     "text": [
      "    Predict took 2.4768927097320557 seconds\n",
      "Evolution of movies and ratings appended\n",
      "    Update_data took 0.1531226634979248 seconds\n",
      "Shape: (223657, 3)\n",
      "Epoch #37\n",
      "Shape of the data: (223657, 3)\n",
      "    Fit took 9.709589004516602 seconds\n"
     ]
    },
    {
     "name": "stderr",
     "output_type": "stream",
     "text": [
      "\r",
      " 38%|███▊      | 38/99 [06:23<12:23, 12.18s/it]"
     ]
    },
    {
     "name": "stdout",
     "output_type": "stream",
     "text": [
      "    Predict took 2.5333635807037354 seconds\n",
      "Evolution of movies and ratings appended\n",
      "    Update_data took 0.1825428009033203 seconds\n",
      "Shape: (227157, 3)\n",
      "Epoch #38\n",
      "Shape of the data: (227157, 3)\n",
      "    Fit took 9.662496089935303 seconds\n"
     ]
    },
    {
     "name": "stderr",
     "output_type": "stream",
     "text": [
      "\r",
      " 39%|███▉      | 39/99 [06:36<12:14, 12.25s/it]"
     ]
    },
    {
     "name": "stdout",
     "output_type": "stream",
     "text": [
      "    Predict took 2.5384180545806885 seconds\n",
      "Evolution of movies and ratings appended\n",
      "    Update_data took 0.18611741065979004 seconds\n",
      "Shape: (230657, 3)\n",
      "Epoch #39\n",
      "Shape of the data: (230657, 3)\n",
      "    Fit took 9.652727842330933 seconds\n"
     ]
    },
    {
     "name": "stderr",
     "output_type": "stream",
     "text": [
      "\r",
      " 40%|████      | 40/99 [06:48<12:02, 12.25s/it]"
     ]
    },
    {
     "name": "stdout",
     "output_type": "stream",
     "text": [
      "    Predict took 2.4295077323913574 seconds\n",
      "Evolution of movies and ratings appended\n",
      "    Update_data took 0.16752314567565918 seconds\n",
      "Shape: (234157, 3)\n",
      "Epoch #40\n",
      "Shape of the data: (234157, 3)\n",
      "    Fit took 9.77208137512207 seconds\n",
      "    Predict took 2.3369529247283936 seconds\n",
      "Evolution of movies and ratings appended\n"
     ]
    },
    {
     "name": "stderr",
     "output_type": "stream",
     "text": [
      "\r",
      " 41%|████▏     | 41/99 [07:00<11:52, 12.28s/it]"
     ]
    },
    {
     "name": "stdout",
     "output_type": "stream",
     "text": [
      "    Update_data took 0.23471307754516602 seconds\n",
      "Shape: (237657, 3)\n",
      "Epoch #41\n",
      "Shape of the data: (237657, 3)\n",
      "    Fit took 10.247631072998047 seconds\n",
      "    Predict took 2.552023410797119 seconds\n",
      "Evolution of movies and ratings appended\n"
     ]
    },
    {
     "name": "stderr",
     "output_type": "stream",
     "text": [
      "\r",
      " 42%|████▏     | 42/99 [07:13<11:54, 12.53s/it]"
     ]
    },
    {
     "name": "stdout",
     "output_type": "stream",
     "text": [
      "    Update_data took 0.2942948341369629 seconds\n",
      "Shape: (241157, 3)\n",
      "Epoch #42\n",
      "Shape of the data: (241157, 3)\n",
      "    Fit took 11.145125389099121 seconds\n",
      "    Predict took 2.334127426147461 seconds\n",
      "Evolution of movies and ratings appended\n"
     ]
    },
    {
     "name": "stderr",
     "output_type": "stream",
     "text": [
      "\r",
      " 43%|████▎     | 43/99 [07:27<12:01, 12.89s/it]"
     ]
    },
    {
     "name": "stdout",
     "output_type": "stream",
     "text": [
      "    Update_data took 0.2469336986541748 seconds\n",
      "Shape: (244657, 3)\n",
      "Epoch #43\n",
      "Shape of the data: (244657, 3)\n",
      "    Fit took 10.882505178451538 seconds\n"
     ]
    },
    {
     "name": "stderr",
     "output_type": "stream",
     "text": [
      "\r",
      " 44%|████▍     | 44/99 [07:41<11:59, 13.09s/it]"
     ]
    },
    {
     "name": "stdout",
     "output_type": "stream",
     "text": [
      "    Predict took 2.4753777980804443 seconds\n",
      "Evolution of movies and ratings appended\n",
      "    Update_data took 0.17598176002502441 seconds\n",
      "Shape: (248157, 3)\n",
      "Epoch #44\n",
      "Shape of the data: (248157, 3)\n",
      "    Fit took 10.986206769943237 seconds\n"
     ]
    },
    {
     "name": "stderr",
     "output_type": "stream",
     "text": [
      "\r",
      " 45%|████▌     | 45/99 [07:54<11:52, 13.20s/it]"
     ]
    },
    {
     "name": "stdout",
     "output_type": "stream",
     "text": [
      "    Predict took 2.278630018234253 seconds\n",
      "Evolution of movies and ratings appended\n",
      "    Update_data took 0.17349743843078613 seconds\n",
      "Shape: (251657, 3)\n",
      "Epoch #45\n",
      "Shape of the data: (251657, 3)\n",
      "    Fit took 11.476158142089844 seconds\n"
     ]
    },
    {
     "name": "stderr",
     "output_type": "stream",
     "text": [
      "\r",
      " 46%|████▋     | 46/99 [08:08<11:51, 13.43s/it]"
     ]
    },
    {
     "name": "stdout",
     "output_type": "stream",
     "text": [
      "    Predict took 2.3061676025390625 seconds\n",
      "Evolution of movies and ratings appended\n",
      "    Update_data took 0.17966675758361816 seconds\n",
      "Shape: (255157, 3)\n",
      "Epoch #46\n",
      "Shape of the data: (255157, 3)\n",
      "    Fit took 11.38467001914978 seconds\n",
      "    Predict took 2.321455240249634 seconds\n",
      "Evolution of movies and ratings appended\n"
     ]
    },
    {
     "name": "stderr",
     "output_type": "stream",
     "text": [
      "\r",
      " 47%|████▋     | 47/99 [08:22<11:46, 13.59s/it]"
     ]
    },
    {
     "name": "stdout",
     "output_type": "stream",
     "text": [
      "    Update_data took 0.2583885192871094 seconds\n",
      "Shape: (258657, 3)\n",
      "Epoch #47\n",
      "Shape of the data: (258657, 3)\n",
      "    Fit took 11.63623046875 seconds\n",
      "    Predict took 2.3514389991760254 seconds\n",
      "Evolution of movies and ratings appended\n"
     ]
    },
    {
     "name": "stderr",
     "output_type": "stream",
     "text": [
      "\r",
      " 48%|████▊     | 48/99 [08:36<11:43, 13.79s/it]"
     ]
    },
    {
     "name": "stdout",
     "output_type": "stream",
     "text": [
      "    Update_data took 0.2641031742095947 seconds\n",
      "Shape: (262157, 3)\n",
      "Epoch #48\n",
      "Shape of the data: (262157, 3)\n",
      "    Fit took 11.674353837966919 seconds\n",
      "    Predict took 2.29375958442688 seconds\n",
      "Evolution of movies and ratings appended\n"
     ]
    },
    {
     "name": "stderr",
     "output_type": "stream",
     "text": [
      "\r",
      " 49%|████▉     | 49/99 [08:50<11:36, 13.93s/it]"
     ]
    },
    {
     "name": "stdout",
     "output_type": "stream",
     "text": [
      "    Update_data took 0.26992201805114746 seconds\n",
      "Shape: (265657, 3)\n",
      "Epoch #49\n",
      "Shape of the data: (265657, 3)\n",
      "    Fit took 11.92695426940918 seconds\n",
      "    Predict took 2.2815639972686768 seconds\n",
      "Evolution of movies and ratings appended\n"
     ]
    },
    {
     "name": "stderr",
     "output_type": "stream",
     "text": [
      "\r",
      " 51%|█████     | 50/99 [09:05<11:30, 14.10s/it]"
     ]
    },
    {
     "name": "stdout",
     "output_type": "stream",
     "text": [
      "    Update_data took 0.2717411518096924 seconds\n",
      "Shape: (269157, 3)\n",
      "Epoch #50\n",
      "Shape of the data: (269157, 3)\n",
      "    Fit took 11.558470010757446 seconds\n",
      "    Predict took 2.120291233062744 seconds\n",
      "Evolution of movies and ratings appended\n"
     ]
    },
    {
     "name": "stderr",
     "output_type": "stream",
     "text": [
      "\r",
      " 52%|█████▏    | 51/99 [09:19<11:14, 14.05s/it]"
     ]
    },
    {
     "name": "stdout",
     "output_type": "stream",
     "text": [
      "    Update_data took 0.2610640525817871 seconds\n",
      "Shape: (272657, 3)\n",
      "Epoch #51\n",
      "Shape of the data: (272657, 3)\n",
      "    Fit took 11.52759575843811 seconds\n",
      "    Predict took 2.3342230319976807 seconds\n",
      "Evolution of movies and ratings appended\n"
     ]
    },
    {
     "name": "stderr",
     "output_type": "stream",
     "text": [
      "\r",
      " 53%|█████▎    | 52/99 [09:33<11:00, 14.06s/it]"
     ]
    },
    {
     "name": "stdout",
     "output_type": "stream",
     "text": [
      "    Update_data took 0.2126154899597168 seconds\n",
      "Shape: (276157, 3)\n",
      "Epoch #52\n",
      "Shape of the data: (276157, 3)\n",
      "    Fit took 13.299183368682861 seconds\n",
      "    Predict took 2.1414058208465576 seconds\n",
      "Evolution of movies and ratings appended\n"
     ]
    },
    {
     "name": "stderr",
     "output_type": "stream",
     "text": [
      "\r",
      " 54%|█████▎    | 53/99 [09:49<11:08, 14.54s/it]"
     ]
    },
    {
     "name": "stdout",
     "output_type": "stream",
     "text": [
      "    Update_data took 0.2010786533355713 seconds\n",
      "Shape: (279657, 3)\n",
      "Epoch #53\n",
      "Shape of the data: (279657, 3)\n",
      "    Fit took 12.285040140151978 seconds\n",
      "    Predict took 2.2102913856506348 seconds\n",
      "Evolution of movies and ratings appended\n"
     ]
    },
    {
     "name": "stderr",
     "output_type": "stream",
     "text": [
      "\r",
      " 55%|█████▍    | 54/99 [10:03<10:57, 14.62s/it]"
     ]
    },
    {
     "name": "stdout",
     "output_type": "stream",
     "text": [
      "    Update_data took 0.2978813648223877 seconds\n",
      "Shape: (283157, 3)\n",
      "Epoch #54\n",
      "Shape of the data: (283157, 3)\n",
      "    Fit took 12.727137804031372 seconds\n",
      "    Predict took 2.1589503288269043 seconds\n",
      "Evolution of movies and ratings appended\n"
     ]
    },
    {
     "name": "stderr",
     "output_type": "stream",
     "text": [
      "\r",
      " 56%|█████▌    | 55/99 [10:19<10:49, 14.76s/it]"
     ]
    },
    {
     "name": "stdout",
     "output_type": "stream",
     "text": [
      "    Update_data took 0.2004396915435791 seconds\n",
      "Shape: (286657, 3)\n",
      "Epoch #55\n",
      "Shape of the data: (286657, 3)\n",
      "    Fit took 12.328534126281738 seconds\n",
      "    Predict took 2.0368235111236572 seconds\n",
      "Evolution of movies and ratings appended\n"
     ]
    },
    {
     "name": "stderr",
     "output_type": "stream",
     "text": [
      "\r",
      " 57%|█████▋    | 56/99 [10:33<10:32, 14.71s/it]"
     ]
    },
    {
     "name": "stdout",
     "output_type": "stream",
     "text": [
      "    Update_data took 0.203110933303833 seconds\n",
      "Shape: (290157, 3)\n",
      "Epoch #56\n",
      "Shape of the data: (290157, 3)\n",
      "    Fit took 12.521953105926514 seconds\n",
      "    Predict took 1.95393967628479 seconds\n",
      "Evolution of movies and ratings appended\n"
     ]
    },
    {
     "name": "stderr",
     "output_type": "stream",
     "text": [
      "\r",
      " 58%|█████▊    | 57/99 [10:48<10:18, 14.73s/it]"
     ]
    },
    {
     "name": "stdout",
     "output_type": "stream",
     "text": [
      "    Update_data took 0.28075647354125977 seconds\n",
      "Shape: (293657, 3)\n",
      "Epoch #57\n",
      "Shape of the data: (293657, 3)\n",
      "    Fit took 12.136238098144531 seconds\n",
      "    Predict took 1.9234702587127686 seconds\n",
      "Evolution of movies and ratings appended\n"
     ]
    },
    {
     "name": "stderr",
     "output_type": "stream",
     "text": [
      "\r",
      " 59%|█████▊    | 58/99 [11:02<09:59, 14.61s/it]"
     ]
    },
    {
     "name": "stdout",
     "output_type": "stream",
     "text": [
      "    Update_data took 0.2829422950744629 seconds\n",
      "Shape: (297157, 3)\n",
      "Epoch #58\n",
      "Shape of the data: (297157, 3)\n",
      "    Fit took 12.323493480682373 seconds\n",
      "    Predict took 1.9369769096374512 seconds\n",
      "Evolution of movies and ratings appended\n"
     ]
    },
    {
     "name": "stderr",
     "output_type": "stream",
     "text": [
      "\r",
      " 60%|█████▉    | 59/99 [11:17<09:43, 14.60s/it]"
     ]
    },
    {
     "name": "stdout",
     "output_type": "stream",
     "text": [
      "    Update_data took 0.2840311527252197 seconds\n",
      "Shape: (300657, 3)\n",
      "Epoch #59\n",
      "Shape of the data: (300657, 3)\n",
      "    Fit took 12.434283971786499 seconds\n",
      "    Predict took 1.8986282348632812 seconds\n",
      "Evolution of movies and ratings appended\n"
     ]
    },
    {
     "name": "stderr",
     "output_type": "stream",
     "text": [
      "\r",
      " 61%|██████    | 60/99 [11:31<09:28, 14.58s/it]"
     ]
    },
    {
     "name": "stdout",
     "output_type": "stream",
     "text": [
      "    Update_data took 0.21209049224853516 seconds\n",
      "Shape: (304157, 3)\n",
      "Epoch #60\n",
      "Shape of the data: (304157, 3)\n",
      "    Fit took 13.279162883758545 seconds\n",
      "    Predict took 1.8936874866485596 seconds\n",
      "Evolution of movies and ratings appended\n"
     ]
    },
    {
     "name": "stderr",
     "output_type": "stream",
     "text": [
      "\r",
      " 62%|██████▏   | 61/99 [11:47<09:23, 14.83s/it]"
     ]
    },
    {
     "name": "stdout",
     "output_type": "stream",
     "text": [
      "    Update_data took 0.21149945259094238 seconds\n",
      "Shape: (307657, 3)\n",
      "Epoch #61\n",
      "Shape of the data: (307657, 3)\n",
      "    Fit took 12.959967613220215 seconds\n",
      "    Predict took 1.8941106796264648 seconds\n",
      "Evolution of movies and ratings appended\n"
     ]
    },
    {
     "name": "stderr",
     "output_type": "stream",
     "text": [
      "\r",
      " 63%|██████▎   | 62/99 [12:02<09:11, 14.91s/it]"
     ]
    },
    {
     "name": "stdout",
     "output_type": "stream",
     "text": [
      "    Update_data took 0.22560429573059082 seconds\n",
      "Shape: (311157, 3)\n",
      "Epoch #62\n",
      "Shape of the data: (311157, 3)\n",
      "    Fit took 13.348206043243408 seconds\n",
      "    Predict took 1.8713624477386475 seconds\n",
      "Evolution of movies and ratings appended\n"
     ]
    },
    {
     "name": "stderr",
     "output_type": "stream",
     "text": [
      "\r",
      " 64%|██████▎   | 63/99 [12:17<09:02, 15.07s/it]"
     ]
    },
    {
     "name": "stdout",
     "output_type": "stream",
     "text": [
      "    Update_data took 0.22450613975524902 seconds\n",
      "Shape: (314657, 3)\n",
      "Epoch #63\n",
      "Shape of the data: (314657, 3)\n",
      "    Fit took 14.316040277481079 seconds\n",
      "    Predict took 1.9648454189300537 seconds\n",
      "Evolution of movies and ratings appended\n"
     ]
    },
    {
     "name": "stderr",
     "output_type": "stream",
     "text": [
      "\r",
      " 65%|██████▍   | 64/99 [12:34<09:02, 15.51s/it]"
     ]
    },
    {
     "name": "stdout",
     "output_type": "stream",
     "text": [
      "    Update_data took 0.24478363990783691 seconds\n",
      "Shape: (318157, 3)\n",
      "Epoch #64\n",
      "Shape of the data: (318157, 3)\n",
      "    Fit took 14.614410161972046 seconds\n",
      "    Predict took 1.933312177658081 seconds\n",
      "Evolution of movies and ratings appended\n"
     ]
    },
    {
     "name": "stderr",
     "output_type": "stream",
     "text": [
      "\r",
      " 66%|██████▌   | 65/99 [12:51<09:00, 15.90s/it]"
     ]
    },
    {
     "name": "stdout",
     "output_type": "stream",
     "text": [
      "    Update_data took 0.26168179512023926 seconds\n",
      "Shape: (321657, 3)\n",
      "Epoch #65\n",
      "Shape of the data: (321657, 3)\n",
      "    Fit took 14.064525365829468 seconds\n",
      "    Predict took 1.7776522636413574 seconds\n",
      "Evolution of movies and ratings appended\n"
     ]
    },
    {
     "name": "stderr",
     "output_type": "stream",
     "text": [
      "\r",
      " 67%|██████▋   | 66/99 [13:07<08:47, 15.98s/it]"
     ]
    },
    {
     "name": "stdout",
     "output_type": "stream",
     "text": [
      "    Update_data took 0.3043935298919678 seconds\n",
      "Shape: (325157, 3)\n",
      "Epoch #66\n",
      "Shape of the data: (325157, 3)\n",
      "    Fit took 13.60974907875061 seconds\n",
      "    Predict took 1.8022782802581787 seconds\n",
      "Evolution of movies and ratings appended\n"
     ]
    },
    {
     "name": "stderr",
     "output_type": "stream",
     "text": [
      "\r",
      " 68%|██████▊   | 67/99 [13:23<08:28, 15.91s/it]"
     ]
    },
    {
     "name": "stdout",
     "output_type": "stream",
     "text": [
      "    Update_data took 0.3096945285797119 seconds\n",
      "Shape: (328657, 3)\n",
      "Epoch #67\n",
      "Shape of the data: (328657, 3)\n",
      "    Fit took 14.14051365852356 seconds\n",
      "    Predict took 1.756234884262085 seconds\n",
      "Evolution of movies and ratings appended\n"
     ]
    },
    {
     "name": "stderr",
     "output_type": "stream",
     "text": [
      "\r",
      " 69%|██████▊   | 68/99 [13:39<08:15, 16.00s/it]"
     ]
    },
    {
     "name": "stdout",
     "output_type": "stream",
     "text": [
      "    Update_data took 0.3114144802093506 seconds\n",
      "Shape: (332157, 3)\n",
      "Epoch #68\n",
      "Shape of the data: (332157, 3)\n",
      "    Fit took 14.22997260093689 seconds\n",
      "    Predict took 1.7194797992706299 seconds\n",
      "Evolution of movies and ratings appended\n"
     ]
    },
    {
     "name": "stderr",
     "output_type": "stream",
     "text": [
      "\r",
      " 70%|██████▉   | 69/99 [13:55<08:02, 16.08s/it]"
     ]
    },
    {
     "name": "stdout",
     "output_type": "stream",
     "text": [
      "    Update_data took 0.3188450336456299 seconds\n",
      "Shape: (335657, 3)\n",
      "Epoch #69\n",
      "Shape of the data: (335657, 3)\n",
      "    Fit took 14.393287181854248 seconds\n",
      "    Predict took 1.800827980041504 seconds\n",
      "Evolution of movies and ratings appended\n"
     ]
    },
    {
     "name": "stderr",
     "output_type": "stream",
     "text": [
      "\r",
      " 71%|███████   | 70/99 [14:11<07:49, 16.19s/it]"
     ]
    },
    {
     "name": "stdout",
     "output_type": "stream",
     "text": [
      "    Update_data took 0.24322843551635742 seconds\n",
      "Shape: (339157, 3)\n",
      "Epoch #70\n",
      "Shape of the data: (339157, 3)\n",
      "    Fit took 14.864784002304077 seconds\n",
      "    Predict took 1.7757458686828613 seconds\n",
      "Evolution of movies and ratings appended\n"
     ]
    },
    {
     "name": "stderr",
     "output_type": "stream",
     "text": [
      "\r",
      " 72%|███████▏  | 71/99 [14:28<07:39, 16.40s/it]"
     ]
    },
    {
     "name": "stdout",
     "output_type": "stream",
     "text": [
      "    Update_data took 0.24393439292907715 seconds\n",
      "Shape: (342657, 3)\n",
      "Epoch #71\n",
      "Shape of the data: (342657, 3)\n",
      "    Fit took 15.037418842315674 seconds\n",
      "    Predict took 1.657961368560791 seconds\n",
      "Evolution of movies and ratings appended\n"
     ]
    },
    {
     "name": "stderr",
     "output_type": "stream",
     "text": [
      "\r",
      " 73%|███████▎  | 72/99 [14:45<07:27, 16.57s/it]"
     ]
    },
    {
     "name": "stdout",
     "output_type": "stream",
     "text": [
      "    Update_data took 0.24076056480407715 seconds\n",
      "Shape: (346157, 3)\n",
      "Epoch #72\n",
      "Shape of the data: (346157, 3)\n",
      "    Fit took 15.238669157028198 seconds\n",
      "    Predict took 1.6144554615020752 seconds\n",
      "Evolution of movies and ratings appended\n"
     ]
    },
    {
     "name": "stderr",
     "output_type": "stream",
     "text": [
      "\r",
      " 74%|███████▎  | 73/99 [15:02<07:14, 16.73s/it]"
     ]
    },
    {
     "name": "stdout",
     "output_type": "stream",
     "text": [
      "    Update_data took 0.24647259712219238 seconds\n",
      "Shape: (349657, 3)\n",
      "Epoch #73\n",
      "Shape of the data: (349657, 3)\n",
      "    Fit took 15.182140827178955 seconds\n",
      "    Predict took 1.5104315280914307 seconds\n",
      "Evolution of movies and ratings appended\n"
     ]
    },
    {
     "name": "stderr",
     "output_type": "stream",
     "text": [
      "\r",
      " 75%|███████▍  | 74/99 [15:19<06:59, 16.80s/it]"
     ]
    },
    {
     "name": "stdout",
     "output_type": "stream",
     "text": [
      "    Update_data took 0.255021333694458 seconds\n",
      "Shape: (353157, 3)\n",
      "Epoch #74\n",
      "Shape of the data: (353157, 3)\n",
      "    Fit took 14.954922914505005 seconds\n",
      "    Predict took 1.5280752182006836 seconds\n",
      "Evolution of movies and ratings appended\n"
     ]
    },
    {
     "name": "stderr",
     "output_type": "stream",
     "text": [
      "\r",
      " 76%|███████▌  | 75/99 [15:36<06:42, 16.78s/it]"
     ]
    },
    {
     "name": "stdout",
     "output_type": "stream",
     "text": [
      "    Update_data took 0.24739336967468262 seconds\n",
      "Shape: (356657, 3)\n",
      "Epoch #75\n",
      "Shape of the data: (356657, 3)\n",
      "    Fit took 14.981828689575195 seconds\n",
      "    Predict took 1.5081679821014404 seconds\n",
      "Evolution of movies and ratings appended\n"
     ]
    },
    {
     "name": "stderr",
     "output_type": "stream",
     "text": [
      "\r",
      " 77%|███████▋  | 76/99 [15:53<06:26, 16.80s/it]"
     ]
    },
    {
     "name": "stdout",
     "output_type": "stream",
     "text": [
      "    Update_data took 0.32900166511535645 seconds\n",
      "Shape: (360157, 3)\n",
      "Epoch #76\n",
      "Shape of the data: (360157, 3)\n",
      "    Fit took 15.298402786254883 seconds\n",
      "    Predict took 1.5129568576812744 seconds\n",
      "Evolution of movies and ratings appended\n"
     ]
    },
    {
     "name": "stderr",
     "output_type": "stream",
     "text": [
      "\r",
      " 78%|███████▊  | 77/99 [16:10<06:11, 16.88s/it]"
     ]
    },
    {
     "name": "stdout",
     "output_type": "stream",
     "text": [
      "    Update_data took 0.2507321834564209 seconds\n",
      "Shape: (363657, 3)\n",
      "Epoch #77\n",
      "Shape of the data: (363657, 3)\n",
      "    Fit took 15.241254329681396 seconds\n",
      "    Predict took 1.5052783489227295 seconds\n",
      "Evolution of movies and ratings appended\n"
     ]
    },
    {
     "name": "stderr",
     "output_type": "stream",
     "text": [
      "\r",
      " 79%|███████▉  | 78/99 [16:27<05:55, 16.92s/it]"
     ]
    },
    {
     "name": "stdout",
     "output_type": "stream",
     "text": [
      "    Update_data took 0.271390438079834 seconds\n",
      "Shape: (367157, 3)\n",
      "Epoch #78\n",
      "Shape of the data: (367157, 3)\n",
      "    Fit took 15.497743844985962 seconds\n",
      "    Predict took 1.471877098083496 seconds\n",
      "Evolution of movies and ratings appended\n"
     ]
    },
    {
     "name": "stderr",
     "output_type": "stream",
     "text": [
      "\r",
      " 80%|███████▉  | 79/99 [16:44<05:40, 17.02s/it]"
     ]
    },
    {
     "name": "stdout",
     "output_type": "stream",
     "text": [
      "    Update_data took 0.2650766372680664 seconds\n",
      "Shape: (370657, 3)\n",
      "Epoch #79\n",
      "Shape of the data: (370657, 3)\n",
      "    Fit took 15.526361227035522 seconds\n",
      "    Predict took 1.4494478702545166 seconds\n",
      "Evolution of movies and ratings appended\n"
     ]
    },
    {
     "name": "stderr",
     "output_type": "stream",
     "text": [
      "\r",
      " 81%|████████  | 80/99 [17:02<05:24, 17.09s/it]"
     ]
    },
    {
     "name": "stdout",
     "output_type": "stream",
     "text": [
      "    Update_data took 0.2589085102081299 seconds\n",
      "Shape: (374157, 3)\n",
      "Epoch #80\n",
      "Shape of the data: (374157, 3)\n",
      "    Fit took 15.878605604171753 seconds\n",
      "    Predict took 1.3427226543426514 seconds\n",
      "Evolution of movies and ratings appended\n"
     ]
    },
    {
     "name": "stderr",
     "output_type": "stream",
     "text": [
      "\r",
      " 82%|████████▏ | 81/99 [17:19<05:09, 17.21s/it]"
     ]
    },
    {
     "name": "stdout",
     "output_type": "stream",
     "text": [
      "    Update_data took 0.27079081535339355 seconds\n",
      "Shape: (377657, 3)\n",
      "Epoch #81\n",
      "Shape of the data: (377657, 3)\n",
      "    Fit took 15.828386545181274 seconds\n",
      "    Predict took 1.4179139137268066 seconds\n",
      "Evolution of movies and ratings appended\n"
     ]
    },
    {
     "name": "stderr",
     "output_type": "stream",
     "text": [
      "\r",
      " 83%|████████▎ | 82/99 [17:37<04:54, 17.31s/it]"
     ]
    },
    {
     "name": "stdout",
     "output_type": "stream",
     "text": [
      "    Update_data took 0.2727816104888916 seconds\n",
      "Shape: (381157, 3)\n",
      "Epoch #82\n",
      "Shape of the data: (381157, 3)\n",
      "    Fit took 15.69815731048584 seconds\n",
      "    Predict took 1.3841660022735596 seconds\n",
      "Evolution of movies and ratings appended\n"
     ]
    },
    {
     "name": "stderr",
     "output_type": "stream",
     "text": [
      "\r",
      " 84%|████████▍ | 83/99 [17:54<04:37, 17.32s/it]"
     ]
    },
    {
     "name": "stdout",
     "output_type": "stream",
     "text": [
      "    Update_data took 0.2700181007385254 seconds\n",
      "Shape: (384657, 3)\n",
      "Epoch #83\n",
      "Shape of the data: (384657, 3)\n",
      "    Fit took 15.996409177780151 seconds\n",
      "    Predict took 1.2956767082214355 seconds\n",
      "Evolution of movies and ratings appended\n"
     ]
    },
    {
     "name": "stderr",
     "output_type": "stream",
     "text": [
      "\r",
      " 85%|████████▍ | 84/99 [18:12<04:21, 17.40s/it]"
     ]
    },
    {
     "name": "stdout",
     "output_type": "stream",
     "text": [
      "    Update_data took 0.2834346294403076 seconds\n",
      "Shape: (388157, 3)\n",
      "Epoch #84\n",
      "Shape of the data: (388157, 3)\n",
      "    Fit took 16.0405011177063 seconds\n",
      "    Predict took 1.268632173538208 seconds\n",
      "Evolution of movies and ratings appended\n"
     ]
    },
    {
     "name": "stderr",
     "output_type": "stream",
     "text": [
      "\r",
      " 86%|████████▌ | 85/99 [18:29<04:04, 17.46s/it]"
     ]
    },
    {
     "name": "stdout",
     "output_type": "stream",
     "text": [
      "    Update_data took 0.27262306213378906 seconds\n",
      "Shape: (391657, 3)\n",
      "Epoch #85\n",
      "Shape of the data: (391657, 3)\n",
      "    Fit took 16.003249645233154 seconds\n",
      "    Predict took 1.2264430522918701 seconds\n",
      "Evolution of movies and ratings appended\n"
     ]
    },
    {
     "name": "stderr",
     "output_type": "stream",
     "text": [
      "\r",
      " 87%|████████▋ | 86/99 [18:47<03:47, 17.48s/it]"
     ]
    },
    {
     "name": "stdout",
     "output_type": "stream",
     "text": [
      "    Update_data took 0.27838611602783203 seconds\n",
      "Shape: (395157, 3)\n",
      "Epoch #86\n",
      "Shape of the data: (395157, 3)\n",
      "    Fit took 16.179443836212158 seconds\n",
      "    Predict took 1.2002167701721191 seconds\n",
      "Evolution of movies and ratings appended\n"
     ]
    },
    {
     "name": "stderr",
     "output_type": "stream",
     "text": [
      "\r",
      " 88%|████████▊ | 87/99 [19:04<03:30, 17.54s/it]"
     ]
    },
    {
     "name": "stdout",
     "output_type": "stream",
     "text": [
      "    Update_data took 0.28027915954589844 seconds\n",
      "Shape: (398657, 3)\n",
      "Epoch #87\n",
      "Shape of the data: (398657, 3)\n",
      "    Fit took 16.41055464744568 seconds\n",
      "    Predict took 1.0922632217407227 seconds\n",
      "Evolution of movies and ratings appended\n"
     ]
    },
    {
     "name": "stderr",
     "output_type": "stream",
     "text": [
      "\r",
      " 89%|████████▉ | 88/99 [19:22<03:13, 17.61s/it]"
     ]
    },
    {
     "name": "stdout",
     "output_type": "stream",
     "text": [
      "    Update_data took 0.2850492000579834 seconds\n",
      "Shape: (402157, 3)\n",
      "Epoch #88\n",
      "Shape of the data: (402157, 3)\n",
      "    Fit took 16.4622859954834 seconds\n",
      "    Predict took 1.166381597518921 seconds\n",
      "Evolution of movies and ratings appended\n"
     ]
    },
    {
     "name": "stderr",
     "output_type": "stream",
     "text": [
      "\r",
      " 90%|████████▉ | 89/99 [19:40<02:57, 17.71s/it]"
     ]
    },
    {
     "name": "stdout",
     "output_type": "stream",
     "text": [
      "    Update_data took 0.28240084648132324 seconds\n",
      "Shape: (405657, 3)\n",
      "Epoch #89\n",
      "Shape of the data: (405657, 3)\n",
      "    Fit took 16.621869325637817 seconds\n",
      "    Predict took 1.066437005996704 seconds\n",
      "Evolution of movies and ratings appended\n"
     ]
    },
    {
     "name": "stderr",
     "output_type": "stream",
     "text": [
      "\r",
      " 91%|█████████ | 90/99 [19:58<02:40, 17.79s/it]"
     ]
    },
    {
     "name": "stdout",
     "output_type": "stream",
     "text": [
      "    Update_data took 0.3001115322113037 seconds\n",
      "Shape: (409157, 3)\n",
      "Epoch #90\n",
      "Shape of the data: (409157, 3)\n",
      "    Fit took 16.902567625045776 seconds\n",
      "    Predict took 1.0509223937988281 seconds\n",
      "Evolution of movies and ratings appended\n"
     ]
    },
    {
     "name": "stderr",
     "output_type": "stream",
     "text": [
      "\r",
      " 92%|█████████▏| 91/99 [20:16<02:23, 17.93s/it]"
     ]
    },
    {
     "name": "stdout",
     "output_type": "stream",
     "text": [
      "    Update_data took 0.29421257972717285 seconds\n",
      "Shape: (412657, 3)\n",
      "Epoch #91\n",
      "Shape of the data: (412657, 3)\n",
      "    Fit took 17.727134943008423 seconds\n",
      "    Predict took 1.0354299545288086 seconds\n",
      "Evolution of movies and ratings appended\n"
     ]
    },
    {
     "name": "stderr",
     "output_type": "stream",
     "text": [
      "\r",
      " 93%|█████████▎| 92/99 [20:35<02:07, 18.27s/it]"
     ]
    },
    {
     "name": "stdout",
     "output_type": "stream",
     "text": [
      "    Update_data took 0.29076385498046875 seconds\n",
      "Shape: (416157, 3)\n",
      "Epoch #92\n",
      "Shape of the data: (416157, 3)\n",
      "    Fit took 17.004823923110962 seconds\n",
      "    Predict took 1.0205094814300537 seconds\n",
      "Evolution of movies and ratings appended\n"
     ]
    },
    {
     "name": "stderr",
     "output_type": "stream",
     "text": [
      "\r",
      " 94%|█████████▍| 93/99 [20:54<01:49, 18.29s/it]"
     ]
    },
    {
     "name": "stdout",
     "output_type": "stream",
     "text": [
      "    Update_data took 0.2906501293182373 seconds\n",
      "Shape: (419657, 3)\n",
      "Epoch #93\n",
      "Shape of the data: (419657, 3)\n",
      "    Fit took 17.200185775756836 seconds\n",
      "    Predict took 1.0056982040405273 seconds\n",
      "Evolution of movies and ratings appended\n"
     ]
    },
    {
     "name": "stderr",
     "output_type": "stream",
     "text": [
      "\r",
      " 95%|█████████▍| 94/99 [21:12<01:31, 18.36s/it]"
     ]
    },
    {
     "name": "stdout",
     "output_type": "stream",
     "text": [
      "    Update_data took 0.2944169044494629 seconds\n",
      "Shape: (423157, 3)\n",
      "Epoch #94\n",
      "Shape of the data: (423157, 3)\n",
      "    Fit took 18.169387102127075 seconds\n",
      "    Predict took 0.9847919940948486 seconds\n",
      "Evolution of movies and ratings appended\n"
     ]
    },
    {
     "name": "stderr",
     "output_type": "stream",
     "text": [
      "\r",
      " 96%|█████████▌| 95/99 [21:32<01:14, 18.69s/it]"
     ]
    },
    {
     "name": "stdout",
     "output_type": "stream",
     "text": [
      "    Update_data took 0.29515504837036133 seconds\n",
      "Shape: (426657, 3)\n",
      "Epoch #95\n",
      "Shape of the data: (426657, 3)\n",
      "    Fit took 17.487276792526245 seconds\n",
      "    Predict took 0.9841053485870361 seconds\n",
      "Evolution of movies and ratings appended\n"
     ]
    },
    {
     "name": "stderr",
     "output_type": "stream",
     "text": [
      "\r",
      " 97%|█████████▋| 96/99 [21:50<00:56, 18.71s/it]"
     ]
    },
    {
     "name": "stdout",
     "output_type": "stream",
     "text": [
      "    Update_data took 0.29786252975463867 seconds\n",
      "Shape: (430157, 3)\n",
      "Epoch #96\n",
      "Shape of the data: (430157, 3)\n",
      "    Fit took 17.77424168586731 seconds\n",
      "    Predict took 0.8690533638000488 seconds\n",
      "Evolution of movies and ratings appended\n"
     ]
    },
    {
     "name": "stderr",
     "output_type": "stream",
     "text": [
      "\r",
      " 98%|█████████▊| 97/99 [22:09<00:37, 18.79s/it]"
     ]
    },
    {
     "name": "stdout",
     "output_type": "stream",
     "text": [
      "    Update_data took 0.3118743896484375 seconds\n",
      "Shape: (433657, 3)\n",
      "Epoch #97\n",
      "Shape of the data: (433657, 3)\n",
      "    Fit took 17.93466329574585 seconds\n",
      "    Predict took 0.8508658409118652 seconds\n",
      "Evolution of movies and ratings appended\n"
     ]
    },
    {
     "name": "stderr",
     "output_type": "stream",
     "text": [
      "\r",
      " 99%|█████████▉| 98/99 [22:28<00:18, 18.88s/it]"
     ]
    },
    {
     "name": "stdout",
     "output_type": "stream",
     "text": [
      "    Update_data took 0.3037137985229492 seconds\n",
      "Shape: (437157, 3)\n",
      "Epoch #98\n",
      "Shape of the data: (437157, 3)\n",
      "    Fit took 17.87968945503235 seconds\n",
      "    Predict took 0.8327012062072754 seconds\n",
      "Evolution of movies and ratings appended\n"
     ]
    },
    {
     "name": "stderr",
     "output_type": "stream",
     "text": [
      "100%|██████████| 99/99 [22:48<00:00, 13.82s/it]"
     ]
    },
    {
     "name": "stdout",
     "output_type": "stream",
     "text": [
      "    Update_data took 0.3047645092010498 seconds\n",
      "Shape: (440657, 3)\n",
      "CPU times: user 22min 47s, sys: 920 ms, total: 22min 48s\n",
      "Wall time: 22min 48s\n"
     ]
    },
    {
     "name": "stderr",
     "output_type": "stream",
     "text": [
      "\n"
     ]
    }
   ],
   "source": [
    "%%time\n",
    "alg = surprise.SVD()#surprise.SVD(n_epochs=30, lr_all=0.01, reg_all=0.1)#surprise.SVD()\n",
    "evolution_of_movies, evolution_of_ratings = simulate(alg, data, sample_users[:50], n_epochs = 99, top_n = 70)"
   ]
  },
  {
   "cell_type": "code",
   "execution_count": 54,
   "metadata": {},
   "outputs": [
    {
     "name": "stderr",
     "output_type": "stream",
     "text": [
      "\r",
      "  0%|          | 0/400 [00:00<?, ?it/s]"
     ]
    },
    {
     "name": "stdout",
     "output_type": "stream",
     "text": [
      "Epoch #0\n",
      "Shape of the data: (94157, 3)\n",
      "    Fit took 3.937779664993286 seconds\n"
     ]
    },
    {
     "name": "stderr",
     "output_type": "stream",
     "text": [
      "\r",
      "  0%|          | 1/400 [00:04<31:56,  4.80s/it]"
     ]
    },
    {
     "name": "stdout",
     "output_type": "stream",
     "text": [
      "    Predict took 0.797745943069458 seconds\n",
      "    Update_data took 0.0650944709777832 seconds\n",
      "Shape: (94277, 3)\n",
      "Epoch #1\n",
      "Shape of the data: (94277, 3)\n",
      "    Fit took 3.9681315422058105 seconds\n"
     ]
    },
    {
     "name": "stderr",
     "output_type": "stream",
     "text": [
      "\r",
      "  0%|          | 2/400 [00:09<31:53,  4.81s/it]"
     ]
    },
    {
     "name": "stdout",
     "output_type": "stream",
     "text": [
      "    Predict took 0.7858991622924805 seconds\n",
      "    Update_data took 0.06570959091186523 seconds\n",
      "Shape: (94397, 3)\n",
      "Epoch #2\n",
      "Shape of the data: (94397, 3)\n",
      "    Fit took 4.048553228378296 seconds\n"
     ]
    },
    {
     "name": "stderr",
     "output_type": "stream",
     "text": [
      "\r",
      "  1%|          | 3/400 [00:14<31:58,  4.83s/it]"
     ]
    },
    {
     "name": "stdout",
     "output_type": "stream",
     "text": [
      "    Predict took 0.7725794315338135 seconds\n",
      "    Update_data took 0.06663942337036133 seconds\n",
      "Shape: (94517, 3)\n",
      "Epoch #3\n",
      "Shape of the data: (94517, 3)\n",
      "    Fit took 4.136408567428589 seconds\n"
     ]
    },
    {
     "name": "stderr",
     "output_type": "stream",
     "text": [
      "\r",
      "  1%|          | 4/400 [00:19<32:15,  4.89s/it]"
     ]
    },
    {
     "name": "stdout",
     "output_type": "stream",
     "text": [
      "    Predict took 0.8087935447692871 seconds\n",
      "    Update_data took 0.06689023971557617 seconds\n",
      "Shape: (94637, 3)\n",
      "Epoch #4\n",
      "Shape of the data: (94637, 3)\n",
      "    Fit took 3.9974117279052734 seconds\n"
     ]
    },
    {
     "name": "stderr",
     "output_type": "stream",
     "text": [
      "\r",
      "  1%|▏         | 5/400 [00:24<32:04,  4.87s/it]"
     ]
    },
    {
     "name": "stdout",
     "output_type": "stream",
     "text": [
      "    Predict took 0.7705557346343994 seconds\n",
      "    Update_data took 0.06899380683898926 seconds\n",
      "Shape: (94757, 3)\n",
      "Epoch #5\n",
      "Shape of the data: (94757, 3)\n",
      "    Fit took 3.983717918395996 seconds\n"
     ]
    },
    {
     "name": "stderr",
     "output_type": "stream",
     "text": [
      "\r",
      "  2%|▏         | 6/400 [00:29<31:56,  4.86s/it]"
     ]
    },
    {
     "name": "stdout",
     "output_type": "stream",
     "text": [
      "    Predict took 0.7879781723022461 seconds\n",
      "    Update_data took 0.0676887035369873 seconds\n",
      "Shape: (94877, 3)\n",
      "Epoch #6\n",
      "Shape of the data: (94877, 3)\n",
      "    Fit took 4.03015923500061 seconds\n"
     ]
    },
    {
     "name": "stderr",
     "output_type": "stream",
     "text": [
      "\r",
      "  2%|▏         | 7/400 [00:34<31:53,  4.87s/it]"
     ]
    },
    {
     "name": "stdout",
     "output_type": "stream",
     "text": [
      "    Predict took 0.7742710113525391 seconds\n",
      "    Update_data took 0.07186055183410645 seconds\n",
      "Shape: (94997, 3)\n",
      "Epoch #7\n",
      "Shape of the data: (94997, 3)\n",
      "    Fit took 4.003887414932251 seconds\n"
     ]
    },
    {
     "name": "stderr",
     "output_type": "stream",
     "text": [
      "\r",
      "  2%|▏         | 8/400 [00:38<31:48,  4.87s/it]"
     ]
    },
    {
     "name": "stdout",
     "output_type": "stream",
     "text": [
      "    Predict took 0.7918891906738281 seconds\n",
      "    Update_data took 0.06871294975280762 seconds\n",
      "Shape: (95117, 3)\n",
      "Epoch #8\n",
      "Shape of the data: (95117, 3)\n",
      "    Fit took 4.040889263153076 seconds\n"
     ]
    },
    {
     "name": "stderr",
     "output_type": "stream",
     "text": [
      "\r",
      "  2%|▏         | 9/400 [00:43<31:45,  4.87s/it]"
     ]
    },
    {
     "name": "stdout",
     "output_type": "stream",
     "text": [
      "    Predict took 0.7704164981842041 seconds\n",
      "    Update_data took 0.07138514518737793 seconds\n",
      "Shape: (95237, 3)\n",
      "Epoch #9\n",
      "Shape of the data: (95237, 3)\n",
      "    Fit took 4.058490037918091 seconds\n"
     ]
    },
    {
     "name": "stderr",
     "output_type": "stream",
     "text": [
      "\r",
      "  2%|▎         | 10/400 [00:48<31:46,  4.89s/it]"
     ]
    },
    {
     "name": "stdout",
     "output_type": "stream",
     "text": [
      "    Predict took 0.7902443408966064 seconds\n",
      "    Update_data took 0.07014346122741699 seconds\n",
      "Shape: (95357, 3)\n",
      "Epoch #10\n",
      "Shape of the data: (95357, 3)\n",
      "    Fit took 4.054735422134399 seconds\n"
     ]
    },
    {
     "name": "stderr",
     "output_type": "stream",
     "text": [
      "\r",
      "  3%|▎         | 11/400 [00:53<31:42,  4.89s/it]"
     ]
    },
    {
     "name": "stdout",
     "output_type": "stream",
     "text": [
      "    Predict took 0.7763869762420654 seconds\n",
      "    Update_data took 0.06840062141418457 seconds\n",
      "Shape: (95477, 3)\n",
      "Epoch #11\n",
      "Shape of the data: (95477, 3)\n",
      "    Fit took 4.0331196784973145 seconds\n"
     ]
    },
    {
     "name": "stderr",
     "output_type": "stream",
     "text": [
      "\r",
      "  3%|▎         | 12/400 [00:58<31:38,  4.89s/it]"
     ]
    },
    {
     "name": "stdout",
     "output_type": "stream",
     "text": [
      "    Predict took 0.789452075958252 seconds\n",
      "    Update_data took 0.0682382583618164 seconds\n",
      "Shape: (95597, 3)\n",
      "Epoch #12\n",
      "Shape of the data: (95597, 3)\n",
      "    Fit took 4.039952993392944 seconds\n"
     ]
    },
    {
     "name": "stderr",
     "output_type": "stream",
     "text": [
      "\r",
      "  3%|▎         | 13/400 [01:03<31:32,  4.89s/it]"
     ]
    },
    {
     "name": "stdout",
     "output_type": "stream",
     "text": [
      "    Predict took 0.7745437622070312 seconds\n",
      "    Update_data took 0.06798815727233887 seconds\n",
      "Shape: (95717, 3)\n",
      "Epoch #13\n",
      "Shape of the data: (95717, 3)\n",
      "    Fit took 4.054451942443848 seconds\n"
     ]
    },
    {
     "name": "stderr",
     "output_type": "stream",
     "text": [
      "\r",
      "  4%|▎         | 14/400 [01:08<31:31,  4.90s/it]"
     ]
    },
    {
     "name": "stdout",
     "output_type": "stream",
     "text": [
      "    Predict took 0.7938487529754639 seconds\n",
      "    Update_data took 0.06925559043884277 seconds\n",
      "Shape: (95837, 3)\n",
      "Epoch #14\n",
      "Shape of the data: (95837, 3)\n",
      "    Fit took 4.089087009429932 seconds\n"
     ]
    },
    {
     "name": "stderr",
     "output_type": "stream",
     "text": [
      "\r",
      "  4%|▍         | 15/400 [01:13<31:28,  4.91s/it]"
     ]
    },
    {
     "name": "stdout",
     "output_type": "stream",
     "text": [
      "    Predict took 0.760296106338501 seconds\n",
      "    Update_data took 0.06870365142822266 seconds\n",
      "Shape: (95957, 3)\n",
      "Epoch #15\n",
      "Shape of the data: (95957, 3)\n",
      "    Fit took 4.047633409500122 seconds\n"
     ]
    },
    {
     "name": "stderr",
     "output_type": "stream",
     "text": [
      "\r",
      "  4%|▍         | 16/400 [01:18<31:24,  4.91s/it]"
     ]
    },
    {
     "name": "stdout",
     "output_type": "stream",
     "text": [
      "    Predict took 0.7898976802825928 seconds\n",
      "    Update_data took 0.06955862045288086 seconds\n",
      "Shape: (96077, 3)\n",
      "Epoch #16\n",
      "Shape of the data: (96077, 3)\n",
      "    Fit took 4.074514389038086 seconds\n"
     ]
    },
    {
     "name": "stderr",
     "output_type": "stream",
     "text": [
      "\r",
      "  4%|▍         | 17/400 [01:23<31:20,  4.91s/it]"
     ]
    },
    {
     "name": "stdout",
     "output_type": "stream",
     "text": [
      "    Predict took 0.7691988945007324 seconds\n",
      "    Update_data took 0.07403802871704102 seconds\n",
      "Shape: (96197, 3)\n",
      "Epoch #17\n",
      "Shape of the data: (96197, 3)\n",
      "    Fit took 4.076392889022827 seconds\n"
     ]
    },
    {
     "name": "stderr",
     "output_type": "stream",
     "text": [
      "\r",
      "  4%|▍         | 18/400 [01:28<31:16,  4.91s/it]"
     ]
    },
    {
     "name": "stdout",
     "output_type": "stream",
     "text": [
      "    Predict took 0.7678649425506592 seconds\n",
      "    Update_data took 0.07329058647155762 seconds\n",
      "Shape: (96317, 3)\n",
      "Epoch #18\n",
      "Shape of the data: (96317, 3)\n",
      "    Fit took 4.079736232757568 seconds\n"
     ]
    },
    {
     "name": "stderr",
     "output_type": "stream",
     "text": [
      "\r",
      "  5%|▍         | 19/400 [01:32<31:13,  4.92s/it]"
     ]
    },
    {
     "name": "stdout",
     "output_type": "stream",
     "text": [
      "    Predict took 0.7691001892089844 seconds\n",
      "    Update_data took 0.0733790397644043 seconds\n",
      "Shape: (96437, 3)\n",
      "Epoch #19\n",
      "Shape of the data: (96437, 3)\n",
      "    Fit took 4.066622257232666 seconds\n"
     ]
    },
    {
     "name": "stderr",
     "output_type": "stream",
     "text": [
      "\r",
      "  5%|▌         | 20/400 [01:37<31:07,  4.92s/it]"
     ]
    },
    {
     "name": "stdout",
     "output_type": "stream",
     "text": [
      "    Predict took 0.7638802528381348 seconds\n",
      "    Update_data took 0.07878828048706055 seconds\n",
      "Shape: (96557, 3)\n",
      "Epoch #20\n",
      "Shape of the data: (96557, 3)\n",
      "    Fit took 4.0924553871154785 seconds\n"
     ]
    },
    {
     "name": "stderr",
     "output_type": "stream",
     "text": [
      "\r",
      "  5%|▌         | 21/400 [01:42<31:04,  4.92s/it]"
     ]
    },
    {
     "name": "stdout",
     "output_type": "stream",
     "text": [
      "    Predict took 0.6883547306060791 seconds\n",
      "    Update_data took 0.14802074432373047 seconds\n",
      "Shape: (96677, 3)\n",
      "Epoch #21\n",
      "Shape of the data: (96677, 3)\n",
      "    Fit took 4.082909345626831 seconds\n"
     ]
    },
    {
     "name": "stderr",
     "output_type": "stream",
     "text": [
      "\r",
      "  6%|▌         | 22/400 [01:47<31:01,  4.92s/it]"
     ]
    },
    {
     "name": "stdout",
     "output_type": "stream",
     "text": [
      "    Predict took 0.7693872451782227 seconds\n",
      "    Update_data took 0.07569122314453125 seconds\n",
      "Shape: (96797, 3)\n",
      "Epoch #22\n",
      "Shape of the data: (96797, 3)\n",
      "    Fit took 4.122765779495239 seconds\n"
     ]
    },
    {
     "name": "stderr",
     "output_type": "stream",
     "text": [
      "\r",
      "  6%|▌         | 23/400 [01:52<30:59,  4.93s/it]"
     ]
    },
    {
     "name": "stdout",
     "output_type": "stream",
     "text": [
      "    Predict took 0.6840453147888184 seconds\n",
      "    Update_data took 0.14746546745300293 seconds\n",
      "Shape: (96917, 3)\n",
      "Epoch #23\n",
      "Shape of the data: (96917, 3)\n",
      "    Fit took 4.110132932662964 seconds\n"
     ]
    },
    {
     "name": "stderr",
     "output_type": "stream",
     "text": [
      "\r",
      "  6%|▌         | 24/400 [01:57<30:59,  4.94s/it]"
     ]
    },
    {
     "name": "stdout",
     "output_type": "stream",
     "text": [
      "    Predict took 0.7096190452575684 seconds\n",
      "    Update_data took 0.14776372909545898 seconds\n",
      "Shape: (97037, 3)\n",
      "Epoch #24\n",
      "Shape of the data: (97037, 3)\n",
      "    Fit took 4.1092209815979 seconds\n"
     ]
    },
    {
     "name": "stderr",
     "output_type": "stream",
     "text": [
      "\r",
      "  6%|▋         | 25/400 [02:02<30:56,  4.95s/it]"
     ]
    },
    {
     "name": "stdout",
     "output_type": "stream",
     "text": [
      "    Predict took 0.7771790027618408 seconds\n",
      "    Update_data took 0.07667064666748047 seconds\n",
      "Shape: (97157, 3)\n",
      "Epoch #25\n",
      "Shape of the data: (97157, 3)\n",
      "    Fit took 4.072933197021484 seconds\n"
     ]
    },
    {
     "name": "stderr",
     "output_type": "stream",
     "text": [
      "\r",
      "  6%|▋         | 26/400 [02:07<30:48,  4.94s/it]"
     ]
    },
    {
     "name": "stdout",
     "output_type": "stream",
     "text": [
      "    Predict took 0.7683265209197998 seconds\n",
      "    Update_data took 0.0803372859954834 seconds\n",
      "Shape: (97277, 3)\n",
      "Epoch #26\n",
      "Shape of the data: (97277, 3)\n",
      "    Fit took 4.19502592086792 seconds\n"
     ]
    },
    {
     "name": "stderr",
     "output_type": "stream",
     "text": [
      "\r",
      "  7%|▋         | 27/400 [02:12<30:54,  4.97s/it]"
     ]
    },
    {
     "name": "stdout",
     "output_type": "stream",
     "text": [
      "    Predict took 0.6877949237823486 seconds\n",
      "    Update_data took 0.15051841735839844 seconds\n",
      "Shape: (97397, 3)\n",
      "Epoch #27\n",
      "Shape of the data: (97397, 3)\n",
      "    Fit took 4.137139081954956 seconds\n"
     ]
    },
    {
     "name": "stderr",
     "output_type": "stream",
     "text": [
      "\r",
      "  7%|▋         | 28/400 [02:17<30:50,  4.98s/it]"
     ]
    },
    {
     "name": "stdout",
     "output_type": "stream",
     "text": [
      "    Predict took 0.6966605186462402 seconds\n",
      "    Update_data took 0.14854097366333008 seconds\n",
      "Shape: (97517, 3)\n",
      "Epoch #28\n",
      "Shape of the data: (97517, 3)\n",
      "    Fit took 4.159688234329224 seconds\n"
     ]
    },
    {
     "name": "stderr",
     "output_type": "stream",
     "text": [
      "\r",
      "  7%|▋         | 29/400 [02:22<30:47,  4.98s/it]"
     ]
    },
    {
     "name": "stdout",
     "output_type": "stream",
     "text": [
      "    Predict took 0.7558012008666992 seconds\n",
      "    Update_data took 0.07546567916870117 seconds\n",
      "Shape: (97637, 3)\n",
      "Epoch #29\n",
      "Shape of the data: (97637, 3)\n",
      "    Fit took 4.13516640663147 seconds\n"
     ]
    },
    {
     "name": "stderr",
     "output_type": "stream",
     "text": [
      "\r",
      "  8%|▊         | 30/400 [02:27<30:42,  4.98s/it]"
     ]
    },
    {
     "name": "stdout",
     "output_type": "stream",
     "text": [
      "    Predict took 0.6938624382019043 seconds\n",
      "    Update_data took 0.14870095252990723 seconds\n",
      "Shape: (97757, 3)\n",
      "Epoch #30\n",
      "Shape of the data: (97757, 3)\n",
      "    Fit took 4.147881031036377 seconds\n"
     ]
    },
    {
     "name": "stderr",
     "output_type": "stream",
     "text": [
      "\r",
      "  8%|▊         | 31/400 [02:32<30:39,  4.99s/it]"
     ]
    },
    {
     "name": "stdout",
     "output_type": "stream",
     "text": [
      "    Predict took 0.7673420906066895 seconds\n",
      "    Update_data took 0.07778000831604004 seconds\n",
      "Shape: (97877, 3)\n",
      "Epoch #31\n",
      "Shape of the data: (97877, 3)\n",
      "    Fit took 4.1366331577301025 seconds\n"
     ]
    },
    {
     "name": "stderr",
     "output_type": "stream",
     "text": [
      "\r",
      "  8%|▊         | 32/400 [02:37<30:33,  4.98s/it]"
     ]
    },
    {
     "name": "stdout",
     "output_type": "stream",
     "text": [
      "    Predict took 0.6873908042907715 seconds\n",
      "    Update_data took 0.15018248558044434 seconds\n",
      "Shape: (97997, 3)\n",
      "Epoch #32\n",
      "Shape of the data: (97997, 3)\n",
      "    Fit took 4.180009603500366 seconds\n"
     ]
    },
    {
     "name": "stderr",
     "output_type": "stream",
     "text": [
      "\r",
      "  8%|▊         | 33/400 [02:42<30:31,  4.99s/it]"
     ]
    },
    {
     "name": "stdout",
     "output_type": "stream",
     "text": [
      "    Predict took 0.6809840202331543 seconds\n",
      "    Update_data took 0.14910387992858887 seconds\n",
      "Shape: (98117, 3)\n",
      "Epoch #33\n",
      "Shape of the data: (98117, 3)\n",
      "    Fit took 4.148325204849243 seconds\n"
     ]
    },
    {
     "name": "stderr",
     "output_type": "stream",
     "text": [
      "\r",
      "  8%|▊         | 34/400 [02:47<30:26,  4.99s/it]"
     ]
    },
    {
     "name": "stdout",
     "output_type": "stream",
     "text": [
      "    Predict took 0.6858432292938232 seconds\n",
      "    Update_data took 0.1477658748626709 seconds\n",
      "Shape: (98237, 3)\n",
      "Epoch #34\n",
      "Shape of the data: (98237, 3)\n",
      "    Fit took 4.165457248687744 seconds\n"
     ]
    },
    {
     "name": "stderr",
     "output_type": "stream",
     "text": [
      "\r",
      "  9%|▉         | 35/400 [02:52<30:22,  4.99s/it]"
     ]
    },
    {
     "name": "stdout",
     "output_type": "stream",
     "text": [
      "    Predict took 0.6828887462615967 seconds\n",
      "    Update_data took 0.1483907699584961 seconds\n",
      "Shape: (98357, 3)\n",
      "Epoch #35\n",
      "Shape of the data: (98357, 3)\n",
      "    Fit took 4.1540257930755615 seconds\n"
     ]
    },
    {
     "name": "stderr",
     "output_type": "stream",
     "text": [
      "\r",
      "  9%|▉         | 36/400 [02:57<30:17,  4.99s/it]"
     ]
    },
    {
     "name": "stdout",
     "output_type": "stream",
     "text": [
      "    Predict took 0.6901676654815674 seconds\n",
      "    Update_data took 0.14889287948608398 seconds\n",
      "Shape: (98477, 3)\n",
      "Epoch #36\n",
      "Shape of the data: (98477, 3)\n",
      "    Fit took 4.164308309555054 seconds\n"
     ]
    },
    {
     "name": "stderr",
     "output_type": "stream",
     "text": [
      "\r",
      "  9%|▉         | 37/400 [03:02<30:14,  5.00s/it]"
     ]
    },
    {
     "name": "stdout",
     "output_type": "stream",
     "text": [
      "    Predict took 0.7605133056640625 seconds\n",
      "    Update_data took 0.08043599128723145 seconds\n",
      "Shape: (98597, 3)\n",
      "Epoch #37\n",
      "Shape of the data: (98597, 3)\n",
      "    Fit took 4.1978161334991455 seconds\n"
     ]
    },
    {
     "name": "stderr",
     "output_type": "stream",
     "text": [
      "\r",
      " 10%|▉         | 38/400 [03:07<30:13,  5.01s/it]"
     ]
    },
    {
     "name": "stdout",
     "output_type": "stream",
     "text": [
      "    Predict took 0.685401439666748 seconds\n",
      "    Update_data took 0.14924144744873047 seconds\n",
      "Shape: (98717, 3)\n",
      "Epoch #38\n",
      "Shape of the data: (98717, 3)\n",
      "    Fit took 4.227510690689087 seconds\n"
     ]
    },
    {
     "name": "stderr",
     "output_type": "stream",
     "text": [
      "\r",
      " 10%|▉         | 39/400 [03:12<30:15,  5.03s/it]"
     ]
    },
    {
     "name": "stdout",
     "output_type": "stream",
     "text": [
      "    Predict took 0.6991746425628662 seconds\n",
      "    Update_data took 0.15132665634155273 seconds\n",
      "Shape: (98837, 3)\n",
      "Epoch #39\n",
      "Shape of the data: (98837, 3)\n",
      "    Fit took 4.205305099487305 seconds\n"
     ]
    },
    {
     "name": "stderr",
     "output_type": "stream",
     "text": [
      "\r",
      " 10%|█         | 40/400 [03:17<30:13,  5.04s/it]"
     ]
    },
    {
     "name": "stdout",
     "output_type": "stream",
     "text": [
      "    Predict took 0.7641100883483887 seconds\n",
      "    Update_data took 0.08137249946594238 seconds\n",
      "Shape: (98957, 3)\n",
      "Epoch #40\n",
      "Shape of the data: (98957, 3)\n",
      "    Fit took 4.223171234130859 seconds\n"
     ]
    },
    {
     "name": "stderr",
     "output_type": "stream",
     "text": [
      "\r",
      " 10%|█         | 41/400 [03:22<30:09,  5.04s/it]"
     ]
    },
    {
     "name": "stdout",
     "output_type": "stream",
     "text": [
      "    Predict took 0.6729297637939453 seconds\n",
      "    Update_data took 0.14955663681030273 seconds\n",
      "Shape: (99077, 3)\n",
      "Epoch #41\n",
      "Shape of the data: (99077, 3)\n",
      "    Fit took 4.211910724639893 seconds\n"
     ]
    },
    {
     "name": "stderr",
     "output_type": "stream",
     "text": [
      "\r",
      " 10%|█         | 42/400 [03:27<30:04,  5.04s/it]"
     ]
    },
    {
     "name": "stdout",
     "output_type": "stream",
     "text": [
      "    Predict took 0.6783473491668701 seconds\n",
      "    Update_data took 0.1494889259338379 seconds\n",
      "Shape: (99197, 3)\n",
      "Epoch #42\n",
      "Shape of the data: (99197, 3)\n",
      "    Fit took 4.214890003204346 seconds\n"
     ]
    },
    {
     "name": "stderr",
     "output_type": "stream",
     "text": [
      "\r",
      " 11%|█         | 43/400 [03:32<30:01,  5.05s/it]"
     ]
    },
    {
     "name": "stdout",
     "output_type": "stream",
     "text": [
      "    Predict took 0.7567837238311768 seconds\n",
      "    Update_data took 0.08267974853515625 seconds\n",
      "Shape: (99317, 3)\n",
      "Epoch #43\n",
      "Shape of the data: (99317, 3)\n",
      "    Fit took 4.287057876586914 seconds\n"
     ]
    },
    {
     "name": "stderr",
     "output_type": "stream",
     "text": [
      "\r",
      " 11%|█         | 44/400 [03:37<30:04,  5.07s/it]"
     ]
    },
    {
     "name": "stdout",
     "output_type": "stream",
     "text": [
      "    Predict took 0.6829040050506592 seconds\n",
      "    Update_data took 0.1493077278137207 seconds\n",
      "Shape: (99437, 3)\n",
      "Epoch #44\n",
      "Shape of the data: (99437, 3)\n",
      "    Fit took 4.394076585769653 seconds\n"
     ]
    },
    {
     "name": "stderr",
     "output_type": "stream",
     "text": [
      "\r",
      " 11%|█▏        | 45/400 [03:43<30:14,  5.11s/it]"
     ]
    },
    {
     "name": "stdout",
     "output_type": "stream",
     "text": [
      "    Predict took 0.6662096977233887 seconds\n",
      "    Update_data took 0.15108537673950195 seconds\n",
      "Shape: (99557, 3)\n",
      "Epoch #45\n",
      "Shape of the data: (99557, 3)\n",
      "    Fit took 4.229023694992065 seconds\n"
     ]
    },
    {
     "name": "stderr",
     "output_type": "stream",
     "text": [
      "\r",
      " 12%|█▏        | 46/400 [03:48<30:03,  5.10s/it]"
     ]
    },
    {
     "name": "stdout",
     "output_type": "stream",
     "text": [
      "    Predict took 0.6732909679412842 seconds\n",
      "    Update_data took 0.15208005905151367 seconds\n",
      "Shape: (99677, 3)\n",
      "Epoch #46\n",
      "Shape of the data: (99677, 3)\n",
      "    Fit took 4.240108013153076 seconds\n"
     ]
    },
    {
     "name": "stderr",
     "output_type": "stream",
     "text": [
      "\r",
      " 12%|█▏        | 47/400 [03:53<29:55,  5.09s/it]"
     ]
    },
    {
     "name": "stdout",
     "output_type": "stream",
     "text": [
      "    Predict took 0.6680006980895996 seconds\n",
      "    Update_data took 0.15151047706604004 seconds\n",
      "Shape: (99797, 3)\n",
      "Epoch #47\n",
      "Shape of the data: (99797, 3)\n",
      "    Fit took 4.233422517776489 seconds\n"
     ]
    },
    {
     "name": "stderr",
     "output_type": "stream",
     "text": [
      "\r",
      " 12%|█▏        | 48/400 [03:58<29:47,  5.08s/it]"
     ]
    },
    {
     "name": "stdout",
     "output_type": "stream",
     "text": [
      "    Predict took 0.678734540939331 seconds\n",
      "    Update_data took 0.15041136741638184 seconds\n",
      "Shape: (99917, 3)\n",
      "Epoch #48\n",
      "Shape of the data: (99917, 3)\n",
      "    Fit took 4.246748685836792 seconds\n"
     ]
    },
    {
     "name": "stderr",
     "output_type": "stream",
     "text": [
      "\r",
      " 12%|█▏        | 49/400 [04:03<29:43,  5.08s/it]"
     ]
    },
    {
     "name": "stdout",
     "output_type": "stream",
     "text": [
      "    Predict took 0.6831705570220947 seconds\n",
      "    Update_data took 0.15110301971435547 seconds\n",
      "Shape: (100037, 3)\n",
      "Epoch #49\n",
      "Shape of the data: (100037, 3)\n",
      "    Fit took 4.254928112030029 seconds\n"
     ]
    },
    {
     "name": "stderr",
     "output_type": "stream",
     "text": [
      "\r",
      " 12%|█▎        | 50/400 [04:08<29:39,  5.08s/it]"
     ]
    },
    {
     "name": "stdout",
     "output_type": "stream",
     "text": [
      "    Predict took 0.6820921897888184 seconds\n",
      "    Update_data took 0.1496741771697998 seconds\n",
      "Shape: (100157, 3)\n",
      "Epoch #50\n",
      "Shape of the data: (100157, 3)\n",
      "    Fit took 4.308940172195435 seconds\n"
     ]
    },
    {
     "name": "stderr",
     "output_type": "stream",
     "text": [
      "\r",
      " 13%|█▎        | 51/400 [04:13<29:41,  5.10s/it]"
     ]
    },
    {
     "name": "stdout",
     "output_type": "stream",
     "text": [
      "    Predict took 0.688317060470581 seconds\n",
      "    Update_data took 0.15090155601501465 seconds\n",
      "Shape: (100277, 3)\n",
      "Epoch #51\n",
      "Shape of the data: (100277, 3)\n",
      "    Fit took 4.295725345611572 seconds\n"
     ]
    },
    {
     "name": "stderr",
     "output_type": "stream",
     "text": [
      "\r",
      " 13%|█▎        | 52/400 [04:18<29:37,  5.11s/it]"
     ]
    },
    {
     "name": "stdout",
     "output_type": "stream",
     "text": [
      "    Predict took 0.6698627471923828 seconds\n",
      "    Update_data took 0.151047945022583 seconds\n",
      "Shape: (100397, 3)\n",
      "Epoch #52\n",
      "Shape of the data: (100397, 3)\n",
      "    Fit took 4.253978967666626 seconds\n"
     ]
    },
    {
     "name": "stderr",
     "output_type": "stream",
     "text": [
      "\r",
      " 13%|█▎        | 53/400 [04:23<29:28,  5.10s/it]"
     ]
    },
    {
     "name": "stdout",
     "output_type": "stream",
     "text": [
      "    Predict took 0.6648910045623779 seconds\n",
      "    Update_data took 0.15223264694213867 seconds\n",
      "Shape: (100517, 3)\n",
      "Epoch #53\n",
      "Shape of the data: (100517, 3)\n",
      "    Fit took 4.267535448074341 seconds\n"
     ]
    },
    {
     "name": "stderr",
     "output_type": "stream",
     "text": [
      "\r",
      " 14%|█▎        | 54/400 [04:28<29:22,  5.09s/it]"
     ]
    },
    {
     "name": "stdout",
     "output_type": "stream",
     "text": [
      "    Predict took 0.666827917098999 seconds\n",
      "    Update_data took 0.15079998970031738 seconds\n",
      "Shape: (100637, 3)\n",
      "Epoch #54\n",
      "Shape of the data: (100637, 3)\n",
      "    Fit took 4.2681028842926025 seconds\n"
     ]
    },
    {
     "name": "stderr",
     "output_type": "stream",
     "text": [
      "\r",
      " 14%|█▍        | 55/400 [04:34<29:16,  5.09s/it]"
     ]
    },
    {
     "name": "stdout",
     "output_type": "stream",
     "text": [
      "    Predict took 0.6612732410430908 seconds\n",
      "    Update_data took 0.15390276908874512 seconds\n",
      "Shape: (100757, 3)\n",
      "Epoch #55\n",
      "Shape of the data: (100757, 3)\n",
      "    Fit took 4.25331449508667 seconds\n"
     ]
    },
    {
     "name": "stderr",
     "output_type": "stream",
     "text": [
      "\r",
      " 14%|█▍        | 56/400 [04:39<29:09,  5.09s/it]"
     ]
    },
    {
     "name": "stdout",
     "output_type": "stream",
     "text": [
      "    Predict took 0.6687536239624023 seconds\n",
      "    Update_data took 0.1509852409362793 seconds\n",
      "Shape: (100877, 3)\n",
      "Epoch #56\n",
      "Shape of the data: (100877, 3)\n",
      "    Fit took 4.294518709182739 seconds\n"
     ]
    },
    {
     "name": "stderr",
     "output_type": "stream",
     "text": [
      "\r",
      " 14%|█▍        | 57/400 [04:44<29:09,  5.10s/it]"
     ]
    },
    {
     "name": "stdout",
     "output_type": "stream",
     "text": [
      "    Predict took 0.6794636249542236 seconds\n",
      "    Update_data took 0.15186142921447754 seconds\n",
      "Shape: (100997, 3)\n",
      "Epoch #57\n",
      "Shape of the data: (100997, 3)\n",
      "    Fit took 4.255770444869995 seconds\n"
     ]
    },
    {
     "name": "stderr",
     "output_type": "stream",
     "text": [
      "\r",
      " 14%|█▍        | 58/400 [04:49<29:02,  5.09s/it]"
     ]
    },
    {
     "name": "stdout",
     "output_type": "stream",
     "text": [
      "    Predict took 0.6753201484680176 seconds\n",
      "    Update_data took 0.15011072158813477 seconds\n",
      "Shape: (101117, 3)\n",
      "Epoch #58\n",
      "Shape of the data: (101117, 3)\n",
      "    Fit took 4.267923831939697 seconds\n"
     ]
    },
    {
     "name": "stderr",
     "output_type": "stream",
     "text": [
      "\r",
      " 15%|█▍        | 59/400 [04:54<28:57,  5.09s/it]"
     ]
    },
    {
     "name": "stdout",
     "output_type": "stream",
     "text": [
      "    Predict took 0.6725196838378906 seconds\n",
      "    Update_data took 0.15155792236328125 seconds\n",
      "Shape: (101237, 3)\n",
      "Epoch #59\n",
      "Shape of the data: (101237, 3)\n",
      "    Fit took 4.3665690422058105 seconds\n"
     ]
    },
    {
     "name": "stderr",
     "output_type": "stream",
     "text": [
      "\r",
      " 15%|█▌        | 60/400 [04:59<29:01,  5.12s/it]"
     ]
    },
    {
     "name": "stdout",
     "output_type": "stream",
     "text": [
      "    Predict took 0.6689176559448242 seconds\n",
      "    Update_data took 0.15112781524658203 seconds\n",
      "Shape: (101357, 3)\n",
      "Epoch #60\n",
      "Shape of the data: (101357, 3)\n",
      "    Fit took 4.380237817764282 seconds\n"
     ]
    },
    {
     "name": "stderr",
     "output_type": "stream",
     "text": [
      "\r",
      " 15%|█▌        | 61/400 [05:04<29:03,  5.14s/it]"
     ]
    },
    {
     "name": "stdout",
     "output_type": "stream",
     "text": [
      "    Predict took 0.6571435928344727 seconds\n",
      "    Update_data took 0.15159106254577637 seconds\n",
      "Shape: (101477, 3)\n",
      "Epoch #61\n",
      "Shape of the data: (101477, 3)\n",
      "    Fit took 4.3059468269348145 seconds\n"
     ]
    },
    {
     "name": "stderr",
     "output_type": "stream",
     "text": [
      "\r",
      " 16%|█▌        | 62/400 [05:09<28:57,  5.14s/it]"
     ]
    },
    {
     "name": "stdout",
     "output_type": "stream",
     "text": [
      "    Predict took 0.6697156429290771 seconds\n",
      "    Update_data took 0.15244078636169434 seconds\n",
      "Shape: (101597, 3)\n",
      "Epoch #62\n",
      "Shape of the data: (101597, 3)\n",
      "    Fit took 4.374203205108643 seconds\n"
     ]
    },
    {
     "name": "stderr",
     "output_type": "stream",
     "text": [
      "\r",
      " 16%|█▌        | 63/400 [05:15<28:57,  5.16s/it]"
     ]
    },
    {
     "name": "stdout",
     "output_type": "stream",
     "text": [
      "    Predict took 0.6695342063903809 seconds\n",
      "    Update_data took 0.14582610130310059 seconds\n",
      "Shape: (101717, 3)\n",
      "Epoch #63\n",
      "Shape of the data: (101717, 3)\n",
      "    Fit took 4.314965009689331 seconds\n"
     ]
    },
    {
     "name": "stderr",
     "output_type": "stream",
     "text": [
      "\r",
      " 16%|█▌        | 64/400 [05:20<28:50,  5.15s/it]"
     ]
    },
    {
     "name": "stdout",
     "output_type": "stream",
     "text": [
      "    Predict took 0.6633462905883789 seconds\n",
      "    Update_data took 0.15306544303894043 seconds\n",
      "Shape: (101837, 3)\n",
      "Epoch #64\n",
      "Shape of the data: (101837, 3)\n",
      "    Fit took 4.335847616195679 seconds\n"
     ]
    },
    {
     "name": "stderr",
     "output_type": "stream",
     "text": [
      "\r",
      " 16%|█▋        | 65/400 [05:25<28:45,  5.15s/it]"
     ]
    },
    {
     "name": "stdout",
     "output_type": "stream",
     "text": [
      "    Predict took 0.6574814319610596 seconds\n",
      "    Update_data took 0.15546679496765137 seconds\n",
      "Shape: (101957, 3)\n",
      "Epoch #65\n",
      "Shape of the data: (101957, 3)\n",
      "    Fit took 4.312692880630493 seconds\n"
     ]
    },
    {
     "name": "stderr",
     "output_type": "stream",
     "text": [
      "\r",
      " 16%|█▋        | 66/400 [05:30<28:38,  5.15s/it]"
     ]
    },
    {
     "name": "stdout",
     "output_type": "stream",
     "text": [
      "    Predict took 0.6710128784179688 seconds\n",
      "    Update_data took 0.15096330642700195 seconds\n",
      "Shape: (102077, 3)\n",
      "Epoch #66\n",
      "Shape of the data: (102077, 3)\n",
      "    Fit took 4.3190083503723145 seconds\n"
     ]
    },
    {
     "name": "stderr",
     "output_type": "stream",
     "text": [
      "\r",
      " 17%|█▋        | 67/400 [05:35<28:32,  5.14s/it]"
     ]
    },
    {
     "name": "stdout",
     "output_type": "stream",
     "text": [
      "    Predict took 0.6645770072937012 seconds\n",
      "    Update_data took 0.15140509605407715 seconds\n",
      "Shape: (102197, 3)\n",
      "Epoch #67\n",
      "Shape of the data: (102197, 3)\n",
      "    Fit took 4.341391086578369 seconds\n"
     ]
    },
    {
     "name": "stderr",
     "output_type": "stream",
     "text": [
      "\r",
      " 17%|█▋        | 68/400 [05:40<28:28,  5.15s/it]"
     ]
    },
    {
     "name": "stdout",
     "output_type": "stream",
     "text": [
      "    Predict took 0.657062292098999 seconds\n",
      "    Update_data took 0.15372967720031738 seconds\n",
      "Shape: (102317, 3)\n",
      "Epoch #68\n",
      "Shape of the data: (102317, 3)\n",
      "    Fit took 4.394709587097168 seconds\n"
     ]
    },
    {
     "name": "stderr",
     "output_type": "stream",
     "text": [
      "\r",
      " 17%|█▋        | 69/400 [05:46<28:29,  5.17s/it]"
     ]
    },
    {
     "name": "stdout",
     "output_type": "stream",
     "text": [
      "    Predict took 0.6577849388122559 seconds\n",
      "    Update_data took 0.15503621101379395 seconds\n",
      "Shape: (102437, 3)\n",
      "Epoch #69\n",
      "Shape of the data: (102437, 3)\n",
      "    Fit took 4.475966930389404 seconds\n"
     ]
    },
    {
     "name": "stderr",
     "output_type": "stream",
     "text": [
      "\r",
      " 18%|█▊        | 70/400 [05:51<28:36,  5.20s/it]"
     ]
    },
    {
     "name": "stdout",
     "output_type": "stream",
     "text": [
      "    Predict took 0.654693603515625 seconds\n",
      "    Update_data took 0.15314102172851562 seconds\n",
      "Shape: (102557, 3)\n",
      "Epoch #70\n",
      "Shape of the data: (102557, 3)\n",
      "    Fit took 4.351160287857056 seconds\n"
     ]
    },
    {
     "name": "stderr",
     "output_type": "stream",
     "text": [
      "\r",
      " 18%|█▊        | 71/400 [05:56<28:27,  5.19s/it]"
     ]
    },
    {
     "name": "stdout",
     "output_type": "stream",
     "text": [
      "    Predict took 0.6513445377349854 seconds\n",
      "    Update_data took 0.1522350311279297 seconds\n",
      "Shape: (102677, 3)\n",
      "Epoch #71\n",
      "Shape of the data: (102677, 3)\n",
      "    Fit took 4.4297614097595215 seconds\n"
     ]
    },
    {
     "name": "stderr",
     "output_type": "stream",
     "text": [
      "\r",
      " 18%|█▊        | 72/400 [06:01<28:27,  5.21s/it]"
     ]
    },
    {
     "name": "stdout",
     "output_type": "stream",
     "text": [
      "    Predict took 0.6649224758148193 seconds\n",
      "    Update_data took 0.1524350643157959 seconds\n",
      "Shape: (102797, 3)\n",
      "Epoch #72\n",
      "Shape of the data: (102797, 3)\n",
      "    Fit took 4.390270709991455 seconds\n"
     ]
    },
    {
     "name": "stderr",
     "output_type": "stream",
     "text": [
      "\r",
      " 18%|█▊        | 73/400 [06:06<28:21,  5.20s/it]"
     ]
    },
    {
     "name": "stdout",
     "output_type": "stream",
     "text": [
      "    Predict took 0.6523678302764893 seconds\n",
      "    Update_data took 0.15485048294067383 seconds\n",
      "Shape: (102917, 3)\n",
      "Epoch #73\n",
      "Shape of the data: (102917, 3)\n",
      "    Fit took 4.388044834136963 seconds\n"
     ]
    },
    {
     "name": "stderr",
     "output_type": "stream",
     "text": [
      "\r",
      " 18%|█▊        | 74/400 [06:12<28:17,  5.21s/it]"
     ]
    },
    {
     "name": "stdout",
     "output_type": "stream",
     "text": [
      "    Predict took 0.6646327972412109 seconds\n",
      "    Update_data took 0.15542387962341309 seconds\n",
      "Shape: (103037, 3)\n",
      "Epoch #74\n",
      "Shape of the data: (103037, 3)\n",
      "    Fit took 4.421191930770874 seconds\n"
     ]
    },
    {
     "name": "stderr",
     "output_type": "stream",
     "text": [
      "\r",
      " 19%|█▉        | 75/400 [06:17<28:15,  5.22s/it]"
     ]
    },
    {
     "name": "stdout",
     "output_type": "stream",
     "text": [
      "    Predict took 0.6638684272766113 seconds\n",
      "    Update_data took 0.1542954444885254 seconds\n",
      "Shape: (103157, 3)\n",
      "Epoch #75\n",
      "Shape of the data: (103157, 3)\n",
      "    Fit took 4.452380180358887 seconds\n"
     ]
    },
    {
     "name": "stderr",
     "output_type": "stream",
     "text": [
      "\r",
      " 19%|█▉        | 76/400 [06:22<28:14,  5.23s/it]"
     ]
    },
    {
     "name": "stdout",
     "output_type": "stream",
     "text": [
      "    Predict took 0.6541154384613037 seconds\n",
      "    Update_data took 0.15111804008483887 seconds\n",
      "Shape: (103277, 3)\n",
      "Epoch #76\n",
      "Shape of the data: (103277, 3)\n",
      "    Fit took 4.377458095550537 seconds\n"
     ]
    },
    {
     "name": "stderr",
     "output_type": "stream",
     "text": [
      "\r",
      " 19%|█▉        | 77/400 [06:27<28:05,  5.22s/it]"
     ]
    },
    {
     "name": "stdout",
     "output_type": "stream",
     "text": [
      "    Predict took 0.6521255970001221 seconds\n",
      "    Update_data took 0.15380191802978516 seconds\n",
      "Shape: (103397, 3)\n",
      "Epoch #77\n",
      "Shape of the data: (103397, 3)\n",
      "    Fit took 4.360128164291382 seconds\n"
     ]
    },
    {
     "name": "stderr",
     "output_type": "stream",
     "text": [
      "\r",
      " 20%|█▉        | 78/400 [06:33<27:54,  5.20s/it]"
     ]
    },
    {
     "name": "stdout",
     "output_type": "stream",
     "text": [
      "    Predict took 0.6451072692871094 seconds\n",
      "    Update_data took 0.15445303916931152 seconds\n",
      "Shape: (103517, 3)\n",
      "Epoch #78\n",
      "Shape of the data: (103517, 3)\n",
      "    Fit took 4.419262409210205 seconds\n"
     ]
    },
    {
     "name": "stderr",
     "output_type": "stream",
     "text": [
      "\r",
      " 20%|█▉        | 79/400 [06:38<27:52,  5.21s/it]"
     ]
    },
    {
     "name": "stdout",
     "output_type": "stream",
     "text": [
      "    Predict took 0.6539385318756104 seconds\n",
      "    Update_data took 0.1543412208557129 seconds\n",
      "Shape: (103637, 3)\n",
      "Epoch #79\n",
      "Shape of the data: (103637, 3)\n",
      "    Fit took 4.506892204284668 seconds\n"
     ]
    },
    {
     "name": "stderr",
     "output_type": "stream",
     "text": [
      "\r",
      " 20%|██        | 80/400 [06:43<27:57,  5.24s/it]"
     ]
    },
    {
     "name": "stdout",
     "output_type": "stream",
     "text": [
      "    Predict took 0.6559979915618896 seconds\n",
      "    Update_data took 0.1540827751159668 seconds\n",
      "Shape: (103757, 3)\n",
      "Epoch #80\n",
      "Shape of the data: (103757, 3)\n",
      "    Fit took 4.400336265563965 seconds\n"
     ]
    },
    {
     "name": "stderr",
     "output_type": "stream",
     "text": [
      "\r",
      " 20%|██        | 81/400 [06:48<27:49,  5.23s/it]"
     ]
    },
    {
     "name": "stdout",
     "output_type": "stream",
     "text": [
      "    Predict took 0.6533899307250977 seconds\n",
      "    Update_data took 0.15347838401794434 seconds\n",
      "Shape: (103877, 3)\n",
      "Epoch #81\n",
      "Shape of the data: (103877, 3)\n",
      "    Fit took 4.382866382598877 seconds\n"
     ]
    },
    {
     "name": "stderr",
     "output_type": "stream",
     "text": [
      "\r",
      " 20%|██        | 82/400 [06:53<27:39,  5.22s/it]"
     ]
    },
    {
     "name": "stdout",
     "output_type": "stream",
     "text": [
      "    Predict took 0.6470112800598145 seconds\n",
      "    Update_data took 0.15441203117370605 seconds\n",
      "Shape: (103997, 3)\n",
      "Epoch #82\n",
      "Shape of the data: (103997, 3)\n",
      "    Fit took 4.415995121002197 seconds\n"
     ]
    },
    {
     "name": "stderr",
     "output_type": "stream",
     "text": [
      "\r",
      " 21%|██        | 83/400 [06:59<27:34,  5.22s/it]"
     ]
    },
    {
     "name": "stdout",
     "output_type": "stream",
     "text": [
      "    Predict took 0.645599365234375 seconds\n",
      "    Update_data took 0.15670323371887207 seconds\n",
      "Shape: (104117, 3)\n",
      "Epoch #83\n",
      "Shape of the data: (104117, 3)\n",
      "    Fit took 4.388664484024048 seconds\n"
     ]
    },
    {
     "name": "stderr",
     "output_type": "stream",
     "text": [
      "\r",
      " 21%|██        | 84/400 [07:04<27:27,  5.21s/it]"
     ]
    },
    {
     "name": "stdout",
     "output_type": "stream",
     "text": [
      "    Predict took 0.6549704074859619 seconds\n",
      "    Update_data took 0.15376758575439453 seconds\n",
      "Shape: (104237, 3)\n",
      "Epoch #84\n",
      "Shape of the data: (104237, 3)\n",
      "    Fit took 4.433150291442871 seconds\n"
     ]
    },
    {
     "name": "stderr",
     "output_type": "stream",
     "text": [
      "\r",
      " 21%|██▏       | 85/400 [07:09<27:27,  5.23s/it]"
     ]
    },
    {
     "name": "stdout",
     "output_type": "stream",
     "text": [
      "    Predict took 0.6790580749511719 seconds\n",
      "    Update_data took 0.15558314323425293 seconds\n",
      "Shape: (104357, 3)\n",
      "Epoch #85\n",
      "Shape of the data: (104357, 3)\n",
      "    Fit took 4.423611402511597 seconds\n"
     ]
    },
    {
     "name": "stderr",
     "output_type": "stream",
     "text": [
      "\r",
      " 22%|██▏       | 86/400 [07:14<27:22,  5.23s/it]"
     ]
    },
    {
     "name": "stdout",
     "output_type": "stream",
     "text": [
      "    Predict took 0.6471211910247803 seconds\n",
      "    Update_data took 0.1553506851196289 seconds\n",
      "Shape: (104477, 3)\n",
      "Epoch #86\n",
      "Shape of the data: (104477, 3)\n",
      "    Fit took 4.481774091720581 seconds\n"
     ]
    },
    {
     "name": "stderr",
     "output_type": "stream",
     "text": [
      "\r",
      " 22%|██▏       | 87/400 [07:20<27:15,  5.23s/it]"
     ]
    },
    {
     "name": "stdout",
     "output_type": "stream",
     "text": [
      "    Predict took 0.653740406036377 seconds\n",
      "    Update_data took 0.07562136650085449 seconds\n",
      "Shape: (104597, 3)\n",
      "Epoch #87\n",
      "Shape of the data: (104597, 3)\n",
      "    Fit took 4.529080629348755 seconds\n"
     ]
    },
    {
     "name": "stderr",
     "output_type": "stream",
     "text": [
      "\r",
      " 22%|██▏       | 88/400 [07:25<27:20,  5.26s/it]"
     ]
    },
    {
     "name": "stdout",
     "output_type": "stream",
     "text": [
      "    Predict took 0.6478531360626221 seconds\n",
      "    Update_data took 0.15451741218566895 seconds\n",
      "Shape: (104717, 3)\n",
      "Epoch #88\n",
      "Shape of the data: (104717, 3)\n",
      "    Fit took 4.475388765335083 seconds\n"
     ]
    },
    {
     "name": "stderr",
     "output_type": "stream",
     "text": [
      "\r",
      " 22%|██▏       | 89/400 [07:30<27:17,  5.27s/it]"
     ]
    },
    {
     "name": "stdout",
     "output_type": "stream",
     "text": [
      "    Predict took 0.6550955772399902 seconds\n",
      "    Update_data took 0.15499234199523926 seconds\n",
      "Shape: (104837, 3)\n",
      "Epoch #89\n",
      "Shape of the data: (104837, 3)\n",
      "    Fit took 4.511527061462402 seconds\n"
     ]
    },
    {
     "name": "stderr",
     "output_type": "stream",
     "text": [
      "\r",
      " 22%|██▎       | 90/400 [07:36<27:17,  5.28s/it]"
     ]
    },
    {
     "name": "stdout",
     "output_type": "stream",
     "text": [
      "    Predict took 0.6506252288818359 seconds\n",
      "    Update_data took 0.1562647819519043 seconds\n",
      "Shape: (104957, 3)\n",
      "Epoch #90\n",
      "Shape of the data: (104957, 3)\n",
      "    Fit took 4.50118350982666 seconds\n"
     ]
    },
    {
     "name": "stderr",
     "output_type": "stream",
     "text": [
      "\r",
      " 23%|██▎       | 91/400 [07:41<27:15,  5.29s/it]"
     ]
    },
    {
     "name": "stdout",
     "output_type": "stream",
     "text": [
      "    Predict took 0.6497714519500732 seconds\n",
      "    Update_data took 0.15725016593933105 seconds\n",
      "Shape: (105077, 3)\n",
      "Epoch #91\n",
      "Shape of the data: (105077, 3)\n",
      "    Fit took 4.515921115875244 seconds\n"
     ]
    },
    {
     "name": "stderr",
     "output_type": "stream",
     "text": [
      "\r",
      " 23%|██▎       | 92/400 [07:46<27:05,  5.28s/it]"
     ]
    },
    {
     "name": "stdout",
     "output_type": "stream",
     "text": [
      "    Predict took 0.6546189785003662 seconds\n",
      "    Update_data took 0.07626986503601074 seconds\n",
      "Shape: (105197, 3)\n",
      "Epoch #92\n",
      "Shape of the data: (105197, 3)\n",
      "    Fit took 4.604296684265137 seconds\n"
     ]
    },
    {
     "name": "stderr",
     "output_type": "stream",
     "text": [
      "\r",
      " 23%|██▎       | 93/400 [07:52<27:12,  5.32s/it]"
     ]
    },
    {
     "name": "stdout",
     "output_type": "stream",
     "text": [
      "    Predict took 0.6510829925537109 seconds\n",
      "    Update_data took 0.1554882526397705 seconds\n",
      "Shape: (105317, 3)\n",
      "Epoch #93\n",
      "Shape of the data: (105317, 3)\n",
      "    Fit took 4.51508641242981 seconds\n"
     ]
    },
    {
     "name": "stderr",
     "output_type": "stream",
     "text": [
      "\r",
      " 24%|██▎       | 94/400 [07:57<27:00,  5.29s/it]"
     ]
    },
    {
     "name": "stdout",
     "output_type": "stream",
     "text": [
      "    Predict took 0.6426534652709961 seconds\n",
      "    Update_data took 0.07556009292602539 seconds\n",
      "Shape: (105437, 3)\n",
      "Epoch #94\n",
      "Shape of the data: (105437, 3)\n",
      "    Fit took 4.5573742389678955 seconds\n"
     ]
    },
    {
     "name": "stderr",
     "output_type": "stream",
     "text": [
      "\r",
      " 24%|██▍       | 95/400 [08:02<27:00,  5.31s/it]"
     ]
    },
    {
     "name": "stdout",
     "output_type": "stream",
     "text": [
      "    Predict took 0.6453380584716797 seconds\n",
      "    Update_data took 0.1553196907043457 seconds\n",
      "Shape: (105557, 3)\n",
      "Epoch #95\n",
      "Shape of the data: (105557, 3)\n",
      "    Fit took 4.463033676147461 seconds\n"
     ]
    },
    {
     "name": "stderr",
     "output_type": "stream",
     "text": [
      "\r",
      " 24%|██▍       | 96/400 [08:07<26:50,  5.30s/it]"
     ]
    },
    {
     "name": "stdout",
     "output_type": "stream",
     "text": [
      "    Predict took 0.6410417556762695 seconds\n",
      "    Update_data took 0.15708112716674805 seconds\n",
      "Shape: (105677, 3)\n",
      "Epoch #96\n",
      "Shape of the data: (105677, 3)\n",
      "    Fit took 4.5570573806762695 seconds\n"
     ]
    },
    {
     "name": "stderr",
     "output_type": "stream",
     "text": [
      "\r",
      " 24%|██▍       | 97/400 [08:13<26:50,  5.32s/it]"
     ]
    },
    {
     "name": "stdout",
     "output_type": "stream",
     "text": [
      "    Predict took 0.6351494789123535 seconds\n",
      "    Update_data took 0.1607832908630371 seconds\n",
      "Shape: (105797, 3)\n",
      "Epoch #97\n",
      "Shape of the data: (105797, 3)\n",
      "    Fit took 4.514782428741455 seconds\n"
     ]
    },
    {
     "name": "stderr",
     "output_type": "stream",
     "text": [
      "\r",
      " 24%|██▍       | 98/400 [08:18<26:38,  5.29s/it]"
     ]
    },
    {
     "name": "stdout",
     "output_type": "stream",
     "text": [
      "    Predict took 0.6405456066131592 seconds\n",
      "    Update_data took 0.07657074928283691 seconds\n",
      "Shape: (105917, 3)\n",
      "Epoch #98\n",
      "Shape of the data: (105917, 3)\n",
      "    Fit took 4.597860097885132 seconds\n"
     ]
    },
    {
     "name": "stderr",
     "output_type": "stream",
     "text": [
      "\r",
      " 25%|██▍       | 99/400 [08:23<26:41,  5.32s/it]"
     ]
    },
    {
     "name": "stdout",
     "output_type": "stream",
     "text": [
      "    Predict took 0.6357219219207764 seconds\n",
      "    Update_data took 0.1565687656402588 seconds\n",
      "Shape: (106037, 3)\n",
      "Epoch #99\n",
      "Shape of the data: (106037, 3)\n",
      "    Fit took 4.498908281326294 seconds\n"
     ]
    },
    {
     "name": "stderr",
     "output_type": "stream",
     "text": [
      "\r",
      " 25%|██▌       | 100/400 [08:29<26:34,  5.31s/it]"
     ]
    },
    {
     "name": "stdout",
     "output_type": "stream",
     "text": [
      "    Predict took 0.6385140419006348 seconds\n",
      "    Update_data took 0.15691542625427246 seconds\n",
      "Shape: (106157, 3)\n",
      "Epoch #100\n",
      "Shape of the data: (106157, 3)\n",
      "    Fit took 4.508660793304443 seconds\n"
     ]
    },
    {
     "name": "stderr",
     "output_type": "stream",
     "text": [
      "\r",
      " 25%|██▌       | 101/400 [08:34<26:20,  5.29s/it]"
     ]
    },
    {
     "name": "stdout",
     "output_type": "stream",
     "text": [
      "    Predict took 0.6309740543365479 seconds\n",
      "    Update_data took 0.07697129249572754 seconds\n",
      "Shape: (106277, 3)\n",
      "Epoch #101\n",
      "Shape of the data: (106277, 3)\n",
      "    Fit took 4.5627381801605225 seconds\n"
     ]
    },
    {
     "name": "stderr",
     "output_type": "stream",
     "text": [
      "\r",
      " 26%|██▌       | 102/400 [08:39<26:21,  5.31s/it]"
     ]
    },
    {
     "name": "stdout",
     "output_type": "stream",
     "text": [
      "    Predict took 0.6324305534362793 seconds\n",
      "    Update_data took 0.15624308586120605 seconds\n",
      "Shape: (106397, 3)\n",
      "Epoch #102\n",
      "Shape of the data: (106397, 3)\n",
      "    Fit took 4.647584915161133 seconds\n"
     ]
    },
    {
     "name": "stderr",
     "output_type": "stream",
     "text": [
      "\r",
      " 26%|██▌       | 103/400 [08:45<26:28,  5.35s/it]"
     ]
    },
    {
     "name": "stdout",
     "output_type": "stream",
     "text": [
      "    Predict took 0.6363167762756348 seconds\n",
      "    Update_data took 0.15524816513061523 seconds\n",
      "Shape: (106517, 3)\n",
      "Epoch #103\n",
      "Shape of the data: (106517, 3)\n",
      "    Fit took 4.565680980682373 seconds\n"
     ]
    },
    {
     "name": "stderr",
     "output_type": "stream",
     "text": [
      "\r",
      " 26%|██▌       | 104/400 [08:50<26:24,  5.35s/it]"
     ]
    },
    {
     "name": "stdout",
     "output_type": "stream",
     "text": [
      "    Predict took 0.6409196853637695 seconds\n",
      "    Update_data took 0.1586465835571289 seconds\n",
      "Shape: (106637, 3)\n",
      "Epoch #104\n",
      "Shape of the data: (106637, 3)\n",
      "    Fit took 4.521556377410889 seconds\n"
     ]
    },
    {
     "name": "stderr",
     "output_type": "stream",
     "text": [
      "\r",
      " 26%|██▋       | 105/400 [08:55<26:08,  5.32s/it]"
     ]
    },
    {
     "name": "stdout",
     "output_type": "stream",
     "text": [
      "    Predict took 0.6342611312866211 seconds\n",
      "    Update_data took 0.0757761001586914 seconds\n",
      "Shape: (106757, 3)\n",
      "Epoch #105\n",
      "Shape of the data: (106757, 3)\n",
      "    Fit took 4.600353002548218 seconds\n"
     ]
    },
    {
     "name": "stderr",
     "output_type": "stream",
     "text": [
      "\r",
      " 26%|██▋       | 106/400 [09:01<26:10,  5.34s/it]"
     ]
    },
    {
     "name": "stdout",
     "output_type": "stream",
     "text": [
      "    Predict took 0.6364779472351074 seconds\n",
      "    Update_data took 0.15680146217346191 seconds\n",
      "Shape: (106877, 3)\n",
      "Epoch #106\n",
      "Shape of the data: (106877, 3)\n",
      "    Fit took 4.562762022018433 seconds\n"
     ]
    },
    {
     "name": "stderr",
     "output_type": "stream",
     "text": [
      "\r",
      " 27%|██▋       | 107/400 [09:06<25:59,  5.32s/it]"
     ]
    },
    {
     "name": "stdout",
     "output_type": "stream",
     "text": [
      "    Predict took 0.6338708400726318 seconds\n",
      "    Update_data took 0.07714462280273438 seconds\n",
      "Shape: (106997, 3)\n",
      "Epoch #107\n",
      "Shape of the data: (106997, 3)\n",
      "    Fit took 4.616414308547974 seconds\n"
     ]
    },
    {
     "name": "stderr",
     "output_type": "stream",
     "text": [
      "\r",
      " 27%|██▋       | 108/400 [09:11<25:55,  5.33s/it]"
     ]
    },
    {
     "name": "stdout",
     "output_type": "stream",
     "text": [
      "    Predict took 0.6371524333953857 seconds\n",
      "    Update_data took 0.08549618721008301 seconds\n",
      "Shape: (107117, 3)\n",
      "Epoch #108\n",
      "Shape of the data: (107117, 3)\n",
      "    Fit took 4.613830089569092 seconds\n"
     ]
    },
    {
     "name": "stderr",
     "output_type": "stream",
     "text": [
      "\r",
      " 27%|██▋       | 109/400 [09:17<25:50,  5.33s/it]"
     ]
    },
    {
     "name": "stdout",
     "output_type": "stream",
     "text": [
      "    Predict took 0.6340129375457764 seconds\n",
      "    Update_data took 0.07790040969848633 seconds\n",
      "Shape: (107237, 3)\n",
      "Epoch #109\n",
      "Shape of the data: (107237, 3)\n",
      "    Fit took 4.724514722824097 seconds\n"
     ]
    },
    {
     "name": "stderr",
     "output_type": "stream",
     "text": [
      "\r",
      " 28%|██▊       | 110/400 [09:22<25:55,  5.36s/it]"
     ]
    },
    {
     "name": "stdout",
     "output_type": "stream",
     "text": [
      "    Predict took 0.6373720169067383 seconds\n",
      "    Update_data took 0.07802224159240723 seconds\n",
      "Shape: (107357, 3)\n",
      "Epoch #110\n",
      "Shape of the data: (107357, 3)\n",
      "    Fit took 4.648678541183472 seconds\n"
     ]
    },
    {
     "name": "stderr",
     "output_type": "stream",
     "text": [
      "\r",
      " 28%|██▊       | 111/400 [09:27<25:55,  5.38s/it]"
     ]
    },
    {
     "name": "stdout",
     "output_type": "stream",
     "text": [
      "    Predict took 0.6250543594360352 seconds\n",
      "    Update_data took 0.15785503387451172 seconds\n",
      "Shape: (107477, 3)\n",
      "Epoch #111\n",
      "Shape of the data: (107477, 3)\n",
      "    Fit took 4.551682949066162 seconds\n"
     ]
    },
    {
     "name": "stderr",
     "output_type": "stream",
     "text": [
      "\r",
      " 28%|██▊       | 112/400 [09:33<25:40,  5.35s/it]"
     ]
    },
    {
     "name": "stdout",
     "output_type": "stream",
     "text": [
      "    Predict took 0.6360583305358887 seconds\n",
      "    Update_data took 0.07709789276123047 seconds\n",
      "Shape: (107597, 3)\n",
      "Epoch #112\n",
      "Shape of the data: (107597, 3)\n",
      "    Fit took 4.660919427871704 seconds\n"
     ]
    },
    {
     "name": "stderr",
     "output_type": "stream",
     "text": [
      "\r",
      " 28%|██▊       | 113/400 [09:38<25:37,  5.36s/it]"
     ]
    },
    {
     "name": "stdout",
     "output_type": "stream",
     "text": [
      "    Predict took 0.6366634368896484 seconds\n",
      "    Update_data took 0.0761268138885498 seconds\n",
      "Shape: (107717, 3)\n",
      "Epoch #113\n",
      "Shape of the data: (107717, 3)\n",
      "    Fit took 4.707158803939819 seconds\n"
     ]
    },
    {
     "name": "stderr",
     "output_type": "stream",
     "text": [
      "\r",
      " 28%|██▊       | 114/400 [09:44<25:36,  5.37s/it]"
     ]
    },
    {
     "name": "stdout",
     "output_type": "stream",
     "text": [
      "    Predict took 0.6266396045684814 seconds\n",
      "    Update_data took 0.0767679214477539 seconds\n",
      "Shape: (107837, 3)\n",
      "Epoch #114\n",
      "Shape of the data: (107837, 3)\n",
      "    Fit took 4.6672656536102295 seconds\n"
     ]
    },
    {
     "name": "stderr",
     "output_type": "stream",
     "text": [
      "\r",
      " 29%|██▉       | 115/400 [09:49<25:31,  5.37s/it]"
     ]
    },
    {
     "name": "stdout",
     "output_type": "stream",
     "text": [
      "    Predict took 0.6302740573883057 seconds\n",
      "    Update_data took 0.07769393920898438 seconds\n",
      "Shape: (107957, 3)\n",
      "Epoch #115\n",
      "Shape of the data: (107957, 3)\n",
      "    Fit took 4.532689094543457 seconds\n"
     ]
    },
    {
     "name": "stderr",
     "output_type": "stream",
     "text": [
      "\r",
      " 29%|██▉       | 116/400 [09:54<25:22,  5.36s/it]"
     ]
    },
    {
     "name": "stdout",
     "output_type": "stream",
     "text": [
      "    Predict took 0.6335666179656982 seconds\n",
      "    Update_data took 0.15693044662475586 seconds\n",
      "Shape: (108077, 3)\n",
      "Epoch #116\n",
      "Shape of the data: (108077, 3)\n",
      "    Fit took 4.589621305465698 seconds\n"
     ]
    },
    {
     "name": "stderr",
     "output_type": "stream",
     "text": [
      "\r",
      " 29%|██▉       | 117/400 [10:00<25:11,  5.34s/it]"
     ]
    },
    {
     "name": "stdout",
     "output_type": "stream",
     "text": [
      "    Predict took 0.6220135688781738 seconds\n",
      "    Update_data took 0.07682013511657715 seconds\n",
      "Shape: (108197, 3)\n",
      "Epoch #117\n",
      "Shape of the data: (108197, 3)\n",
      "    Fit took 4.666103363037109 seconds\n"
     ]
    },
    {
     "name": "stderr",
     "output_type": "stream",
     "text": [
      "\r",
      " 30%|██▉       | 118/400 [10:05<25:08,  5.35s/it]"
     ]
    },
    {
     "name": "stdout",
     "output_type": "stream",
     "text": [
      "    Predict took 0.6226933002471924 seconds\n",
      "    Update_data took 0.07698774337768555 seconds\n",
      "Shape: (108317, 3)\n",
      "Epoch #118\n",
      "Shape of the data: (108317, 3)\n",
      "    Fit took 4.730172157287598 seconds\n"
     ]
    },
    {
     "name": "stderr",
     "output_type": "stream",
     "text": [
      "\r",
      " 30%|██▉       | 119/400 [10:10<25:13,  5.38s/it]"
     ]
    },
    {
     "name": "stdout",
     "output_type": "stream",
     "text": [
      "    Predict took 0.6499683856964111 seconds\n",
      "    Update_data took 0.08836078643798828 seconds\n",
      "Shape: (108437, 3)\n",
      "Epoch #119\n",
      "Shape of the data: (108437, 3)\n",
      "    Fit took 4.688077449798584 seconds\n"
     ]
    },
    {
     "name": "stderr",
     "output_type": "stream",
     "text": [
      "\r",
      " 30%|███       | 120/400 [10:16<25:16,  5.42s/it]"
     ]
    },
    {
     "name": "stdout",
     "output_type": "stream",
     "text": [
      "    Predict took 0.6385097503662109 seconds\n",
      "    Update_data took 0.15901494026184082 seconds\n",
      "Shape: (108557, 3)\n",
      "Epoch #120\n",
      "Shape of the data: (108557, 3)\n",
      "    Fit took 4.608213186264038 seconds\n"
     ]
    },
    {
     "name": "stderr",
     "output_type": "stream",
     "text": [
      "\r",
      " 30%|███       | 121/400 [10:21<25:01,  5.38s/it]"
     ]
    },
    {
     "name": "stdout",
     "output_type": "stream",
     "text": [
      "    Predict took 0.6181330680847168 seconds\n",
      "    Update_data took 0.07726192474365234 seconds\n",
      "Shape: (108677, 3)\n",
      "Epoch #121\n",
      "Shape of the data: (108677, 3)\n",
      "    Fit took 4.710057258605957 seconds\n"
     ]
    },
    {
     "name": "stderr",
     "output_type": "stream",
     "text": [
      "\r",
      " 30%|███       | 122/400 [10:27<24:59,  5.39s/it]"
     ]
    },
    {
     "name": "stdout",
     "output_type": "stream",
     "text": [
      "    Predict took 0.6216461658477783 seconds\n",
      "    Update_data took 0.0827341079711914 seconds\n",
      "Shape: (108797, 3)\n",
      "Epoch #122\n",
      "Shape of the data: (108797, 3)\n",
      "    Fit took 4.715418815612793 seconds\n"
     ]
    },
    {
     "name": "stderr",
     "output_type": "stream",
     "text": [
      "\r",
      " 31%|███       | 123/400 [10:32<24:56,  5.40s/it]"
     ]
    },
    {
     "name": "stdout",
     "output_type": "stream",
     "text": [
      "    Predict took 0.623368501663208 seconds\n",
      "    Update_data took 0.07821130752563477 seconds\n",
      "Shape: (108917, 3)\n",
      "Epoch #123\n",
      "Shape of the data: (108917, 3)\n",
      "    Fit took 4.628144025802612 seconds\n"
     ]
    },
    {
     "name": "stderr",
     "output_type": "stream",
     "text": [
      "\r",
      " 31%|███       | 124/400 [10:37<24:51,  5.41s/it]"
     ]
    },
    {
     "name": "stdout",
     "output_type": "stream",
     "text": [
      "    Predict took 0.6979069709777832 seconds\n",
      "    Update_data took 0.08582758903503418 seconds\n",
      "Shape: (109037, 3)\n",
      "Epoch #124\n",
      "Shape of the data: (109037, 3)\n",
      "    Fit took 4.693965196609497 seconds\n"
     ]
    },
    {
     "name": "stderr",
     "output_type": "stream",
     "text": [
      "\r",
      " 31%|███▏      | 125/400 [10:43<24:45,  5.40s/it]"
     ]
    },
    {
     "name": "stdout",
     "output_type": "stream",
     "text": [
      "    Predict took 0.6261858940124512 seconds\n",
      "    Update_data took 0.07722353935241699 seconds\n",
      "Shape: (109157, 3)\n",
      "Epoch #125\n",
      "Shape of the data: (109157, 3)\n",
      "    Fit took 4.684939622879028 seconds\n"
     ]
    },
    {
     "name": "stderr",
     "output_type": "stream",
     "text": [
      "\r",
      " 32%|███▏      | 126/400 [10:48<24:38,  5.40s/it]"
     ]
    },
    {
     "name": "stdout",
     "output_type": "stream",
     "text": [
      "    Predict took 0.6132705211639404 seconds\n",
      "    Update_data took 0.07750868797302246 seconds\n",
      "Shape: (109277, 3)\n",
      "Epoch #126\n",
      "Shape of the data: (109277, 3)\n",
      "    Fit took 4.622636556625366 seconds\n"
     ]
    },
    {
     "name": "stderr",
     "output_type": "stream",
     "text": [
      "\r",
      " 32%|███▏      | 127/400 [10:54<24:33,  5.40s/it]"
     ]
    },
    {
     "name": "stdout",
     "output_type": "stream",
     "text": [
      "    Predict took 0.6880254745483398 seconds\n",
      "    Update_data took 0.0913240909576416 seconds\n",
      "Shape: (109397, 3)\n",
      "Epoch #127\n",
      "Shape of the data: (109397, 3)\n",
      "    Fit took 4.622420072555542 seconds\n"
     ]
    },
    {
     "name": "stderr",
     "output_type": "stream",
     "text": [
      "\r",
      " 32%|███▏      | 128/400 [10:59<24:21,  5.37s/it]"
     ]
    },
    {
     "name": "stdout",
     "output_type": "stream",
     "text": [
      "    Predict took 0.6153671741485596 seconds\n",
      "    Update_data took 0.07723736763000488 seconds\n",
      "Shape: (109517, 3)\n",
      "Epoch #128\n",
      "Shape of the data: (109517, 3)\n",
      "    Fit took 4.645785570144653 seconds\n"
     ]
    },
    {
     "name": "stderr",
     "output_type": "stream",
     "text": [
      "\r",
      " 32%|███▏      | 129/400 [11:04<24:19,  5.39s/it]"
     ]
    },
    {
     "name": "stdout",
     "output_type": "stream",
     "text": [
      "    Predict took 0.6080918312072754 seconds\n",
      "    Update_data took 0.15918278694152832 seconds\n",
      "Shape: (109637, 3)\n",
      "Epoch #129\n",
      "Shape of the data: (109637, 3)\n",
      "    Fit took 4.666520595550537 seconds\n"
     ]
    },
    {
     "name": "stderr",
     "output_type": "stream",
     "text": [
      "\r",
      " 32%|███▎      | 130/400 [11:10<24:11,  5.38s/it]"
     ]
    },
    {
     "name": "stdout",
     "output_type": "stream",
     "text": [
      "    Predict took 0.6088857650756836 seconds\n",
      "    Update_data took 0.0787649154663086 seconds\n",
      "Shape: (109757, 3)\n",
      "Epoch #130\n",
      "Shape of the data: (109757, 3)\n",
      "    Fit took 4.743086814880371 seconds\n"
     ]
    },
    {
     "name": "stderr",
     "output_type": "stream",
     "text": [
      "\r",
      " 33%|███▎      | 131/400 [11:15<24:11,  5.39s/it]"
     ]
    },
    {
     "name": "stdout",
     "output_type": "stream",
     "text": [
      "    Predict took 0.6105363368988037 seconds\n",
      "    Update_data took 0.07737302780151367 seconds\n",
      "Shape: (109877, 3)\n",
      "Epoch #131\n",
      "Shape of the data: (109877, 3)\n",
      "    Fit took 4.669108152389526 seconds\n"
     ]
    },
    {
     "name": "stderr",
     "output_type": "stream",
     "text": [
      "\r",
      " 33%|███▎      | 132/400 [11:21<24:09,  5.41s/it]"
     ]
    },
    {
     "name": "stdout",
     "output_type": "stream",
     "text": [
      "    Predict took 0.6133155822753906 seconds\n",
      "    Update_data took 0.16200590133666992 seconds\n",
      "Shape: (109997, 3)\n",
      "Epoch #132\n",
      "Shape of the data: (109997, 3)\n",
      "    Fit took 4.653442144393921 seconds\n"
     ]
    },
    {
     "name": "stderr",
     "output_type": "stream",
     "text": [
      "\r",
      " 33%|███▎      | 133/400 [11:26<24:00,  5.39s/it]"
     ]
    },
    {
     "name": "stdout",
     "output_type": "stream",
     "text": [
      "    Predict took 0.6199839115142822 seconds\n",
      "    Update_data took 0.07775449752807617 seconds\n",
      "Shape: (110117, 3)\n",
      "Epoch #133\n",
      "Shape of the data: (110117, 3)\n",
      "    Fit took 4.6460041999816895 seconds\n"
     ]
    },
    {
     "name": "stderr",
     "output_type": "stream",
     "text": [
      "\r",
      " 34%|███▎      | 134/400 [11:31<23:57,  5.40s/it]"
     ]
    },
    {
     "name": "stdout",
     "output_type": "stream",
     "text": [
      "    Predict took 0.6146121025085449 seconds\n",
      "    Update_data took 0.16048645973205566 seconds\n",
      "Shape: (110237, 3)\n",
      "Epoch #134\n",
      "Shape of the data: (110237, 3)\n",
      "    Fit took 4.69611930847168 seconds\n"
     ]
    },
    {
     "name": "stderr",
     "output_type": "stream",
     "text": [
      "\r",
      " 34%|███▍      | 135/400 [11:37<23:51,  5.40s/it]"
     ]
    },
    {
     "name": "stdout",
     "output_type": "stream",
     "text": [
      "    Predict took 0.6211104393005371 seconds\n",
      "    Update_data took 0.08156967163085938 seconds\n",
      "Shape: (110357, 3)\n",
      "Epoch #135\n",
      "Shape of the data: (110357, 3)\n",
      "    Fit took 4.749568700790405 seconds\n"
     ]
    },
    {
     "name": "stderr",
     "output_type": "stream",
     "text": [
      "\r",
      " 34%|███▍      | 136/400 [11:42<23:49,  5.41s/it]"
     ]
    },
    {
     "name": "stdout",
     "output_type": "stream",
     "text": [
      "    Predict took 0.614081859588623 seconds\n",
      "    Update_data took 0.07901358604431152 seconds\n",
      "Shape: (110477, 3)\n",
      "Epoch #136\n",
      "Shape of the data: (110477, 3)\n",
      "    Fit took 4.69757866859436 seconds\n"
     ]
    },
    {
     "name": "stderr",
     "output_type": "stream",
     "text": [
      "\r",
      " 34%|███▍      | 137/400 [11:48<23:48,  5.43s/it]"
     ]
    },
    {
     "name": "stdout",
     "output_type": "stream",
     "text": [
      "    Predict took 0.611870527267456 seconds\n",
      "    Update_data took 0.1595747470855713 seconds\n",
      "Shape: (110597, 3)\n",
      "Epoch #137\n",
      "Shape of the data: (110597, 3)\n",
      "    Fit took 4.703296184539795 seconds\n"
     ]
    },
    {
     "name": "stderr",
     "output_type": "stream",
     "text": [
      "\r",
      " 34%|███▍      | 138/400 [11:53<23:40,  5.42s/it]"
     ]
    },
    {
     "name": "stdout",
     "output_type": "stream",
     "text": [
      "    Predict took 0.6111702919006348 seconds\n",
      "    Update_data took 0.0803217887878418 seconds\n",
      "Shape: (110717, 3)\n",
      "Epoch #138\n",
      "Shape of the data: (110717, 3)\n",
      "    Fit took 4.816596746444702 seconds\n"
     ]
    },
    {
     "name": "stderr",
     "output_type": "stream",
     "text": [
      "\r",
      " 35%|███▍      | 139/400 [11:59<23:42,  5.45s/it]"
     ]
    },
    {
     "name": "stdout",
     "output_type": "stream",
     "text": [
      "    Predict took 0.6104645729064941 seconds\n",
      "    Update_data took 0.08107805252075195 seconds\n",
      "Shape: (110837, 3)\n",
      "Epoch #139\n",
      "Shape of the data: (110837, 3)\n",
      "    Fit took 4.710759878158569 seconds\n"
     ]
    },
    {
     "name": "stderr",
     "output_type": "stream",
     "text": [
      "\r",
      " 35%|███▌      | 140/400 [12:04<23:40,  5.46s/it]"
     ]
    },
    {
     "name": "stdout",
     "output_type": "stream",
     "text": [
      "    Predict took 0.6292645931243896 seconds\n",
      "    Update_data took 0.1603374481201172 seconds\n",
      "Shape: (110957, 3)\n",
      "Epoch #140\n",
      "Shape of the data: (110957, 3)\n",
      "    Fit took 4.695636987686157 seconds\n"
     ]
    },
    {
     "name": "stderr",
     "output_type": "stream",
     "text": [
      "\r",
      " 35%|███▌      | 141/400 [12:09<23:29,  5.44s/it]"
     ]
    },
    {
     "name": "stdout",
     "output_type": "stream",
     "text": [
      "    Predict took 0.6095170974731445 seconds\n",
      "    Update_data took 0.07908058166503906 seconds\n",
      "Shape: (111077, 3)\n",
      "Epoch #141\n",
      "Shape of the data: (111077, 3)\n",
      "    Fit took 4.865733861923218 seconds\n"
     ]
    },
    {
     "name": "stderr",
     "output_type": "stream",
     "text": [
      "\r",
      " 36%|███▌      | 142/400 [12:15<23:33,  5.48s/it]"
     ]
    },
    {
     "name": "stdout",
     "output_type": "stream",
     "text": [
      "    Predict took 0.6146290302276611 seconds\n",
      "    Update_data took 0.07857775688171387 seconds\n",
      "Shape: (111197, 3)\n",
      "Epoch #142\n",
      "Shape of the data: (111197, 3)\n",
      "    Fit took 4.70979118347168 seconds\n"
     ]
    },
    {
     "name": "stderr",
     "output_type": "stream",
     "text": [
      "\r",
      " 36%|███▌      | 143/400 [12:21<23:27,  5.48s/it]"
     ]
    },
    {
     "name": "stdout",
     "output_type": "stream",
     "text": [
      "    Predict took 0.6060357093811035 seconds\n",
      "    Update_data took 0.16045832633972168 seconds\n",
      "Shape: (111317, 3)\n",
      "Epoch #143\n",
      "Shape of the data: (111317, 3)\n",
      "    Fit took 4.71970534324646 seconds\n"
     ]
    },
    {
     "name": "stderr",
     "output_type": "stream",
     "text": [
      "\r",
      " 36%|███▌      | 144/400 [12:26<23:18,  5.46s/it]"
     ]
    },
    {
     "name": "stdout",
     "output_type": "stream",
     "text": [
      "    Predict took 0.6247410774230957 seconds\n",
      "    Update_data took 0.08047294616699219 seconds\n",
      "Shape: (111437, 3)\n",
      "Epoch #144\n",
      "Shape of the data: (111437, 3)\n",
      "    Fit took 4.790555477142334 seconds\n"
     ]
    },
    {
     "name": "stderr",
     "output_type": "stream",
     "text": [
      "\r",
      " 36%|███▋      | 145/400 [12:31<23:14,  5.47s/it]"
     ]
    },
    {
     "name": "stdout",
     "output_type": "stream",
     "text": [
      "    Predict took 0.6104037761688232 seconds\n",
      "    Update_data took 0.07877683639526367 seconds\n",
      "Shape: (111557, 3)\n",
      "Epoch #145\n",
      "Shape of the data: (111557, 3)\n",
      "    Fit took 4.741978406906128 seconds\n"
     ]
    },
    {
     "name": "stderr",
     "output_type": "stream",
     "text": [
      "\r",
      " 36%|███▋      | 146/400 [12:37<23:12,  5.48s/it]"
     ]
    },
    {
     "name": "stdout",
     "output_type": "stream",
     "text": [
      "    Predict took 0.6085286140441895 seconds\n",
      "    Update_data took 0.1603691577911377 seconds\n",
      "Shape: (111677, 3)\n",
      "Epoch #146\n",
      "Shape of the data: (111677, 3)\n",
      "    Fit took 4.77521538734436 seconds\n"
     ]
    },
    {
     "name": "stderr",
     "output_type": "stream",
     "text": [
      "\r",
      " 37%|███▋      | 147/400 [12:42<23:05,  5.47s/it]"
     ]
    },
    {
     "name": "stdout",
     "output_type": "stream",
     "text": [
      "    Predict took 0.5998518466949463 seconds\n",
      "    Update_data took 0.08043932914733887 seconds\n",
      "Shape: (111797, 3)\n",
      "Epoch #147\n",
      "Shape of the data: (111797, 3)\n",
      "    Fit took 4.849707365036011 seconds\n"
     ]
    },
    {
     "name": "stderr",
     "output_type": "stream",
     "text": [
      "\r",
      " 37%|███▋      | 148/400 [12:48<23:04,  5.50s/it]"
     ]
    },
    {
     "name": "stdout",
     "output_type": "stream",
     "text": [
      "    Predict took 0.6095595359802246 seconds\n",
      "    Update_data took 0.08033156394958496 seconds\n",
      "Shape: (111917, 3)\n",
      "Epoch #148\n",
      "Shape of the data: (111917, 3)\n",
      "    Fit took 4.754326820373535 seconds\n"
     ]
    },
    {
     "name": "stderr",
     "output_type": "stream",
     "text": [
      "\r",
      " 37%|███▋      | 149/400 [12:53<23:01,  5.50s/it]"
     ]
    },
    {
     "name": "stdout",
     "output_type": "stream",
     "text": [
      "    Predict took 0.6051030158996582 seconds\n",
      "    Update_data took 0.16231632232666016 seconds\n",
      "Shape: (112037, 3)\n",
      "Epoch #149\n",
      "Shape of the data: (112037, 3)\n",
      "    Fit took 4.747956991195679 seconds\n"
     ]
    },
    {
     "name": "stderr",
     "output_type": "stream",
     "text": [
      "\r",
      " 38%|███▊      | 150/400 [12:59<22:50,  5.48s/it]"
     ]
    },
    {
     "name": "stdout",
     "output_type": "stream",
     "text": [
      "    Predict took 0.5994665622711182 seconds\n",
      "    Update_data took 0.08002233505249023 seconds\n",
      "Shape: (112157, 3)\n",
      "Epoch #150\n",
      "Shape of the data: (112157, 3)\n",
      "    Fit took 4.932899713516235 seconds\n"
     ]
    },
    {
     "name": "stderr",
     "output_type": "stream",
     "text": [
      "\r",
      " 38%|███▊      | 151/400 [13:05<23:01,  5.55s/it]"
     ]
    },
    {
     "name": "stdout",
     "output_type": "stream",
     "text": [
      "    Predict took 0.6026816368103027 seconds\n",
      "    Update_data took 0.16162562370300293 seconds\n",
      "Shape: (112277, 3)\n",
      "Epoch #151\n",
      "Shape of the data: (112277, 3)\n",
      "    Fit took 4.7708799839019775 seconds\n"
     ]
    },
    {
     "name": "stderr",
     "output_type": "stream",
     "text": [
      "\r",
      " 38%|███▊      | 152/400 [13:10<22:48,  5.52s/it]"
     ]
    },
    {
     "name": "stdout",
     "output_type": "stream",
     "text": [
      "    Predict took 0.5998117923736572 seconds\n",
      "    Update_data took 0.08147263526916504 seconds\n",
      "Shape: (112397, 3)\n",
      "Epoch #152\n",
      "Shape of the data: (112397, 3)\n",
      "    Fit took 4.833681344985962 seconds\n"
     ]
    },
    {
     "name": "stderr",
     "output_type": "stream",
     "text": [
      "\r",
      " 38%|███▊      | 153/400 [13:16<22:48,  5.54s/it]"
     ]
    },
    {
     "name": "stdout",
     "output_type": "stream",
     "text": [
      "    Predict took 0.596625566482544 seconds\n",
      "    Update_data took 0.16190719604492188 seconds\n",
      "Shape: (112517, 3)\n",
      "Epoch #153\n",
      "Shape of the data: (112517, 3)\n",
      "    Fit took 4.783749341964722 seconds\n"
     ]
    },
    {
     "name": "stderr",
     "output_type": "stream",
     "text": [
      "\r",
      " 38%|███▊      | 154/400 [13:21<22:44,  5.55s/it]"
     ]
    },
    {
     "name": "stdout",
     "output_type": "stream",
     "text": [
      "    Predict took 0.6062190532684326 seconds\n",
      "    Update_data took 0.16170334815979004 seconds\n",
      "Shape: (112637, 3)\n",
      "Epoch #154\n",
      "Shape of the data: (112637, 3)\n",
      "    Fit took 4.797864198684692 seconds\n"
     ]
    },
    {
     "name": "stderr",
     "output_type": "stream",
     "text": [
      "\r",
      " 39%|███▉      | 155/400 [13:27<22:33,  5.52s/it]"
     ]
    },
    {
     "name": "stdout",
     "output_type": "stream",
     "text": [
      "    Predict took 0.5934171676635742 seconds\n",
      "    Update_data took 0.08219599723815918 seconds\n",
      "Shape: (112757, 3)\n",
      "Epoch #155\n",
      "Shape of the data: (112757, 3)\n",
      "    Fit took 4.78652548789978 seconds\n"
     ]
    },
    {
     "name": "stderr",
     "output_type": "stream",
     "text": [
      "\r",
      " 39%|███▉      | 156/400 [13:32<22:29,  5.53s/it]"
     ]
    },
    {
     "name": "stdout",
     "output_type": "stream",
     "text": [
      "    Predict took 0.6001479625701904 seconds\n",
      "    Update_data took 0.16194844245910645 seconds\n",
      "Shape: (112877, 3)\n",
      "Epoch #156\n",
      "Shape of the data: (112877, 3)\n",
      "    Fit took 4.830544710159302 seconds\n"
     ]
    },
    {
     "name": "stderr",
     "output_type": "stream",
     "text": [
      "\r",
      " 39%|███▉      | 157/400 [13:38<22:22,  5.53s/it]"
     ]
    },
    {
     "name": "stdout",
     "output_type": "stream",
     "text": [
      "    Predict took 0.5983774662017822 seconds\n",
      "    Update_data took 0.07902812957763672 seconds\n",
      "Shape: (112997, 3)\n",
      "Epoch #157\n",
      "Shape of the data: (112997, 3)\n",
      "    Fit took 4.8988752365112305 seconds\n"
     ]
    },
    {
     "name": "stderr",
     "output_type": "stream",
     "text": [
      "\r",
      " 40%|███▉      | 158/400 [13:43<22:21,  5.54s/it]"
     ]
    },
    {
     "name": "stdout",
     "output_type": "stream",
     "text": [
      "    Predict took 0.6029970645904541 seconds\n",
      "    Update_data took 0.08170676231384277 seconds\n",
      "Shape: (113117, 3)\n",
      "Epoch #158\n",
      "Shape of the data: (113117, 3)\n",
      "    Fit took 4.800116062164307 seconds\n"
     ]
    },
    {
     "name": "stderr",
     "output_type": "stream",
     "text": [
      "\r",
      " 40%|███▉      | 159/400 [13:49<22:17,  5.55s/it]"
     ]
    },
    {
     "name": "stdout",
     "output_type": "stream",
     "text": [
      "    Predict took 0.5998439788818359 seconds\n",
      "    Update_data took 0.16002750396728516 seconds\n",
      "Shape: (113237, 3)\n",
      "Epoch #159\n",
      "Shape of the data: (113237, 3)\n",
      "    Fit took 4.796086311340332 seconds\n"
     ]
    },
    {
     "name": "stderr",
     "output_type": "stream",
     "text": [
      "\r",
      " 40%|████      | 160/400 [13:54<22:05,  5.52s/it]"
     ]
    },
    {
     "name": "stdout",
     "output_type": "stream",
     "text": [
      "    Predict took 0.5900213718414307 seconds\n",
      "    Update_data took 0.07808303833007812 seconds\n",
      "Shape: (113357, 3)\n",
      "Epoch #160\n",
      "Shape of the data: (113357, 3)\n",
      "    Fit took 5.00402569770813 seconds\n"
     ]
    },
    {
     "name": "stderr",
     "output_type": "stream",
     "text": [
      "\r",
      " 40%|████      | 161/400 [14:00<22:11,  5.57s/it]"
     ]
    },
    {
     "name": "stdout",
     "output_type": "stream",
     "text": [
      "    Predict took 0.5952343940734863 seconds\n",
      "    Update_data took 0.07953214645385742 seconds\n",
      "Shape: (113477, 3)\n",
      "Epoch #161\n",
      "Shape of the data: (113477, 3)\n",
      "    Fit took 4.806549310684204 seconds\n"
     ]
    },
    {
     "name": "stderr",
     "output_type": "stream",
     "text": [
      "\r",
      " 40%|████      | 162/400 [14:06<22:05,  5.57s/it]"
     ]
    },
    {
     "name": "stdout",
     "output_type": "stream",
     "text": [
      "    Predict took 0.5868532657623291 seconds\n",
      "    Update_data took 0.1619124412536621 seconds\n",
      "Shape: (113597, 3)\n",
      "Epoch #162\n",
      "Shape of the data: (113597, 3)\n",
      "    Fit took 4.834754467010498 seconds\n"
     ]
    },
    {
     "name": "stderr",
     "output_type": "stream",
     "text": [
      "\r",
      " 41%|████      | 163/400 [14:11<21:56,  5.56s/it]"
     ]
    },
    {
     "name": "stdout",
     "output_type": "stream",
     "text": [
      "    Predict took 0.6110930442810059 seconds\n",
      "    Update_data took 0.08121228218078613 seconds\n",
      "Shape: (113717, 3)\n",
      "Epoch #163\n",
      "Shape of the data: (113717, 3)\n",
      "    Fit took 4.858780384063721 seconds\n"
     ]
    },
    {
     "name": "stderr",
     "output_type": "stream",
     "text": [
      "\r",
      " 41%|████      | 164/400 [14:17<21:55,  5.58s/it]"
     ]
    },
    {
     "name": "stdout",
     "output_type": "stream",
     "text": [
      "    Predict took 0.5953350067138672 seconds\n",
      "    Update_data took 0.1621706485748291 seconds\n",
      "Shape: (113837, 3)\n",
      "Epoch #164\n",
      "Shape of the data: (113837, 3)\n",
      "    Fit took 4.840488910675049 seconds\n"
     ]
    },
    {
     "name": "stderr",
     "output_type": "stream",
     "text": [
      "\r",
      " 41%|████▏     | 165/400 [14:22<21:45,  5.56s/it]"
     ]
    },
    {
     "name": "stdout",
     "output_type": "stream",
     "text": [
      "    Predict took 0.5857625007629395 seconds\n",
      "    Update_data took 0.0818178653717041 seconds\n",
      "Shape: (113957, 3)\n",
      "Epoch #165\n",
      "Shape of the data: (113957, 3)\n",
      "    Fit took 4.919990301132202 seconds\n"
     ]
    },
    {
     "name": "stderr",
     "output_type": "stream",
     "text": [
      "\r",
      " 42%|████▏     | 166/400 [14:28<21:43,  5.57s/it]"
     ]
    },
    {
     "name": "stdout",
     "output_type": "stream",
     "text": [
      "    Predict took 0.6033432483673096 seconds\n",
      "    Update_data took 0.0805819034576416 seconds\n",
      "Shape: (114077, 3)\n",
      "Epoch #166\n",
      "Shape of the data: (114077, 3)\n",
      "    Fit took 4.821564435958862 seconds\n"
     ]
    },
    {
     "name": "stderr",
     "output_type": "stream",
     "text": [
      "\r",
      " 42%|████▏     | 167/400 [14:33<21:38,  5.57s/it]"
     ]
    },
    {
     "name": "stdout",
     "output_type": "stream",
     "text": [
      "    Predict took 0.5875179767608643 seconds\n",
      "    Update_data took 0.1606292724609375 seconds\n",
      "Shape: (114197, 3)\n",
      "Epoch #167\n",
      "Shape of the data: (114197, 3)\n",
      "    Fit took 4.8496692180633545 seconds\n"
     ]
    },
    {
     "name": "stderr",
     "output_type": "stream",
     "text": [
      "\r",
      " 42%|████▏     | 168/400 [14:39<21:30,  5.56s/it]"
     ]
    },
    {
     "name": "stdout",
     "output_type": "stream",
     "text": [
      "    Predict took 0.6068475246429443 seconds\n",
      "    Update_data took 0.0838620662689209 seconds\n",
      "Shape: (114317, 3)\n",
      "Epoch #168\n",
      "Shape of the data: (114317, 3)\n",
      "    Fit took 4.8546624183654785 seconds\n"
     ]
    },
    {
     "name": "stderr",
     "output_type": "stream",
     "text": [
      "\r",
      " 42%|████▏     | 169/400 [14:45<21:28,  5.58s/it]"
     ]
    },
    {
     "name": "stdout",
     "output_type": "stream",
     "text": [
      "    Predict took 0.5883104801177979 seconds\n",
      "    Update_data took 0.16344141960144043 seconds\n",
      "Shape: (114437, 3)\n",
      "Epoch #169\n",
      "Shape of the data: (114437, 3)\n",
      "    Fit took 4.8417582511901855 seconds\n"
     ]
    },
    {
     "name": "stderr",
     "output_type": "stream",
     "text": [
      "\r",
      " 42%|████▎     | 170/400 [14:50<21:18,  5.56s/it]"
     ]
    },
    {
     "name": "stdout",
     "output_type": "stream",
     "text": [
      "    Predict took 0.5848448276519775 seconds\n",
      "    Update_data took 0.08188796043395996 seconds\n",
      "Shape: (114557, 3)\n",
      "Epoch #170\n",
      "Shape of the data: (114557, 3)\n",
      "    Fit took 4.8529744148254395 seconds\n"
     ]
    },
    {
     "name": "stderr",
     "output_type": "stream",
     "text": [
      "\r",
      " 43%|████▎     | 171/400 [14:56<21:15,  5.57s/it]"
     ]
    },
    {
     "name": "stdout",
     "output_type": "stream",
     "text": [
      "    Predict took 0.5938098430633545 seconds\n",
      "    Update_data took 0.15548491477966309 seconds\n",
      "Shape: (114677, 3)\n",
      "Epoch #171\n",
      "Shape of the data: (114677, 3)\n",
      "    Fit took 4.866166830062866 seconds\n"
     ]
    },
    {
     "name": "stderr",
     "output_type": "stream",
     "text": [
      "\r",
      " 43%|████▎     | 172/400 [15:01<21:07,  5.56s/it]"
     ]
    },
    {
     "name": "stdout",
     "output_type": "stream",
     "text": [
      "    Predict took 0.5849323272705078 seconds\n",
      "    Update_data took 0.0803840160369873 seconds\n",
      "Shape: (114797, 3)\n",
      "Epoch #172\n",
      "Shape of the data: (114797, 3)\n",
      "    Fit took 4.869891405105591 seconds\n"
     ]
    },
    {
     "name": "stderr",
     "output_type": "stream",
     "text": [
      "\r",
      " 43%|████▎     | 173/400 [15:07<21:06,  5.58s/it]"
     ]
    },
    {
     "name": "stdout",
     "output_type": "stream",
     "text": [
      "    Predict took 0.585296630859375 seconds\n",
      "    Update_data took 0.16446924209594727 seconds\n",
      "Shape: (114917, 3)\n",
      "Epoch #173\n",
      "Shape of the data: (114917, 3)\n",
      "    Fit took 4.918015241622925 seconds\n"
     ]
    },
    {
     "name": "stderr",
     "output_type": "stream",
     "text": [
      "\r",
      " 44%|████▎     | 174/400 [15:12<21:00,  5.58s/it]"
     ]
    },
    {
     "name": "stdout",
     "output_type": "stream",
     "text": [
      "    Predict took 0.5781476497650146 seconds\n",
      "    Update_data took 0.08040690422058105 seconds\n",
      "Shape: (115037, 3)\n",
      "Epoch #174\n",
      "Shape of the data: (115037, 3)\n",
      "    Fit took 4.921437740325928 seconds\n"
     ]
    },
    {
     "name": "stderr",
     "output_type": "stream",
     "text": [
      "\r",
      " 44%|████▍     | 175/400 [15:18<21:01,  5.61s/it]"
     ]
    },
    {
     "name": "stdout",
     "output_type": "stream",
     "text": [
      "    Predict took 0.5801842212677002 seconds\n",
      "    Update_data took 0.16310596466064453 seconds\n",
      "Shape: (115157, 3)\n",
      "Epoch #175\n",
      "Shape of the data: (115157, 3)\n",
      "    Fit took 4.8926801681518555 seconds\n"
     ]
    },
    {
     "name": "stderr",
     "output_type": "stream",
     "text": [
      "\r",
      " 44%|████▍     | 176/400 [15:24<20:52,  5.59s/it]"
     ]
    },
    {
     "name": "stdout",
     "output_type": "stream",
     "text": [
      "    Predict took 0.5855164527893066 seconds\n",
      "    Update_data took 0.08199858665466309 seconds\n",
      "Shape: (115277, 3)\n",
      "Epoch #176\n",
      "Shape of the data: (115277, 3)\n",
      "    Fit took 4.8936121463775635 seconds\n"
     ]
    },
    {
     "name": "stderr",
     "output_type": "stream",
     "text": [
      "\r",
      " 44%|████▍     | 177/400 [15:29<20:45,  5.58s/it]"
     ]
    },
    {
     "name": "stdout",
     "output_type": "stream",
     "text": [
      "    Predict took 0.587944507598877 seconds\n",
      "    Update_data took 0.08268857002258301 seconds\n",
      "Shape: (115397, 3)\n",
      "Epoch #177\n",
      "Shape of the data: (115397, 3)\n",
      "    Fit took 4.984026670455933 seconds\n"
     ]
    },
    {
     "name": "stderr",
     "output_type": "stream",
     "text": [
      "\r",
      " 44%|████▍     | 178/400 [15:35<20:44,  5.61s/it]"
     ]
    },
    {
     "name": "stdout",
     "output_type": "stream",
     "text": [
      "    Predict took 0.5857048034667969 seconds\n",
      "    Update_data took 0.08247256278991699 seconds\n",
      "Shape: (115517, 3)\n",
      "Epoch #178\n",
      "Shape of the data: (115517, 3)\n",
      "    Fit took 4.8750410079956055 seconds\n"
     ]
    },
    {
     "name": "stderr",
     "output_type": "stream",
     "text": [
      "\r",
      " 45%|████▍     | 179/400 [15:40<20:34,  5.59s/it]"
     ]
    },
    {
     "name": "stdout",
     "output_type": "stream",
     "text": [
      "    Predict took 0.5817704200744629 seconds\n",
      "    Update_data took 0.08157992362976074 seconds\n",
      "Shape: (115637, 3)\n",
      "Epoch #179\n",
      "Shape of the data: (115637, 3)\n",
      "    Fit took 5.01878809928894 seconds\n"
     ]
    },
    {
     "name": "stderr",
     "output_type": "stream",
     "text": [
      "\r",
      " 45%|████▌     | 180/400 [15:46<20:35,  5.62s/it]"
     ]
    },
    {
     "name": "stdout",
     "output_type": "stream",
     "text": [
      "    Predict took 0.5896334648132324 seconds\n",
      "    Update_data took 0.08079743385314941 seconds\n",
      "Shape: (115757, 3)\n",
      "Epoch #180\n",
      "Shape of the data: (115757, 3)\n",
      "    Fit took 4.9001171588897705 seconds\n"
     ]
    },
    {
     "name": "stderr",
     "output_type": "stream",
     "text": [
      "\r",
      " 45%|████▌     | 181/400 [15:52<20:26,  5.60s/it]"
     ]
    },
    {
     "name": "stdout",
     "output_type": "stream",
     "text": [
      "    Predict took 0.577117919921875 seconds\n",
      "    Update_data took 0.0807650089263916 seconds\n",
      "Shape: (115877, 3)\n",
      "Epoch #181\n",
      "Shape of the data: (115877, 3)\n",
      "    Fit took 5.031852722167969 seconds\n"
     ]
    },
    {
     "name": "stderr",
     "output_type": "stream",
     "text": [
      "\r",
      " 46%|████▌     | 182/400 [15:57<20:27,  5.63s/it]"
     ]
    },
    {
     "name": "stdout",
     "output_type": "stream",
     "text": [
      "    Predict took 0.575523853302002 seconds\n",
      "    Update_data took 0.08421206474304199 seconds\n",
      "Shape: (115997, 3)\n",
      "Epoch #182\n",
      "Shape of the data: (115997, 3)\n",
      "    Fit took 4.927599668502808 seconds\n"
     ]
    },
    {
     "name": "stderr",
     "output_type": "stream",
     "text": [
      "\r",
      " 46%|████▌     | 183/400 [16:03<20:18,  5.62s/it]"
     ]
    },
    {
     "name": "stdout",
     "output_type": "stream",
     "text": [
      "    Predict took 0.5753724575042725 seconds\n",
      "    Update_data took 0.08074307441711426 seconds\n",
      "Shape: (116117, 3)\n",
      "Epoch #183\n",
      "Shape of the data: (116117, 3)\n",
      "    Fit took 5.022630929946899 seconds\n"
     ]
    },
    {
     "name": "stderr",
     "output_type": "stream",
     "text": [
      "\r",
      " 46%|████▌     | 184/400 [16:09<20:17,  5.63s/it]"
     ]
    },
    {
     "name": "stdout",
     "output_type": "stream",
     "text": [
      "    Predict took 0.5671095848083496 seconds\n",
      "    Update_data took 0.08592367172241211 seconds\n",
      "Shape: (116237, 3)\n",
      "Epoch #184\n",
      "Shape of the data: (116237, 3)\n",
      "    Fit took 4.992220640182495 seconds\n"
     ]
    },
    {
     "name": "stderr",
     "output_type": "stream",
     "text": [
      "\r",
      " 46%|████▋     | 185/400 [16:14<20:13,  5.64s/it]"
     ]
    },
    {
     "name": "stdout",
     "output_type": "stream",
     "text": [
      "    Predict took 0.5897800922393799 seconds\n",
      "    Update_data took 0.08118319511413574 seconds\n",
      "Shape: (116357, 3)\n",
      "Epoch #185\n",
      "Shape of the data: (116357, 3)\n",
      "    Fit took 4.965672731399536 seconds\n"
     ]
    },
    {
     "name": "stderr",
     "output_type": "stream",
     "text": [
      "\r",
      " 46%|████▋     | 186/400 [16:20<20:12,  5.67s/it]"
     ]
    },
    {
     "name": "stdout",
     "output_type": "stream",
     "text": [
      "    Predict took 0.5829465389251709 seconds\n",
      "    Update_data took 0.16450262069702148 seconds\n",
      "Shape: (116477, 3)\n",
      "Epoch #186\n",
      "Shape of the data: (116477, 3)\n",
      "    Fit took 4.964230060577393 seconds\n"
     ]
    },
    {
     "name": "stderr",
     "output_type": "stream",
     "text": [
      "\r",
      " 47%|████▋     | 187/400 [16:26<20:05,  5.66s/it]"
     ]
    },
    {
     "name": "stdout",
     "output_type": "stream",
     "text": [
      "    Predict took 0.5875656604766846 seconds\n",
      "    Update_data took 0.0878148078918457 seconds\n",
      "Shape: (116597, 3)\n",
      "Epoch #187\n",
      "Shape of the data: (116597, 3)\n",
      "    Fit took 4.971635341644287 seconds\n"
     ]
    },
    {
     "name": "stderr",
     "output_type": "stream",
     "text": [
      "\r",
      " 47%|████▋     | 188/400 [16:31<20:03,  5.68s/it]"
     ]
    },
    {
     "name": "stdout",
     "output_type": "stream",
     "text": [
      "    Predict took 0.5825190544128418 seconds\n",
      "    Update_data took 0.16373324394226074 seconds\n",
      "Shape: (116717, 3)\n",
      "Epoch #188\n",
      "Shape of the data: (116717, 3)\n",
      "    Fit took 4.944557428359985 seconds\n"
     ]
    },
    {
     "name": "stderr",
     "output_type": "stream",
     "text": [
      "\r",
      " 47%|████▋     | 189/400 [16:37<19:53,  5.66s/it]"
     ]
    },
    {
     "name": "stdout",
     "output_type": "stream",
     "text": [
      "    Predict took 0.5774273872375488 seconds\n",
      "    Update_data took 0.0823967456817627 seconds\n",
      "Shape: (116837, 3)\n",
      "Epoch #189\n",
      "Shape of the data: (116837, 3)\n",
      "    Fit took 4.971002817153931 seconds\n"
     ]
    },
    {
     "name": "stderr",
     "output_type": "stream",
     "text": [
      "\r",
      " 48%|████▊     | 190/400 [16:43<19:47,  5.66s/it]"
     ]
    },
    {
     "name": "stdout",
     "output_type": "stream",
     "text": [
      "    Predict took 0.5974545478820801 seconds\n",
      "    Update_data took 0.0844275951385498 seconds\n",
      "Shape: (116957, 3)\n",
      "Epoch #190\n",
      "Shape of the data: (116957, 3)\n",
      "    Fit took 5.065755367279053 seconds\n"
     ]
    },
    {
     "name": "stderr",
     "output_type": "stream",
     "text": [
      "\r",
      " 48%|████▊     | 191/400 [16:48<19:46,  5.68s/it]"
     ]
    },
    {
     "name": "stdout",
     "output_type": "stream",
     "text": [
      "    Predict took 0.5752415657043457 seconds\n",
      "    Update_data took 0.08482599258422852 seconds\n",
      "Shape: (117077, 3)\n",
      "Epoch #191\n",
      "Shape of the data: (117077, 3)\n",
      "    Fit took 4.957067251205444 seconds\n"
     ]
    },
    {
     "name": "stderr",
     "output_type": "stream",
     "text": [
      "\r",
      " 48%|████▊     | 192/400 [16:54<19:37,  5.66s/it]"
     ]
    },
    {
     "name": "stdout",
     "output_type": "stream",
     "text": [
      "    Predict took 0.5709376335144043 seconds\n",
      "    Update_data took 0.08587217330932617 seconds\n",
      "Shape: (117197, 3)\n",
      "Epoch #192\n",
      "Shape of the data: (117197, 3)\n",
      "    Fit took 4.96978497505188 seconds\n"
     ]
    },
    {
     "name": "stderr",
     "output_type": "stream",
     "text": [
      "\r",
      " 48%|████▊     | 193/400 [17:00<19:33,  5.67s/it]"
     ]
    },
    {
     "name": "stdout",
     "output_type": "stream",
     "text": [
      "    Predict took 0.5691304206848145 seconds\n",
      "    Update_data took 0.1567058563232422 seconds\n",
      "Shape: (117317, 3)\n",
      "Epoch #193\n",
      "Shape of the data: (117317, 3)\n",
      "    Fit took 5.07525372505188 seconds\n"
     ]
    },
    {
     "name": "stderr",
     "output_type": "stream",
     "text": [
      "\r",
      " 48%|████▊     | 194/400 [17:05<19:32,  5.69s/it]"
     ]
    },
    {
     "name": "stdout",
     "output_type": "stream",
     "text": [
      "    Predict took 0.574568510055542 seconds\n",
      "    Update_data took 0.08177375793457031 seconds\n",
      "Shape: (117437, 3)\n",
      "Epoch #194\n",
      "Shape of the data: (117437, 3)\n",
      "    Fit took 5.0343828201293945 seconds\n"
     ]
    },
    {
     "name": "stderr",
     "output_type": "stream",
     "text": [
      "\r",
      " 49%|████▉     | 195/400 [17:11<19:27,  5.69s/it]"
     ]
    },
    {
     "name": "stdout",
     "output_type": "stream",
     "text": [
      "    Predict took 0.5825705528259277 seconds\n",
      "    Update_data took 0.08389949798583984 seconds\n",
      "Shape: (117557, 3)\n",
      "Epoch #195\n",
      "Shape of the data: (117557, 3)\n",
      "    Fit took 5.086374521255493 seconds\n"
     ]
    },
    {
     "name": "stderr",
     "output_type": "stream",
     "text": [
      "\r",
      " 49%|████▉     | 196/400 [17:17<19:24,  5.71s/it]"
     ]
    },
    {
     "name": "stdout",
     "output_type": "stream",
     "text": [
      "    Predict took 0.5744302272796631 seconds\n",
      "    Update_data took 0.08460831642150879 seconds\n",
      "Shape: (117677, 3)\n",
      "Epoch #196\n",
      "Shape of the data: (117677, 3)\n",
      "    Fit took 5.021954298019409 seconds\n"
     ]
    },
    {
     "name": "stderr",
     "output_type": "stream",
     "text": [
      "\r",
      " 49%|████▉     | 197/400 [17:23<19:16,  5.70s/it]"
     ]
    },
    {
     "name": "stdout",
     "output_type": "stream",
     "text": [
      "    Predict took 0.5644638538360596 seconds\n",
      "    Update_data took 0.0830373764038086 seconds\n",
      "Shape: (117797, 3)\n",
      "Epoch #197\n",
      "Shape of the data: (117797, 3)\n",
      "    Fit took 5.0743818283081055 seconds\n"
     ]
    },
    {
     "name": "stderr",
     "output_type": "stream",
     "text": [
      "\r",
      " 50%|████▉     | 198/400 [17:28<19:13,  5.71s/it]"
     ]
    },
    {
     "name": "stdout",
     "output_type": "stream",
     "text": [
      "    Predict took 0.5715653896331787 seconds\n",
      "    Update_data took 0.0852816104888916 seconds\n",
      "Shape: (117917, 3)\n",
      "Epoch #198\n",
      "Shape of the data: (117917, 3)\n",
      "    Fit took 5.121724367141724 seconds\n"
     ]
    },
    {
     "name": "stderr",
     "output_type": "stream",
     "text": [
      "\r",
      " 50%|████▉     | 199/400 [17:34<19:12,  5.73s/it]"
     ]
    },
    {
     "name": "stdout",
     "output_type": "stream",
     "text": [
      "    Predict took 0.5774416923522949 seconds\n",
      "    Update_data took 0.08727049827575684 seconds\n",
      "Shape: (118037, 3)\n",
      "Epoch #199\n",
      "Shape of the data: (118037, 3)\n",
      "    Fit took 4.978722333908081 seconds\n"
     ]
    },
    {
     "name": "stderr",
     "output_type": "stream",
     "text": [
      "\r",
      " 50%|█████     | 200/400 [17:40<19:00,  5.70s/it]"
     ]
    },
    {
     "name": "stdout",
     "output_type": "stream",
     "text": [
      "    Predict took 0.5684216022491455 seconds\n",
      "    Update_data took 0.0865321159362793 seconds\n",
      "Shape: (118157, 3)\n",
      "Epoch #200\n",
      "Shape of the data: (118157, 3)\n",
      "    Fit took 5.043079853057861 seconds\n"
     ]
    },
    {
     "name": "stderr",
     "output_type": "stream",
     "text": [
      "\r",
      " 50%|█████     | 201/400 [17:45<18:54,  5.70s/it]"
     ]
    },
    {
     "name": "stdout",
     "output_type": "stream",
     "text": [
      "    Predict took 0.56632399559021 seconds\n",
      "    Update_data took 0.08274078369140625 seconds\n",
      "Shape: (118277, 3)\n",
      "Epoch #201\n",
      "Shape of the data: (118277, 3)\n",
      "    Fit took 5.1308088302612305 seconds\n"
     ]
    },
    {
     "name": "stderr",
     "output_type": "stream",
     "text": [
      "\r",
      " 50%|█████     | 202/400 [17:51<18:53,  5.73s/it]"
     ]
    },
    {
     "name": "stdout",
     "output_type": "stream",
     "text": [
      "    Predict took 0.5627589225769043 seconds\n",
      "    Update_data took 0.08586406707763672 seconds\n",
      "Shape: (118397, 3)\n",
      "Epoch #202\n",
      "Shape of the data: (118397, 3)\n",
      "    Fit took 5.0360801219940186 seconds\n"
     ]
    },
    {
     "name": "stderr",
     "output_type": "stream",
     "text": [
      "\r",
      " 51%|█████     | 203/400 [17:57<18:46,  5.72s/it]"
     ]
    },
    {
     "name": "stdout",
     "output_type": "stream",
     "text": [
      "    Predict took 0.5748286247253418 seconds\n",
      "    Update_data took 0.08376646041870117 seconds\n",
      "Shape: (118517, 3)\n",
      "Epoch #203\n",
      "Shape of the data: (118517, 3)\n",
      "    Fit took 5.044495344161987 seconds\n"
     ]
    },
    {
     "name": "stderr",
     "output_type": "stream",
     "text": [
      "\r",
      " 51%|█████     | 204/400 [18:03<18:39,  5.71s/it]"
     ]
    },
    {
     "name": "stdout",
     "output_type": "stream",
     "text": [
      "    Predict took 0.5603196620941162 seconds\n",
      "    Update_data took 0.08370327949523926 seconds\n",
      "Shape: (118637, 3)\n",
      "Epoch #204\n",
      "Shape of the data: (118637, 3)\n",
      "    Fit took 5.1060872077941895 seconds\n"
     ]
    },
    {
     "name": "stderr",
     "output_type": "stream",
     "text": [
      "\r",
      " 51%|█████▏    | 205/400 [18:08<18:36,  5.72s/it]"
     ]
    },
    {
     "name": "stdout",
     "output_type": "stream",
     "text": [
      "    Predict took 0.5670993328094482 seconds\n",
      "    Update_data took 0.08544445037841797 seconds\n",
      "Shape: (118757, 3)\n",
      "Epoch #205\n",
      "Shape of the data: (118757, 3)\n",
      "    Fit took 5.138738393783569 seconds\n"
     ]
    },
    {
     "name": "stderr",
     "output_type": "stream",
     "text": [
      "\r",
      " 52%|█████▏    | 206/400 [18:14<18:36,  5.76s/it]"
     ]
    },
    {
     "name": "stdout",
     "output_type": "stream",
     "text": [
      "    Predict took 0.603158712387085 seconds\n",
      "    Update_data took 0.08245372772216797 seconds\n",
      "Shape: (118877, 3)\n",
      "Epoch #206\n",
      "Shape of the data: (118877, 3)\n",
      "    Fit took 5.152784824371338 seconds\n"
     ]
    },
    {
     "name": "stderr",
     "output_type": "stream",
     "text": [
      "\r",
      " 52%|█████▏    | 207/400 [18:20<18:33,  5.77s/it]"
     ]
    },
    {
     "name": "stdout",
     "output_type": "stream",
     "text": [
      "    Predict took 0.5555417537689209 seconds\n",
      "    Update_data took 0.08794355392456055 seconds\n",
      "Shape: (118997, 3)\n",
      "Epoch #207\n",
      "Shape of the data: (118997, 3)\n",
      "    Fit took 5.045203447341919 seconds\n"
     ]
    },
    {
     "name": "stderr",
     "output_type": "stream",
     "text": [
      "\r",
      " 52%|█████▏    | 208/400 [18:26<18:25,  5.76s/it]"
     ]
    },
    {
     "name": "stdout",
     "output_type": "stream",
     "text": [
      "    Predict took 0.5925166606903076 seconds\n",
      "    Update_data took 0.08767175674438477 seconds\n",
      "Shape: (119117, 3)\n",
      "Epoch #208\n",
      "Shape of the data: (119117, 3)\n",
      "    Fit took 5.102166414260864 seconds\n"
     ]
    },
    {
     "name": "stderr",
     "output_type": "stream",
     "text": [
      "\r",
      " 52%|█████▏    | 209/400 [18:31<18:19,  5.76s/it]"
     ]
    },
    {
     "name": "stdout",
     "output_type": "stream",
     "text": [
      "    Predict took 0.5627455711364746 seconds\n",
      "    Update_data took 0.08462905883789062 seconds\n",
      "Shape: (119237, 3)\n",
      "Epoch #209\n",
      "Shape of the data: (119237, 3)\n",
      "    Fit took 5.144506931304932 seconds\n"
     ]
    },
    {
     "name": "stderr",
     "output_type": "stream",
     "text": [
      "\r",
      " 52%|█████▎    | 210/400 [18:37<18:15,  5.77s/it]"
     ]
    },
    {
     "name": "stdout",
     "output_type": "stream",
     "text": [
      "    Predict took 0.5532956123352051 seconds\n",
      "    Update_data took 0.09107327461242676 seconds\n",
      "Shape: (119357, 3)\n",
      "Epoch #210\n",
      "Shape of the data: (119357, 3)\n",
      "    Fit took 5.087294816970825 seconds\n"
     ]
    },
    {
     "name": "stderr",
     "output_type": "stream",
     "text": [
      "\r",
      " 53%|█████▎    | 211/400 [18:43<18:07,  5.76s/it]"
     ]
    },
    {
     "name": "stdout",
     "output_type": "stream",
     "text": [
      "    Predict took 0.556955099105835 seconds\n",
      "    Update_data took 0.08455824851989746 seconds\n",
      "Shape: (119477, 3)\n",
      "Epoch #211\n",
      "Shape of the data: (119477, 3)\n",
      "    Fit took 5.0690460205078125 seconds\n"
     ]
    },
    {
     "name": "stderr",
     "output_type": "stream",
     "text": [
      "\r",
      " 53%|█████▎    | 212/400 [18:49<18:00,  5.74s/it]"
     ]
    },
    {
     "name": "stdout",
     "output_type": "stream",
     "text": [
      "    Predict took 0.5597434043884277 seconds\n",
      "    Update_data took 0.08769679069519043 seconds\n",
      "Shape: (119597, 3)\n",
      "Epoch #212\n",
      "Shape of the data: (119597, 3)\n",
      "    Fit took 5.10509991645813 seconds\n"
     ]
    },
    {
     "name": "stderr",
     "output_type": "stream",
     "text": [
      "\r",
      " 53%|█████▎    | 213/400 [18:54<17:54,  5.75s/it]"
     ]
    },
    {
     "name": "stdout",
     "output_type": "stream",
     "text": [
      "    Predict took 0.5626657009124756 seconds\n",
      "    Update_data took 0.08294868469238281 seconds\n",
      "Shape: (119717, 3)\n",
      "Epoch #213\n",
      "Shape of the data: (119717, 3)\n",
      "    Fit took 5.081002473831177 seconds\n"
     ]
    },
    {
     "name": "stderr",
     "output_type": "stream",
     "text": [
      "\r",
      " 54%|█████▎    | 214/400 [19:00<17:47,  5.74s/it]"
     ]
    },
    {
     "name": "stdout",
     "output_type": "stream",
     "text": [
      "    Predict took 0.5573990345001221 seconds\n",
      "    Update_data took 0.08535027503967285 seconds\n",
      "Shape: (119837, 3)\n",
      "Epoch #214\n",
      "Shape of the data: (119837, 3)\n",
      "    Fit took 5.177464485168457 seconds\n"
     ]
    },
    {
     "name": "stderr",
     "output_type": "stream",
     "text": [
      "\r",
      " 54%|█████▍    | 215/400 [19:06<17:46,  5.77s/it]"
     ]
    },
    {
     "name": "stdout",
     "output_type": "stream",
     "text": [
      "    Predict took 0.5557851791381836 seconds\n",
      "    Update_data took 0.08694195747375488 seconds\n",
      "Shape: (119957, 3)\n",
      "Epoch #215\n",
      "Shape of the data: (119957, 3)\n",
      "    Fit took 5.081869125366211 seconds\n"
     ]
    },
    {
     "name": "stderr",
     "output_type": "stream",
     "text": [
      "\r",
      " 54%|█████▍    | 216/400 [19:12<17:38,  5.75s/it]"
     ]
    },
    {
     "name": "stdout",
     "output_type": "stream",
     "text": [
      "    Predict took 0.5594863891601562 seconds\n",
      "    Update_data took 0.08451008796691895 seconds\n",
      "Shape: (120077, 3)\n",
      "Epoch #216\n",
      "Shape of the data: (120077, 3)\n",
      "    Fit took 5.097322702407837 seconds\n"
     ]
    },
    {
     "name": "stderr",
     "output_type": "stream",
     "text": [
      "\r",
      " 54%|█████▍    | 217/400 [19:17<17:32,  5.75s/it]"
     ]
    },
    {
     "name": "stdout",
     "output_type": "stream",
     "text": [
      "    Predict took 0.5629041194915771 seconds\n",
      "    Update_data took 0.08313822746276855 seconds\n",
      "Shape: (120197, 3)\n",
      "Epoch #217\n",
      "Shape of the data: (120197, 3)\n",
      "    Fit took 5.2100818157196045 seconds\n"
     ]
    },
    {
     "name": "stderr",
     "output_type": "stream",
     "text": [
      "\r",
      " 55%|█████▍    | 218/400 [19:23<17:32,  5.78s/it]"
     ]
    },
    {
     "name": "stdout",
     "output_type": "stream",
     "text": [
      "    Predict took 0.5542182922363281 seconds\n",
      "    Update_data took 0.09057950973510742 seconds\n",
      "Shape: (120317, 3)\n",
      "Epoch #218\n",
      "Shape of the data: (120317, 3)\n",
      "    Fit took 5.150674343109131 seconds\n"
     ]
    },
    {
     "name": "stderr",
     "output_type": "stream",
     "text": [
      "\r",
      " 55%|█████▍    | 219/400 [19:29<17:27,  5.79s/it]"
     ]
    },
    {
     "name": "stdout",
     "output_type": "stream",
     "text": [
      "    Predict took 0.5564053058624268 seconds\n",
      "    Update_data took 0.08879375457763672 seconds\n",
      "Shape: (120437, 3)\n",
      "Epoch #219\n",
      "Shape of the data: (120437, 3)\n",
      "    Fit took 5.386729717254639 seconds\n"
     ]
    },
    {
     "name": "stderr",
     "output_type": "stream",
     "text": [
      "\r",
      " 55%|█████▌    | 220/400 [19:35<17:35,  5.86s/it]"
     ]
    },
    {
     "name": "stdout",
     "output_type": "stream",
     "text": [
      "    Predict took 0.5639257431030273 seconds\n",
      "    Update_data took 0.08417797088623047 seconds\n",
      "Shape: (120557, 3)\n",
      "Epoch #220\n",
      "Shape of the data: (120557, 3)\n",
      "    Fit took 5.129405498504639 seconds\n"
     ]
    },
    {
     "name": "stderr",
     "output_type": "stream",
     "text": [
      "\r",
      " 55%|█████▌    | 221/400 [19:41<17:24,  5.83s/it]"
     ]
    },
    {
     "name": "stdout",
     "output_type": "stream",
     "text": [
      "    Predict took 0.5463054180145264 seconds\n",
      "    Update_data took 0.08458328247070312 seconds\n",
      "Shape: (120677, 3)\n",
      "Epoch #221\n",
      "Shape of the data: (120677, 3)\n",
      "    Fit took 5.132115602493286 seconds\n"
     ]
    },
    {
     "name": "stderr",
     "output_type": "stream",
     "text": [
      "\r",
      " 56%|█████▌    | 222/400 [19:47<17:19,  5.84s/it]"
     ]
    },
    {
     "name": "stdout",
     "output_type": "stream",
     "text": [
      "    Predict took 0.553978681564331 seconds\n",
      "    Update_data took 0.1673719882965088 seconds\n",
      "Shape: (120797, 3)\n",
      "Epoch #222\n",
      "Shape of the data: (120797, 3)\n",
      "    Fit took 5.154447793960571 seconds\n"
     ]
    },
    {
     "name": "stderr",
     "output_type": "stream",
     "text": [
      "\r",
      " 56%|█████▌    | 223/400 [19:53<17:11,  5.83s/it]"
     ]
    },
    {
     "name": "stdout",
     "output_type": "stream",
     "text": [
      "    Predict took 0.5548982620239258 seconds\n",
      "    Update_data took 0.08568096160888672 seconds\n",
      "Shape: (120917, 3)\n",
      "Epoch #223\n",
      "Shape of the data: (120917, 3)\n",
      "    Fit took 5.14828634262085 seconds\n"
     ]
    },
    {
     "name": "stderr",
     "output_type": "stream",
     "text": [
      "\r",
      " 56%|█████▌    | 224/400 [19:58<17:03,  5.82s/it]"
     ]
    },
    {
     "name": "stdout",
     "output_type": "stream",
     "text": [
      "    Predict took 0.5558795928955078 seconds\n",
      "    Update_data took 0.08363461494445801 seconds\n",
      "Shape: (121037, 3)\n",
      "Epoch #224\n",
      "Shape of the data: (121037, 3)\n",
      "    Fit took 5.130349159240723 seconds\n"
     ]
    },
    {
     "name": "stderr",
     "output_type": "stream",
     "text": [
      "\r",
      " 56%|█████▋    | 225/400 [20:04<16:55,  5.80s/it]"
     ]
    },
    {
     "name": "stdout",
     "output_type": "stream",
     "text": [
      "    Predict took 0.559117317199707 seconds\n",
      "    Update_data took 0.08572793006896973 seconds\n",
      "Shape: (121157, 3)\n",
      "Epoch #225\n",
      "Shape of the data: (121157, 3)\n",
      "    Fit took 5.211590766906738 seconds\n"
     ]
    },
    {
     "name": "stderr",
     "output_type": "stream",
     "text": [
      "\r",
      " 56%|█████▋    | 226/400 [20:10<16:52,  5.82s/it]"
     ]
    },
    {
     "name": "stdout",
     "output_type": "stream",
     "text": [
      "    Predict took 0.5414559841156006 seconds\n",
      "    Update_data took 0.09077119827270508 seconds\n",
      "Shape: (121277, 3)\n",
      "Epoch #226\n",
      "Shape of the data: (121277, 3)\n",
      "    Fit took 5.3195860385894775 seconds\n"
     ]
    },
    {
     "name": "stderr",
     "output_type": "stream",
     "text": [
      "\r",
      " 57%|█████▋    | 227/400 [20:16<16:53,  5.86s/it]"
     ]
    },
    {
     "name": "stdout",
     "output_type": "stream",
     "text": [
      "    Predict took 0.5436327457427979 seconds\n",
      "    Update_data took 0.09053492546081543 seconds\n",
      "Shape: (121397, 3)\n",
      "Epoch #227\n",
      "Shape of the data: (121397, 3)\n",
      "    Fit took 5.18378758430481 seconds\n"
     ]
    },
    {
     "name": "stderr",
     "output_type": "stream",
     "text": [
      "\r",
      " 57%|█████▋    | 228/400 [20:22<16:46,  5.85s/it]"
     ]
    },
    {
     "name": "stdout",
     "output_type": "stream",
     "text": [
      "    Predict took 0.5545468330383301 seconds\n",
      "    Update_data took 0.0865483283996582 seconds\n",
      "Shape: (121517, 3)\n",
      "Epoch #228\n",
      "Shape of the data: (121517, 3)\n",
      "    Fit took 5.199575901031494 seconds\n"
     ]
    },
    {
     "name": "stderr",
     "output_type": "stream",
     "text": [
      "\r",
      " 57%|█████▋    | 229/400 [20:28<16:39,  5.85s/it]"
     ]
    },
    {
     "name": "stdout",
     "output_type": "stream",
     "text": [
      "    Predict took 0.5475773811340332 seconds\n",
      "    Update_data took 0.0859220027923584 seconds\n",
      "Shape: (121637, 3)\n",
      "Epoch #229\n",
      "Shape of the data: (121637, 3)\n",
      "    Fit took 5.156346082687378 seconds\n"
     ]
    },
    {
     "name": "stderr",
     "output_type": "stream",
     "text": [
      "\r",
      " 57%|█████▊    | 230/400 [20:33<16:31,  5.83s/it]"
     ]
    },
    {
     "name": "stdout",
     "output_type": "stream",
     "text": [
      "    Predict took 0.5525381565093994 seconds\n",
      "    Update_data took 0.08447647094726562 seconds\n",
      "Shape: (121757, 3)\n",
      "Epoch #230\n",
      "Shape of the data: (121757, 3)\n",
      "    Fit took 5.189593315124512 seconds\n"
     ]
    },
    {
     "name": "stderr",
     "output_type": "stream",
     "text": [
      "\r",
      " 58%|█████▊    | 231/400 [20:39<16:25,  5.83s/it]"
     ]
    },
    {
     "name": "stdout",
     "output_type": "stream",
     "text": [
      "    Predict took 0.5550148487091064 seconds\n",
      "    Update_data took 0.08758354187011719 seconds\n",
      "Shape: (121877, 3)\n",
      "Epoch #231\n",
      "Shape of the data: (121877, 3)\n",
      "    Fit took 5.288700342178345 seconds\n"
     ]
    },
    {
     "name": "stderr",
     "output_type": "stream",
     "text": [
      "\r",
      " 58%|█████▊    | 232/400 [20:45<16:24,  5.86s/it]"
     ]
    },
    {
     "name": "stdout",
     "output_type": "stream",
     "text": [
      "    Predict took 0.4637284278869629 seconds\n",
      "    Update_data took 0.1703321933746338 seconds\n",
      "Shape: (121997, 3)\n",
      "Epoch #232\n",
      "Shape of the data: (121997, 3)\n",
      "    Fit took 5.189903259277344 seconds\n"
     ]
    },
    {
     "name": "stderr",
     "output_type": "stream",
     "text": [
      "\r",
      " 58%|█████▊    | 233/400 [20:51<16:17,  5.85s/it]"
     ]
    },
    {
     "name": "stdout",
     "output_type": "stream",
     "text": [
      "    Predict took 0.5486602783203125 seconds\n",
      "    Update_data took 0.08813047409057617 seconds\n",
      "Shape: (122117, 3)\n",
      "Epoch #233\n",
      "Shape of the data: (122117, 3)\n",
      "    Fit took 5.232122182846069 seconds\n"
     ]
    },
    {
     "name": "stderr",
     "output_type": "stream",
     "text": [
      "\r",
      " 58%|█████▊    | 234/400 [20:57<16:12,  5.86s/it]"
     ]
    },
    {
     "name": "stdout",
     "output_type": "stream",
     "text": [
      "    Predict took 0.5494728088378906 seconds\n",
      "    Update_data took 0.08577489852905273 seconds\n",
      "Shape: (122237, 3)\n",
      "Epoch #234\n",
      "Shape of the data: (122237, 3)\n",
      "    Fit took 5.223073720932007 seconds\n"
     ]
    },
    {
     "name": "stderr",
     "output_type": "stream",
     "text": [
      "\r",
      " 59%|█████▉    | 235/400 [21:03<16:06,  5.86s/it]"
     ]
    },
    {
     "name": "stdout",
     "output_type": "stream",
     "text": [
      "    Predict took 0.554532527923584 seconds\n",
      "    Update_data took 0.08572697639465332 seconds\n",
      "Shape: (122357, 3)\n",
      "Epoch #235\n",
      "Shape of the data: (122357, 3)\n",
      "    Fit took 5.1974403858184814 seconds\n"
     ]
    },
    {
     "name": "stderr",
     "output_type": "stream",
     "text": [
      "\r",
      " 59%|█████▉    | 236/400 [21:09<15:59,  5.85s/it]"
     ]
    },
    {
     "name": "stdout",
     "output_type": "stream",
     "text": [
      "    Predict took 0.5490894317626953 seconds\n",
      "    Update_data took 0.08742928504943848 seconds\n",
      "Shape: (122477, 3)\n",
      "Epoch #236\n",
      "Shape of the data: (122477, 3)\n",
      "    Fit took 5.27736759185791 seconds\n"
     ]
    },
    {
     "name": "stderr",
     "output_type": "stream",
     "text": [
      "\r",
      " 59%|█████▉    | 237/400 [21:14<15:56,  5.87s/it]"
     ]
    },
    {
     "name": "stdout",
     "output_type": "stream",
     "text": [
      "    Predict took 0.5440661907196045 seconds\n",
      "    Update_data took 0.08669686317443848 seconds\n",
      "Shape: (122597, 3)\n",
      "Epoch #237\n",
      "Shape of the data: (122597, 3)\n",
      "    Fit took 5.224836826324463 seconds\n"
     ]
    },
    {
     "name": "stderr",
     "output_type": "stream",
     "text": [
      "\r",
      " 60%|█████▉    | 238/400 [21:20<15:50,  5.87s/it]"
     ]
    },
    {
     "name": "stdout",
     "output_type": "stream",
     "text": [
      "    Predict took 0.5525913238525391 seconds\n",
      "    Update_data took 0.08502435684204102 seconds\n",
      "Shape: (122717, 3)\n",
      "Epoch #238\n",
      "Shape of the data: (122717, 3)\n",
      "    Fit took 5.226760149002075 seconds\n"
     ]
    },
    {
     "name": "stderr",
     "output_type": "stream",
     "text": [
      "\r",
      " 60%|█████▉    | 239/400 [21:26<15:44,  5.87s/it]"
     ]
    },
    {
     "name": "stdout",
     "output_type": "stream",
     "text": [
      "    Predict took 0.5498201847076416 seconds\n",
      "    Update_data took 0.08537507057189941 seconds\n",
      "Shape: (122837, 3)\n",
      "Epoch #239\n",
      "Shape of the data: (122837, 3)\n",
      "    Fit took 5.312453031539917 seconds\n"
     ]
    },
    {
     "name": "stderr",
     "output_type": "stream",
     "text": [
      "\r",
      " 60%|██████    | 240/400 [21:32<15:42,  5.89s/it]"
     ]
    },
    {
     "name": "stdout",
     "output_type": "stream",
     "text": [
      "    Predict took 0.4699513912200928 seconds\n",
      "    Update_data took 0.16962981224060059 seconds\n",
      "Shape: (122957, 3)\n",
      "Epoch #240\n",
      "Shape of the data: (122957, 3)\n",
      "    Fit took 5.315397500991821 seconds\n"
     ]
    },
    {
     "name": "stderr",
     "output_type": "stream",
     "text": [
      "\r",
      " 60%|██████    | 241/400 [21:38<15:40,  5.92s/it]"
     ]
    },
    {
     "name": "stdout",
     "output_type": "stream",
     "text": [
      "    Predict took 0.5585978031158447 seconds\n",
      "    Update_data took 0.09264636039733887 seconds\n",
      "Shape: (123077, 3)\n",
      "Epoch #241\n",
      "Shape of the data: (123077, 3)\n",
      "    Fit took 5.28209114074707 seconds\n"
     ]
    },
    {
     "name": "stderr",
     "output_type": "stream",
     "text": [
      "\r",
      " 60%|██████    | 242/400 [21:44<15:34,  5.92s/it]"
     ]
    },
    {
     "name": "stdout",
     "output_type": "stream",
     "text": [
      "    Predict took 0.543879508972168 seconds\n",
      "    Update_data took 0.09105610847473145 seconds\n",
      "Shape: (123197, 3)\n",
      "Epoch #242\n",
      "Shape of the data: (123197, 3)\n",
      "    Fit took 5.3469438552856445 seconds\n"
     ]
    },
    {
     "name": "stderr",
     "output_type": "stream",
     "text": [
      "\r",
      " 61%|██████    | 243/400 [21:50<15:32,  5.94s/it]"
     ]
    },
    {
     "name": "stdout",
     "output_type": "stream",
     "text": [
      "    Predict took 0.5426442623138428 seconds\n",
      "    Update_data took 0.08922719955444336 seconds\n",
      "Shape: (123317, 3)\n",
      "Epoch #243\n",
      "Shape of the data: (123317, 3)\n",
      "    Fit took 5.294594049453735 seconds\n"
     ]
    },
    {
     "name": "stderr",
     "output_type": "stream",
     "text": [
      "\r",
      " 61%|██████    | 244/400 [21:56<15:26,  5.94s/it]"
     ]
    },
    {
     "name": "stdout",
     "output_type": "stream",
     "text": [
      "    Predict took 0.5485341548919678 seconds\n",
      "    Update_data took 0.08990168571472168 seconds\n",
      "Shape: (123437, 3)\n",
      "Epoch #244\n",
      "Shape of the data: (123437, 3)\n",
      "    Fit took 5.323895215988159 seconds\n"
     ]
    },
    {
     "name": "stderr",
     "output_type": "stream",
     "text": [
      "\r",
      " 61%|██████▏   | 245/400 [22:02<15:21,  5.94s/it]"
     ]
    },
    {
     "name": "stdout",
     "output_type": "stream",
     "text": [
      "    Predict took 0.5465514659881592 seconds\n",
      "    Update_data took 0.08953237533569336 seconds\n",
      "Shape: (123557, 3)\n",
      "Epoch #245\n",
      "Shape of the data: (123557, 3)\n",
      "    Fit took 5.2756335735321045 seconds\n"
     ]
    },
    {
     "name": "stderr",
     "output_type": "stream",
     "text": [
      "\r",
      " 62%|██████▏   | 246/400 [22:08<15:13,  5.93s/it]"
     ]
    },
    {
     "name": "stdout",
     "output_type": "stream",
     "text": [
      "    Predict took 0.5430755615234375 seconds\n",
      "    Update_data took 0.08748435974121094 seconds\n",
      "Shape: (123677, 3)\n",
      "Epoch #246\n",
      "Shape of the data: (123677, 3)\n",
      "    Fit took 5.386965751647949 seconds\n"
     ]
    },
    {
     "name": "stderr",
     "output_type": "stream",
     "text": [
      "\r",
      " 62%|██████▏   | 247/400 [22:14<15:11,  5.96s/it]"
     ]
    },
    {
     "name": "stdout",
     "output_type": "stream",
     "text": [
      "    Predict took 0.5480258464813232 seconds\n",
      "    Update_data took 0.0865943431854248 seconds\n",
      "Shape: (123797, 3)\n",
      "Epoch #247\n",
      "Shape of the data: (123797, 3)\n",
      "    Fit took 5.263099193572998 seconds\n"
     ]
    },
    {
     "name": "stderr",
     "output_type": "stream",
     "text": [
      "\r",
      " 62%|██████▏   | 248/400 [22:20<15:03,  5.94s/it]"
     ]
    },
    {
     "name": "stdout",
     "output_type": "stream",
     "text": [
      "    Predict took 0.5510122776031494 seconds\n",
      "    Update_data took 0.08684945106506348 seconds\n",
      "Shape: (123917, 3)\n",
      "Epoch #248\n",
      "Shape of the data: (123917, 3)\n",
      "    Fit took 5.24554181098938 seconds\n"
     ]
    },
    {
     "name": "stderr",
     "output_type": "stream",
     "text": [
      "\r",
      " 62%|██████▏   | 249/400 [22:26<14:54,  5.92s/it]"
     ]
    },
    {
     "name": "stdout",
     "output_type": "stream",
     "text": [
      "    Predict took 0.5412187576293945 seconds\n",
      "    Update_data took 0.08625960350036621 seconds\n",
      "Shape: (124037, 3)\n",
      "Epoch #249\n",
      "Shape of the data: (124037, 3)\n",
      "    Fit took 5.29981541633606 seconds\n"
     ]
    },
    {
     "name": "stderr",
     "output_type": "stream",
     "text": [
      "\r",
      " 62%|██████▎   | 250/400 [22:32<14:48,  5.92s/it]"
     ]
    },
    {
     "name": "stdout",
     "output_type": "stream",
     "text": [
      "    Predict took 0.5355846881866455 seconds\n",
      "    Update_data took 0.08684134483337402 seconds\n",
      "Shape: (124157, 3)\n",
      "Epoch #250\n",
      "Shape of the data: (124157, 3)\n",
      "    Fit took 5.304519891738892 seconds\n"
     ]
    },
    {
     "name": "stderr",
     "output_type": "stream",
     "text": [
      "\r",
      " 63%|██████▎   | 251/400 [22:37<14:43,  5.93s/it]"
     ]
    },
    {
     "name": "stdout",
     "output_type": "stream",
     "text": [
      "    Predict took 0.5391178131103516 seconds\n",
      "    Update_data took 0.0867912769317627 seconds\n",
      "Shape: (124277, 3)\n",
      "Epoch #251\n",
      "Shape of the data: (124277, 3)\n",
      "    Fit took 5.283205986022949 seconds\n"
     ]
    },
    {
     "name": "stderr",
     "output_type": "stream",
     "text": [
      "\r",
      " 63%|██████▎   | 252/400 [22:43<14:36,  5.92s/it]"
     ]
    },
    {
     "name": "stdout",
     "output_type": "stream",
     "text": [
      "    Predict took 0.544480562210083 seconds\n",
      "    Update_data took 0.09084367752075195 seconds\n",
      "Shape: (124397, 3)\n",
      "Epoch #252\n",
      "Shape of the data: (124397, 3)\n",
      "    Fit took 5.310518026351929 seconds\n"
     ]
    },
    {
     "name": "stderr",
     "output_type": "stream",
     "text": [
      "\r",
      " 63%|██████▎   | 253/400 [22:49<14:31,  5.93s/it]"
     ]
    },
    {
     "name": "stdout",
     "output_type": "stream",
     "text": [
      "    Predict took 0.5457806587219238 seconds\n",
      "    Update_data took 0.08672165870666504 seconds\n",
      "Shape: (124517, 3)\n",
      "Epoch #253\n",
      "Shape of the data: (124517, 3)\n",
      "    Fit took 5.277461528778076 seconds\n"
     ]
    },
    {
     "name": "stderr",
     "output_type": "stream",
     "text": [
      "\r",
      " 64%|██████▎   | 254/400 [22:55<14:25,  5.93s/it]"
     ]
    },
    {
     "name": "stdout",
     "output_type": "stream",
     "text": [
      "    Predict took 0.5496697425842285 seconds\n",
      "    Update_data took 0.09043574333190918 seconds\n",
      "Shape: (124637, 3)\n",
      "Epoch #254\n",
      "Shape of the data: (124637, 3)\n",
      "    Fit took 5.314032554626465 seconds\n"
     ]
    },
    {
     "name": "stderr",
     "output_type": "stream",
     "text": [
      "\r",
      " 64%|██████▍   | 255/400 [23:01<14:19,  5.93s/it]"
     ]
    },
    {
     "name": "stdout",
     "output_type": "stream",
     "text": [
      "    Predict took 0.5343711376190186 seconds\n",
      "    Update_data took 0.08705949783325195 seconds\n",
      "Shape: (124757, 3)\n",
      "Epoch #255\n",
      "Shape of the data: (124757, 3)\n",
      "    Fit took 5.357746601104736 seconds\n"
     ]
    },
    {
     "name": "stderr",
     "output_type": "stream",
     "text": [
      "\r",
      " 64%|██████▍   | 256/400 [23:07<14:16,  5.95s/it]"
     ]
    },
    {
     "name": "stdout",
     "output_type": "stream",
     "text": [
      "    Predict took 0.5326335430145264 seconds\n",
      "    Update_data took 0.08821368217468262 seconds\n",
      "Shape: (124877, 3)\n",
      "Epoch #256\n",
      "Shape of the data: (124877, 3)\n",
      "    Fit took 5.336685419082642 seconds\n"
     ]
    },
    {
     "name": "stderr",
     "output_type": "stream",
     "text": [
      "\r",
      " 64%|██████▍   | 257/400 [23:13<14:10,  5.95s/it]"
     ]
    },
    {
     "name": "stdout",
     "output_type": "stream",
     "text": [
      "    Predict took 0.5275030136108398 seconds\n",
      "    Update_data took 0.08779263496398926 seconds\n",
      "Shape: (124997, 3)\n",
      "Epoch #257\n",
      "Shape of the data: (124997, 3)\n",
      "    Fit took 5.292198657989502 seconds\n"
     ]
    },
    {
     "name": "stderr",
     "output_type": "stream",
     "text": [
      "\r",
      " 64%|██████▍   | 258/400 [23:19<14:03,  5.94s/it]"
     ]
    },
    {
     "name": "stdout",
     "output_type": "stream",
     "text": [
      "    Predict took 0.5386202335357666 seconds\n",
      "    Update_data took 0.08658266067504883 seconds\n",
      "Shape: (125117, 3)\n",
      "Epoch #258\n",
      "Shape of the data: (125117, 3)\n",
      "    Fit took 5.31855034828186 seconds\n"
     ]
    },
    {
     "name": "stderr",
     "output_type": "stream",
     "text": [
      "\r",
      " 65%|██████▍   | 259/400 [23:25<13:58,  5.94s/it]"
     ]
    },
    {
     "name": "stdout",
     "output_type": "stream",
     "text": [
      "    Predict took 0.544635534286499 seconds\n",
      "    Update_data took 0.08796119689941406 seconds\n",
      "Shape: (125237, 3)\n",
      "Epoch #259\n",
      "Shape of the data: (125237, 3)\n",
      "    Fit took 5.357122182846069 seconds\n"
     ]
    },
    {
     "name": "stderr",
     "output_type": "stream",
     "text": [
      "\r",
      " 65%|██████▌   | 260/400 [23:31<13:54,  5.96s/it]"
     ]
    },
    {
     "name": "stdout",
     "output_type": "stream",
     "text": [
      "    Predict took 0.5467827320098877 seconds\n",
      "    Update_data took 0.08746957778930664 seconds\n",
      "Shape: (125357, 3)\n",
      "Epoch #260\n",
      "Shape of the data: (125357, 3)\n",
      "    Fit took 5.373565673828125 seconds\n"
     ]
    },
    {
     "name": "stderr",
     "output_type": "stream",
     "text": [
      "\r",
      " 65%|██████▌   | 261/400 [23:37<13:49,  5.97s/it]"
     ]
    },
    {
     "name": "stdout",
     "output_type": "stream",
     "text": [
      "    Predict took 0.5303499698638916 seconds\n",
      "    Update_data took 0.09218239784240723 seconds\n",
      "Shape: (125477, 3)\n",
      "Epoch #261\n",
      "Shape of the data: (125477, 3)\n",
      "    Fit took 5.397522449493408 seconds\n"
     ]
    },
    {
     "name": "stderr",
     "output_type": "stream",
     "text": [
      "\r",
      " 66%|██████▌   | 262/400 [23:43<13:46,  5.99s/it]"
     ]
    },
    {
     "name": "stdout",
     "output_type": "stream",
     "text": [
      "    Predict took 0.5351781845092773 seconds\n",
      "    Update_data took 0.09098505973815918 seconds\n",
      "Shape: (125597, 3)\n",
      "Epoch #262\n",
      "Shape of the data: (125597, 3)\n",
      "    Fit took 5.463966608047485 seconds\n"
     ]
    },
    {
     "name": "stderr",
     "output_type": "stream",
     "text": [
      "\r",
      " 66%|██████▌   | 263/400 [23:49<13:44,  6.02s/it]"
     ]
    },
    {
     "name": "stdout",
     "output_type": "stream",
     "text": [
      "    Predict took 0.4443085193634033 seconds\n",
      "    Update_data took 0.17185235023498535 seconds\n",
      "Shape: (125717, 3)\n",
      "Epoch #263\n",
      "Shape of the data: (125717, 3)\n",
      "    Fit took 5.389548063278198 seconds\n"
     ]
    },
    {
     "name": "stderr",
     "output_type": "stream",
     "text": [
      "\r",
      " 66%|██████▌   | 264/400 [23:55<13:38,  6.02s/it]"
     ]
    },
    {
     "name": "stdout",
     "output_type": "stream",
     "text": [
      "    Predict took 0.5370419025421143 seconds\n",
      "    Update_data took 0.0939481258392334 seconds\n",
      "Shape: (125837, 3)\n",
      "Epoch #264\n",
      "Shape of the data: (125837, 3)\n",
      "    Fit took 5.476180791854858 seconds\n"
     ]
    },
    {
     "name": "stderr",
     "output_type": "stream",
     "text": [
      "\r",
      " 66%|██████▋   | 265/400 [24:01<13:35,  6.04s/it]"
     ]
    },
    {
     "name": "stdout",
     "output_type": "stream",
     "text": [
      "    Predict took 0.5261979103088379 seconds\n",
      "    Update_data took 0.09444427490234375 seconds\n",
      "Shape: (125957, 3)\n",
      "Epoch #265\n",
      "Shape of the data: (125957, 3)\n",
      "    Fit took 5.444122791290283 seconds\n"
     ]
    },
    {
     "name": "stderr",
     "output_type": "stream",
     "text": [
      "\r",
      " 66%|██████▋   | 266/400 [24:07<13:30,  6.05s/it]"
     ]
    },
    {
     "name": "stdout",
     "output_type": "stream",
     "text": [
      "    Predict took 0.5324647426605225 seconds\n",
      "    Update_data took 0.09229063987731934 seconds\n",
      "Shape: (126077, 3)\n",
      "Epoch #266\n",
      "Shape of the data: (126077, 3)\n",
      "    Fit took 5.469969034194946 seconds\n"
     ]
    },
    {
     "name": "stderr",
     "output_type": "stream",
     "text": [
      "\r",
      " 67%|██████▋   | 267/400 [24:13<13:26,  6.06s/it]"
     ]
    },
    {
     "name": "stdout",
     "output_type": "stream",
     "text": [
      "    Predict took 0.5250794887542725 seconds\n",
      "    Update_data took 0.09357476234436035 seconds\n",
      "Shape: (126197, 3)\n",
      "Epoch #267\n",
      "Shape of the data: (126197, 3)\n",
      "    Fit took 5.405534267425537 seconds\n"
     ]
    },
    {
     "name": "stderr",
     "output_type": "stream",
     "text": [
      "\r",
      " 67%|██████▋   | 268/400 [24:19<13:18,  6.05s/it]"
     ]
    },
    {
     "name": "stdout",
     "output_type": "stream",
     "text": [
      "    Predict took 0.4407527446746826 seconds\n",
      "    Update_data took 0.17120051383972168 seconds\n",
      "Shape: (126317, 3)\n",
      "Epoch #268\n",
      "Shape of the data: (126317, 3)\n",
      "    Fit took 5.360389232635498 seconds\n"
     ]
    },
    {
     "name": "stderr",
     "output_type": "stream",
     "text": [
      "\r",
      " 67%|██████▋   | 269/400 [24:25<13:09,  6.02s/it]"
     ]
    },
    {
     "name": "stdout",
     "output_type": "stream",
     "text": [
      "    Predict took 0.5033514499664307 seconds\n",
      "    Update_data took 0.09880471229553223 seconds\n",
      "Shape: (126437, 3)\n",
      "Epoch #269\n",
      "Shape of the data: (126437, 3)\n",
      "    Fit took 5.410062551498413 seconds\n"
     ]
    },
    {
     "name": "stderr",
     "output_type": "stream",
     "text": [
      "\r",
      " 68%|██████▊   | 270/400 [24:31<13:02,  6.02s/it]"
     ]
    },
    {
     "name": "stdout",
     "output_type": "stream",
     "text": [
      "    Predict took 0.43140697479248047 seconds\n",
      "    Update_data took 0.17093205451965332 seconds\n",
      "Shape: (126557, 3)\n",
      "Epoch #270\n",
      "Shape of the data: (126557, 3)\n",
      "    Fit took 5.396958589553833 seconds\n"
     ]
    },
    {
     "name": "stderr",
     "output_type": "stream",
     "text": [
      "\r",
      " 68%|██████▊   | 271/400 [24:37<12:56,  6.02s/it]"
     ]
    },
    {
     "name": "stdout",
     "output_type": "stream",
     "text": [
      "    Predict took 0.4297146797180176 seconds\n",
      "    Update_data took 0.17278003692626953 seconds\n",
      "Shape: (126677, 3)\n",
      "Epoch #271\n",
      "Shape of the data: (126677, 3)\n",
      "    Fit took 5.441835880279541 seconds\n"
     ]
    },
    {
     "name": "stderr",
     "output_type": "stream",
     "text": [
      "\r",
      " 68%|██████▊   | 272/400 [24:43<12:51,  6.03s/it]"
     ]
    },
    {
     "name": "stdout",
     "output_type": "stream",
     "text": [
      "    Predict took 0.5239429473876953 seconds\n",
      "    Update_data took 0.09400653839111328 seconds\n",
      "Shape: (126797, 3)\n",
      "Epoch #272\n",
      "Shape of the data: (126797, 3)\n",
      "    Fit took 5.477942943572998 seconds\n"
     ]
    },
    {
     "name": "stderr",
     "output_type": "stream",
     "text": [
      "\r",
      " 68%|██████▊   | 273/400 [24:50<12:48,  6.05s/it]"
     ]
    },
    {
     "name": "stdout",
     "output_type": "stream",
     "text": [
      "    Predict took 0.514610767364502 seconds\n",
      "    Update_data took 0.0945584774017334 seconds\n",
      "Shape: (126917, 3)\n",
      "Epoch #273\n",
      "Shape of the data: (126917, 3)\n",
      "    Fit took 5.4241907596588135 seconds\n"
     ]
    },
    {
     "name": "stderr",
     "output_type": "stream",
     "text": [
      "\r",
      " 68%|██████▊   | 274/400 [24:56<12:41,  6.04s/it]"
     ]
    },
    {
     "name": "stdout",
     "output_type": "stream",
     "text": [
      "    Predict took 0.43094611167907715 seconds\n",
      "    Update_data took 0.1724388599395752 seconds\n",
      "Shape: (127037, 3)\n",
      "Epoch #274\n",
      "Shape of the data: (127037, 3)\n",
      "    Fit took 5.413586854934692 seconds\n"
     ]
    },
    {
     "name": "stderr",
     "output_type": "stream",
     "text": [
      "\r",
      " 69%|██████▉   | 275/400 [25:02<12:34,  6.03s/it]"
     ]
    },
    {
     "name": "stdout",
     "output_type": "stream",
     "text": [
      "    Predict took 0.42635512351989746 seconds\n",
      "    Update_data took 0.17173099517822266 seconds\n",
      "Shape: (127157, 3)\n",
      "Epoch #275\n",
      "Shape of the data: (127157, 3)\n",
      "    Fit took 5.404971361160278 seconds\n"
     ]
    },
    {
     "name": "stderr",
     "output_type": "stream",
     "text": [
      "\r",
      " 69%|██████▉   | 276/400 [25:08<12:27,  6.02s/it]"
     ]
    },
    {
     "name": "stdout",
     "output_type": "stream",
     "text": [
      "    Predict took 0.4246072769165039 seconds\n",
      "    Update_data took 0.1716623306274414 seconds\n",
      "Shape: (127277, 3)\n",
      "Epoch #276\n",
      "Shape of the data: (127277, 3)\n",
      "    Fit took 5.494061470031738 seconds\n"
     ]
    },
    {
     "name": "stderr",
     "output_type": "stream",
     "text": [
      "\r",
      " 69%|██████▉   | 277/400 [25:14<12:24,  6.05s/it]"
     ]
    },
    {
     "name": "stdout",
     "output_type": "stream",
     "text": [
      "    Predict took 0.43561387062072754 seconds\n",
      "    Update_data took 0.17360305786132812 seconds\n",
      "Shape: (127397, 3)\n",
      "Epoch #277\n",
      "Shape of the data: (127397, 3)\n",
      "    Fit took 5.493000745773315 seconds\n"
     ]
    },
    {
     "name": "stderr",
     "output_type": "stream",
     "text": [
      "\r",
      " 70%|██████▉   | 278/400 [25:20<12:19,  6.06s/it]"
     ]
    },
    {
     "name": "stdout",
     "output_type": "stream",
     "text": [
      "    Predict took 0.4261765480041504 seconds\n",
      "    Update_data took 0.1752185821533203 seconds\n",
      "Shape: (127517, 3)\n",
      "Epoch #278\n",
      "Shape of the data: (127517, 3)\n",
      "    Fit took 5.513104200363159 seconds\n"
     ]
    },
    {
     "name": "stderr",
     "output_type": "stream",
     "text": [
      "\r",
      " 70%|██████▉   | 279/400 [25:26<12:17,  6.09s/it]"
     ]
    },
    {
     "name": "stdout",
     "output_type": "stream",
     "text": [
      "    Predict took 0.4612722396850586 seconds\n",
      "    Update_data took 0.1781151294708252 seconds\n",
      "Shape: (127637, 3)\n",
      "Epoch #279\n",
      "Shape of the data: (127637, 3)\n",
      "    Fit took 5.472448110580444 seconds\n"
     ]
    },
    {
     "name": "stderr",
     "output_type": "stream",
     "text": [
      "\r",
      " 70%|███████   | 280/400 [25:32<12:10,  6.09s/it]"
     ]
    },
    {
     "name": "stdout",
     "output_type": "stream",
     "text": [
      "    Predict took 0.4366886615753174 seconds\n",
      "    Update_data took 0.17313098907470703 seconds\n",
      "Shape: (127757, 3)\n",
      "Epoch #280\n",
      "Shape of the data: (127757, 3)\n",
      "    Fit took 5.551278114318848 seconds\n"
     ]
    },
    {
     "name": "stderr",
     "output_type": "stream",
     "text": [
      "\r",
      " 70%|███████   | 281/400 [25:38<12:07,  6.11s/it]"
     ]
    },
    {
     "name": "stdout",
     "output_type": "stream",
     "text": [
      "    Predict took 0.43245387077331543 seconds\n",
      "    Update_data took 0.17473268508911133 seconds\n",
      "Shape: (127877, 3)\n",
      "Epoch #281\n",
      "Shape of the data: (127877, 3)\n",
      "    Fit took 5.50781512260437 seconds\n"
     ]
    },
    {
     "name": "stderr",
     "output_type": "stream",
     "text": [
      "\r",
      " 70%|███████   | 282/400 [25:44<12:01,  6.11s/it]"
     ]
    },
    {
     "name": "stdout",
     "output_type": "stream",
     "text": [
      "    Predict took 0.5063111782073975 seconds\n",
      "    Update_data took 0.09960579872131348 seconds\n",
      "Shape: (127997, 3)\n",
      "Epoch #282\n",
      "Shape of the data: (127997, 3)\n",
      "    Fit took 5.544638156890869 seconds\n"
     ]
    },
    {
     "name": "stderr",
     "output_type": "stream",
     "text": [
      "\r",
      " 71%|███████   | 283/400 [25:50<11:56,  6.12s/it]"
     ]
    },
    {
     "name": "stdout",
     "output_type": "stream",
     "text": [
      "    Predict took 0.4289112091064453 seconds\n",
      "    Update_data took 0.1750164031982422 seconds\n",
      "Shape: (128117, 3)\n",
      "Epoch #283\n",
      "Shape of the data: (128117, 3)\n",
      "    Fit took 5.556938409805298 seconds\n"
     ]
    },
    {
     "name": "stderr",
     "output_type": "stream",
     "text": [
      "\r",
      " 71%|███████   | 284/400 [25:57<11:51,  6.14s/it]"
     ]
    },
    {
     "name": "stdout",
     "output_type": "stream",
     "text": [
      "    Predict took 0.43135929107666016 seconds\n",
      "    Update_data took 0.175889253616333 seconds\n",
      "Shape: (128237, 3)\n",
      "Epoch #284\n",
      "Shape of the data: (128237, 3)\n",
      "    Fit took 5.5758655071258545 seconds\n"
     ]
    },
    {
     "name": "stderr",
     "output_type": "stream",
     "text": [
      "\r",
      " 71%|███████▏  | 285/400 [26:03<11:47,  6.15s/it]"
     ]
    },
    {
     "name": "stdout",
     "output_type": "stream",
     "text": [
      "    Predict took 0.4198417663574219 seconds\n",
      "    Update_data took 0.1748976707458496 seconds\n",
      "Shape: (128357, 3)\n",
      "Epoch #285\n",
      "Shape of the data: (128357, 3)\n",
      "    Fit took 5.54538893699646 seconds\n"
     ]
    },
    {
     "name": "stderr",
     "output_type": "stream",
     "text": [
      "\r",
      " 72%|███████▏  | 286/400 [26:09<11:40,  6.15s/it]"
     ]
    },
    {
     "name": "stdout",
     "output_type": "stream",
     "text": [
      "    Predict took 0.42881155014038086 seconds\n",
      "    Update_data took 0.17436552047729492 seconds\n",
      "Shape: (128477, 3)\n",
      "Epoch #286\n",
      "Shape of the data: (128477, 3)\n",
      "    Fit took 5.573863506317139 seconds\n"
     ]
    },
    {
     "name": "stderr",
     "output_type": "stream",
     "text": [
      "\r",
      " 72%|███████▏  | 287/400 [26:15<11:35,  6.16s/it]"
     ]
    },
    {
     "name": "stdout",
     "output_type": "stream",
     "text": [
      "    Predict took 0.42275285720825195 seconds\n",
      "    Update_data took 0.17459678649902344 seconds\n",
      "Shape: (128597, 3)\n",
      "Epoch #287\n",
      "Shape of the data: (128597, 3)\n",
      "    Fit took 5.490881681442261 seconds\n"
     ]
    },
    {
     "name": "stderr",
     "output_type": "stream",
     "text": [
      "\r",
      " 72%|███████▏  | 288/400 [26:21<11:27,  6.14s/it]"
     ]
    },
    {
     "name": "stdout",
     "output_type": "stream",
     "text": [
      "    Predict took 0.42305493354797363 seconds\n",
      "    Update_data took 0.1748504638671875 seconds\n",
      "Shape: (128717, 3)\n",
      "Epoch #288\n",
      "Shape of the data: (128717, 3)\n",
      "    Fit took 5.549636125564575 seconds\n"
     ]
    },
    {
     "name": "stderr",
     "output_type": "stream",
     "text": [
      "\r",
      " 72%|███████▏  | 289/400 [26:27<11:22,  6.14s/it]"
     ]
    },
    {
     "name": "stdout",
     "output_type": "stream",
     "text": [
      "    Predict took 0.4324824810028076 seconds\n",
      "    Update_data took 0.17835497856140137 seconds\n",
      "Shape: (128837, 3)\n",
      "Epoch #289\n",
      "Shape of the data: (128837, 3)\n",
      "    Fit took 5.5393853187561035 seconds\n"
     ]
    },
    {
     "name": "stderr",
     "output_type": "stream",
     "text": [
      "\r",
      " 72%|███████▎  | 290/400 [26:34<11:15,  6.14s/it]"
     ]
    },
    {
     "name": "stdout",
     "output_type": "stream",
     "text": [
      "    Predict took 0.41609740257263184 seconds\n",
      "    Update_data took 0.17414617538452148 seconds\n",
      "Shape: (128957, 3)\n",
      "Epoch #290\n",
      "Shape of the data: (128957, 3)\n",
      "    Fit took 5.541225910186768 seconds\n"
     ]
    },
    {
     "name": "stderr",
     "output_type": "stream",
     "text": [
      "\r",
      " 73%|███████▎  | 291/400 [26:40<11:09,  6.14s/it]"
     ]
    },
    {
     "name": "stdout",
     "output_type": "stream",
     "text": [
      "    Predict took 0.4200739860534668 seconds\n",
      "    Update_data took 0.17679333686828613 seconds\n",
      "Shape: (129077, 3)\n",
      "Epoch #291\n",
      "Shape of the data: (129077, 3)\n",
      "    Fit took 5.546319246292114 seconds\n"
     ]
    },
    {
     "name": "stderr",
     "output_type": "stream",
     "text": [
      "\r",
      " 73%|███████▎  | 292/400 [26:46<11:03,  6.14s/it]"
     ]
    },
    {
     "name": "stdout",
     "output_type": "stream",
     "text": [
      "    Predict took 0.41991448402404785 seconds\n",
      "    Update_data took 0.17545533180236816 seconds\n",
      "Shape: (129197, 3)\n",
      "Epoch #292\n",
      "Shape of the data: (129197, 3)\n",
      "    Fit took 5.537292718887329 seconds\n"
     ]
    },
    {
     "name": "stderr",
     "output_type": "stream",
     "text": [
      "\r",
      " 73%|███████▎  | 293/400 [26:52<10:56,  6.14s/it]"
     ]
    },
    {
     "name": "stdout",
     "output_type": "stream",
     "text": [
      "    Predict took 0.41551828384399414 seconds\n",
      "    Update_data took 0.17589950561523438 seconds\n",
      "Shape: (129317, 3)\n",
      "Epoch #293\n",
      "Shape of the data: (129317, 3)\n",
      "    Fit took 5.526567220687866 seconds\n"
     ]
    },
    {
     "name": "stderr",
     "output_type": "stream",
     "text": [
      "\r",
      " 74%|███████▎  | 294/400 [26:58<10:50,  6.13s/it]"
     ]
    },
    {
     "name": "stdout",
     "output_type": "stream",
     "text": [
      "    Predict took 0.41431188583374023 seconds\n",
      "    Update_data took 0.17456555366516113 seconds\n",
      "Shape: (129437, 3)\n",
      "Epoch #294\n",
      "Shape of the data: (129437, 3)\n",
      "    Fit took 5.515903472900391 seconds\n"
     ]
    },
    {
     "name": "stderr",
     "output_type": "stream",
     "text": [
      "\r",
      " 74%|███████▍  | 295/400 [27:04<10:43,  6.12s/it]"
     ]
    },
    {
     "name": "stdout",
     "output_type": "stream",
     "text": [
      "    Predict took 0.41224050521850586 seconds\n",
      "    Update_data took 0.17580342292785645 seconds\n",
      "Shape: (129557, 3)\n",
      "Epoch #295\n",
      "Shape of the data: (129557, 3)\n",
      "    Fit took 5.528032302856445 seconds\n"
     ]
    },
    {
     "name": "stderr",
     "output_type": "stream",
     "text": [
      "\r",
      " 74%|███████▍  | 296/400 [27:10<10:37,  6.13s/it]"
     ]
    },
    {
     "name": "stdout",
     "output_type": "stream",
     "text": [
      "    Predict took 0.4216957092285156 seconds\n",
      "    Update_data took 0.17759108543395996 seconds\n",
      "Shape: (129677, 3)\n",
      "Epoch #296\n",
      "Shape of the data: (129677, 3)\n",
      "    Fit took 5.588287353515625 seconds\n"
     ]
    },
    {
     "name": "stderr",
     "output_type": "stream",
     "text": [
      "\r",
      " 74%|███████▍  | 297/400 [27:16<10:32,  6.14s/it]"
     ]
    },
    {
     "name": "stdout",
     "output_type": "stream",
     "text": [
      "    Predict took 0.41860485076904297 seconds\n",
      "    Update_data took 0.17719411849975586 seconds\n",
      "Shape: (129797, 3)\n",
      "Epoch #297\n",
      "Shape of the data: (129797, 3)\n",
      "    Fit took 5.551853656768799 seconds\n"
     ]
    },
    {
     "name": "stderr",
     "output_type": "stream",
     "text": [
      "\r",
      " 74%|███████▍  | 298/400 [27:23<10:26,  6.14s/it]"
     ]
    },
    {
     "name": "stdout",
     "output_type": "stream",
     "text": [
      "    Predict took 0.4075148105621338 seconds\n",
      "    Update_data took 0.1749117374420166 seconds\n",
      "Shape: (129917, 3)\n",
      "Epoch #298\n",
      "Shape of the data: (129917, 3)\n",
      "    Fit took 5.574518918991089 seconds\n"
     ]
    },
    {
     "name": "stderr",
     "output_type": "stream",
     "text": [
      "\r",
      " 75%|███████▍  | 299/400 [27:29<10:21,  6.15s/it]"
     ]
    },
    {
     "name": "stdout",
     "output_type": "stream",
     "text": [
      "    Predict took 0.4143528938293457 seconds\n",
      "    Update_data took 0.17934274673461914 seconds\n",
      "Shape: (130037, 3)\n",
      "Epoch #299\n",
      "Shape of the data: (130037, 3)\n",
      "    Fit took 5.545936107635498 seconds\n"
     ]
    },
    {
     "name": "stderr",
     "output_type": "stream",
     "text": [
      "\r",
      " 75%|███████▌  | 300/400 [27:35<10:14,  6.15s/it]"
     ]
    },
    {
     "name": "stdout",
     "output_type": "stream",
     "text": [
      "    Predict took 0.4154949188232422 seconds\n",
      "    Update_data took 0.17781877517700195 seconds\n",
      "Shape: (130157, 3)\n",
      "Epoch #300\n",
      "Shape of the data: (130157, 3)\n",
      "    Fit took 5.58807110786438 seconds\n"
     ]
    },
    {
     "name": "stderr",
     "output_type": "stream",
     "text": [
      "\r",
      " 75%|███████▌  | 301/400 [27:41<10:09,  6.16s/it]"
     ]
    },
    {
     "name": "stdout",
     "output_type": "stream",
     "text": [
      "    Predict took 0.40746116638183594 seconds\n",
      "    Update_data took 0.17841291427612305 seconds\n",
      "Shape: (130277, 3)\n",
      "Epoch #301\n",
      "Shape of the data: (130277, 3)\n",
      "    Fit took 5.571588754653931 seconds\n"
     ]
    },
    {
     "name": "stderr",
     "output_type": "stream",
     "text": [
      "\r",
      " 76%|███████▌  | 302/400 [27:47<10:03,  6.16s/it]"
     ]
    },
    {
     "name": "stdout",
     "output_type": "stream",
     "text": [
      "    Predict took 0.41233086585998535 seconds\n",
      "    Update_data took 0.17850279808044434 seconds\n",
      "Shape: (130397, 3)\n",
      "Epoch #302\n",
      "Shape of the data: (130397, 3)\n",
      "    Fit took 5.544531345367432 seconds\n"
     ]
    },
    {
     "name": "stderr",
     "output_type": "stream",
     "text": [
      "\r",
      " 76%|███████▌  | 303/400 [27:53<09:56,  6.15s/it]"
     ]
    },
    {
     "name": "stdout",
     "output_type": "stream",
     "text": [
      "    Predict took 0.4108421802520752 seconds\n",
      "    Update_data took 0.17632412910461426 seconds\n",
      "Shape: (130517, 3)\n",
      "Epoch #303\n",
      "Shape of the data: (130517, 3)\n",
      "    Fit took 5.600449800491333 seconds\n"
     ]
    },
    {
     "name": "stderr",
     "output_type": "stream",
     "text": [
      "\r",
      " 76%|███████▌  | 304/400 [28:00<09:51,  6.16s/it]"
     ]
    },
    {
     "name": "stdout",
     "output_type": "stream",
     "text": [
      "    Predict took 0.4157266616821289 seconds\n",
      "    Update_data took 0.17627167701721191 seconds\n",
      "Shape: (130637, 3)\n",
      "Epoch #304\n",
      "Shape of the data: (130637, 3)\n",
      "    Fit took 5.621912240982056 seconds\n"
     ]
    },
    {
     "name": "stderr",
     "output_type": "stream",
     "text": [
      "\r",
      " 76%|███████▋  | 305/400 [28:06<09:47,  6.18s/it]"
     ]
    },
    {
     "name": "stdout",
     "output_type": "stream",
     "text": [
      "    Predict took 0.41480422019958496 seconds\n",
      "    Update_data took 0.17651081085205078 seconds\n",
      "Shape: (130757, 3)\n",
      "Epoch #305\n",
      "Shape of the data: (130757, 3)\n",
      "    Fit took 5.638991832733154 seconds\n"
     ]
    },
    {
     "name": "stderr",
     "output_type": "stream",
     "text": [
      "\r",
      " 76%|███████▋  | 306/400 [28:12<09:40,  6.17s/it]"
     ]
    },
    {
     "name": "stdout",
     "output_type": "stream",
     "text": [
      "    Predict took 0.4183924198150635 seconds\n",
      "    Update_data took 0.10114669799804688 seconds\n",
      "Shape: (130877, 3)\n",
      "Epoch #306\n",
      "Shape of the data: (130877, 3)\n",
      "    Fit took 5.739036798477173 seconds\n"
     ]
    },
    {
     "name": "stderr",
     "output_type": "stream",
     "text": [
      "\r",
      " 77%|███████▋  | 307/400 [28:18<09:38,  6.22s/it]"
     ]
    },
    {
     "name": "stdout",
     "output_type": "stream",
     "text": [
      "    Predict took 0.4120955467224121 seconds\n",
      "    Update_data took 0.17844367027282715 seconds\n",
      "Shape: (130997, 3)\n",
      "Epoch #307\n",
      "Shape of the data: (130997, 3)\n",
      "    Fit took 5.561034679412842 seconds\n"
     ]
    },
    {
     "name": "stderr",
     "output_type": "stream",
     "text": [
      "\r",
      " 77%|███████▋  | 308/400 [28:24<09:30,  6.20s/it]"
     ]
    },
    {
     "name": "stdout",
     "output_type": "stream",
     "text": [
      "    Predict took 0.4058108329772949 seconds\n",
      "    Update_data took 0.1774921417236328 seconds\n",
      "Shape: (131117, 3)\n",
      "Epoch #308\n",
      "Shape of the data: (131117, 3)\n",
      "    Fit took 5.613706111907959 seconds\n"
     ]
    },
    {
     "name": "stderr",
     "output_type": "stream",
     "text": [
      "\r",
      " 77%|███████▋  | 309/400 [28:31<09:24,  6.20s/it]"
     ]
    },
    {
     "name": "stdout",
     "output_type": "stream",
     "text": [
      "    Predict took 0.4064829349517822 seconds\n",
      "    Update_data took 0.1758108139038086 seconds\n",
      "Shape: (131237, 3)\n",
      "Epoch #309\n",
      "Shape of the data: (131237, 3)\n",
      "    Fit took 5.607800006866455 seconds\n"
     ]
    },
    {
     "name": "stderr",
     "output_type": "stream",
     "text": [
      "\r",
      " 78%|███████▊  | 310/400 [28:37<09:17,  6.20s/it]"
     ]
    },
    {
     "name": "stdout",
     "output_type": "stream",
     "text": [
      "    Predict took 0.4031662940979004 seconds\n",
      "    Update_data took 0.17786574363708496 seconds\n",
      "Shape: (131357, 3)\n",
      "Epoch #310\n",
      "Shape of the data: (131357, 3)\n",
      "    Fit took 5.609462261199951 seconds\n"
     ]
    },
    {
     "name": "stderr",
     "output_type": "stream",
     "text": [
      "\r",
      " 78%|███████▊  | 311/400 [28:43<09:11,  6.20s/it]"
     ]
    },
    {
     "name": "stdout",
     "output_type": "stream",
     "text": [
      "    Predict took 0.40509891510009766 seconds\n",
      "    Update_data took 0.18128108978271484 seconds\n",
      "Shape: (131477, 3)\n",
      "Epoch #311\n",
      "Shape of the data: (131477, 3)\n",
      "    Fit took 5.623604774475098 seconds\n"
     ]
    },
    {
     "name": "stderr",
     "output_type": "stream",
     "text": [
      "\r",
      " 78%|███████▊  | 312/400 [28:49<09:03,  6.18s/it]"
     ]
    },
    {
     "name": "stdout",
     "output_type": "stream",
     "text": [
      "    Predict took 0.4070923328399658 seconds\n",
      "    Update_data took 0.09278559684753418 seconds\n",
      "Shape: (131597, 3)\n",
      "Epoch #312\n",
      "Shape of the data: (131597, 3)\n",
      "    Fit took 5.701036214828491 seconds\n"
     ]
    },
    {
     "name": "stderr",
     "output_type": "stream",
     "text": [
      "\r",
      " 78%|███████▊  | 313/400 [28:55<09:00,  6.21s/it]"
     ]
    },
    {
     "name": "stdout",
     "output_type": "stream",
     "text": [
      "    Predict took 0.40795397758483887 seconds\n",
      "    Update_data took 0.17523527145385742 seconds\n",
      "Shape: (131717, 3)\n",
      "Epoch #313\n",
      "Shape of the data: (131717, 3)\n",
      "    Fit took 5.656522035598755 seconds\n"
     ]
    },
    {
     "name": "stderr",
     "output_type": "stream",
     "text": [
      "\r",
      " 78%|███████▊  | 314/400 [29:02<08:55,  6.22s/it]"
     ]
    },
    {
     "name": "stdout",
     "output_type": "stream",
     "text": [
      "    Predict took 0.41310548782348633 seconds\n",
      "    Update_data took 0.1775214672088623 seconds\n",
      "Shape: (131837, 3)\n",
      "Epoch #314\n",
      "Shape of the data: (131837, 3)\n",
      "    Fit took 5.6697728633880615 seconds\n"
     ]
    },
    {
     "name": "stderr",
     "output_type": "stream",
     "text": [
      "\r",
      " 79%|███████▉  | 315/400 [29:08<08:49,  6.23s/it]"
     ]
    },
    {
     "name": "stdout",
     "output_type": "stream",
     "text": [
      "    Predict took 0.4084005355834961 seconds\n",
      "    Update_data took 0.1785423755645752 seconds\n",
      "Shape: (131957, 3)\n",
      "Epoch #315\n",
      "Shape of the data: (131957, 3)\n",
      "    Fit took 5.630593538284302 seconds\n"
     ]
    },
    {
     "name": "stderr",
     "output_type": "stream",
     "text": [
      "\r",
      " 79%|███████▉  | 316/400 [29:14<08:40,  6.20s/it]"
     ]
    },
    {
     "name": "stdout",
     "output_type": "stream",
     "text": [
      "    Predict took 0.4015190601348877 seconds\n",
      "    Update_data took 0.09160065650939941 seconds\n",
      "Shape: (132077, 3)\n",
      "Epoch #316\n",
      "Shape of the data: (132077, 3)\n",
      "    Fit took 5.759889125823975 seconds\n"
     ]
    },
    {
     "name": "stderr",
     "output_type": "stream",
     "text": [
      "\r",
      " 79%|███████▉  | 317/400 [29:20<08:36,  6.22s/it]"
     ]
    },
    {
     "name": "stdout",
     "output_type": "stream",
     "text": [
      "    Predict took 0.40804004669189453 seconds\n",
      "    Update_data took 0.0961751937866211 seconds\n",
      "Shape: (132197, 3)\n",
      "Epoch #317\n",
      "Shape of the data: (132197, 3)\n",
      "    Fit took 5.780041933059692 seconds\n"
     ]
    },
    {
     "name": "stderr",
     "output_type": "stream",
     "text": [
      "\r",
      " 80%|███████▉  | 318/400 [29:27<08:33,  6.27s/it]"
     ]
    },
    {
     "name": "stdout",
     "output_type": "stream",
     "text": [
      "    Predict took 0.4102463722229004 seconds\n",
      "    Update_data took 0.17716550827026367 seconds\n",
      "Shape: (132317, 3)\n",
      "Epoch #318\n",
      "Shape of the data: (132317, 3)\n",
      "    Fit took 5.673359394073486 seconds\n"
     ]
    },
    {
     "name": "stderr",
     "output_type": "stream",
     "text": [
      "\r",
      " 80%|███████▉  | 319/400 [29:33<08:27,  6.26s/it]"
     ]
    },
    {
     "name": "stdout",
     "output_type": "stream",
     "text": [
      "    Predict took 0.39924025535583496 seconds\n",
      "    Update_data took 0.17787885665893555 seconds\n",
      "Shape: (132437, 3)\n",
      "Epoch #319\n",
      "Shape of the data: (132437, 3)\n",
      "    Fit took 5.7224955558776855 seconds\n"
     ]
    },
    {
     "name": "stderr",
     "output_type": "stream",
     "text": [
      "\r",
      " 80%|████████  | 320/400 [29:39<08:20,  6.25s/it]"
     ]
    },
    {
     "name": "stdout",
     "output_type": "stream",
     "text": [
      "    Predict took 0.40607118606567383 seconds\n",
      "    Update_data took 0.09644722938537598 seconds\n",
      "Shape: (132557, 3)\n",
      "Epoch #320\n",
      "Shape of the data: (132557, 3)\n",
      "    Fit took 5.867825031280518 seconds\n"
     ]
    },
    {
     "name": "stderr",
     "output_type": "stream",
     "text": [
      "\r",
      " 80%|████████  | 321/400 [29:46<08:16,  6.29s/it]"
     ]
    },
    {
     "name": "stdout",
     "output_type": "stream",
     "text": [
      "    Predict took 0.4010279178619385 seconds\n",
      "    Update_data took 0.09458208084106445 seconds\n",
      "Shape: (132677, 3)\n",
      "Epoch #321\n",
      "Shape of the data: (132677, 3)\n",
      "    Fit took 5.822870254516602 seconds\n"
     ]
    },
    {
     "name": "stderr",
     "output_type": "stream",
     "text": [
      "\r",
      " 80%|████████  | 322/400 [29:52<08:11,  6.30s/it]"
     ]
    },
    {
     "name": "stdout",
     "output_type": "stream",
     "text": [
      "    Predict took 0.4004397392272949 seconds\n",
      "    Update_data took 0.09357571601867676 seconds\n",
      "Shape: (132797, 3)\n",
      "Epoch #322\n",
      "Shape of the data: (132797, 3)\n",
      "    Fit took 5.826034069061279 seconds\n"
     ]
    },
    {
     "name": "stderr",
     "output_type": "stream",
     "text": [
      "\r",
      " 81%|████████  | 323/400 [29:58<08:05,  6.30s/it]"
     ]
    },
    {
     "name": "stdout",
     "output_type": "stream",
     "text": [
      "    Predict took 0.3997666835784912 seconds\n",
      "    Update_data took 0.09486532211303711 seconds\n",
      "Shape: (132917, 3)\n",
      "Epoch #323\n",
      "Shape of the data: (132917, 3)\n",
      "    Fit took 5.853903770446777 seconds\n"
     ]
    },
    {
     "name": "stderr",
     "output_type": "stream",
     "text": [
      "\r",
      " 81%|████████  | 324/400 [30:05<08:00,  6.32s/it]"
     ]
    },
    {
     "name": "stdout",
     "output_type": "stream",
     "text": [
      "    Predict took 0.4002249240875244 seconds\n",
      "    Update_data took 0.09520459175109863 seconds\n",
      "Shape: (133037, 3)\n",
      "Epoch #324\n",
      "Shape of the data: (133037, 3)\n",
      "    Fit took 5.850209951400757 seconds\n"
     ]
    },
    {
     "name": "stderr",
     "output_type": "stream",
     "text": [
      "\r",
      " 81%|████████▏ | 325/400 [30:11<07:54,  6.33s/it]"
     ]
    },
    {
     "name": "stdout",
     "output_type": "stream",
     "text": [
      "    Predict took 0.40100812911987305 seconds\n",
      "    Update_data took 0.10163164138793945 seconds\n",
      "Shape: (133157, 3)\n",
      "Epoch #325\n",
      "Shape of the data: (133157, 3)\n",
      "    Fit took 5.82822060585022 seconds\n"
     ]
    },
    {
     "name": "stderr",
     "output_type": "stream",
     "text": [
      "\r",
      " 82%|████████▏ | 326/400 [30:17<07:48,  6.33s/it]"
     ]
    },
    {
     "name": "stdout",
     "output_type": "stream",
     "text": [
      "    Predict took 0.3946983814239502 seconds\n",
      "    Update_data took 0.09646058082580566 seconds\n",
      "Shape: (133277, 3)\n",
      "Epoch #326\n",
      "Shape of the data: (133277, 3)\n",
      "    Fit took 5.788646221160889 seconds\n"
     ]
    },
    {
     "name": "stderr",
     "output_type": "stream",
     "text": [
      "\r",
      " 82%|████████▏ | 327/400 [30:24<07:40,  6.31s/it]"
     ]
    },
    {
     "name": "stdout",
     "output_type": "stream",
     "text": [
      "    Predict took 0.387880802154541 seconds\n",
      "    Update_data took 0.09450197219848633 seconds\n",
      "Shape: (133397, 3)\n",
      "Epoch #327\n",
      "Shape of the data: (133397, 3)\n",
      "    Fit took 5.80263876914978 seconds\n"
     ]
    },
    {
     "name": "stderr",
     "output_type": "stream",
     "text": [
      "\r",
      " 82%|████████▏ | 328/400 [30:30<07:34,  6.31s/it]"
     ]
    },
    {
     "name": "stdout",
     "output_type": "stream",
     "text": [
      "    Predict took 0.39351963996887207 seconds\n",
      "    Update_data took 0.09627771377563477 seconds\n",
      "Shape: (133517, 3)\n",
      "Epoch #328\n",
      "Shape of the data: (133517, 3)\n",
      "    Fit took 5.81629753112793 seconds\n"
     ]
    },
    {
     "name": "stderr",
     "output_type": "stream",
     "text": [
      "\r",
      " 82%|████████▏ | 329/400 [30:36<07:27,  6.31s/it]"
     ]
    },
    {
     "name": "stdout",
     "output_type": "stream",
     "text": [
      "    Predict took 0.39255642890930176 seconds\n",
      "    Update_data took 0.09554648399353027 seconds\n",
      "Shape: (133637, 3)\n",
      "Epoch #329\n",
      "Shape of the data: (133637, 3)\n",
      "    Fit took 5.790828704833984 seconds\n"
     ]
    },
    {
     "name": "stderr",
     "output_type": "stream",
     "text": [
      "\r",
      " 82%|████████▎ | 330/400 [30:42<07:20,  6.30s/it]"
     ]
    },
    {
     "name": "stdout",
     "output_type": "stream",
     "text": [
      "    Predict took 0.39301466941833496 seconds\n",
      "    Update_data took 0.09413313865661621 seconds\n",
      "Shape: (133757, 3)\n",
      "Epoch #330\n",
      "Shape of the data: (133757, 3)\n",
      "    Fit took 5.819982051849365 seconds\n"
     ]
    },
    {
     "name": "stderr",
     "output_type": "stream",
     "text": [
      "\r",
      " 83%|████████▎ | 331/400 [30:49<07:14,  6.30s/it]"
     ]
    },
    {
     "name": "stdout",
     "output_type": "stream",
     "text": [
      "    Predict took 0.3946197032928467 seconds\n",
      "    Update_data took 0.09717273712158203 seconds\n",
      "Shape: (133877, 3)\n",
      "Epoch #331\n",
      "Shape of the data: (133877, 3)\n",
      "    Fit took 5.761404275894165 seconds\n"
     ]
    },
    {
     "name": "stderr",
     "output_type": "stream",
     "text": [
      "\r",
      " 83%|████████▎ | 332/400 [30:55<07:07,  6.29s/it]"
     ]
    },
    {
     "name": "stdout",
     "output_type": "stream",
     "text": [
      "    Predict took 0.39138150215148926 seconds\n",
      "    Update_data took 0.09621739387512207 seconds\n",
      "Shape: (133997, 3)\n",
      "Epoch #332\n",
      "Shape of the data: (133997, 3)\n",
      "    Fit took 5.745295286178589 seconds\n"
     ]
    },
    {
     "name": "stderr",
     "output_type": "stream",
     "text": [
      "\r",
      " 83%|████████▎ | 333/400 [31:01<07:01,  6.30s/it]"
     ]
    },
    {
     "name": "stdout",
     "output_type": "stream",
     "text": [
      "    Predict took 0.47162628173828125 seconds\n",
      "    Update_data took 0.09611940383911133 seconds\n",
      "Shape: (134117, 3)\n",
      "Epoch #333\n",
      "Shape of the data: (134117, 3)\n",
      "    Fit took 5.755510091781616 seconds\n"
     ]
    },
    {
     "name": "stderr",
     "output_type": "stream",
     "text": [
      "\r",
      " 84%|████████▎ | 334/400 [31:08<06:56,  6.31s/it]"
     ]
    },
    {
     "name": "stdout",
     "output_type": "stream",
     "text": [
      "    Predict took 0.3919374942779541 seconds\n",
      "    Update_data took 0.18009448051452637 seconds\n",
      "Shape: (134237, 3)\n",
      "Epoch #334\n",
      "Shape of the data: (134237, 3)\n",
      "    Fit took 5.73910665512085 seconds\n"
     ]
    },
    {
     "name": "stderr",
     "output_type": "stream",
     "text": [
      "\r",
      " 84%|████████▍ | 335/400 [31:14<06:48,  6.28s/it]"
     ]
    },
    {
     "name": "stdout",
     "output_type": "stream",
     "text": [
      "    Predict took 0.39272594451904297 seconds\n",
      "    Update_data took 0.09566116333007812 seconds\n",
      "Shape: (134357, 3)\n",
      "Epoch #335\n",
      "Shape of the data: (134357, 3)\n",
      "    Fit took 5.950882196426392 seconds\n"
     ]
    },
    {
     "name": "stderr",
     "output_type": "stream",
     "text": [
      "\r",
      " 84%|████████▍ | 336/400 [31:20<06:45,  6.33s/it]"
     ]
    },
    {
     "name": "stdout",
     "output_type": "stream",
     "text": [
      "    Predict took 0.38442206382751465 seconds\n",
      "    Update_data took 0.0948944091796875 seconds\n",
      "Shape: (134477, 3)\n",
      "Epoch #336\n",
      "Shape of the data: (134477, 3)\n",
      "    Fit took 5.7700347900390625 seconds\n"
     ]
    },
    {
     "name": "stderr",
     "output_type": "stream",
     "text": [
      "\r",
      " 84%|████████▍ | 337/400 [31:27<06:39,  6.34s/it]"
     ]
    },
    {
     "name": "stdout",
     "output_type": "stream",
     "text": [
      "    Predict took 0.4894726276397705 seconds\n",
      "    Update_data took 0.10116767883300781 seconds\n",
      "Shape: (134597, 3)\n",
      "Epoch #337\n",
      "Shape of the data: (134597, 3)\n",
      "    Fit took 5.743361234664917 seconds\n"
     ]
    },
    {
     "name": "stderr",
     "output_type": "stream",
     "text": [
      "\r",
      " 84%|████████▍ | 338/400 [31:33<06:32,  6.33s/it]"
     ]
    },
    {
     "name": "stdout",
     "output_type": "stream",
     "text": [
      "    Predict took 0.3955078125 seconds\n",
      "    Update_data took 0.18121051788330078 seconds\n",
      "Shape: (134717, 3)\n",
      "Epoch #338\n",
      "Shape of the data: (134717, 3)\n",
      "    Fit took 5.760631561279297 seconds\n"
     ]
    },
    {
     "name": "stderr",
     "output_type": "stream",
     "text": [
      "\r",
      " 85%|████████▍ | 339/400 [31:39<06:26,  6.33s/it]"
     ]
    },
    {
     "name": "stdout",
     "output_type": "stream",
     "text": [
      "    Predict took 0.3841276168823242 seconds\n",
      "    Update_data took 0.18078327178955078 seconds\n",
      "Shape: (134837, 3)\n",
      "Epoch #339\n",
      "Shape of the data: (134837, 3)\n",
      "    Fit took 5.761341333389282 seconds\n"
     ]
    },
    {
     "name": "stderr",
     "output_type": "stream",
     "text": [
      "\r",
      " 85%|████████▌ | 340/400 [31:46<06:18,  6.31s/it]"
     ]
    },
    {
     "name": "stdout",
     "output_type": "stream",
     "text": [
      "    Predict took 0.3869342803955078 seconds\n",
      "    Update_data took 0.09542584419250488 seconds\n",
      "Shape: (134957, 3)\n",
      "Epoch #340\n",
      "Shape of the data: (134957, 3)\n",
      "    Fit took 5.870678186416626 seconds\n"
     ]
    },
    {
     "name": "stderr",
     "output_type": "stream",
     "text": [
      "\r",
      " 85%|████████▌ | 341/400 [31:52<06:12,  6.32s/it]"
     ]
    },
    {
     "name": "stdout",
     "output_type": "stream",
     "text": [
      "    Predict took 0.38527369499206543 seconds\n",
      "    Update_data took 0.09673643112182617 seconds\n",
      "Shape: (135077, 3)\n",
      "Epoch #341\n",
      "Shape of the data: (135077, 3)\n",
      "    Fit took 5.853088140487671 seconds\n"
     ]
    },
    {
     "name": "stderr",
     "output_type": "stream",
     "text": [
      "\r",
      " 86%|████████▌ | 342/400 [31:58<06:06,  6.32s/it]"
     ]
    },
    {
     "name": "stdout",
     "output_type": "stream",
     "text": [
      "    Predict took 0.3839075565338135 seconds\n",
      "    Update_data took 0.0948629379272461 seconds\n",
      "Shape: (135197, 3)\n",
      "Epoch #342\n",
      "Shape of the data: (135197, 3)\n",
      "    Fit took 5.809172868728638 seconds\n"
     ]
    },
    {
     "name": "stderr",
     "output_type": "stream",
     "text": [
      "\r",
      " 86%|████████▌ | 343/400 [32:05<06:01,  6.34s/it]"
     ]
    },
    {
     "name": "stdout",
     "output_type": "stream",
     "text": [
      "    Predict took 0.46550583839416504 seconds\n",
      "    Update_data took 0.10016918182373047 seconds\n",
      "Shape: (135317, 3)\n",
      "Epoch #343\n",
      "Shape of the data: (135317, 3)\n",
      "    Fit took 5.777012586593628 seconds\n"
     ]
    },
    {
     "name": "stderr",
     "output_type": "stream",
     "text": [
      "\r",
      " 86%|████████▌ | 344/400 [32:11<05:55,  6.34s/it]"
     ]
    },
    {
     "name": "stdout",
     "output_type": "stream",
     "text": [
      "    Predict took 0.3866090774536133 seconds\n",
      "    Update_data took 0.17426657676696777 seconds\n",
      "Shape: (135437, 3)\n",
      "Epoch #344\n",
      "Shape of the data: (135437, 3)\n",
      "    Fit took 5.811705589294434 seconds\n"
     ]
    },
    {
     "name": "stderr",
     "output_type": "stream",
     "text": [
      "\r",
      " 86%|████████▋ | 345/400 [32:17<05:49,  6.35s/it]"
     ]
    },
    {
     "name": "stdout",
     "output_type": "stream",
     "text": [
      "    Predict took 0.38681864738464355 seconds\n",
      "    Update_data took 0.18227386474609375 seconds\n",
      "Shape: (135557, 3)\n",
      "Epoch #345\n",
      "Shape of the data: (135557, 3)\n",
      "    Fit took 5.755401611328125 seconds\n"
     ]
    },
    {
     "name": "stderr",
     "output_type": "stream",
     "text": [
      "\r",
      " 86%|████████▋ | 346/400 [32:24<05:41,  6.32s/it]"
     ]
    },
    {
     "name": "stdout",
     "output_type": "stream",
     "text": [
      "    Predict took 0.38762521743774414 seconds\n",
      "    Update_data took 0.0952296257019043 seconds\n",
      "Shape: (135677, 3)\n",
      "Epoch #346\n",
      "Shape of the data: (135677, 3)\n",
      "    Fit took 5.873699188232422 seconds\n"
     ]
    },
    {
     "name": "stderr",
     "output_type": "stream",
     "text": [
      "\r",
      " 87%|████████▋ | 347/400 [32:30<05:35,  6.33s/it]"
     ]
    },
    {
     "name": "stdout",
     "output_type": "stream",
     "text": [
      "    Predict took 0.38692784309387207 seconds\n",
      "    Update_data took 0.09716939926147461 seconds\n",
      "Shape: (135797, 3)\n",
      "Epoch #347\n",
      "Shape of the data: (135797, 3)\n",
      "    Fit took 5.83816933631897 seconds\n"
     ]
    },
    {
     "name": "stderr",
     "output_type": "stream",
     "text": [
      "\r",
      " 87%|████████▋ | 348/400 [32:36<05:30,  6.35s/it]"
     ]
    },
    {
     "name": "stdout",
     "output_type": "stream",
     "text": [
      "    Predict took 0.4625253677368164 seconds\n",
      "    Update_data took 0.10004591941833496 seconds\n",
      "Shape: (135917, 3)\n",
      "Epoch #348\n",
      "Shape of the data: (135917, 3)\n",
      "    Fit took 5.80944561958313 seconds\n"
     ]
    },
    {
     "name": "stderr",
     "output_type": "stream",
     "text": [
      "\r",
      " 87%|████████▋ | 349/400 [32:43<05:24,  6.36s/it]"
     ]
    },
    {
     "name": "stdout",
     "output_type": "stream",
     "text": [
      "    Predict took 0.37874507904052734 seconds\n",
      "    Update_data took 0.18093585968017578 seconds\n",
      "Shape: (136037, 3)\n",
      "Epoch #349\n",
      "Shape of the data: (136037, 3)\n",
      "    Fit took 5.788038730621338 seconds\n"
     ]
    },
    {
     "name": "stderr",
     "output_type": "stream",
     "text": [
      "\r",
      " 88%|████████▊ | 350/400 [32:49<05:16,  6.33s/it]"
     ]
    },
    {
     "name": "stdout",
     "output_type": "stream",
     "text": [
      "    Predict took 0.3758707046508789 seconds\n",
      "    Update_data took 0.0975797176361084 seconds\n",
      "Shape: (136157, 3)\n",
      "Epoch #350\n",
      "Shape of the data: (136157, 3)\n",
      "    Fit took 5.898921966552734 seconds\n"
     ]
    },
    {
     "name": "stderr",
     "output_type": "stream",
     "text": [
      "\r",
      " 88%|████████▊ | 351/400 [32:55<05:10,  6.35s/it]"
     ]
    },
    {
     "name": "stdout",
     "output_type": "stream",
     "text": [
      "    Predict took 0.3779630661010742 seconds\n",
      "    Update_data took 0.10169076919555664 seconds\n",
      "Shape: (136277, 3)\n",
      "Epoch #351\n",
      "Shape of the data: (136277, 3)\n",
      "    Fit took 5.806063413619995 seconds\n"
     ]
    },
    {
     "name": "stderr",
     "output_type": "stream",
     "text": [
      "\r",
      " 88%|████████▊ | 352/400 [33:02<05:04,  6.35s/it]"
     ]
    },
    {
     "name": "stdout",
     "output_type": "stream",
     "text": [
      "    Predict took 0.4597048759460449 seconds\n",
      "    Update_data took 0.09911251068115234 seconds\n",
      "Shape: (136397, 3)\n",
      "Epoch #352\n",
      "Shape of the data: (136397, 3)\n",
      "    Fit took 5.8466832637786865 seconds\n"
     ]
    },
    {
     "name": "stderr",
     "output_type": "stream",
     "text": [
      "\r",
      " 88%|████████▊ | 353/400 [33:08<04:58,  6.35s/it]"
     ]
    },
    {
     "name": "stdout",
     "output_type": "stream",
     "text": [
      "    Predict took 0.385744571685791 seconds\n",
      "    Update_data took 0.09690690040588379 seconds\n",
      "Shape: (136517, 3)\n",
      "Epoch #353\n",
      "Shape of the data: (136517, 3)\n",
      "    Fit took 5.927526235580444 seconds\n"
     ]
    },
    {
     "name": "stderr",
     "output_type": "stream",
     "text": [
      "\r",
      " 88%|████████▊ | 354/400 [33:14<04:52,  6.36s/it]"
     ]
    },
    {
     "name": "stdout",
     "output_type": "stream",
     "text": [
      "    Predict took 0.37648844718933105 seconds\n",
      "    Update_data took 0.09672236442565918 seconds\n",
      "Shape: (136637, 3)\n",
      "Epoch #354\n",
      "Shape of the data: (136637, 3)\n",
      "    Fit took 5.923999547958374 seconds\n"
     ]
    },
    {
     "name": "stderr",
     "output_type": "stream",
     "text": [
      "\r",
      " 89%|████████▉ | 355/400 [33:21<04:46,  6.37s/it]"
     ]
    },
    {
     "name": "stdout",
     "output_type": "stream",
     "text": [
      "    Predict took 0.37410688400268555 seconds\n",
      "    Update_data took 0.09853720664978027 seconds\n",
      "Shape: (136757, 3)\n",
      "Epoch #355\n",
      "Shape of the data: (136757, 3)\n",
      "    Fit took 5.854101896286011 seconds\n"
     ]
    },
    {
     "name": "stderr",
     "output_type": "stream",
     "text": [
      "\r",
      " 89%|████████▉ | 356/400 [33:27<04:41,  6.39s/it]"
     ]
    },
    {
     "name": "stdout",
     "output_type": "stream",
     "text": [
      "    Predict took 0.3793628215789795 seconds\n",
      "    Update_data took 0.18200325965881348 seconds\n",
      "Shape: (136877, 3)\n",
      "Epoch #356\n",
      "Shape of the data: (136877, 3)\n",
      "    Fit took 5.898556470870972 seconds\n"
     ]
    },
    {
     "name": "stderr",
     "output_type": "stream",
     "text": [
      "\r",
      " 89%|████████▉ | 357/400 [33:34<04:34,  6.38s/it]"
     ]
    },
    {
     "name": "stdout",
     "output_type": "stream",
     "text": [
      "    Predict took 0.36849284172058105 seconds\n",
      "    Update_data took 0.09638094902038574 seconds\n",
      "Shape: (136997, 3)\n",
      "Epoch #357\n",
      "Shape of the data: (136997, 3)\n",
      "    Fit took 5.856661081314087 seconds\n"
     ]
    },
    {
     "name": "stderr",
     "output_type": "stream",
     "text": [
      "\r",
      " 90%|████████▉ | 358/400 [33:40<04:28,  6.39s/it]"
     ]
    },
    {
     "name": "stdout",
     "output_type": "stream",
     "text": [
      "    Predict took 0.44855833053588867 seconds\n",
      "    Update_data took 0.09997797012329102 seconds\n",
      "Shape: (137117, 3)\n",
      "Epoch #358\n",
      "Shape of the data: (137117, 3)\n",
      "    Fit took 5.8541741371154785 seconds\n"
     ]
    },
    {
     "name": "stderr",
     "output_type": "stream",
     "text": [
      "\r",
      " 90%|████████▉ | 359/400 [33:46<04:21,  6.37s/it]"
     ]
    },
    {
     "name": "stdout",
     "output_type": "stream",
     "text": [
      "    Predict took 0.3762345314025879 seconds\n",
      "    Update_data took 0.09618020057678223 seconds\n",
      "Shape: (137237, 3)\n",
      "Epoch #359\n",
      "Shape of the data: (137237, 3)\n",
      "    Fit took 5.938411474227905 seconds\n"
     ]
    },
    {
     "name": "stderr",
     "output_type": "stream",
     "text": [
      "\r",
      " 90%|█████████ | 360/400 [33:53<04:15,  6.38s/it]"
     ]
    },
    {
     "name": "stdout",
     "output_type": "stream",
     "text": [
      "    Predict took 0.36661529541015625 seconds\n",
      "    Update_data took 0.09782910346984863 seconds\n",
      "Shape: (137357, 3)\n",
      "Epoch #360\n",
      "Shape of the data: (137357, 3)\n",
      "    Fit took 5.958394765853882 seconds\n"
     ]
    },
    {
     "name": "stderr",
     "output_type": "stream",
     "text": [
      "\r",
      " 90%|█████████ | 361/400 [33:59<04:09,  6.40s/it]"
     ]
    },
    {
     "name": "stdout",
     "output_type": "stream",
     "text": [
      "    Predict took 0.3683922290802002 seconds\n",
      "    Update_data took 0.09868001937866211 seconds\n",
      "Shape: (137477, 3)\n",
      "Epoch #361\n",
      "Shape of the data: (137477, 3)\n",
      "    Fit took 5.872860908508301 seconds\n"
     ]
    },
    {
     "name": "stderr",
     "output_type": "stream",
     "text": [
      "\r",
      " 90%|█████████ | 362/400 [34:06<04:03,  6.41s/it]"
     ]
    },
    {
     "name": "stdout",
     "output_type": "stream",
     "text": [
      "    Predict took 0.37430524826049805 seconds\n",
      "    Update_data took 0.18124818801879883 seconds\n",
      "Shape: (137597, 3)\n",
      "Epoch #362\n",
      "Shape of the data: (137597, 3)\n",
      "    Fit took 5.959152936935425 seconds\n"
     ]
    },
    {
     "name": "stderr",
     "output_type": "stream",
     "text": [
      "\r",
      " 91%|█████████ | 363/400 [34:12<03:57,  6.41s/it]"
     ]
    },
    {
     "name": "stdout",
     "output_type": "stream",
     "text": [
      "    Predict took 0.37011170387268066 seconds\n",
      "    Update_data took 0.09806227684020996 seconds\n",
      "Shape: (137717, 3)\n",
      "Epoch #363\n",
      "Shape of the data: (137717, 3)\n",
      "    Fit took 5.9197845458984375 seconds\n"
     ]
    },
    {
     "name": "stderr",
     "output_type": "stream",
     "text": [
      "\r",
      " 91%|█████████ | 364/400 [34:19<03:51,  6.43s/it]"
     ]
    },
    {
     "name": "stdout",
     "output_type": "stream",
     "text": [
      "    Predict took 0.45574140548706055 seconds\n",
      "    Update_data took 0.10581541061401367 seconds\n",
      "Shape: (137837, 3)\n",
      "Epoch #364\n",
      "Shape of the data: (137837, 3)\n",
      "    Fit took 5.8981499671936035 seconds\n"
     ]
    },
    {
     "name": "stderr",
     "output_type": "stream",
     "text": [
      "\r",
      " 91%|█████████▏| 365/400 [34:25<03:44,  6.41s/it]"
     ]
    },
    {
     "name": "stdout",
     "output_type": "stream",
     "text": [
      "    Predict took 0.36402392387390137 seconds\n",
      "    Update_data took 0.09685158729553223 seconds\n",
      "Shape: (137957, 3)\n",
      "Epoch #365\n",
      "Shape of the data: (137957, 3)\n",
      "    Fit took 5.892553329467773 seconds\n"
     ]
    },
    {
     "name": "stderr",
     "output_type": "stream",
     "text": [
      "\r",
      " 92%|█████████▏| 366/400 [34:31<03:38,  6.42s/it]"
     ]
    },
    {
     "name": "stdout",
     "output_type": "stream",
     "text": [
      "    Predict took 0.4465935230255127 seconds\n",
      "    Update_data took 0.10457754135131836 seconds\n",
      "Shape: (138077, 3)\n",
      "Epoch #366\n",
      "Shape of the data: (138077, 3)\n",
      "    Fit took 5.912844896316528 seconds\n"
     ]
    },
    {
     "name": "stderr",
     "output_type": "stream",
     "text": [
      "\r",
      " 92%|█████████▏| 367/400 [34:38<03:31,  6.41s/it]"
     ]
    },
    {
     "name": "stdout",
     "output_type": "stream",
     "text": [
      "    Predict took 0.36794209480285645 seconds\n",
      "    Update_data took 0.09753561019897461 seconds\n",
      "Shape: (138197, 3)\n",
      "Epoch #367\n",
      "Shape of the data: (138197, 3)\n",
      "    Fit took 6.004544258117676 seconds\n"
     ]
    },
    {
     "name": "stderr",
     "output_type": "stream",
     "text": [
      "\r",
      " 92%|█████████▏| 368/400 [34:44<03:25,  6.43s/it]"
     ]
    },
    {
     "name": "stdout",
     "output_type": "stream",
     "text": [
      "    Predict took 0.36430811882019043 seconds\n",
      "    Update_data took 0.09776163101196289 seconds\n",
      "Shape: (138317, 3)\n",
      "Epoch #368\n",
      "Shape of the data: (138317, 3)\n",
      "    Fit took 5.939016819000244 seconds\n"
     ]
    },
    {
     "name": "stderr",
     "output_type": "stream",
     "text": [
      "\r",
      " 92%|█████████▏| 369/400 [34:51<03:19,  6.42s/it]"
     ]
    },
    {
     "name": "stdout",
     "output_type": "stream",
     "text": [
      "    Predict took 0.36987733840942383 seconds\n",
      "    Update_data took 0.09972429275512695 seconds\n",
      "Shape: (138437, 3)\n",
      "Epoch #369\n",
      "Shape of the data: (138437, 3)\n",
      "    Fit took 6.001730918884277 seconds\n"
     ]
    },
    {
     "name": "stderr",
     "output_type": "stream",
     "text": [
      "\r",
      " 92%|█████████▎| 370/400 [34:57<03:13,  6.44s/it]"
     ]
    },
    {
     "name": "stdout",
     "output_type": "stream",
     "text": [
      "    Predict took 0.37142014503479004 seconds\n",
      "    Update_data took 0.0998985767364502 seconds\n",
      "Shape: (138557, 3)\n",
      "Epoch #370\n",
      "Shape of the data: (138557, 3)\n",
      "    Fit took 5.896007061004639 seconds\n"
     ]
    },
    {
     "name": "stderr",
     "output_type": "stream",
     "text": [
      "\r",
      " 93%|█████████▎| 371/400 [35:04<03:06,  6.44s/it]"
     ]
    },
    {
     "name": "stdout",
     "output_type": "stream",
     "text": [
      "    Predict took 0.3631303310394287 seconds\n",
      "    Update_data took 0.18380355834960938 seconds\n",
      "Shape: (138677, 3)\n",
      "Epoch #371\n",
      "Shape of the data: (138677, 3)\n",
      "    Fit took 5.937157392501831 seconds\n"
     ]
    },
    {
     "name": "stderr",
     "output_type": "stream",
     "text": [
      "\r",
      " 93%|█████████▎| 372/400 [35:10<02:59,  6.43s/it]"
     ]
    },
    {
     "name": "stdout",
     "output_type": "stream",
     "text": [
      "    Predict took 0.3623850345611572 seconds\n",
      "    Update_data took 0.09659481048583984 seconds\n",
      "Shape: (138797, 3)\n",
      "Epoch #372\n",
      "Shape of the data: (138797, 3)\n",
      "    Fit took 5.985902786254883 seconds\n"
     ]
    },
    {
     "name": "stderr",
     "output_type": "stream",
     "text": [
      "\r",
      " 93%|█████████▎| 373/400 [35:16<02:54,  6.46s/it]"
     ]
    },
    {
     "name": "stdout",
     "output_type": "stream",
     "text": [
      "    Predict took 0.44325733184814453 seconds\n",
      "    Update_data took 0.10383796691894531 seconds\n",
      "Shape: (138917, 3)\n",
      "Epoch #373\n",
      "Shape of the data: (138917, 3)\n",
      "    Fit took 5.953534364700317 seconds\n"
     ]
    },
    {
     "name": "stderr",
     "output_type": "stream",
     "text": [
      "\r",
      " 94%|█████████▎| 374/400 [35:23<02:47,  6.45s/it]"
     ]
    },
    {
     "name": "stdout",
     "output_type": "stream",
     "text": [
      "    Predict took 0.3565249443054199 seconds\n",
      "    Update_data took 0.09762191772460938 seconds\n",
      "Shape: (139037, 3)\n",
      "Epoch #374\n",
      "Shape of the data: (139037, 3)\n",
      "    Fit took 5.979828834533691 seconds\n"
     ]
    },
    {
     "name": "stderr",
     "output_type": "stream",
     "text": [
      "\r",
      " 94%|█████████▍| 375/400 [35:29<02:41,  6.47s/it]"
     ]
    },
    {
     "name": "stdout",
     "output_type": "stream",
     "text": [
      "    Predict took 0.45171618461608887 seconds\n",
      "    Update_data took 0.10708880424499512 seconds\n",
      "Shape: (139157, 3)\n",
      "Epoch #375\n",
      "Shape of the data: (139157, 3)\n",
      "    Fit took 5.94521689414978 seconds\n"
     ]
    },
    {
     "name": "stderr",
     "output_type": "stream",
     "text": [
      "\r",
      " 94%|█████████▍| 376/400 [35:36<02:34,  6.45s/it]"
     ]
    },
    {
     "name": "stdout",
     "output_type": "stream",
     "text": [
      "    Predict took 0.36127376556396484 seconds\n",
      "    Update_data took 0.09791421890258789 seconds\n",
      "Shape: (139277, 3)\n",
      "Epoch #376\n",
      "Shape of the data: (139277, 3)\n",
      "    Fit took 6.01435661315918 seconds\n"
     ]
    },
    {
     "name": "stderr",
     "output_type": "stream",
     "text": [
      "\r",
      " 94%|█████████▍| 377/400 [35:42<02:29,  6.49s/it]"
     ]
    },
    {
     "name": "stdout",
     "output_type": "stream",
     "text": [
      "    Predict took 0.446993350982666 seconds\n",
      "    Update_data took 0.11028122901916504 seconds\n",
      "Shape: (139397, 3)\n",
      "Epoch #377\n",
      "Shape of the data: (139397, 3)\n",
      "    Fit took 5.995255470275879 seconds\n"
     ]
    },
    {
     "name": "stderr",
     "output_type": "stream",
     "text": [
      "\r",
      " 94%|█████████▍| 378/400 [35:49<02:22,  6.48s/it]"
     ]
    },
    {
     "name": "stdout",
     "output_type": "stream",
     "text": [
      "    Predict took 0.3558635711669922 seconds\n",
      "    Update_data took 0.09876322746276855 seconds\n",
      "Shape: (139517, 3)\n",
      "Epoch #378\n",
      "Shape of the data: (139517, 3)\n",
      "    Fit took 5.953981161117554 seconds\n"
     ]
    },
    {
     "name": "stderr",
     "output_type": "stream",
     "text": [
      "\r",
      " 95%|█████████▍| 379/400 [35:55<02:16,  6.49s/it]"
     ]
    },
    {
     "name": "stdout",
     "output_type": "stream",
     "text": [
      "    Predict took 0.35937070846557617 seconds\n",
      "    Update_data took 0.18380188941955566 seconds\n",
      "Shape: (139637, 3)\n",
      "Epoch #379\n",
      "Shape of the data: (139637, 3)\n",
      "    Fit took 5.9981772899627686 seconds\n"
     ]
    },
    {
     "name": "stderr",
     "output_type": "stream",
     "text": [
      "\r",
      " 95%|█████████▌| 380/400 [36:02<02:09,  6.48s/it]"
     ]
    },
    {
     "name": "stdout",
     "output_type": "stream",
     "text": [
      "    Predict took 0.3593459129333496 seconds\n",
      "    Update_data took 0.09944629669189453 seconds\n",
      "Shape: (139757, 3)\n",
      "Epoch #380\n",
      "Shape of the data: (139757, 3)\n",
      "    Fit took 6.016775846481323 seconds\n"
     ]
    },
    {
     "name": "stderr",
     "output_type": "stream",
     "text": [
      "\r",
      " 95%|█████████▌| 381/400 [36:08<02:03,  6.50s/it]"
     ]
    },
    {
     "name": "stdout",
     "output_type": "stream",
     "text": [
      "    Predict took 0.4418494701385498 seconds\n",
      "    Update_data took 0.10501599311828613 seconds\n",
      "Shape: (139877, 3)\n",
      "Epoch #381\n",
      "Shape of the data: (139877, 3)\n",
      "    Fit took 6.105224370956421 seconds\n"
     ]
    },
    {
     "name": "stderr",
     "output_type": "stream",
     "text": [
      "\r",
      " 96%|█████████▌| 382/400 [36:15<01:57,  6.52s/it]"
     ]
    },
    {
     "name": "stdout",
     "output_type": "stream",
     "text": [
      "    Predict took 0.3590362071990967 seconds\n",
      "    Update_data took 0.09864568710327148 seconds\n",
      "Shape: (139997, 3)\n",
      "Epoch #382\n",
      "Shape of the data: (139997, 3)\n",
      "    Fit took 6.000751972198486 seconds\n"
     ]
    },
    {
     "name": "stderr",
     "output_type": "stream",
     "text": [
      "\r",
      " 96%|█████████▌| 383/400 [36:21<01:51,  6.53s/it]"
     ]
    },
    {
     "name": "stdout",
     "output_type": "stream",
     "text": [
      "    Predict took 0.44327735900878906 seconds\n",
      "    Update_data took 0.10723996162414551 seconds\n",
      "Shape: (140117, 3)\n",
      "Epoch #383\n",
      "Shape of the data: (140117, 3)\n",
      "    Fit took 5.9895570278167725 seconds\n"
     ]
    },
    {
     "name": "stderr",
     "output_type": "stream",
     "text": [
      "\r",
      " 96%|█████████▌| 384/400 [36:28<01:44,  6.51s/it]"
     ]
    },
    {
     "name": "stdout",
     "output_type": "stream",
     "text": [
      "    Predict took 0.35742640495300293 seconds\n",
      "    Update_data took 0.09902310371398926 seconds\n",
      "Shape: (140237, 3)\n",
      "Epoch #384\n",
      "Shape of the data: (140237, 3)\n",
      "    Fit took 6.029626131057739 seconds\n"
     ]
    },
    {
     "name": "stderr",
     "output_type": "stream",
     "text": [
      "\r",
      " 96%|█████████▋| 385/400 [36:35<01:37,  6.53s/it]"
     ]
    },
    {
     "name": "stdout",
     "output_type": "stream",
     "text": [
      "    Predict took 0.3653833866119385 seconds\n",
      "    Update_data took 0.18610024452209473 seconds\n",
      "Shape: (140357, 3)\n",
      "Epoch #385\n",
      "Shape of the data: (140357, 3)\n",
      "    Fit took 6.023019075393677 seconds\n"
     ]
    },
    {
     "name": "stderr",
     "output_type": "stream",
     "text": [
      "\r",
      " 96%|█████████▋| 386/400 [36:41<01:31,  6.51s/it]"
     ]
    },
    {
     "name": "stdout",
     "output_type": "stream",
     "text": [
      "    Predict took 0.35240840911865234 seconds\n",
      "    Update_data took 0.09900164604187012 seconds\n",
      "Shape: (140477, 3)\n",
      "Epoch #386\n",
      "Shape of the data: (140477, 3)\n",
      "    Fit took 6.006401062011719 seconds\n"
     ]
    },
    {
     "name": "stderr",
     "output_type": "stream",
     "text": [
      "\r",
      " 97%|█████████▋| 387/400 [36:47<01:24,  6.50s/it]"
     ]
    },
    {
     "name": "stdout",
     "output_type": "stream",
     "text": [
      "    Predict took 0.3544163703918457 seconds\n",
      "    Update_data took 0.0984504222869873 seconds\n",
      "Shape: (140597, 3)\n",
      "Epoch #387\n",
      "Shape of the data: (140597, 3)\n",
      "    Fit took 6.097136497497559 seconds\n"
     ]
    },
    {
     "name": "stderr",
     "output_type": "stream",
     "text": [
      "\r",
      " 97%|█████████▋| 388/400 [36:54<01:18,  6.51s/it]"
     ]
    },
    {
     "name": "stdout",
     "output_type": "stream",
     "text": [
      "    Predict took 0.35103535652160645 seconds\n",
      "    Update_data took 0.0997765064239502 seconds\n",
      "Shape: (140717, 3)\n",
      "Epoch #388\n",
      "Shape of the data: (140717, 3)\n",
      "    Fit took 6.0349509716033936 seconds\n"
     ]
    },
    {
     "name": "stderr",
     "output_type": "stream",
     "text": [
      "\r",
      " 97%|█████████▋| 389/400 [37:01<01:11,  6.51s/it]"
     ]
    },
    {
     "name": "stdout",
     "output_type": "stream",
     "text": [
      "    Predict took 0.35348081588745117 seconds\n",
      "    Update_data took 0.09846210479736328 seconds\n",
      "Shape: (140837, 3)\n",
      "Epoch #389\n",
      "Shape of the data: (140837, 3)\n",
      "    Fit took 6.1359498500823975 seconds\n"
     ]
    },
    {
     "name": "stderr",
     "output_type": "stream",
     "text": [
      "\r",
      " 98%|█████████▊| 390/400 [37:07<01:05,  6.53s/it]"
     ]
    },
    {
     "name": "stdout",
     "output_type": "stream",
     "text": [
      "    Predict took 0.357677698135376 seconds\n",
      "    Update_data took 0.10001087188720703 seconds\n",
      "Shape: (140957, 3)\n",
      "Epoch #390\n",
      "Shape of the data: (140957, 3)\n",
      "    Fit took 6.104285001754761 seconds\n"
     ]
    },
    {
     "name": "stderr",
     "output_type": "stream",
     "text": [
      "\r",
      " 98%|█████████▊| 391/400 [37:14<00:58,  6.54s/it]"
     ]
    },
    {
     "name": "stdout",
     "output_type": "stream",
     "text": [
      "    Predict took 0.3495316505432129 seconds\n",
      "    Update_data took 0.09880232810974121 seconds\n",
      "Shape: (141077, 3)\n",
      "Epoch #391\n",
      "Shape of the data: (141077, 3)\n",
      "    Fit took 6.138088226318359 seconds\n"
     ]
    },
    {
     "name": "stderr",
     "output_type": "stream",
     "text": [
      "\r",
      " 98%|█████████▊| 392/400 [37:20<00:52,  6.55s/it]"
     ]
    },
    {
     "name": "stdout",
     "output_type": "stream",
     "text": [
      "    Predict took 0.3458089828491211 seconds\n",
      "    Update_data took 0.09882426261901855 seconds\n",
      "Shape: (141197, 3)\n",
      "Epoch #392\n",
      "Shape of the data: (141197, 3)\n",
      "    Fit took 6.077471971511841 seconds\n"
     ]
    },
    {
     "name": "stderr",
     "output_type": "stream",
     "text": [
      "\r",
      " 98%|█████████▊| 393/400 [37:27<00:46,  6.57s/it]"
     ]
    },
    {
     "name": "stdout",
     "output_type": "stream",
     "text": [
      "    Predict took 0.34996771812438965 seconds\n",
      "    Update_data took 0.18526625633239746 seconds\n",
      "Shape: (141317, 3)\n",
      "Epoch #393\n",
      "Shape of the data: (141317, 3)\n",
      "    Fit took 6.064649820327759 seconds\n"
     ]
    },
    {
     "name": "stderr",
     "output_type": "stream",
     "text": [
      "\r",
      " 98%|█████████▊| 394/400 [37:33<00:39,  6.56s/it]"
     ]
    },
    {
     "name": "stdout",
     "output_type": "stream",
     "text": [
      "    Predict took 0.34957337379455566 seconds\n",
      "    Update_data took 0.10069012641906738 seconds\n",
      "Shape: (141437, 3)\n",
      "Epoch #394\n",
      "Shape of the data: (141437, 3)\n",
      "    Fit took 6.082256317138672 seconds\n"
     ]
    },
    {
     "name": "stderr",
     "output_type": "stream",
     "text": [
      "\r",
      " 99%|█████████▉| 395/400 [37:40<00:32,  6.58s/it]"
     ]
    },
    {
     "name": "stdout",
     "output_type": "stream",
     "text": [
      "    Predict took 0.35154151916503906 seconds\n",
      "    Update_data took 0.18637323379516602 seconds\n",
      "Shape: (141557, 3)\n",
      "Epoch #395\n",
      "Shape of the data: (141557, 3)\n",
      "    Fit took 6.079428434371948 seconds\n"
     ]
    },
    {
     "name": "stderr",
     "output_type": "stream",
     "text": [
      "\r",
      " 99%|█████████▉| 396/400 [37:47<00:26,  6.56s/it]"
     ]
    },
    {
     "name": "stdout",
     "output_type": "stream",
     "text": [
      "    Predict took 0.3438131809234619 seconds\n",
      "    Update_data took 0.10240936279296875 seconds\n",
      "Shape: (141677, 3)\n",
      "Epoch #396\n",
      "Shape of the data: (141677, 3)\n",
      "    Fit took 6.0837953090667725 seconds\n"
     ]
    },
    {
     "name": "stderr",
     "output_type": "stream",
     "text": [
      "\r",
      " 99%|█████████▉| 397/400 [37:53<00:19,  6.55s/it]"
     ]
    },
    {
     "name": "stdout",
     "output_type": "stream",
     "text": [
      "    Predict took 0.34740281105041504 seconds\n",
      "    Update_data took 0.10014009475708008 seconds\n",
      "Shape: (141797, 3)\n",
      "Epoch #397\n",
      "Shape of the data: (141797, 3)\n",
      "    Fit took 6.19723653793335 seconds\n"
     ]
    },
    {
     "name": "stderr",
     "output_type": "stream",
     "text": [
      "\r",
      "100%|█████████▉| 398/400 [38:00<00:13,  6.58s/it]"
     ]
    },
    {
     "name": "stdout",
     "output_type": "stream",
     "text": [
      "    Predict took 0.33922433853149414 seconds\n",
      "    Update_data took 0.1001436710357666 seconds\n",
      "Shape: (141917, 3)\n",
      "Epoch #398\n",
      "Shape of the data: (141917, 3)\n",
      "    Fit took 6.07514214515686 seconds\n"
     ]
    },
    {
     "name": "stderr",
     "output_type": "stream",
     "text": [
      "\r",
      "100%|█████████▉| 399/400 [38:06<00:06,  6.56s/it]"
     ]
    },
    {
     "name": "stdout",
     "output_type": "stream",
     "text": [
      "    Predict took 0.3430023193359375 seconds\n",
      "    Update_data took 0.09924435615539551 seconds\n",
      "Shape: (142037, 3)\n",
      "Epoch #399\n",
      "Shape of the data: (142037, 3)\n",
      "    Fit took 6.225398302078247 seconds\n"
     ]
    },
    {
     "name": "stderr",
     "output_type": "stream",
     "text": [
      "100%|██████████| 400/400 [38:13<00:00,  5.73s/it]"
     ]
    },
    {
     "name": "stdout",
     "output_type": "stream",
     "text": [
      "    Predict took 0.340745210647583 seconds\n",
      "    Update_data took 0.10008668899536133 seconds\n",
      "Shape: (142157, 3)\n",
      "CPU times: user 38min 14s, sys: 2.35 s, total: 38min 16s\n",
      "Wall time: 38min 13s\n"
     ]
    },
    {
     "name": "stderr",
     "output_type": "stream",
     "text": [
      "\n"
     ]
    }
   ],
   "source": [
    "%%time\n",
    "alg = surprise.SVD()#surprise.SVD(n_epochs=30, lr_all=0.01, reg_all=0.1)#surprise.SVD()\n",
    "evolution2 = simulate(alg, data, sample_users[:10], n_epochs = 400, top_n = 12)"
   ]
  },
  {
   "cell_type": "code",
   "execution_count": 84,
   "metadata": {},
   "outputs": [
    {
     "name": "stderr",
     "output_type": "stream",
     "text": [
      " 10%|█         | 1/10 [01:17<11:39, 77.70s/it]"
     ]
    },
    {
     "name": "stdout",
     "output_type": "stream",
     "text": [
      "Shape: (110397, 3)\n"
     ]
    },
    {
     "name": "stderr",
     "output_type": "stream",
     "text": [
      "\r",
      " 20%|██        | 2/10 [02:38<10:28, 78.54s/it]"
     ]
    },
    {
     "name": "stdout",
     "output_type": "stream",
     "text": [
      "Shape: (125397, 3)\n"
     ]
    },
    {
     "name": "stderr",
     "output_type": "stream",
     "text": [
      "\r",
      " 30%|███       | 3/10 [03:58<09:14, 79.17s/it]"
     ]
    },
    {
     "name": "stdout",
     "output_type": "stream",
     "text": [
      "Shape: (140397, 3)\n"
     ]
    },
    {
     "name": "stderr",
     "output_type": "stream",
     "text": [
      "\r",
      " 40%|████      | 4/10 [05:21<08:01, 80.22s/it]"
     ]
    },
    {
     "name": "stdout",
     "output_type": "stream",
     "text": [
      "Shape: (155397, 3)\n"
     ]
    },
    {
     "name": "stderr",
     "output_type": "stream",
     "text": [
      "\r",
      " 50%|█████     | 5/10 [06:44<06:45, 81.10s/it]"
     ]
    },
    {
     "name": "stdout",
     "output_type": "stream",
     "text": [
      "Shape: (170397, 3)\n"
     ]
    },
    {
     "name": "stderr",
     "output_type": "stream",
     "text": [
      "\r",
      " 60%|██████    | 6/10 [08:09<05:28, 82.17s/it]"
     ]
    },
    {
     "name": "stdout",
     "output_type": "stream",
     "text": [
      "Shape: (185397, 3)\n"
     ]
    },
    {
     "name": "stderr",
     "output_type": "stream",
     "text": [
      "\r",
      " 70%|███████   | 7/10 [09:33<04:08, 82.87s/it]"
     ]
    },
    {
     "name": "stdout",
     "output_type": "stream",
     "text": [
      "Shape: (200397, 3)\n"
     ]
    },
    {
     "name": "stderr",
     "output_type": "stream",
     "text": [
      "\r",
      " 80%|████████  | 8/10 [11:01<02:48, 84.45s/it]"
     ]
    },
    {
     "name": "stdout",
     "output_type": "stream",
     "text": [
      "Shape: (215397, 3)\n"
     ]
    },
    {
     "name": "stderr",
     "output_type": "stream",
     "text": [
      "\r",
      " 90%|█████████ | 9/10 [12:29<01:25, 85.44s/it]"
     ]
    },
    {
     "name": "stdout",
     "output_type": "stream",
     "text": [
      "Shape: (230397, 3)\n"
     ]
    },
    {
     "name": "stderr",
     "output_type": "stream",
     "text": [
      "100%|██████████| 10/10 [14:00<00:00, 84.03s/it]"
     ]
    },
    {
     "name": "stdout",
     "output_type": "stream",
     "text": [
      "Shape: (245397, 3)\n",
      "CPU times: user 14min, sys: 252 ms, total: 14min\n",
      "Wall time: 14min\n"
     ]
    },
    {
     "name": "stderr",
     "output_type": "stream",
     "text": [
      "\n"
     ]
    }
   ],
   "source": [
    "%%time\n",
    "alg = surprise.SVD()\n",
    "evolution1 = simulate(alg, data, sample_users, n_epochs = 10, top_n = 15)"
   ]
  },
  {
   "cell_type": "code",
   "execution_count": 70,
   "metadata": {},
   "outputs": [
    {
     "data": {
      "text/html": [
       "<div>\n",
       "<style scoped>\n",
       "    .dataframe tbody tr th:only-of-type {\n",
       "        vertical-align: middle;\n",
       "    }\n",
       "\n",
       "    .dataframe tbody tr th {\n",
       "        vertical-align: top;\n",
       "    }\n",
       "\n",
       "    .dataframe thead th {\n",
       "        text-align: right;\n",
       "    }\n",
       "</style>\n",
       "<table border=\"1\" class=\"dataframe\">\n",
       "  <thead>\n",
       "    <tr style=\"text-align: right;\">\n",
       "      <th></th>\n",
       "      <th>top_1</th>\n",
       "      <th>top_2</th>\n",
       "      <th>top_3</th>\n",
       "      <th>top_4</th>\n",
       "      <th>top_5</th>\n",
       "      <th>top_6</th>\n",
       "      <th>top_7</th>\n",
       "      <th>top_8</th>\n",
       "      <th>top_9</th>\n",
       "      <th>top_10</th>\n",
       "      <th>top_11</th>\n",
       "      <th>top_12</th>\n",
       "      <th>top_13</th>\n",
       "      <th>top_14</th>\n",
       "      <th>top_15</th>\n",
       "    </tr>\n",
       "  </thead>\n",
       "  <tbody>\n",
       "    <tr>\n",
       "      <th>uid_128088</th>\n",
       "      <td>1203</td>\n",
       "      <td>858</td>\n",
       "      <td>5618</td>\n",
       "      <td>215</td>\n",
       "      <td>1610</td>\n",
       "      <td>2064</td>\n",
       "      <td>3000</td>\n",
       "      <td>678</td>\n",
       "      <td>2019</td>\n",
       "      <td>55820</td>\n",
       "      <td>1234</td>\n",
       "      <td>3089</td>\n",
       "      <td>3507</td>\n",
       "      <td>1207</td>\n",
       "      <td>106100</td>\n",
       "    </tr>\n",
       "    <tr>\n",
       "      <th>uid_267455</th>\n",
       "      <td>1203</td>\n",
       "      <td>318</td>\n",
       "      <td>2019</td>\n",
       "      <td>527</td>\n",
       "      <td>1211</td>\n",
       "      <td>904</td>\n",
       "      <td>1617</td>\n",
       "      <td>50</td>\n",
       "      <td>1136</td>\n",
       "      <td>1276</td>\n",
       "      <td>4973</td>\n",
       "      <td>1198</td>\n",
       "      <td>1262</td>\n",
       "      <td>541</td>\n",
       "      <td>750</td>\n",
       "    </tr>\n",
       "    <tr>\n",
       "      <th>uid_73381</th>\n",
       "      <td>4973</td>\n",
       "      <td>1276</td>\n",
       "      <td>904</td>\n",
       "      <td>912</td>\n",
       "      <td>1204</td>\n",
       "      <td>1256</td>\n",
       "      <td>3730</td>\n",
       "      <td>7361</td>\n",
       "      <td>1203</td>\n",
       "      <td>3949</td>\n",
       "      <td>1250</td>\n",
       "      <td>1262</td>\n",
       "      <td>4848</td>\n",
       "      <td>1244</td>\n",
       "      <td>5971</td>\n",
       "    </tr>\n",
       "    <tr>\n",
       "      <th>uid_117628</th>\n",
       "      <td>1203</td>\n",
       "      <td>5618</td>\n",
       "      <td>904</td>\n",
       "      <td>2019</td>\n",
       "      <td>44555</td>\n",
       "      <td>2804</td>\n",
       "      <td>912</td>\n",
       "      <td>1617</td>\n",
       "      <td>356</td>\n",
       "      <td>1732</td>\n",
       "      <td>1262</td>\n",
       "      <td>2959</td>\n",
       "      <td>1193</td>\n",
       "      <td>2324</td>\n",
       "      <td>3911</td>\n",
       "    </tr>\n",
       "    <tr>\n",
       "      <th>uid_21453</th>\n",
       "      <td>260</td>\n",
       "      <td>296</td>\n",
       "      <td>527</td>\n",
       "      <td>1276</td>\n",
       "      <td>1210</td>\n",
       "      <td>1196</td>\n",
       "      <td>79132</td>\n",
       "      <td>318</td>\n",
       "      <td>904</td>\n",
       "      <td>2019</td>\n",
       "      <td>110</td>\n",
       "      <td>1198</td>\n",
       "      <td>899</td>\n",
       "      <td>4848</td>\n",
       "      <td>1291</td>\n",
       "    </tr>\n",
       "    <tr>\n",
       "      <th>...</th>\n",
       "      <td>...</td>\n",
       "      <td>...</td>\n",
       "      <td>...</td>\n",
       "      <td>...</td>\n",
       "      <td>...</td>\n",
       "      <td>...</td>\n",
       "      <td>...</td>\n",
       "      <td>...</td>\n",
       "      <td>...</td>\n",
       "      <td>...</td>\n",
       "      <td>...</td>\n",
       "      <td>...</td>\n",
       "      <td>...</td>\n",
       "      <td>...</td>\n",
       "      <td>...</td>\n",
       "    </tr>\n",
       "    <tr>\n",
       "      <th>uid_182815</th>\n",
       "      <td>908</td>\n",
       "      <td>1203</td>\n",
       "      <td>1256</td>\n",
       "      <td>2019</td>\n",
       "      <td>904</td>\n",
       "      <td>1276</td>\n",
       "      <td>1208</td>\n",
       "      <td>306</td>\n",
       "      <td>50</td>\n",
       "      <td>5291</td>\n",
       "      <td>1250</td>\n",
       "      <td>1193</td>\n",
       "      <td>48516</td>\n",
       "      <td>1262</td>\n",
       "      <td>1204</td>\n",
       "    </tr>\n",
       "    <tr>\n",
       "      <th>uid_254394</th>\n",
       "      <td>2019</td>\n",
       "      <td>5618</td>\n",
       "      <td>1203</td>\n",
       "      <td>1136</td>\n",
       "      <td>50</td>\n",
       "      <td>1196</td>\n",
       "      <td>2959</td>\n",
       "      <td>2324</td>\n",
       "      <td>1200</td>\n",
       "      <td>1208</td>\n",
       "      <td>1732</td>\n",
       "      <td>1276</td>\n",
       "      <td>1234</td>\n",
       "      <td>1089</td>\n",
       "      <td>1193</td>\n",
       "    </tr>\n",
       "    <tr>\n",
       "      <th>uid_269446</th>\n",
       "      <td>2132</td>\n",
       "      <td>1233</td>\n",
       "      <td>5291</td>\n",
       "      <td>924</td>\n",
       "      <td>1204</td>\n",
       "      <td>858</td>\n",
       "      <td>3435</td>\n",
       "      <td>1276</td>\n",
       "      <td>904</td>\n",
       "      <td>1291</td>\n",
       "      <td>4848</td>\n",
       "      <td>50</td>\n",
       "      <td>1250</td>\n",
       "      <td>5135</td>\n",
       "      <td>1264</td>\n",
       "    </tr>\n",
       "    <tr>\n",
       "      <th>uid_146366</th>\n",
       "      <td>1136</td>\n",
       "      <td>904</td>\n",
       "      <td>2329</td>\n",
       "      <td>318</td>\n",
       "      <td>1276</td>\n",
       "      <td>260</td>\n",
       "      <td>1196</td>\n",
       "      <td>1203</td>\n",
       "      <td>2858</td>\n",
       "      <td>48516</td>\n",
       "      <td>541</td>\n",
       "      <td>4973</td>\n",
       "      <td>1617</td>\n",
       "      <td>2959</td>\n",
       "      <td>2019</td>\n",
       "    </tr>\n",
       "    <tr>\n",
       "      <th>uid_88729</th>\n",
       "      <td>912</td>\n",
       "      <td>1203</td>\n",
       "      <td>5618</td>\n",
       "      <td>904</td>\n",
       "      <td>3000</td>\n",
       "      <td>2019</td>\n",
       "      <td>2324</td>\n",
       "      <td>56782</td>\n",
       "      <td>1250</td>\n",
       "      <td>1260</td>\n",
       "      <td>2804</td>\n",
       "      <td>1211</td>\n",
       "      <td>858</td>\n",
       "      <td>1237</td>\n",
       "      <td>541</td>\n",
       "    </tr>\n",
       "  </tbody>\n",
       "</table>\n",
       "<p>100 rows × 15 columns</p>\n",
       "</div>"
      ],
      "text/plain": [
       "            top_1  top_2  top_3  top_4  top_5  top_6  top_7  top_8  top_9  \\\n",
       "uid_128088   1203    858   5618    215   1610   2064   3000    678   2019   \n",
       "uid_267455   1203    318   2019    527   1211    904   1617     50   1136   \n",
       "uid_73381    4973   1276    904    912   1204   1256   3730   7361   1203   \n",
       "uid_117628   1203   5618    904   2019  44555   2804    912   1617    356   \n",
       "uid_21453     260    296    527   1276   1210   1196  79132    318    904   \n",
       "...           ...    ...    ...    ...    ...    ...    ...    ...    ...   \n",
       "uid_182815    908   1203   1256   2019    904   1276   1208    306     50   \n",
       "uid_254394   2019   5618   1203   1136     50   1196   2959   2324   1200   \n",
       "uid_269446   2132   1233   5291    924   1204    858   3435   1276    904   \n",
       "uid_146366   1136    904   2329    318   1276    260   1196   1203   2858   \n",
       "uid_88729     912   1203   5618    904   3000   2019   2324  56782   1250   \n",
       "\n",
       "            top_10  top_11  top_12  top_13  top_14  top_15  \n",
       "uid_128088   55820    1234    3089    3507    1207  106100  \n",
       "uid_267455    1276    4973    1198    1262     541     750  \n",
       "uid_73381     3949    1250    1262    4848    1244    5971  \n",
       "uid_117628    1732    1262    2959    1193    2324    3911  \n",
       "uid_21453     2019     110    1198     899    4848    1291  \n",
       "...            ...     ...     ...     ...     ...     ...  \n",
       "uid_182815    5291    1250    1193   48516    1262    1204  \n",
       "uid_254394    1208    1732    1276    1234    1089    1193  \n",
       "uid_269446    1291    4848      50    1250    5135    1264  \n",
       "uid_146366   48516     541    4973    1617    2959    2019  \n",
       "uid_88729     1260    2804    1211     858    1237     541  \n",
       "\n",
       "[100 rows x 15 columns]"
      ]
     },
     "execution_count": 70,
     "metadata": {},
     "output_type": "execute_result"
    }
   ],
   "source": [
    "evolution_of_movies[0]"
   ]
  },
  {
   "cell_type": "code",
   "execution_count": 87,
   "metadata": {},
   "outputs": [],
   "source": [
    "ev = [evolution.mean(axis) for evolution in evolution_of_ratings]"
   ]
  },
  {
   "cell_type": "code",
   "execution_count": 90,
   "metadata": {},
   "outputs": [
    {
     "data": {
      "text/plain": [
       "top_1     4.568710\n",
       "top_2     4.513591\n",
       "top_3     4.479616\n",
       "top_4     4.455062\n",
       "top_5     4.436415\n",
       "top_6     4.422849\n",
       "top_7     4.407443\n",
       "top_8     4.395742\n",
       "top_9     4.386406\n",
       "top_10    4.377715\n",
       "top_11    4.368937\n",
       "top_12    4.360765\n",
       "top_13    4.354200\n",
       "top_14    4.347328\n",
       "top_15    4.341139\n",
       "dtype: float64"
      ]
     },
     "execution_count": 90,
     "metadata": {},
     "output_type": "execute_result"
    }
   ],
   "source": [
    "evolution_of_ratings[0].mean()"
   ]
  },
  {
   "cell_type": "code",
   "execution_count": 95,
   "metadata": {},
   "outputs": [
    {
     "data": {
      "text/plain": [
       "[<matplotlib.lines.Line2D at 0x7f2e5ba132e0>]"
      ]
     },
     "execution_count": 95,
     "metadata": {},
     "output_type": "execute_result"
    },
    {
     "data": {
      "image/png": "[encoded data removed]",
      "text/plain": [
       "<Figure size 432x288 with 1 Axes>"
      ]
     },
     "metadata": {
      "needs_background": "light"
     },
     "output_type": "display_data"
    }
   ],
   "source": [
    "plt.plot(pd.concat(ev, axis = 1).mean())"
   ]
  },
  {
   "cell_type": "code",
   "execution_count": 88,
   "metadata": {},
   "outputs": [
    {
     "data": {
      "text/plain": [
       "[<matplotlib.lines.Line2D at 0x7f2e716407c0>,\n",
       " <matplotlib.lines.Line2D at 0x7f2e71640f10>,\n",
       " <matplotlib.lines.Line2D at 0x7f2e71640af0>,\n",
       " <matplotlib.lines.Line2D at 0x7f2e716401f0>,\n",
       " <matplotlib.lines.Line2D at 0x7f2e5ede7100>,\n",
       " <matplotlib.lines.Line2D at 0x7f2e5ede7490>,\n",
       " <matplotlib.lines.Line2D at 0x7f2e5ede7460>,\n",
       " <matplotlib.lines.Line2D at 0x7f2e5ede7730>,\n",
       " <matplotlib.lines.Line2D at 0x7f2e5ede79a0>,\n",
       " <matplotlib.lines.Line2D at 0x7f2e5edd0760>,\n",
       " <matplotlib.lines.Line2D at 0x7f2e71653f40>,\n",
       " <matplotlib.lines.Line2D at 0x7f2e5edd0dc0>,\n",
       " <matplotlib.lines.Line2D at 0x7f2e5edd0cd0>,\n",
       " <matplotlib.lines.Line2D at 0x7f2e5edd8a60>,\n",
       " <matplotlib.lines.Line2D at 0x7f2e5edd8eb0>]"
      ]
     },
     "execution_count": 88,
     "metadata": {},
     "output_type": "execute_result"
    },
    {
     "data": {
      "image/png": "[encoded data removed]",
      "text/plain": [
       "<Figure size 432x288 with 1 Axes>"
      ]
     },
     "metadata": {
      "needs_background": "light"
     },
     "output_type": "display_data"
    }
   ],
   "source": [
    "%matplotlib inline\n",
    "import matplotlib.pyplot as plt\n",
    "plt.plot(ev)"
   ]
  },
  {
   "cell_type": "code",
   "execution_count": 47,
   "metadata": {},
   "outputs": [
    {
     "data": {
      "text/html": [
       "<div>\n",
       "<style scoped>\n",
       "    .dataframe tbody tr th:only-of-type {\n",
       "        vertical-align: middle;\n",
       "    }\n",
       "\n",
       "    .dataframe tbody tr th {\n",
       "        vertical-align: top;\n",
       "    }\n",
       "\n",
       "    .dataframe thead th {\n",
       "        text-align: right;\n",
       "    }\n",
       "</style>\n",
       "<table border=\"1\" class=\"dataframe\">\n",
       "  <thead>\n",
       "    <tr style=\"text-align: right;\">\n",
       "      <th></th>\n",
       "      <th>top_1</th>\n",
       "      <th>top_2</th>\n",
       "      <th>top_3</th>\n",
       "      <th>top_4</th>\n",
       "      <th>top_5</th>\n",
       "      <th>top_6</th>\n",
       "      <th>top_7</th>\n",
       "      <th>top_8</th>\n",
       "      <th>top_9</th>\n",
       "      <th>top_10</th>\n",
       "      <th>...</th>\n",
       "      <th>top_61</th>\n",
       "      <th>top_62</th>\n",
       "      <th>top_63</th>\n",
       "      <th>top_64</th>\n",
       "      <th>top_65</th>\n",
       "      <th>top_66</th>\n",
       "      <th>top_67</th>\n",
       "      <th>top_68</th>\n",
       "      <th>top_69</th>\n",
       "      <th>top_70</th>\n",
       "    </tr>\n",
       "  </thead>\n",
       "  <tbody>\n",
       "    <tr>\n",
       "      <th>uid_128088</th>\n",
       "      <td>4.650692</td>\n",
       "      <td>4.649161</td>\n",
       "      <td>4.616331</td>\n",
       "      <td>4.615441</td>\n",
       "      <td>4.596056</td>\n",
       "      <td>4.594352</td>\n",
       "      <td>4.589970</td>\n",
       "      <td>4.589406</td>\n",
       "      <td>4.588445</td>\n",
       "      <td>4.587890</td>\n",
       "      <td>...</td>\n",
       "      <td>4.506167</td>\n",
       "      <td>4.505651</td>\n",
       "      <td>4.504607</td>\n",
       "      <td>4.504598</td>\n",
       "      <td>4.503761</td>\n",
       "      <td>4.502584</td>\n",
       "      <td>4.502310</td>\n",
       "      <td>4.502257</td>\n",
       "      <td>4.502024</td>\n",
       "      <td>4.501986</td>\n",
       "    </tr>\n",
       "    <tr>\n",
       "      <th>uid_267455</th>\n",
       "      <td>4.305471</td>\n",
       "      <td>4.301026</td>\n",
       "      <td>4.297292</td>\n",
       "      <td>4.296194</td>\n",
       "      <td>4.285482</td>\n",
       "      <td>4.284172</td>\n",
       "      <td>4.276015</td>\n",
       "      <td>4.274782</td>\n",
       "      <td>4.272125</td>\n",
       "      <td>4.271817</td>\n",
       "      <td>...</td>\n",
       "      <td>4.213039</td>\n",
       "      <td>4.212140</td>\n",
       "      <td>4.212131</td>\n",
       "      <td>4.211586</td>\n",
       "      <td>4.208626</td>\n",
       "      <td>4.207814</td>\n",
       "      <td>4.207559</td>\n",
       "      <td>4.207558</td>\n",
       "      <td>4.207414</td>\n",
       "      <td>4.207317</td>\n",
       "    </tr>\n",
       "    <tr>\n",
       "      <th>uid_73381</th>\n",
       "      <td>4.349210</td>\n",
       "      <td>4.338031</td>\n",
       "      <td>4.336620</td>\n",
       "      <td>4.321699</td>\n",
       "      <td>4.321244</td>\n",
       "      <td>4.313539</td>\n",
       "      <td>4.307417</td>\n",
       "      <td>4.305100</td>\n",
       "      <td>4.303597</td>\n",
       "      <td>4.303392</td>\n",
       "      <td>...</td>\n",
       "      <td>4.253491</td>\n",
       "      <td>4.253299</td>\n",
       "      <td>4.249721</td>\n",
       "      <td>4.249629</td>\n",
       "      <td>4.248288</td>\n",
       "      <td>4.247994</td>\n",
       "      <td>4.246197</td>\n",
       "      <td>4.246163</td>\n",
       "      <td>4.245552</td>\n",
       "      <td>4.243743</td>\n",
       "    </tr>\n",
       "    <tr>\n",
       "      <th>uid_117628</th>\n",
       "      <td>4.204550</td>\n",
       "      <td>4.202176</td>\n",
       "      <td>4.196797</td>\n",
       "      <td>4.196415</td>\n",
       "      <td>4.185781</td>\n",
       "      <td>4.185253</td>\n",
       "      <td>4.183219</td>\n",
       "      <td>4.179440</td>\n",
       "      <td>4.178827</td>\n",
       "      <td>4.177018</td>\n",
       "      <td>...</td>\n",
       "      <td>4.145024</td>\n",
       "      <td>4.143894</td>\n",
       "      <td>4.143781</td>\n",
       "      <td>4.143696</td>\n",
       "      <td>4.142351</td>\n",
       "      <td>4.141925</td>\n",
       "      <td>4.141332</td>\n",
       "      <td>4.141132</td>\n",
       "      <td>4.141040</td>\n",
       "      <td>4.140790</td>\n",
       "    </tr>\n",
       "    <tr>\n",
       "      <th>uid_21453</th>\n",
       "      <td>4.257573</td>\n",
       "      <td>4.256428</td>\n",
       "      <td>4.242395</td>\n",
       "      <td>4.233850</td>\n",
       "      <td>4.227485</td>\n",
       "      <td>4.227279</td>\n",
       "      <td>4.225748</td>\n",
       "      <td>4.220630</td>\n",
       "      <td>4.216991</td>\n",
       "      <td>4.213280</td>\n",
       "      <td>...</td>\n",
       "      <td>4.174425</td>\n",
       "      <td>4.174275</td>\n",
       "      <td>4.174062</td>\n",
       "      <td>4.173525</td>\n",
       "      <td>4.173290</td>\n",
       "      <td>4.172800</td>\n",
       "      <td>4.172599</td>\n",
       "      <td>4.172269</td>\n",
       "      <td>4.172170</td>\n",
       "      <td>4.171809</td>\n",
       "    </tr>\n",
       "    <tr>\n",
       "      <th>uid_229622</th>\n",
       "      <td>4.290183</td>\n",
       "      <td>4.257799</td>\n",
       "      <td>4.254654</td>\n",
       "      <td>4.254363</td>\n",
       "      <td>4.251492</td>\n",
       "      <td>4.247464</td>\n",
       "      <td>4.247429</td>\n",
       "      <td>4.245629</td>\n",
       "      <td>4.244134</td>\n",
       "      <td>4.242157</td>\n",
       "      <td>...</td>\n",
       "      <td>4.202805</td>\n",
       "      <td>4.202561</td>\n",
       "      <td>4.202460</td>\n",
       "      <td>4.202309</td>\n",
       "      <td>4.202237</td>\n",
       "      <td>4.201444</td>\n",
       "      <td>4.201187</td>\n",
       "      <td>4.200155</td>\n",
       "      <td>4.199439</td>\n",
       "      <td>4.198274</td>\n",
       "    </tr>\n",
       "    <tr>\n",
       "      <th>uid_167368</th>\n",
       "      <td>4.812387</td>\n",
       "      <td>4.792214</td>\n",
       "      <td>4.775241</td>\n",
       "      <td>4.771976</td>\n",
       "      <td>4.770697</td>\n",
       "      <td>4.769690</td>\n",
       "      <td>4.767356</td>\n",
       "      <td>4.758998</td>\n",
       "      <td>4.754671</td>\n",
       "      <td>4.752541</td>\n",
       "      <td>...</td>\n",
       "      <td>4.694561</td>\n",
       "      <td>4.694387</td>\n",
       "      <td>4.693647</td>\n",
       "      <td>4.693459</td>\n",
       "      <td>4.692391</td>\n",
       "      <td>4.691842</td>\n",
       "      <td>4.691225</td>\n",
       "      <td>4.691085</td>\n",
       "      <td>4.690373</td>\n",
       "      <td>4.690299</td>\n",
       "    </tr>\n",
       "    <tr>\n",
       "      <th>uid_21772</th>\n",
       "      <td>4.286947</td>\n",
       "      <td>4.281706</td>\n",
       "      <td>4.278850</td>\n",
       "      <td>4.276237</td>\n",
       "      <td>4.272594</td>\n",
       "      <td>4.269352</td>\n",
       "      <td>4.268474</td>\n",
       "      <td>4.266694</td>\n",
       "      <td>4.265045</td>\n",
       "      <td>4.264333</td>\n",
       "      <td>...</td>\n",
       "      <td>4.217089</td>\n",
       "      <td>4.216939</td>\n",
       "      <td>4.216805</td>\n",
       "      <td>4.216358</td>\n",
       "      <td>4.215498</td>\n",
       "      <td>4.215206</td>\n",
       "      <td>4.214997</td>\n",
       "      <td>4.214248</td>\n",
       "      <td>4.213972</td>\n",
       "      <td>4.213722</td>\n",
       "    </tr>\n",
       "    <tr>\n",
       "      <th>uid_176555</th>\n",
       "      <td>4.235021</td>\n",
       "      <td>4.191612</td>\n",
       "      <td>4.186888</td>\n",
       "      <td>4.183321</td>\n",
       "      <td>4.178949</td>\n",
       "      <td>4.177466</td>\n",
       "      <td>4.175609</td>\n",
       "      <td>4.165580</td>\n",
       "      <td>4.164265</td>\n",
       "      <td>4.156556</td>\n",
       "      <td>...</td>\n",
       "      <td>4.103375</td>\n",
       "      <td>4.102600</td>\n",
       "      <td>4.101932</td>\n",
       "      <td>4.101908</td>\n",
       "      <td>4.100172</td>\n",
       "      <td>4.099363</td>\n",
       "      <td>4.098148</td>\n",
       "      <td>4.097881</td>\n",
       "      <td>4.097198</td>\n",
       "      <td>4.096393</td>\n",
       "    </tr>\n",
       "    <tr>\n",
       "      <th>uid_166868</th>\n",
       "      <td>3.249481</td>\n",
       "      <td>3.240295</td>\n",
       "      <td>3.238356</td>\n",
       "      <td>3.238142</td>\n",
       "      <td>3.236836</td>\n",
       "      <td>3.234656</td>\n",
       "      <td>3.232762</td>\n",
       "      <td>3.231254</td>\n",
       "      <td>3.231013</td>\n",
       "      <td>3.226904</td>\n",
       "      <td>...</td>\n",
       "      <td>3.174298</td>\n",
       "      <td>3.172656</td>\n",
       "      <td>3.172651</td>\n",
       "      <td>3.172456</td>\n",
       "      <td>3.172355</td>\n",
       "      <td>3.172276</td>\n",
       "      <td>3.171221</td>\n",
       "      <td>3.170952</td>\n",
       "      <td>3.170405</td>\n",
       "      <td>3.169114</td>\n",
       "    </tr>\n",
       "    <tr>\n",
       "      <th>uid_51695</th>\n",
       "      <td>4.676480</td>\n",
       "      <td>4.667399</td>\n",
       "      <td>4.664783</td>\n",
       "      <td>4.662321</td>\n",
       "      <td>4.661130</td>\n",
       "      <td>4.658933</td>\n",
       "      <td>4.658576</td>\n",
       "      <td>4.653752</td>\n",
       "      <td>4.650013</td>\n",
       "      <td>4.647348</td>\n",
       "      <td>...</td>\n",
       "      <td>4.611043</td>\n",
       "      <td>4.610669</td>\n",
       "      <td>4.610239</td>\n",
       "      <td>4.609890</td>\n",
       "      <td>4.609472</td>\n",
       "      <td>4.609316</td>\n",
       "      <td>4.608775</td>\n",
       "      <td>4.608679</td>\n",
       "      <td>4.608369</td>\n",
       "      <td>4.608151</td>\n",
       "    </tr>\n",
       "    <tr>\n",
       "      <th>uid_282217</th>\n",
       "      <td>4.193864</td>\n",
       "      <td>4.191745</td>\n",
       "      <td>4.177882</td>\n",
       "      <td>4.149595</td>\n",
       "      <td>4.139466</td>\n",
       "      <td>4.139081</td>\n",
       "      <td>4.135038</td>\n",
       "      <td>4.130167</td>\n",
       "      <td>4.125357</td>\n",
       "      <td>4.123763</td>\n",
       "      <td>...</td>\n",
       "      <td>4.075912</td>\n",
       "      <td>4.075906</td>\n",
       "      <td>4.074119</td>\n",
       "      <td>4.074018</td>\n",
       "      <td>4.073826</td>\n",
       "      <td>4.073684</td>\n",
       "      <td>4.073075</td>\n",
       "      <td>4.072083</td>\n",
       "      <td>4.071995</td>\n",
       "      <td>4.071169</td>\n",
       "    </tr>\n",
       "    <tr>\n",
       "      <th>uid_188391</th>\n",
       "      <td>4.003834</td>\n",
       "      <td>3.992665</td>\n",
       "      <td>3.986735</td>\n",
       "      <td>3.986337</td>\n",
       "      <td>3.985955</td>\n",
       "      <td>3.980607</td>\n",
       "      <td>3.977766</td>\n",
       "      <td>3.977097</td>\n",
       "      <td>3.971876</td>\n",
       "      <td>3.969595</td>\n",
       "      <td>...</td>\n",
       "      <td>3.929889</td>\n",
       "      <td>3.929662</td>\n",
       "      <td>3.929084</td>\n",
       "      <td>3.928265</td>\n",
       "      <td>3.928257</td>\n",
       "      <td>3.927634</td>\n",
       "      <td>3.927526</td>\n",
       "      <td>3.926705</td>\n",
       "      <td>3.925886</td>\n",
       "      <td>3.924150</td>\n",
       "    </tr>\n",
       "    <tr>\n",
       "      <th>uid_246431</th>\n",
       "      <td>4.342858</td>\n",
       "      <td>4.325338</td>\n",
       "      <td>4.324020</td>\n",
       "      <td>4.323316</td>\n",
       "      <td>4.320807</td>\n",
       "      <td>4.319943</td>\n",
       "      <td>4.319090</td>\n",
       "      <td>4.318958</td>\n",
       "      <td>4.318811</td>\n",
       "      <td>4.313084</td>\n",
       "      <td>...</td>\n",
       "      <td>4.265277</td>\n",
       "      <td>4.264860</td>\n",
       "      <td>4.264496</td>\n",
       "      <td>4.263855</td>\n",
       "      <td>4.263700</td>\n",
       "      <td>4.263209</td>\n",
       "      <td>4.263189</td>\n",
       "      <td>4.263125</td>\n",
       "      <td>4.262802</td>\n",
       "      <td>4.262476</td>\n",
       "    </tr>\n",
       "    <tr>\n",
       "      <th>uid_92775</th>\n",
       "      <td>4.141268</td>\n",
       "      <td>4.131231</td>\n",
       "      <td>4.123859</td>\n",
       "      <td>4.121603</td>\n",
       "      <td>4.121578</td>\n",
       "      <td>4.119268</td>\n",
       "      <td>4.117702</td>\n",
       "      <td>4.115860</td>\n",
       "      <td>4.115811</td>\n",
       "      <td>4.115674</td>\n",
       "      <td>...</td>\n",
       "      <td>4.064999</td>\n",
       "      <td>4.064492</td>\n",
       "      <td>4.063075</td>\n",
       "      <td>4.062732</td>\n",
       "      <td>4.062497</td>\n",
       "      <td>4.062012</td>\n",
       "      <td>4.061264</td>\n",
       "      <td>4.061176</td>\n",
       "      <td>4.060992</td>\n",
       "      <td>4.060978</td>\n",
       "    </tr>\n",
       "    <tr>\n",
       "      <th>uid_221239</th>\n",
       "      <td>4.190268</td>\n",
       "      <td>4.178501</td>\n",
       "      <td>4.173024</td>\n",
       "      <td>4.163764</td>\n",
       "      <td>4.159691</td>\n",
       "      <td>4.155563</td>\n",
       "      <td>4.154729</td>\n",
       "      <td>4.152810</td>\n",
       "      <td>4.147123</td>\n",
       "      <td>4.145243</td>\n",
       "      <td>...</td>\n",
       "      <td>4.105186</td>\n",
       "      <td>4.105046</td>\n",
       "      <td>4.104501</td>\n",
       "      <td>4.104376</td>\n",
       "      <td>4.103228</td>\n",
       "      <td>4.103161</td>\n",
       "      <td>4.102972</td>\n",
       "      <td>4.102896</td>\n",
       "      <td>4.101994</td>\n",
       "      <td>4.101784</td>\n",
       "    </tr>\n",
       "    <tr>\n",
       "      <th>uid_148267</th>\n",
       "      <td>3.799154</td>\n",
       "      <td>3.798231</td>\n",
       "      <td>3.797171</td>\n",
       "      <td>3.792252</td>\n",
       "      <td>3.790305</td>\n",
       "      <td>3.789219</td>\n",
       "      <td>3.789071</td>\n",
       "      <td>3.786133</td>\n",
       "      <td>3.783374</td>\n",
       "      <td>3.783181</td>\n",
       "      <td>...</td>\n",
       "      <td>3.744180</td>\n",
       "      <td>3.744155</td>\n",
       "      <td>3.743934</td>\n",
       "      <td>3.742694</td>\n",
       "      <td>3.741278</td>\n",
       "      <td>3.740765</td>\n",
       "      <td>3.740751</td>\n",
       "      <td>3.740458</td>\n",
       "      <td>3.739788</td>\n",
       "      <td>3.738977</td>\n",
       "    </tr>\n",
       "    <tr>\n",
       "      <th>uid_26118</th>\n",
       "      <td>4.241412</td>\n",
       "      <td>4.136029</td>\n",
       "      <td>4.134059</td>\n",
       "      <td>4.131838</td>\n",
       "      <td>4.128512</td>\n",
       "      <td>4.125059</td>\n",
       "      <td>4.123375</td>\n",
       "      <td>4.121200</td>\n",
       "      <td>4.116404</td>\n",
       "      <td>4.113439</td>\n",
       "      <td>...</td>\n",
       "      <td>4.046157</td>\n",
       "      <td>4.046102</td>\n",
       "      <td>4.044908</td>\n",
       "      <td>4.044740</td>\n",
       "      <td>4.043448</td>\n",
       "      <td>4.042559</td>\n",
       "      <td>4.041461</td>\n",
       "      <td>4.041145</td>\n",
       "      <td>4.040468</td>\n",
       "      <td>4.040141</td>\n",
       "    </tr>\n",
       "    <tr>\n",
       "      <th>uid_175652</th>\n",
       "      <td>4.482136</td>\n",
       "      <td>4.477250</td>\n",
       "      <td>4.476849</td>\n",
       "      <td>4.474499</td>\n",
       "      <td>4.465960</td>\n",
       "      <td>4.452909</td>\n",
       "      <td>4.451750</td>\n",
       "      <td>4.451333</td>\n",
       "      <td>4.451182</td>\n",
       "      <td>4.449442</td>\n",
       "      <td>...</td>\n",
       "      <td>4.402413</td>\n",
       "      <td>4.402147</td>\n",
       "      <td>4.400118</td>\n",
       "      <td>4.399251</td>\n",
       "      <td>4.399039</td>\n",
       "      <td>4.398319</td>\n",
       "      <td>4.398036</td>\n",
       "      <td>4.397373</td>\n",
       "      <td>4.397249</td>\n",
       "      <td>4.395860</td>\n",
       "    </tr>\n",
       "    <tr>\n",
       "      <th>uid_120855</th>\n",
       "      <td>4.859455</td>\n",
       "      <td>4.812898</td>\n",
       "      <td>4.798932</td>\n",
       "      <td>4.776943</td>\n",
       "      <td>4.768636</td>\n",
       "      <td>4.762967</td>\n",
       "      <td>4.752519</td>\n",
       "      <td>4.730770</td>\n",
       "      <td>4.721542</td>\n",
       "      <td>4.716196</td>\n",
       "      <td>...</td>\n",
       "      <td>4.560893</td>\n",
       "      <td>4.560685</td>\n",
       "      <td>4.559666</td>\n",
       "      <td>4.559164</td>\n",
       "      <td>4.558719</td>\n",
       "      <td>4.554862</td>\n",
       "      <td>4.552591</td>\n",
       "      <td>4.549002</td>\n",
       "      <td>4.546507</td>\n",
       "      <td>4.542368</td>\n",
       "    </tr>\n",
       "    <tr>\n",
       "      <th>uid_99370</th>\n",
       "      <td>4.085818</td>\n",
       "      <td>4.057812</td>\n",
       "      <td>4.056073</td>\n",
       "      <td>4.050020</td>\n",
       "      <td>4.048983</td>\n",
       "      <td>4.043119</td>\n",
       "      <td>4.042953</td>\n",
       "      <td>4.038746</td>\n",
       "      <td>4.038718</td>\n",
       "      <td>4.038297</td>\n",
       "      <td>...</td>\n",
       "      <td>3.989939</td>\n",
       "      <td>3.989814</td>\n",
       "      <td>3.989637</td>\n",
       "      <td>3.989228</td>\n",
       "      <td>3.988574</td>\n",
       "      <td>3.988490</td>\n",
       "      <td>3.987516</td>\n",
       "      <td>3.986984</td>\n",
       "      <td>3.986869</td>\n",
       "      <td>3.986319</td>\n",
       "    </tr>\n",
       "    <tr>\n",
       "      <th>uid_117610</th>\n",
       "      <td>4.833778</td>\n",
       "      <td>4.741587</td>\n",
       "      <td>4.708977</td>\n",
       "      <td>4.700605</td>\n",
       "      <td>4.698788</td>\n",
       "      <td>4.674891</td>\n",
       "      <td>4.674064</td>\n",
       "      <td>4.673722</td>\n",
       "      <td>4.663398</td>\n",
       "      <td>4.662529</td>\n",
       "      <td>...</td>\n",
       "      <td>4.577733</td>\n",
       "      <td>4.577325</td>\n",
       "      <td>4.576228</td>\n",
       "      <td>4.575781</td>\n",
       "      <td>4.574514</td>\n",
       "      <td>4.574424</td>\n",
       "      <td>4.573534</td>\n",
       "      <td>4.573439</td>\n",
       "      <td>4.573223</td>\n",
       "      <td>4.572785</td>\n",
       "    </tr>\n",
       "    <tr>\n",
       "      <th>uid_265869</th>\n",
       "      <td>4.048817</td>\n",
       "      <td>4.038348</td>\n",
       "      <td>4.037575</td>\n",
       "      <td>4.034349</td>\n",
       "      <td>4.032968</td>\n",
       "      <td>4.032455</td>\n",
       "      <td>4.027361</td>\n",
       "      <td>4.024936</td>\n",
       "      <td>4.023681</td>\n",
       "      <td>4.022322</td>\n",
       "      <td>...</td>\n",
       "      <td>3.978314</td>\n",
       "      <td>3.978150</td>\n",
       "      <td>3.977365</td>\n",
       "      <td>3.976897</td>\n",
       "      <td>3.976069</td>\n",
       "      <td>3.975427</td>\n",
       "      <td>3.975183</td>\n",
       "      <td>3.975142</td>\n",
       "      <td>3.975132</td>\n",
       "      <td>3.975080</td>\n",
       "    </tr>\n",
       "    <tr>\n",
       "      <th>uid_199247</th>\n",
       "      <td>4.102031</td>\n",
       "      <td>4.036655</td>\n",
       "      <td>4.036148</td>\n",
       "      <td>4.028937</td>\n",
       "      <td>4.023801</td>\n",
       "      <td>4.018478</td>\n",
       "      <td>4.004575</td>\n",
       "      <td>4.003911</td>\n",
       "      <td>3.998442</td>\n",
       "      <td>3.996827</td>\n",
       "      <td>...</td>\n",
       "      <td>3.919086</td>\n",
       "      <td>3.918767</td>\n",
       "      <td>3.918361</td>\n",
       "      <td>3.917488</td>\n",
       "      <td>3.916846</td>\n",
       "      <td>3.916396</td>\n",
       "      <td>3.915409</td>\n",
       "      <td>3.915325</td>\n",
       "      <td>3.914691</td>\n",
       "      <td>3.913448</td>\n",
       "    </tr>\n",
       "    <tr>\n",
       "      <th>uid_128947</th>\n",
       "      <td>4.559255</td>\n",
       "      <td>4.553566</td>\n",
       "      <td>4.530854</td>\n",
       "      <td>4.524355</td>\n",
       "      <td>4.522824</td>\n",
       "      <td>4.511222</td>\n",
       "      <td>4.508805</td>\n",
       "      <td>4.502706</td>\n",
       "      <td>4.501942</td>\n",
       "      <td>4.482439</td>\n",
       "      <td>...</td>\n",
       "      <td>4.448810</td>\n",
       "      <td>4.448213</td>\n",
       "      <td>4.446683</td>\n",
       "      <td>4.446588</td>\n",
       "      <td>4.444691</td>\n",
       "      <td>4.444579</td>\n",
       "      <td>4.443353</td>\n",
       "      <td>4.442873</td>\n",
       "      <td>4.441914</td>\n",
       "      <td>4.441884</td>\n",
       "    </tr>\n",
       "    <tr>\n",
       "      <th>uid_194844</th>\n",
       "      <td>4.163091</td>\n",
       "      <td>4.156441</td>\n",
       "      <td>4.152857</td>\n",
       "      <td>4.151851</td>\n",
       "      <td>4.142652</td>\n",
       "      <td>4.141151</td>\n",
       "      <td>4.137254</td>\n",
       "      <td>4.133420</td>\n",
       "      <td>4.131777</td>\n",
       "      <td>4.129328</td>\n",
       "      <td>...</td>\n",
       "      <td>4.036562</td>\n",
       "      <td>4.034057</td>\n",
       "      <td>4.033846</td>\n",
       "      <td>4.030582</td>\n",
       "      <td>4.030359</td>\n",
       "      <td>4.030323</td>\n",
       "      <td>4.029209</td>\n",
       "      <td>4.027624</td>\n",
       "      <td>4.027225</td>\n",
       "      <td>4.026207</td>\n",
       "    </tr>\n",
       "    <tr>\n",
       "      <th>uid_58100</th>\n",
       "      <td>4.399762</td>\n",
       "      <td>4.399696</td>\n",
       "      <td>4.391999</td>\n",
       "      <td>4.386943</td>\n",
       "      <td>4.383553</td>\n",
       "      <td>4.376942</td>\n",
       "      <td>4.375417</td>\n",
       "      <td>4.373822</td>\n",
       "      <td>4.373803</td>\n",
       "      <td>4.370617</td>\n",
       "      <td>...</td>\n",
       "      <td>4.334487</td>\n",
       "      <td>4.333896</td>\n",
       "      <td>4.333569</td>\n",
       "      <td>4.333415</td>\n",
       "      <td>4.333374</td>\n",
       "      <td>4.333174</td>\n",
       "      <td>4.332626</td>\n",
       "      <td>4.331922</td>\n",
       "      <td>4.331685</td>\n",
       "      <td>4.331082</td>\n",
       "    </tr>\n",
       "    <tr>\n",
       "      <th>uid_131556</th>\n",
       "      <td>3.982619</td>\n",
       "      <td>3.982319</td>\n",
       "      <td>3.970062</td>\n",
       "      <td>3.968069</td>\n",
       "      <td>3.965521</td>\n",
       "      <td>3.965374</td>\n",
       "      <td>3.962805</td>\n",
       "      <td>3.961875</td>\n",
       "      <td>3.960464</td>\n",
       "      <td>3.959173</td>\n",
       "      <td>...</td>\n",
       "      <td>3.913141</td>\n",
       "      <td>3.911649</td>\n",
       "      <td>3.911221</td>\n",
       "      <td>3.910755</td>\n",
       "      <td>3.910033</td>\n",
       "      <td>3.909415</td>\n",
       "      <td>3.909186</td>\n",
       "      <td>3.908072</td>\n",
       "      <td>3.908004</td>\n",
       "      <td>3.906501</td>\n",
       "    </tr>\n",
       "    <tr>\n",
       "      <th>uid_167980</th>\n",
       "      <td>3.867965</td>\n",
       "      <td>3.867280</td>\n",
       "      <td>3.866189</td>\n",
       "      <td>3.862184</td>\n",
       "      <td>3.859359</td>\n",
       "      <td>3.859249</td>\n",
       "      <td>3.855675</td>\n",
       "      <td>3.851756</td>\n",
       "      <td>3.850327</td>\n",
       "      <td>3.845589</td>\n",
       "      <td>...</td>\n",
       "      <td>3.791573</td>\n",
       "      <td>3.790680</td>\n",
       "      <td>3.789704</td>\n",
       "      <td>3.789311</td>\n",
       "      <td>3.789150</td>\n",
       "      <td>3.788208</td>\n",
       "      <td>3.787507</td>\n",
       "      <td>3.787390</td>\n",
       "      <td>3.787302</td>\n",
       "      <td>3.787206</td>\n",
       "    </tr>\n",
       "    <tr>\n",
       "      <th>uid_205977</th>\n",
       "      <td>3.497176</td>\n",
       "      <td>3.482591</td>\n",
       "      <td>3.454922</td>\n",
       "      <td>3.449399</td>\n",
       "      <td>3.442424</td>\n",
       "      <td>3.433980</td>\n",
       "      <td>3.431485</td>\n",
       "      <td>3.431008</td>\n",
       "      <td>3.425135</td>\n",
       "      <td>3.422266</td>\n",
       "      <td>...</td>\n",
       "      <td>3.360096</td>\n",
       "      <td>3.359795</td>\n",
       "      <td>3.358949</td>\n",
       "      <td>3.358324</td>\n",
       "      <td>3.358046</td>\n",
       "      <td>3.356355</td>\n",
       "      <td>3.356087</td>\n",
       "      <td>3.356033</td>\n",
       "      <td>3.355215</td>\n",
       "      <td>3.355167</td>\n",
       "    </tr>\n",
       "    <tr>\n",
       "      <th>uid_99817</th>\n",
       "      <td>3.837081</td>\n",
       "      <td>3.772587</td>\n",
       "      <td>3.764997</td>\n",
       "      <td>3.759829</td>\n",
       "      <td>3.759618</td>\n",
       "      <td>3.758666</td>\n",
       "      <td>3.756877</td>\n",
       "      <td>3.755935</td>\n",
       "      <td>3.755002</td>\n",
       "      <td>3.753866</td>\n",
       "      <td>...</td>\n",
       "      <td>3.708037</td>\n",
       "      <td>3.707499</td>\n",
       "      <td>3.706993</td>\n",
       "      <td>3.706975</td>\n",
       "      <td>3.706843</td>\n",
       "      <td>3.706356</td>\n",
       "      <td>3.706273</td>\n",
       "      <td>3.705807</td>\n",
       "      <td>3.705730</td>\n",
       "      <td>3.705726</td>\n",
       "    </tr>\n",
       "    <tr>\n",
       "      <th>uid_16287</th>\n",
       "      <td>4.018786</td>\n",
       "      <td>4.016860</td>\n",
       "      <td>4.011958</td>\n",
       "      <td>4.007997</td>\n",
       "      <td>4.001676</td>\n",
       "      <td>3.998750</td>\n",
       "      <td>3.998063</td>\n",
       "      <td>3.988544</td>\n",
       "      <td>3.985742</td>\n",
       "      <td>3.984941</td>\n",
       "      <td>...</td>\n",
       "      <td>3.933361</td>\n",
       "      <td>3.932350</td>\n",
       "      <td>3.932126</td>\n",
       "      <td>3.931301</td>\n",
       "      <td>3.930719</td>\n",
       "      <td>3.929847</td>\n",
       "      <td>3.929501</td>\n",
       "      <td>3.925383</td>\n",
       "      <td>3.925189</td>\n",
       "      <td>3.923614</td>\n",
       "    </tr>\n",
       "    <tr>\n",
       "      <th>uid_192124</th>\n",
       "      <td>4.112175</td>\n",
       "      <td>4.111190</td>\n",
       "      <td>4.105539</td>\n",
       "      <td>4.104868</td>\n",
       "      <td>4.101318</td>\n",
       "      <td>4.101281</td>\n",
       "      <td>4.100956</td>\n",
       "      <td>4.100694</td>\n",
       "      <td>4.099890</td>\n",
       "      <td>4.098909</td>\n",
       "      <td>...</td>\n",
       "      <td>4.045411</td>\n",
       "      <td>4.045344</td>\n",
       "      <td>4.045064</td>\n",
       "      <td>4.044439</td>\n",
       "      <td>4.043971</td>\n",
       "      <td>4.043547</td>\n",
       "      <td>4.043450</td>\n",
       "      <td>4.043314</td>\n",
       "      <td>4.043218</td>\n",
       "      <td>4.042686</td>\n",
       "    </tr>\n",
       "    <tr>\n",
       "      <th>uid_176713</th>\n",
       "      <td>4.258628</td>\n",
       "      <td>4.258224</td>\n",
       "      <td>4.233409</td>\n",
       "      <td>4.226048</td>\n",
       "      <td>4.224177</td>\n",
       "      <td>4.218610</td>\n",
       "      <td>4.216143</td>\n",
       "      <td>4.213001</td>\n",
       "      <td>4.212312</td>\n",
       "      <td>4.211893</td>\n",
       "      <td>...</td>\n",
       "      <td>4.175186</td>\n",
       "      <td>4.175157</td>\n",
       "      <td>4.174900</td>\n",
       "      <td>4.174684</td>\n",
       "      <td>4.174551</td>\n",
       "      <td>4.174248</td>\n",
       "      <td>4.173978</td>\n",
       "      <td>4.172950</td>\n",
       "      <td>4.172705</td>\n",
       "      <td>4.170767</td>\n",
       "    </tr>\n",
       "    <tr>\n",
       "      <th>uid_130144</th>\n",
       "      <td>3.840281</td>\n",
       "      <td>3.814513</td>\n",
       "      <td>3.812005</td>\n",
       "      <td>3.810074</td>\n",
       "      <td>3.807361</td>\n",
       "      <td>3.800060</td>\n",
       "      <td>3.799929</td>\n",
       "      <td>3.797020</td>\n",
       "      <td>3.792809</td>\n",
       "      <td>3.791760</td>\n",
       "      <td>...</td>\n",
       "      <td>3.748529</td>\n",
       "      <td>3.747855</td>\n",
       "      <td>3.746153</td>\n",
       "      <td>3.745386</td>\n",
       "      <td>3.745308</td>\n",
       "      <td>3.745242</td>\n",
       "      <td>3.744883</td>\n",
       "      <td>3.744798</td>\n",
       "      <td>3.744453</td>\n",
       "      <td>3.744220</td>\n",
       "    </tr>\n",
       "    <tr>\n",
       "      <th>uid_132969</th>\n",
       "      <td>4.455462</td>\n",
       "      <td>4.363811</td>\n",
       "      <td>4.357535</td>\n",
       "      <td>4.355699</td>\n",
       "      <td>4.341771</td>\n",
       "      <td>4.338559</td>\n",
       "      <td>4.332432</td>\n",
       "      <td>4.330285</td>\n",
       "      <td>4.318556</td>\n",
       "      <td>4.317357</td>\n",
       "      <td>...</td>\n",
       "      <td>4.238430</td>\n",
       "      <td>4.237570</td>\n",
       "      <td>4.237536</td>\n",
       "      <td>4.237162</td>\n",
       "      <td>4.236198</td>\n",
       "      <td>4.235071</td>\n",
       "      <td>4.234374</td>\n",
       "      <td>4.233904</td>\n",
       "      <td>4.233527</td>\n",
       "      <td>4.231138</td>\n",
       "    </tr>\n",
       "    <tr>\n",
       "      <th>uid_271816</th>\n",
       "      <td>4.339754</td>\n",
       "      <td>4.313516</td>\n",
       "      <td>4.305668</td>\n",
       "      <td>4.305519</td>\n",
       "      <td>4.301003</td>\n",
       "      <td>4.299421</td>\n",
       "      <td>4.296909</td>\n",
       "      <td>4.291922</td>\n",
       "      <td>4.291794</td>\n",
       "      <td>4.286758</td>\n",
       "      <td>...</td>\n",
       "      <td>4.250820</td>\n",
       "      <td>4.250474</td>\n",
       "      <td>4.250390</td>\n",
       "      <td>4.250193</td>\n",
       "      <td>4.249744</td>\n",
       "      <td>4.249610</td>\n",
       "      <td>4.248070</td>\n",
       "      <td>4.247998</td>\n",
       "      <td>4.247391</td>\n",
       "      <td>4.246700</td>\n",
       "    </tr>\n",
       "    <tr>\n",
       "      <th>uid_95564</th>\n",
       "      <td>4.173066</td>\n",
       "      <td>4.169625</td>\n",
       "      <td>4.146028</td>\n",
       "      <td>4.136509</td>\n",
       "      <td>4.133230</td>\n",
       "      <td>4.133190</td>\n",
       "      <td>4.126650</td>\n",
       "      <td>4.125216</td>\n",
       "      <td>4.118452</td>\n",
       "      <td>4.118254</td>\n",
       "      <td>...</td>\n",
       "      <td>4.069409</td>\n",
       "      <td>4.069263</td>\n",
       "      <td>4.068978</td>\n",
       "      <td>4.068902</td>\n",
       "      <td>4.068892</td>\n",
       "      <td>4.068814</td>\n",
       "      <td>4.067748</td>\n",
       "      <td>4.066830</td>\n",
       "      <td>4.066222</td>\n",
       "      <td>4.065873</td>\n",
       "    </tr>\n",
       "    <tr>\n",
       "      <th>uid_28131</th>\n",
       "      <td>4.094927</td>\n",
       "      <td>4.076667</td>\n",
       "      <td>4.069724</td>\n",
       "      <td>4.067252</td>\n",
       "      <td>4.061342</td>\n",
       "      <td>4.061341</td>\n",
       "      <td>4.056859</td>\n",
       "      <td>4.056240</td>\n",
       "      <td>4.055836</td>\n",
       "      <td>4.053997</td>\n",
       "      <td>...</td>\n",
       "      <td>4.009573</td>\n",
       "      <td>4.009306</td>\n",
       "      <td>4.008923</td>\n",
       "      <td>4.008132</td>\n",
       "      <td>4.007961</td>\n",
       "      <td>4.006826</td>\n",
       "      <td>4.006575</td>\n",
       "      <td>4.006098</td>\n",
       "      <td>4.005839</td>\n",
       "      <td>4.005401</td>\n",
       "    </tr>\n",
       "    <tr>\n",
       "      <th>uid_143440</th>\n",
       "      <td>4.392794</td>\n",
       "      <td>4.390751</td>\n",
       "      <td>4.378184</td>\n",
       "      <td>4.377967</td>\n",
       "      <td>4.376257</td>\n",
       "      <td>4.373973</td>\n",
       "      <td>4.373345</td>\n",
       "      <td>4.367607</td>\n",
       "      <td>4.360787</td>\n",
       "      <td>4.357557</td>\n",
       "      <td>...</td>\n",
       "      <td>4.305248</td>\n",
       "      <td>4.305093</td>\n",
       "      <td>4.304708</td>\n",
       "      <td>4.304650</td>\n",
       "      <td>4.304339</td>\n",
       "      <td>4.301742</td>\n",
       "      <td>4.301487</td>\n",
       "      <td>4.300859</td>\n",
       "      <td>4.300527</td>\n",
       "      <td>4.299895</td>\n",
       "    </tr>\n",
       "    <tr>\n",
       "      <th>uid_208322</th>\n",
       "      <td>3.905896</td>\n",
       "      <td>3.903079</td>\n",
       "      <td>3.903029</td>\n",
       "      <td>3.900595</td>\n",
       "      <td>3.900533</td>\n",
       "      <td>3.897553</td>\n",
       "      <td>3.897152</td>\n",
       "      <td>3.896971</td>\n",
       "      <td>3.894155</td>\n",
       "      <td>3.893357</td>\n",
       "      <td>...</td>\n",
       "      <td>3.855875</td>\n",
       "      <td>3.855392</td>\n",
       "      <td>3.854836</td>\n",
       "      <td>3.854680</td>\n",
       "      <td>3.854480</td>\n",
       "      <td>3.853960</td>\n",
       "      <td>3.853761</td>\n",
       "      <td>3.852970</td>\n",
       "      <td>3.851700</td>\n",
       "      <td>3.850745</td>\n",
       "    </tr>\n",
       "    <tr>\n",
       "      <th>uid_75400</th>\n",
       "      <td>5.000000</td>\n",
       "      <td>5.000000</td>\n",
       "      <td>5.000000</td>\n",
       "      <td>5.000000</td>\n",
       "      <td>5.000000</td>\n",
       "      <td>5.000000</td>\n",
       "      <td>5.000000</td>\n",
       "      <td>5.000000</td>\n",
       "      <td>5.000000</td>\n",
       "      <td>5.000000</td>\n",
       "      <td>...</td>\n",
       "      <td>4.965043</td>\n",
       "      <td>4.963527</td>\n",
       "      <td>4.962580</td>\n",
       "      <td>4.962344</td>\n",
       "      <td>4.962338</td>\n",
       "      <td>4.960946</td>\n",
       "      <td>4.960865</td>\n",
       "      <td>4.960844</td>\n",
       "      <td>4.960577</td>\n",
       "      <td>4.959712</td>\n",
       "    </tr>\n",
       "    <tr>\n",
       "      <th>uid_1049</th>\n",
       "      <td>4.446204</td>\n",
       "      <td>4.442433</td>\n",
       "      <td>4.436971</td>\n",
       "      <td>4.434251</td>\n",
       "      <td>4.432306</td>\n",
       "      <td>4.428139</td>\n",
       "      <td>4.426265</td>\n",
       "      <td>4.425665</td>\n",
       "      <td>4.423987</td>\n",
       "      <td>4.421138</td>\n",
       "      <td>...</td>\n",
       "      <td>4.379801</td>\n",
       "      <td>4.379443</td>\n",
       "      <td>4.379179</td>\n",
       "      <td>4.379026</td>\n",
       "      <td>4.378776</td>\n",
       "      <td>4.377998</td>\n",
       "      <td>4.377566</td>\n",
       "      <td>4.377247</td>\n",
       "      <td>4.376502</td>\n",
       "      <td>4.376488</td>\n",
       "    </tr>\n",
       "    <tr>\n",
       "      <th>uid_112436</th>\n",
       "      <td>4.428219</td>\n",
       "      <td>4.381304</td>\n",
       "      <td>4.373243</td>\n",
       "      <td>4.345184</td>\n",
       "      <td>4.330239</td>\n",
       "      <td>4.327402</td>\n",
       "      <td>4.317390</td>\n",
       "      <td>4.312843</td>\n",
       "      <td>4.311996</td>\n",
       "      <td>4.300890</td>\n",
       "      <td>...</td>\n",
       "      <td>4.206799</td>\n",
       "      <td>4.206141</td>\n",
       "      <td>4.205308</td>\n",
       "      <td>4.203784</td>\n",
       "      <td>4.203513</td>\n",
       "      <td>4.201024</td>\n",
       "      <td>4.200982</td>\n",
       "      <td>4.198910</td>\n",
       "      <td>4.198458</td>\n",
       "      <td>4.197220</td>\n",
       "    </tr>\n",
       "    <tr>\n",
       "      <th>uid_150562</th>\n",
       "      <td>4.711729</td>\n",
       "      <td>4.675100</td>\n",
       "      <td>4.674506</td>\n",
       "      <td>4.665439</td>\n",
       "      <td>4.639203</td>\n",
       "      <td>4.637868</td>\n",
       "      <td>4.628199</td>\n",
       "      <td>4.621522</td>\n",
       "      <td>4.619828</td>\n",
       "      <td>4.615407</td>\n",
       "      <td>...</td>\n",
       "      <td>4.556200</td>\n",
       "      <td>4.555650</td>\n",
       "      <td>4.553925</td>\n",
       "      <td>4.553787</td>\n",
       "      <td>4.553541</td>\n",
       "      <td>4.551856</td>\n",
       "      <td>4.550042</td>\n",
       "      <td>4.549712</td>\n",
       "      <td>4.548970</td>\n",
       "      <td>4.548075</td>\n",
       "    </tr>\n",
       "    <tr>\n",
       "      <th>uid_214234</th>\n",
       "      <td>3.597385</td>\n",
       "      <td>3.581262</td>\n",
       "      <td>3.580241</td>\n",
       "      <td>3.579385</td>\n",
       "      <td>3.567698</td>\n",
       "      <td>3.558941</td>\n",
       "      <td>3.557272</td>\n",
       "      <td>3.556286</td>\n",
       "      <td>3.551765</td>\n",
       "      <td>3.549041</td>\n",
       "      <td>...</td>\n",
       "      <td>3.501483</td>\n",
       "      <td>3.501137</td>\n",
       "      <td>3.500114</td>\n",
       "      <td>3.499902</td>\n",
       "      <td>3.499635</td>\n",
       "      <td>3.498164</td>\n",
       "      <td>3.497807</td>\n",
       "      <td>3.497668</td>\n",
       "      <td>3.497512</td>\n",
       "      <td>3.497371</td>\n",
       "    </tr>\n",
       "    <tr>\n",
       "      <th>uid_238979</th>\n",
       "      <td>4.044143</td>\n",
       "      <td>4.029134</td>\n",
       "      <td>4.028706</td>\n",
       "      <td>4.027030</td>\n",
       "      <td>4.022978</td>\n",
       "      <td>4.022742</td>\n",
       "      <td>4.019767</td>\n",
       "      <td>4.018671</td>\n",
       "      <td>4.017361</td>\n",
       "      <td>4.016626</td>\n",
       "      <td>...</td>\n",
       "      <td>3.981116</td>\n",
       "      <td>3.979008</td>\n",
       "      <td>3.978559</td>\n",
       "      <td>3.978496</td>\n",
       "      <td>3.978347</td>\n",
       "      <td>3.978041</td>\n",
       "      <td>3.977581</td>\n",
       "      <td>3.977529</td>\n",
       "      <td>3.977166</td>\n",
       "      <td>3.976801</td>\n",
       "    </tr>\n",
       "    <tr>\n",
       "      <th>uid_101768</th>\n",
       "      <td>4.218729</td>\n",
       "      <td>4.217112</td>\n",
       "      <td>4.206569</td>\n",
       "      <td>4.205388</td>\n",
       "      <td>4.199470</td>\n",
       "      <td>4.199432</td>\n",
       "      <td>4.198924</td>\n",
       "      <td>4.184213</td>\n",
       "      <td>4.183980</td>\n",
       "      <td>4.182437</td>\n",
       "      <td>...</td>\n",
       "      <td>4.122300</td>\n",
       "      <td>4.120764</td>\n",
       "      <td>4.120736</td>\n",
       "      <td>4.120594</td>\n",
       "      <td>4.119625</td>\n",
       "      <td>4.119316</td>\n",
       "      <td>4.119136</td>\n",
       "      <td>4.119123</td>\n",
       "      <td>4.119087</td>\n",
       "      <td>4.117985</td>\n",
       "    </tr>\n",
       "    <tr>\n",
       "      <th>uid_82109</th>\n",
       "      <td>4.604387</td>\n",
       "      <td>4.568599</td>\n",
       "      <td>4.568105</td>\n",
       "      <td>4.564957</td>\n",
       "      <td>4.546842</td>\n",
       "      <td>4.546466</td>\n",
       "      <td>4.535597</td>\n",
       "      <td>4.532233</td>\n",
       "      <td>4.531292</td>\n",
       "      <td>4.531258</td>\n",
       "      <td>...</td>\n",
       "      <td>4.470673</td>\n",
       "      <td>4.470484</td>\n",
       "      <td>4.470448</td>\n",
       "      <td>4.469935</td>\n",
       "      <td>4.469337</td>\n",
       "      <td>4.469294</td>\n",
       "      <td>4.469269</td>\n",
       "      <td>4.468838</td>\n",
       "      <td>4.468830</td>\n",
       "      <td>4.468308</td>\n",
       "    </tr>\n",
       "    <tr>\n",
       "      <th>uid_20804</th>\n",
       "      <td>4.158885</td>\n",
       "      <td>4.151034</td>\n",
       "      <td>4.138549</td>\n",
       "      <td>4.133008</td>\n",
       "      <td>4.131708</td>\n",
       "      <td>4.130850</td>\n",
       "      <td>4.129763</td>\n",
       "      <td>4.125641</td>\n",
       "      <td>4.123420</td>\n",
       "      <td>4.123111</td>\n",
       "      <td>...</td>\n",
       "      <td>4.093934</td>\n",
       "      <td>4.092794</td>\n",
       "      <td>4.092386</td>\n",
       "      <td>4.089720</td>\n",
       "      <td>4.089184</td>\n",
       "      <td>4.088388</td>\n",
       "      <td>4.084430</td>\n",
       "      <td>4.084345</td>\n",
       "      <td>4.084197</td>\n",
       "      <td>4.083705</td>\n",
       "    </tr>\n",
       "  </tbody>\n",
       "</table>\n",
       "<p>50 rows × 70 columns</p>\n",
       "</div>"
      ],
      "text/plain": [
       "               top_1     top_2     top_3     top_4     top_5     top_6  \\\n",
       "uid_128088  4.650692  4.649161  4.616331  4.615441  4.596056  4.594352   \n",
       "uid_267455  4.305471  4.301026  4.297292  4.296194  4.285482  4.284172   \n",
       "uid_73381   4.349210  4.338031  4.336620  4.321699  4.321244  4.313539   \n",
       "uid_117628  4.204550  4.202176  4.196797  4.196415  4.185781  4.185253   \n",
       "uid_21453   4.257573  4.256428  4.242395  4.233850  4.227485  4.227279   \n",
       "uid_229622  4.290183  4.257799  4.254654  4.254363  4.251492  4.247464   \n",
       "uid_167368  4.812387  4.792214  4.775241  4.771976  4.770697  4.769690   \n",
       "uid_21772   4.286947  4.281706  4.278850  4.276237  4.272594  4.269352   \n",
       "uid_176555  4.235021  4.191612  4.186888  4.183321  4.178949  4.177466   \n",
       "uid_166868  3.249481  3.240295  3.238356  3.238142  3.236836  3.234656   \n",
       "uid_51695   4.676480  4.667399  4.664783  4.662321  4.661130  4.658933   \n",
       "uid_282217  4.193864  4.191745  4.177882  4.149595  4.139466  4.139081   \n",
       "uid_188391  4.003834  3.992665  3.986735  3.986337  3.985955  3.980607   \n",
       "uid_246431  4.342858  4.325338  4.324020  4.323316  4.320807  4.319943   \n",
       "uid_92775   4.141268  4.131231  4.123859  4.121603  4.121578  4.119268   \n",
       "uid_221239  4.190268  4.178501  4.173024  4.163764  4.159691  4.155563   \n",
       "uid_148267  3.799154  3.798231  3.797171  3.792252  3.790305  3.789219   \n",
       "uid_26118   4.241412  4.136029  4.134059  4.131838  4.128512  4.125059   \n",
       "uid_175652  4.482136  4.477250  4.476849  4.474499  4.465960  4.452909   \n",
       "uid_120855  4.859455  4.812898  4.798932  4.776943  4.768636  4.762967   \n",
       "uid_99370   4.085818  4.057812  4.056073  4.050020  4.048983  4.043119   \n",
       "uid_117610  4.833778  4.741587  4.708977  4.700605  4.698788  4.674891   \n",
       "uid_265869  4.048817  4.038348  4.037575  4.034349  4.032968  4.032455   \n",
       "uid_199247  4.102031  4.036655  4.036148  4.028937  4.023801  4.018478   \n",
       "uid_128947  4.559255  4.553566  4.530854  4.524355  4.522824  4.511222   \n",
       "uid_194844  4.163091  4.156441  4.152857  4.151851  4.142652  4.141151   \n",
       "uid_58100   4.399762  4.399696  4.391999  4.386943  4.383553  4.376942   \n",
       "uid_131556  3.982619  3.982319  3.970062  3.968069  3.965521  3.965374   \n",
       "uid_167980  3.867965  3.867280  3.866189  3.862184  3.859359  3.859249   \n",
       "uid_205977  3.497176  3.482591  3.454922  3.449399  3.442424  3.433980   \n",
       "uid_99817   3.837081  3.772587  3.764997  3.759829  3.759618  3.758666   \n",
       "uid_16287   4.018786  4.016860  4.011958  4.007997  4.001676  3.998750   \n",
       "uid_192124  4.112175  4.111190  4.105539  4.104868  4.101318  4.101281   \n",
       "uid_176713  4.258628  4.258224  4.233409  4.226048  4.224177  4.218610   \n",
       "uid_130144  3.840281  3.814513  3.812005  3.810074  3.807361  3.800060   \n",
       "uid_132969  4.455462  4.363811  4.357535  4.355699  4.341771  4.338559   \n",
       "uid_271816  4.339754  4.313516  4.305668  4.305519  4.301003  4.299421   \n",
       "uid_95564   4.173066  4.169625  4.146028  4.136509  4.133230  4.133190   \n",
       "uid_28131   4.094927  4.076667  4.069724  4.067252  4.061342  4.061341   \n",
       "uid_143440  4.392794  4.390751  4.378184  4.377967  4.376257  4.373973   \n",
       "uid_208322  3.905896  3.903079  3.903029  3.900595  3.900533  3.897553   \n",
       "uid_75400   5.000000  5.000000  5.000000  5.000000  5.000000  5.000000   \n",
       "uid_1049    4.446204  4.442433  4.436971  4.434251  4.432306  4.428139   \n",
       "uid_112436  4.428219  4.381304  4.373243  4.345184  4.330239  4.327402   \n",
       "uid_150562  4.711729  4.675100  4.674506  4.665439  4.639203  4.637868   \n",
       "uid_214234  3.597385  3.581262  3.580241  3.579385  3.567698  3.558941   \n",
       "uid_238979  4.044143  4.029134  4.028706  4.027030  4.022978  4.022742   \n",
       "uid_101768  4.218729  4.217112  4.206569  4.205388  4.199470  4.199432   \n",
       "uid_82109   4.604387  4.568599  4.568105  4.564957  4.546842  4.546466   \n",
       "uid_20804   4.158885  4.151034  4.138549  4.133008  4.131708  4.130850   \n",
       "\n",
       "               top_7     top_8     top_9    top_10  ...    top_61    top_62  \\\n",
       "uid_128088  4.589970  4.589406  4.588445  4.587890  ...  4.506167  4.505651   \n",
       "uid_267455  4.276015  4.274782  4.272125  4.271817  ...  4.213039  4.212140   \n",
       "uid_73381   4.307417  4.305100  4.303597  4.303392  ...  4.253491  4.253299   \n",
       "uid_117628  4.183219  4.179440  4.178827  4.177018  ...  4.145024  4.143894   \n",
       "uid_21453   4.225748  4.220630  4.216991  4.213280  ...  4.174425  4.174275   \n",
       "uid_229622  4.247429  4.245629  4.244134  4.242157  ...  4.202805  4.202561   \n",
       "uid_167368  4.767356  4.758998  4.754671  4.752541  ...  4.694561  4.694387   \n",
       "uid_21772   4.268474  4.266694  4.265045  4.264333  ...  4.217089  4.216939   \n",
       "uid_176555  4.175609  4.165580  4.164265  4.156556  ...  4.103375  4.102600   \n",
       "uid_166868  3.232762  3.231254  3.231013  3.226904  ...  3.174298  3.172656   \n",
       "uid_51695   4.658576  4.653752  4.650013  4.647348  ...  4.611043  4.610669   \n",
       "uid_282217  4.135038  4.130167  4.125357  4.123763  ...  4.075912  4.075906   \n",
       "uid_188391  3.977766  3.977097  3.971876  3.969595  ...  3.929889  3.929662   \n",
       "uid_246431  4.319090  4.318958  4.318811  4.313084  ...  4.265277  4.264860   \n",
       "uid_92775   4.117702  4.115860  4.115811  4.115674  ...  4.064999  4.064492   \n",
       "uid_221239  4.154729  4.152810  4.147123  4.145243  ...  4.105186  4.105046   \n",
       "uid_148267  3.789071  3.786133  3.783374  3.783181  ...  3.744180  3.744155   \n",
       "uid_26118   4.123375  4.121200  4.116404  4.113439  ...  4.046157  4.046102   \n",
       "uid_175652  4.451750  4.451333  4.451182  4.449442  ...  4.402413  4.402147   \n",
       "uid_120855  4.752519  4.730770  4.721542  4.716196  ...  4.560893  4.560685   \n",
       "uid_99370   4.042953  4.038746  4.038718  4.038297  ...  3.989939  3.989814   \n",
       "uid_117610  4.674064  4.673722  4.663398  4.662529  ...  4.577733  4.577325   \n",
       "uid_265869  4.027361  4.024936  4.023681  4.022322  ...  3.978314  3.978150   \n",
       "uid_199247  4.004575  4.003911  3.998442  3.996827  ...  3.919086  3.918767   \n",
       "uid_128947  4.508805  4.502706  4.501942  4.482439  ...  4.448810  4.448213   \n",
       "uid_194844  4.137254  4.133420  4.131777  4.129328  ...  4.036562  4.034057   \n",
       "uid_58100   4.375417  4.373822  4.373803  4.370617  ...  4.334487  4.333896   \n",
       "uid_131556  3.962805  3.961875  3.960464  3.959173  ...  3.913141  3.911649   \n",
       "uid_167980  3.855675  3.851756  3.850327  3.845589  ...  3.791573  3.790680   \n",
       "uid_205977  3.431485  3.431008  3.425135  3.422266  ...  3.360096  3.359795   \n",
       "uid_99817   3.756877  3.755935  3.755002  3.753866  ...  3.708037  3.707499   \n",
       "uid_16287   3.998063  3.988544  3.985742  3.984941  ...  3.933361  3.932350   \n",
       "uid_192124  4.100956  4.100694  4.099890  4.098909  ...  4.045411  4.045344   \n",
       "uid_176713  4.216143  4.213001  4.212312  4.211893  ...  4.175186  4.175157   \n",
       "uid_130144  3.799929  3.797020  3.792809  3.791760  ...  3.748529  3.747855   \n",
       "uid_132969  4.332432  4.330285  4.318556  4.317357  ...  4.238430  4.237570   \n",
       "uid_271816  4.296909  4.291922  4.291794  4.286758  ...  4.250820  4.250474   \n",
       "uid_95564   4.126650  4.125216  4.118452  4.118254  ...  4.069409  4.069263   \n",
       "uid_28131   4.056859  4.056240  4.055836  4.053997  ...  4.009573  4.009306   \n",
       "uid_143440  4.373345  4.367607  4.360787  4.357557  ...  4.305248  4.305093   \n",
       "uid_208322  3.897152  3.896971  3.894155  3.893357  ...  3.855875  3.855392   \n",
       "uid_75400   5.000000  5.000000  5.000000  5.000000  ...  4.965043  4.963527   \n",
       "uid_1049    4.426265  4.425665  4.423987  4.421138  ...  4.379801  4.379443   \n",
       "uid_112436  4.317390  4.312843  4.311996  4.300890  ...  4.206799  4.206141   \n",
       "uid_150562  4.628199  4.621522  4.619828  4.615407  ...  4.556200  4.555650   \n",
       "uid_214234  3.557272  3.556286  3.551765  3.549041  ...  3.501483  3.501137   \n",
       "uid_238979  4.019767  4.018671  4.017361  4.016626  ...  3.981116  3.979008   \n",
       "uid_101768  4.198924  4.184213  4.183980  4.182437  ...  4.122300  4.120764   \n",
       "uid_82109   4.535597  4.532233  4.531292  4.531258  ...  4.470673  4.470484   \n",
       "uid_20804   4.129763  4.125641  4.123420  4.123111  ...  4.093934  4.092794   \n",
       "\n",
       "              top_63    top_64    top_65    top_66    top_67    top_68  \\\n",
       "uid_128088  4.504607  4.504598  4.503761  4.502584  4.502310  4.502257   \n",
       "uid_267455  4.212131  4.211586  4.208626  4.207814  4.207559  4.207558   \n",
       "uid_73381   4.249721  4.249629  4.248288  4.247994  4.246197  4.246163   \n",
       "uid_117628  4.143781  4.143696  4.142351  4.141925  4.141332  4.141132   \n",
       "uid_21453   4.174062  4.173525  4.173290  4.172800  4.172599  4.172269   \n",
       "uid_229622  4.202460  4.202309  4.202237  4.201444  4.201187  4.200155   \n",
       "uid_167368  4.693647  4.693459  4.692391  4.691842  4.691225  4.691085   \n",
       "uid_21772   4.216805  4.216358  4.215498  4.215206  4.214997  4.214248   \n",
       "uid_176555  4.101932  4.101908  4.100172  4.099363  4.098148  4.097881   \n",
       "uid_166868  3.172651  3.172456  3.172355  3.172276  3.171221  3.170952   \n",
       "uid_51695   4.610239  4.609890  4.609472  4.609316  4.608775  4.608679   \n",
       "uid_282217  4.074119  4.074018  4.073826  4.073684  4.073075  4.072083   \n",
       "uid_188391  3.929084  3.928265  3.928257  3.927634  3.927526  3.926705   \n",
       "uid_246431  4.264496  4.263855  4.263700  4.263209  4.263189  4.263125   \n",
       "uid_92775   4.063075  4.062732  4.062497  4.062012  4.061264  4.061176   \n",
       "uid_221239  4.104501  4.104376  4.103228  4.103161  4.102972  4.102896   \n",
       "uid_148267  3.743934  3.742694  3.741278  3.740765  3.740751  3.740458   \n",
       "uid_26118   4.044908  4.044740  4.043448  4.042559  4.041461  4.041145   \n",
       "uid_175652  4.400118  4.399251  4.399039  4.398319  4.398036  4.397373   \n",
       "uid_120855  4.559666  4.559164  4.558719  4.554862  4.552591  4.549002   \n",
       "uid_99370   3.989637  3.989228  3.988574  3.988490  3.987516  3.986984   \n",
       "uid_117610  4.576228  4.575781  4.574514  4.574424  4.573534  4.573439   \n",
       "uid_265869  3.977365  3.976897  3.976069  3.975427  3.975183  3.975142   \n",
       "uid_199247  3.918361  3.917488  3.916846  3.916396  3.915409  3.915325   \n",
       "uid_128947  4.446683  4.446588  4.444691  4.444579  4.443353  4.442873   \n",
       "uid_194844  4.033846  4.030582  4.030359  4.030323  4.029209  4.027624   \n",
       "uid_58100   4.333569  4.333415  4.333374  4.333174  4.332626  4.331922   \n",
       "uid_131556  3.911221  3.910755  3.910033  3.909415  3.909186  3.908072   \n",
       "uid_167980  3.789704  3.789311  3.789150  3.788208  3.787507  3.787390   \n",
       "uid_205977  3.358949  3.358324  3.358046  3.356355  3.356087  3.356033   \n",
       "uid_99817   3.706993  3.706975  3.706843  3.706356  3.706273  3.705807   \n",
       "uid_16287   3.932126  3.931301  3.930719  3.929847  3.929501  3.925383   \n",
       "uid_192124  4.045064  4.044439  4.043971  4.043547  4.043450  4.043314   \n",
       "uid_176713  4.174900  4.174684  4.174551  4.174248  4.173978  4.172950   \n",
       "uid_130144  3.746153  3.745386  3.745308  3.745242  3.744883  3.744798   \n",
       "uid_132969  4.237536  4.237162  4.236198  4.235071  4.234374  4.233904   \n",
       "uid_271816  4.250390  4.250193  4.249744  4.249610  4.248070  4.247998   \n",
       "uid_95564   4.068978  4.068902  4.068892  4.068814  4.067748  4.066830   \n",
       "uid_28131   4.008923  4.008132  4.007961  4.006826  4.006575  4.006098   \n",
       "uid_143440  4.304708  4.304650  4.304339  4.301742  4.301487  4.300859   \n",
       "uid_208322  3.854836  3.854680  3.854480  3.853960  3.853761  3.852970   \n",
       "uid_75400   4.962580  4.962344  4.962338  4.960946  4.960865  4.960844   \n",
       "uid_1049    4.379179  4.379026  4.378776  4.377998  4.377566  4.377247   \n",
       "uid_112436  4.205308  4.203784  4.203513  4.201024  4.200982  4.198910   \n",
       "uid_150562  4.553925  4.553787  4.553541  4.551856  4.550042  4.549712   \n",
       "uid_214234  3.500114  3.499902  3.499635  3.498164  3.497807  3.497668   \n",
       "uid_238979  3.978559  3.978496  3.978347  3.978041  3.977581  3.977529   \n",
       "uid_101768  4.120736  4.120594  4.119625  4.119316  4.119136  4.119123   \n",
       "uid_82109   4.470448  4.469935  4.469337  4.469294  4.469269  4.468838   \n",
       "uid_20804   4.092386  4.089720  4.089184  4.088388  4.084430  4.084345   \n",
       "\n",
       "              top_69    top_70  \n",
       "uid_128088  4.502024  4.501986  \n",
       "uid_267455  4.207414  4.207317  \n",
       "uid_73381   4.245552  4.243743  \n",
       "uid_117628  4.141040  4.140790  \n",
       "uid_21453   4.172170  4.171809  \n",
       "uid_229622  4.199439  4.198274  \n",
       "uid_167368  4.690373  4.690299  \n",
       "uid_21772   4.213972  4.213722  \n",
       "uid_176555  4.097198  4.096393  \n",
       "uid_166868  3.170405  3.169114  \n",
       "uid_51695   4.608369  4.608151  \n",
       "uid_282217  4.071995  4.071169  \n",
       "uid_188391  3.925886  3.924150  \n",
       "uid_246431  4.262802  4.262476  \n",
       "uid_92775   4.060992  4.060978  \n",
       "uid_221239  4.101994  4.101784  \n",
       "uid_148267  3.739788  3.738977  \n",
       "uid_26118   4.040468  4.040141  \n",
       "uid_175652  4.397249  4.395860  \n",
       "uid_120855  4.546507  4.542368  \n",
       "uid_99370   3.986869  3.986319  \n",
       "uid_117610  4.573223  4.572785  \n",
       "uid_265869  3.975132  3.975080  \n",
       "uid_199247  3.914691  3.913448  \n",
       "uid_128947  4.441914  4.441884  \n",
       "uid_194844  4.027225  4.026207  \n",
       "uid_58100   4.331685  4.331082  \n",
       "uid_131556  3.908004  3.906501  \n",
       "uid_167980  3.787302  3.787206  \n",
       "uid_205977  3.355215  3.355167  \n",
       "uid_99817   3.705730  3.705726  \n",
       "uid_16287   3.925189  3.923614  \n",
       "uid_192124  4.043218  4.042686  \n",
       "uid_176713  4.172705  4.170767  \n",
       "uid_130144  3.744453  3.744220  \n",
       "uid_132969  4.233527  4.231138  \n",
       "uid_271816  4.247391  4.246700  \n",
       "uid_95564   4.066222  4.065873  \n",
       "uid_28131   4.005839  4.005401  \n",
       "uid_143440  4.300527  4.299895  \n",
       "uid_208322  3.851700  3.850745  \n",
       "uid_75400   4.960577  4.959712  \n",
       "uid_1049    4.376502  4.376488  \n",
       "uid_112436  4.198458  4.197220  \n",
       "uid_150562  4.548970  4.548075  \n",
       "uid_214234  3.497512  3.497371  \n",
       "uid_238979  3.977166  3.976801  \n",
       "uid_101768  4.119087  4.117985  \n",
       "uid_82109   4.468830  4.468308  \n",
       "uid_20804   4.084197  4.083705  \n",
       "\n",
       "[50 rows x 70 columns]"
      ]
     },
     "execution_count": 47,
     "metadata": {},
     "output_type": "execute_result"
    }
   ],
   "source": [
    "evolution_of_ratings[10]"
   ]
  },
  {
   "cell_type": "code",
   "execution_count": 86,
   "metadata": {},
   "outputs": [
    {
     "data": {
      "text/html": [
       "<div>\n",
       "<style scoped>\n",
       "    .dataframe tbody tr th:only-of-type {\n",
       "        vertical-align: middle;\n",
       "    }\n",
       "\n",
       "    .dataframe tbody tr th {\n",
       "        vertical-align: top;\n",
       "    }\n",
       "\n",
       "    .dataframe thead th {\n",
       "        text-align: right;\n",
       "    }\n",
       "</style>\n",
       "<table border=\"1\" class=\"dataframe\">\n",
       "  <thead>\n",
       "    <tr style=\"text-align: right;\">\n",
       "      <th></th>\n",
       "      <th>level_0</th>\n",
       "      <th>level_1</th>\n",
       "      <th>top_1</th>\n",
       "      <th>top_2</th>\n",
       "      <th>top_3</th>\n",
       "      <th>top_4</th>\n",
       "      <th>top_5</th>\n",
       "      <th>top_6</th>\n",
       "      <th>top_7</th>\n",
       "      <th>top_8</th>\n",
       "      <th>top_9</th>\n",
       "      <th>top_10</th>\n",
       "      <th>top_11</th>\n",
       "      <th>top_12</th>\n",
       "      <th>top_13</th>\n",
       "      <th>top_14</th>\n",
       "      <th>top_15</th>\n",
       "    </tr>\n",
       "  </thead>\n",
       "  <tbody>\n",
       "    <tr>\n",
       "      <th>0</th>\n",
       "      <td>epoch_0</td>\n",
       "      <td>uid_128088</td>\n",
       "      <td>1203</td>\n",
       "      <td>858</td>\n",
       "      <td>5618</td>\n",
       "      <td>215</td>\n",
       "      <td>1610</td>\n",
       "      <td>2064</td>\n",
       "      <td>3000</td>\n",
       "      <td>678</td>\n",
       "      <td>2019</td>\n",
       "      <td>55820</td>\n",
       "      <td>1234</td>\n",
       "      <td>3089</td>\n",
       "      <td>3507</td>\n",
       "      <td>1207</td>\n",
       "      <td>106100</td>\n",
       "    </tr>\n",
       "    <tr>\n",
       "      <th>1</th>\n",
       "      <td>epoch_0</td>\n",
       "      <td>uid_267455</td>\n",
       "      <td>1203</td>\n",
       "      <td>318</td>\n",
       "      <td>2019</td>\n",
       "      <td>527</td>\n",
       "      <td>1211</td>\n",
       "      <td>904</td>\n",
       "      <td>1617</td>\n",
       "      <td>50</td>\n",
       "      <td>1136</td>\n",
       "      <td>1276</td>\n",
       "      <td>4973</td>\n",
       "      <td>1198</td>\n",
       "      <td>1262</td>\n",
       "      <td>541</td>\n",
       "      <td>750</td>\n",
       "    </tr>\n",
       "    <tr>\n",
       "      <th>2</th>\n",
       "      <td>epoch_0</td>\n",
       "      <td>uid_73381</td>\n",
       "      <td>4973</td>\n",
       "      <td>1276</td>\n",
       "      <td>904</td>\n",
       "      <td>912</td>\n",
       "      <td>1204</td>\n",
       "      <td>1256</td>\n",
       "      <td>3730</td>\n",
       "      <td>7361</td>\n",
       "      <td>1203</td>\n",
       "      <td>3949</td>\n",
       "      <td>1250</td>\n",
       "      <td>1262</td>\n",
       "      <td>4848</td>\n",
       "      <td>1244</td>\n",
       "      <td>5971</td>\n",
       "    </tr>\n",
       "    <tr>\n",
       "      <th>3</th>\n",
       "      <td>epoch_0</td>\n",
       "      <td>uid_117628</td>\n",
       "      <td>1203</td>\n",
       "      <td>5618</td>\n",
       "      <td>904</td>\n",
       "      <td>2019</td>\n",
       "      <td>44555</td>\n",
       "      <td>2804</td>\n",
       "      <td>912</td>\n",
       "      <td>1617</td>\n",
       "      <td>356</td>\n",
       "      <td>1732</td>\n",
       "      <td>1262</td>\n",
       "      <td>2959</td>\n",
       "      <td>1193</td>\n",
       "      <td>2324</td>\n",
       "      <td>3911</td>\n",
       "    </tr>\n",
       "    <tr>\n",
       "      <th>4</th>\n",
       "      <td>epoch_0</td>\n",
       "      <td>uid_21453</td>\n",
       "      <td>260</td>\n",
       "      <td>296</td>\n",
       "      <td>527</td>\n",
       "      <td>1276</td>\n",
       "      <td>1210</td>\n",
       "      <td>1196</td>\n",
       "      <td>79132</td>\n",
       "      <td>318</td>\n",
       "      <td>904</td>\n",
       "      <td>2019</td>\n",
       "      <td>110</td>\n",
       "      <td>1198</td>\n",
       "      <td>899</td>\n",
       "      <td>4848</td>\n",
       "      <td>1291</td>\n",
       "    </tr>\n",
       "    <tr>\n",
       "      <th>...</th>\n",
       "      <td>...</td>\n",
       "      <td>...</td>\n",
       "      <td>...</td>\n",
       "      <td>...</td>\n",
       "      <td>...</td>\n",
       "      <td>...</td>\n",
       "      <td>...</td>\n",
       "      <td>...</td>\n",
       "      <td>...</td>\n",
       "      <td>...</td>\n",
       "      <td>...</td>\n",
       "      <td>...</td>\n",
       "      <td>...</td>\n",
       "      <td>...</td>\n",
       "      <td>...</td>\n",
       "      <td>...</td>\n",
       "      <td>...</td>\n",
       "    </tr>\n",
       "    <tr>\n",
       "      <th>14995</th>\n",
       "      <td>epoch_149</td>\n",
       "      <td>uid_182815</td>\n",
       "      <td>26078</td>\n",
       "      <td>4061</td>\n",
       "      <td>3661</td>\n",
       "      <td>65642</td>\n",
       "      <td>7773</td>\n",
       "      <td>59604</td>\n",
       "      <td>6822</td>\n",
       "      <td>3658</td>\n",
       "      <td>8266</td>\n",
       "      <td>6805</td>\n",
       "      <td>25927</td>\n",
       "      <td>6011</td>\n",
       "      <td>1612</td>\n",
       "      <td>37853</td>\n",
       "      <td>27478</td>\n",
       "    </tr>\n",
       "    <tr>\n",
       "      <th>14996</th>\n",
       "      <td>epoch_149</td>\n",
       "      <td>uid_254394</td>\n",
       "      <td>26078</td>\n",
       "      <td>59604</td>\n",
       "      <td>3658</td>\n",
       "      <td>8266</td>\n",
       "      <td>6805</td>\n",
       "      <td>25927</td>\n",
       "      <td>65642</td>\n",
       "      <td>37853</td>\n",
       "      <td>7773</td>\n",
       "      <td>95441</td>\n",
       "      <td>1612</td>\n",
       "      <td>154</td>\n",
       "      <td>95149</td>\n",
       "      <td>127178</td>\n",
       "      <td>6429</td>\n",
       "    </tr>\n",
       "    <tr>\n",
       "      <th>14997</th>\n",
       "      <td>epoch_149</td>\n",
       "      <td>uid_269446</td>\n",
       "      <td>77307</td>\n",
       "      <td>114060</td>\n",
       "      <td>26491</td>\n",
       "      <td>5619</td>\n",
       "      <td>7066</td>\n",
       "      <td>114847</td>\n",
       "      <td>1397</td>\n",
       "      <td>31689</td>\n",
       "      <td>42900</td>\n",
       "      <td>4151</td>\n",
       "      <td>73854</td>\n",
       "      <td>4338</td>\n",
       "      <td>2494</td>\n",
       "      <td>3776</td>\n",
       "      <td>16</td>\n",
       "    </tr>\n",
       "    <tr>\n",
       "      <th>14998</th>\n",
       "      <td>epoch_149</td>\n",
       "      <td>uid_146366</td>\n",
       "      <td>95149</td>\n",
       "      <td>26078</td>\n",
       "      <td>8366</td>\n",
       "      <td>5390</td>\n",
       "      <td>91978</td>\n",
       "      <td>3149</td>\n",
       "      <td>6442</td>\n",
       "      <td>95441</td>\n",
       "      <td>166534</td>\n",
       "      <td>7587</td>\n",
       "      <td>65642</td>\n",
       "      <td>6394</td>\n",
       "      <td>25927</td>\n",
       "      <td>7579</td>\n",
       "      <td>3661</td>\n",
       "    </tr>\n",
       "    <tr>\n",
       "      <th>14999</th>\n",
       "      <td>epoch_149</td>\n",
       "      <td>uid_88729</td>\n",
       "      <td>26078</td>\n",
       "      <td>5663</td>\n",
       "      <td>131796</td>\n",
       "      <td>3661</td>\n",
       "      <td>3149</td>\n",
       "      <td>8689</td>\n",
       "      <td>6805</td>\n",
       "      <td>65642</td>\n",
       "      <td>5767</td>\n",
       "      <td>37853</td>\n",
       "      <td>27797</td>\n",
       "      <td>102445</td>\n",
       "      <td>130978</td>\n",
       "      <td>6429</td>\n",
       "      <td>6066</td>\n",
       "    </tr>\n",
       "  </tbody>\n",
       "</table>\n",
       "<p>15000 rows × 17 columns</p>\n",
       "</div>"
      ],
      "text/plain": [
       "         level_0     level_1  top_1   top_2   top_3  top_4  top_5   top_6  \\\n",
       "0        epoch_0  uid_128088   1203     858    5618    215   1610    2064   \n",
       "1        epoch_0  uid_267455   1203     318    2019    527   1211     904   \n",
       "2        epoch_0   uid_73381   4973    1276     904    912   1204    1256   \n",
       "3        epoch_0  uid_117628   1203    5618     904   2019  44555    2804   \n",
       "4        epoch_0   uid_21453    260     296     527   1276   1210    1196   \n",
       "...          ...         ...    ...     ...     ...    ...    ...     ...   \n",
       "14995  epoch_149  uid_182815  26078    4061    3661  65642   7773   59604   \n",
       "14996  epoch_149  uid_254394  26078   59604    3658   8266   6805   25927   \n",
       "14997  epoch_149  uid_269446  77307  114060   26491   5619   7066  114847   \n",
       "14998  epoch_149  uid_146366  95149   26078    8366   5390  91978    3149   \n",
       "14999  epoch_149   uid_88729  26078    5663  131796   3661   3149    8689   \n",
       "\n",
       "       top_7  top_8   top_9  top_10  top_11  top_12  top_13  top_14  top_15  \n",
       "0       3000    678    2019   55820    1234    3089    3507    1207  106100  \n",
       "1       1617     50    1136    1276    4973    1198    1262     541     750  \n",
       "2       3730   7361    1203    3949    1250    1262    4848    1244    5971  \n",
       "3        912   1617     356    1732    1262    2959    1193    2324    3911  \n",
       "4      79132    318     904    2019     110    1198     899    4848    1291  \n",
       "...      ...    ...     ...     ...     ...     ...     ...     ...     ...  \n",
       "14995   6822   3658    8266    6805   25927    6011    1612   37853   27478  \n",
       "14996  65642  37853    7773   95441    1612     154   95149  127178    6429  \n",
       "14997   1397  31689   42900    4151   73854    4338    2494    3776      16  \n",
       "14998   6442  95441  166534    7587   65642    6394   25927    7579    3661  \n",
       "14999   6805  65642    5767   37853   27797  102445  130978    6429    6066  \n",
       "\n",
       "[15000 rows x 17 columns]"
      ]
     },
     "execution_count": 86,
     "metadata": {},
     "output_type": "execute_result"
    }
   ],
   "source": [
    "results_movies.reset_index()"
   ]
  },
  {
   "cell_type": "code",
   "execution_count": 34,
   "metadata": {},
   "outputs": [],
   "source": [
    "n_epochs = 99\n",
    "results_movies = pd.concat(evolution_of_movies, keys=['epoch_'+str(i) for i in range(n_epochs)])\n",
    "results_ratings = pd.concat(evolution_of_ratings, keys=['epoch_'+str(i) for i in range(n_epochs)])\n",
    "# results.to_csv('evolution_10_epochs.csv')"
   ]
  },
  {
   "cell_type": "code",
   "execution_count": 35,
   "metadata": {},
   "outputs": [],
   "source": [
    "results_movies.to_csv('movie_evolution_99epochs_50users_sim_1000users_total_70mov.csv')\n",
    "results_ratings.to_csv('rating_evolution_99epochs_50users_sim_1000users_total_70mov.csv')"
   ]
  },
  {
   "cell_type": "code",
   "execution_count": 62,
   "metadata": {},
   "outputs": [],
   "source": [
    "# results.to_csv('evolution_400epochs_10users_sim_1000users_total_12mov.csv')"
   ]
  },
  {
   "cell_type": "code",
   "execution_count": 61,
   "metadata": {},
   "outputs": [
    {
     "data": {
      "text/html": [
       "<div>\n",
       "<style scoped>\n",
       "    .dataframe tbody tr th:only-of-type {\n",
       "        vertical-align: middle;\n",
       "    }\n",
       "\n",
       "    .dataframe tbody tr th {\n",
       "        vertical-align: top;\n",
       "    }\n",
       "\n",
       "    .dataframe thead th {\n",
       "        text-align: right;\n",
       "    }\n",
       "</style>\n",
       "<table border=\"1\" class=\"dataframe\">\n",
       "  <thead>\n",
       "    <tr style=\"text-align: right;\">\n",
       "      <th></th>\n",
       "      <th></th>\n",
       "      <th>top_1</th>\n",
       "      <th>top_2</th>\n",
       "      <th>top_3</th>\n",
       "      <th>top_4</th>\n",
       "      <th>top_5</th>\n",
       "      <th>top_6</th>\n",
       "      <th>top_7</th>\n",
       "      <th>top_8</th>\n",
       "      <th>top_9</th>\n",
       "      <th>top_10</th>\n",
       "      <th>top_11</th>\n",
       "      <th>top_12</th>\n",
       "    </tr>\n",
       "  </thead>\n",
       "  <tbody>\n",
       "    <tr>\n",
       "      <th rowspan=\"5\" valign=\"top\">epoch_0</th>\n",
       "      <th>uid_128088</th>\n",
       "      <td>919</td>\n",
       "      <td>940</td>\n",
       "      <td>34405</td>\n",
       "      <td>899</td>\n",
       "      <td>2132</td>\n",
       "      <td>1233</td>\n",
       "      <td>4641</td>\n",
       "      <td>5618</td>\n",
       "      <td>913</td>\n",
       "      <td>1204</td>\n",
       "      <td>215</td>\n",
       "      <td>1260</td>\n",
       "    </tr>\n",
       "    <tr>\n",
       "      <th>uid_267455</th>\n",
       "      <td>541</td>\n",
       "      <td>2571</td>\n",
       "      <td>318</td>\n",
       "      <td>1136</td>\n",
       "      <td>1203</td>\n",
       "      <td>1198</td>\n",
       "      <td>1193</td>\n",
       "      <td>306</td>\n",
       "      <td>858</td>\n",
       "      <td>1250</td>\n",
       "      <td>50</td>\n",
       "      <td>2019</td>\n",
       "    </tr>\n",
       "    <tr>\n",
       "      <th>uid_73381</th>\n",
       "      <td>1276</td>\n",
       "      <td>541</td>\n",
       "      <td>904</td>\n",
       "      <td>306</td>\n",
       "      <td>1203</td>\n",
       "      <td>1208</td>\n",
       "      <td>858</td>\n",
       "      <td>50</td>\n",
       "      <td>2019</td>\n",
       "      <td>908</td>\n",
       "      <td>1207</td>\n",
       "      <td>1247</td>\n",
       "    </tr>\n",
       "    <tr>\n",
       "      <th>uid_117628</th>\n",
       "      <td>5291</td>\n",
       "      <td>5618</td>\n",
       "      <td>1222</td>\n",
       "      <td>1203</td>\n",
       "      <td>904</td>\n",
       "      <td>541</td>\n",
       "      <td>912</td>\n",
       "      <td>2019</td>\n",
       "      <td>910</td>\n",
       "      <td>908</td>\n",
       "      <td>44555</td>\n",
       "      <td>1204</td>\n",
       "    </tr>\n",
       "    <tr>\n",
       "      <th>uid_21453</th>\n",
       "      <td>318</td>\n",
       "      <td>2959</td>\n",
       "      <td>1172</td>\n",
       "      <td>5952</td>\n",
       "      <td>1276</td>\n",
       "      <td>2019</td>\n",
       "      <td>2571</td>\n",
       "      <td>1203</td>\n",
       "      <td>1258</td>\n",
       "      <td>1237</td>\n",
       "      <td>260</td>\n",
       "      <td>4993</td>\n",
       "    </tr>\n",
       "    <tr>\n",
       "      <th>...</th>\n",
       "      <th>...</th>\n",
       "      <td>...</td>\n",
       "      <td>...</td>\n",
       "      <td>...</td>\n",
       "      <td>...</td>\n",
       "      <td>...</td>\n",
       "      <td>...</td>\n",
       "      <td>...</td>\n",
       "      <td>...</td>\n",
       "      <td>...</td>\n",
       "      <td>...</td>\n",
       "      <td>...</td>\n",
       "      <td>...</td>\n",
       "    </tr>\n",
       "    <tr>\n",
       "      <th rowspan=\"5\" valign=\"top\">epoch_399</th>\n",
       "      <th>uid_229622</th>\n",
       "      <td>999</td>\n",
       "      <td>7781</td>\n",
       "      <td>2332</td>\n",
       "      <td>8939</td>\n",
       "      <td>409</td>\n",
       "      <td>25996</td>\n",
       "      <td>5577</td>\n",
       "      <td>74668</td>\n",
       "      <td>88911</td>\n",
       "      <td>47124</td>\n",
       "      <td>6280</td>\n",
       "      <td>156371</td>\n",
       "    </tr>\n",
       "    <tr>\n",
       "      <th>uid_167368</th>\n",
       "      <td>8939</td>\n",
       "      <td>5577</td>\n",
       "      <td>94405</td>\n",
       "      <td>25996</td>\n",
       "      <td>91474</td>\n",
       "      <td>3026</td>\n",
       "      <td>5603</td>\n",
       "      <td>112946</td>\n",
       "      <td>7704</td>\n",
       "      <td>55261</td>\n",
       "      <td>120635</td>\n",
       "      <td>75813</td>\n",
       "    </tr>\n",
       "    <tr>\n",
       "      <th>uid_21772</th>\n",
       "      <td>999</td>\n",
       "      <td>2332</td>\n",
       "      <td>7781</td>\n",
       "      <td>82167</td>\n",
       "      <td>8939</td>\n",
       "      <td>150262</td>\n",
       "      <td>88911</td>\n",
       "      <td>6280</td>\n",
       "      <td>74668</td>\n",
       "      <td>25996</td>\n",
       "      <td>156371</td>\n",
       "      <td>6419</td>\n",
       "    </tr>\n",
       "    <tr>\n",
       "      <th>uid_176555</th>\n",
       "      <td>2332</td>\n",
       "      <td>25996</td>\n",
       "      <td>150262</td>\n",
       "      <td>88911</td>\n",
       "      <td>82167</td>\n",
       "      <td>105769</td>\n",
       "      <td>8939</td>\n",
       "      <td>5603</td>\n",
       "      <td>5577</td>\n",
       "      <td>3026</td>\n",
       "      <td>5288</td>\n",
       "      <td>59429</td>\n",
       "    </tr>\n",
       "    <tr>\n",
       "      <th>uid_166868</th>\n",
       "      <td>105769</td>\n",
       "      <td>5577</td>\n",
       "      <td>6280</td>\n",
       "      <td>5288</td>\n",
       "      <td>6584</td>\n",
       "      <td>7704</td>\n",
       "      <td>82167</td>\n",
       "      <td>93831</td>\n",
       "      <td>3026</td>\n",
       "      <td>4893</td>\n",
       "      <td>150262</td>\n",
       "      <td>6419</td>\n",
       "    </tr>\n",
       "  </tbody>\n",
       "</table>\n",
       "<p>4000 rows × 12 columns</p>\n",
       "</div>"
      ],
      "text/plain": [
       "                       top_1  top_2   top_3  top_4  top_5   top_6  top_7  \\\n",
       "epoch_0   uid_128088     919    940   34405    899   2132    1233   4641   \n",
       "          uid_267455     541   2571     318   1136   1203    1198   1193   \n",
       "          uid_73381     1276    541     904    306   1203    1208    858   \n",
       "          uid_117628    5291   5618    1222   1203    904     541    912   \n",
       "          uid_21453      318   2959    1172   5952   1276    2019   2571   \n",
       "...                      ...    ...     ...    ...    ...     ...    ...   \n",
       "epoch_399 uid_229622     999   7781    2332   8939    409   25996   5577   \n",
       "          uid_167368    8939   5577   94405  25996  91474    3026   5603   \n",
       "          uid_21772      999   2332    7781  82167   8939  150262  88911   \n",
       "          uid_176555    2332  25996  150262  88911  82167  105769   8939   \n",
       "          uid_166868  105769   5577    6280   5288   6584    7704  82167   \n",
       "\n",
       "                       top_8  top_9  top_10  top_11  top_12  \n",
       "epoch_0   uid_128088    5618    913    1204     215    1260  \n",
       "          uid_267455     306    858    1250      50    2019  \n",
       "          uid_73381       50   2019     908    1207    1247  \n",
       "          uid_117628    2019    910     908   44555    1204  \n",
       "          uid_21453     1203   1258    1237     260    4993  \n",
       "...                      ...    ...     ...     ...     ...  \n",
       "epoch_399 uid_229622   74668  88911   47124    6280  156371  \n",
       "          uid_167368  112946   7704   55261  120635   75813  \n",
       "          uid_21772     6280  74668   25996  156371    6419  \n",
       "          uid_176555    5603   5577    3026    5288   59429  \n",
       "          uid_166868   93831   3026    4893  150262    6419  \n",
       "\n",
       "[4000 rows x 12 columns]"
      ]
     },
     "execution_count": 61,
     "metadata": {},
     "output_type": "execute_result"
    }
   ],
   "source": [
    "results"
   ]
  },
  {
   "cell_type": "code",
   "execution_count": 38,
   "metadata": {},
   "outputs": [
    {
     "data": {
      "text/html": [
       "<div>\n",
       "<style scoped>\n",
       "    .dataframe tbody tr th:only-of-type {\n",
       "        vertical-align: middle;\n",
       "    }\n",
       "\n",
       "    .dataframe tbody tr th {\n",
       "        vertical-align: top;\n",
       "    }\n",
       "\n",
       "    .dataframe thead th {\n",
       "        text-align: right;\n",
       "    }\n",
       "</style>\n",
       "<table border=\"1\" class=\"dataframe\">\n",
       "  <thead>\n",
       "    <tr style=\"text-align: right;\">\n",
       "      <th></th>\n",
       "      <th></th>\n",
       "      <th>top_1</th>\n",
       "      <th>top_2</th>\n",
       "      <th>top_3</th>\n",
       "      <th>top_4</th>\n",
       "      <th>top_5</th>\n",
       "      <th>top_6</th>\n",
       "      <th>top_7</th>\n",
       "      <th>top_8</th>\n",
       "      <th>top_9</th>\n",
       "      <th>top_10</th>\n",
       "      <th>top_11</th>\n",
       "      <th>top_12</th>\n",
       "      <th>top_13</th>\n",
       "      <th>top_14</th>\n",
       "      <th>top_15</th>\n",
       "    </tr>\n",
       "  </thead>\n",
       "  <tbody>\n",
       "    <tr>\n",
       "      <th rowspan=\"5\" valign=\"top\">epoch_0</th>\n",
       "      <th>uid_128088</th>\n",
       "      <td>947</td>\n",
       "      <td>6170</td>\n",
       "      <td>3134</td>\n",
       "      <td>1250</td>\n",
       "      <td>86504</td>\n",
       "      <td>5291</td>\n",
       "      <td>952</td>\n",
       "      <td>935</td>\n",
       "      <td>86347</td>\n",
       "      <td>1929</td>\n",
       "      <td>950</td>\n",
       "      <td>665</td>\n",
       "      <td>942</td>\n",
       "      <td>953</td>\n",
       "      <td>2920</td>\n",
       "    </tr>\n",
       "    <tr>\n",
       "      <th>uid_267455</th>\n",
       "      <td>86504</td>\n",
       "      <td>3730</td>\n",
       "      <td>3022</td>\n",
       "      <td>952</td>\n",
       "      <td>4312</td>\n",
       "      <td>665</td>\n",
       "      <td>104069</td>\n",
       "      <td>3435</td>\n",
       "      <td>5291</td>\n",
       "      <td>318</td>\n",
       "      <td>6170</td>\n",
       "      <td>3134</td>\n",
       "      <td>1446</td>\n",
       "      <td>1203</td>\n",
       "      <td>1211</td>\n",
       "    </tr>\n",
       "    <tr>\n",
       "      <th>uid_73381</th>\n",
       "      <td>86504</td>\n",
       "      <td>4312</td>\n",
       "      <td>665</td>\n",
       "      <td>1446</td>\n",
       "      <td>3134</td>\n",
       "      <td>3022</td>\n",
       "      <td>5291</td>\n",
       "      <td>162414</td>\n",
       "      <td>935</td>\n",
       "      <td>100714</td>\n",
       "      <td>2843</td>\n",
       "      <td>3089</td>\n",
       "      <td>8370</td>\n",
       "      <td>44555</td>\n",
       "      <td>2905</td>\n",
       "    </tr>\n",
       "    <tr>\n",
       "      <th>uid_117628</th>\n",
       "      <td>947</td>\n",
       "      <td>3134</td>\n",
       "      <td>5291</td>\n",
       "      <td>3730</td>\n",
       "      <td>1226</td>\n",
       "      <td>142488</td>\n",
       "      <td>952</td>\n",
       "      <td>665</td>\n",
       "      <td>1446</td>\n",
       "      <td>4312</td>\n",
       "      <td>3022</td>\n",
       "      <td>79357</td>\n",
       "      <td>2843</td>\n",
       "      <td>4902</td>\n",
       "      <td>5618</td>\n",
       "    </tr>\n",
       "    <tr>\n",
       "      <th>uid_21453</th>\n",
       "      <td>86504</td>\n",
       "      <td>2732</td>\n",
       "      <td>3134</td>\n",
       "      <td>4312</td>\n",
       "      <td>947</td>\n",
       "      <td>3022</td>\n",
       "      <td>2905</td>\n",
       "      <td>935</td>\n",
       "      <td>665</td>\n",
       "      <td>1207</td>\n",
       "      <td>3435</td>\n",
       "      <td>3089</td>\n",
       "      <td>2360</td>\n",
       "      <td>945</td>\n",
       "      <td>3730</td>\n",
       "    </tr>\n",
       "    <tr>\n",
       "      <th>...</th>\n",
       "      <th>...</th>\n",
       "      <td>...</td>\n",
       "      <td>...</td>\n",
       "      <td>...</td>\n",
       "      <td>...</td>\n",
       "      <td>...</td>\n",
       "      <td>...</td>\n",
       "      <td>...</td>\n",
       "      <td>...</td>\n",
       "      <td>...</td>\n",
       "      <td>...</td>\n",
       "      <td>...</td>\n",
       "      <td>...</td>\n",
       "      <td>...</td>\n",
       "      <td>...</td>\n",
       "      <td>...</td>\n",
       "    </tr>\n",
       "    <tr>\n",
       "      <th rowspan=\"5\" valign=\"top\">epoch_199</th>\n",
       "      <th>uid_229622</th>\n",
       "      <td>45210</td>\n",
       "      <td>96110</td>\n",
       "      <td>5004</td>\n",
       "      <td>157270</td>\n",
       "      <td>2442</td>\n",
       "      <td>3950</td>\n",
       "      <td>136447</td>\n",
       "      <td>51088</td>\n",
       "      <td>4126</td>\n",
       "      <td>96079</td>\n",
       "      <td>86644</td>\n",
       "      <td>102194</td>\n",
       "      <td>57655</td>\n",
       "      <td>65596</td>\n",
       "      <td>3658</td>\n",
       "    </tr>\n",
       "    <tr>\n",
       "      <th>uid_167368</th>\n",
       "      <td>5004</td>\n",
       "      <td>157270</td>\n",
       "      <td>51088</td>\n",
       "      <td>3950</td>\n",
       "      <td>57655</td>\n",
       "      <td>59995</td>\n",
       "      <td>1695</td>\n",
       "      <td>6779</td>\n",
       "      <td>94677</td>\n",
       "      <td>53189</td>\n",
       "      <td>168252</td>\n",
       "      <td>42418</td>\n",
       "      <td>25744</td>\n",
       "      <td>32587</td>\n",
       "      <td>2138</td>\n",
       "    </tr>\n",
       "    <tr>\n",
       "      <th>uid_21772</th>\n",
       "      <td>96110</td>\n",
       "      <td>45210</td>\n",
       "      <td>5004</td>\n",
       "      <td>157270</td>\n",
       "      <td>136447</td>\n",
       "      <td>4126</td>\n",
       "      <td>3950</td>\n",
       "      <td>51088</td>\n",
       "      <td>86644</td>\n",
       "      <td>102194</td>\n",
       "      <td>57655</td>\n",
       "      <td>65596</td>\n",
       "      <td>3658</td>\n",
       "      <td>59995</td>\n",
       "      <td>25741</td>\n",
       "    </tr>\n",
       "    <tr>\n",
       "      <th>uid_176555</th>\n",
       "      <td>5004</td>\n",
       "      <td>157270</td>\n",
       "      <td>4126</td>\n",
       "      <td>3950</td>\n",
       "      <td>51088</td>\n",
       "      <td>86644</td>\n",
       "      <td>102194</td>\n",
       "      <td>57655</td>\n",
       "      <td>59995</td>\n",
       "      <td>25741</td>\n",
       "      <td>1695</td>\n",
       "      <td>6306</td>\n",
       "      <td>94677</td>\n",
       "      <td>6779</td>\n",
       "      <td>53189</td>\n",
       "    </tr>\n",
       "    <tr>\n",
       "      <th>uid_166868</th>\n",
       "      <td>96110</td>\n",
       "      <td>45210</td>\n",
       "      <td>5004</td>\n",
       "      <td>2442</td>\n",
       "      <td>157270</td>\n",
       "      <td>51088</td>\n",
       "      <td>5625</td>\n",
       "      <td>3950</td>\n",
       "      <td>3363</td>\n",
       "      <td>136447</td>\n",
       "      <td>96079</td>\n",
       "      <td>4126</td>\n",
       "      <td>86644</td>\n",
       "      <td>102194</td>\n",
       "      <td>57655</td>\n",
       "    </tr>\n",
       "  </tbody>\n",
       "</table>\n",
       "<p>2000 rows × 15 columns</p>\n",
       "</div>"
      ],
      "text/plain": [
       "                      top_1   top_2  top_3   top_4   top_5   top_6   top_7  \\\n",
       "epoch_0   uid_128088    947    6170   3134    1250   86504    5291     952   \n",
       "          uid_267455  86504    3730   3022     952    4312     665  104069   \n",
       "          uid_73381   86504    4312    665    1446    3134    3022    5291   \n",
       "          uid_117628    947    3134   5291    3730    1226  142488     952   \n",
       "          uid_21453   86504    2732   3134    4312     947    3022    2905   \n",
       "...                     ...     ...    ...     ...     ...     ...     ...   \n",
       "epoch_199 uid_229622  45210   96110   5004  157270    2442    3950  136447   \n",
       "          uid_167368   5004  157270  51088    3950   57655   59995    1695   \n",
       "          uid_21772   96110   45210   5004  157270  136447    4126    3950   \n",
       "          uid_176555   5004  157270   4126    3950   51088   86644  102194   \n",
       "          uid_166868  96110   45210   5004    2442  157270   51088    5625   \n",
       "\n",
       "                       top_8  top_9  top_10  top_11  top_12  top_13  top_14  \\\n",
       "epoch_0   uid_128088     935  86347    1929     950     665     942     953   \n",
       "          uid_267455    3435   5291     318    6170    3134    1446    1203   \n",
       "          uid_73381   162414    935  100714    2843    3089    8370   44555   \n",
       "          uid_117628     665   1446    4312    3022   79357    2843    4902   \n",
       "          uid_21453      935    665    1207    3435    3089    2360     945   \n",
       "...                      ...    ...     ...     ...     ...     ...     ...   \n",
       "epoch_199 uid_229622   51088   4126   96079   86644  102194   57655   65596   \n",
       "          uid_167368    6779  94677   53189  168252   42418   25744   32587   \n",
       "          uid_21772    51088  86644  102194   57655   65596    3658   59995   \n",
       "          uid_176555   57655  59995   25741    1695    6306   94677    6779   \n",
       "          uid_166868    3950   3363  136447   96079    4126   86644  102194   \n",
       "\n",
       "                      top_15  \n",
       "epoch_0   uid_128088    2920  \n",
       "          uid_267455    1211  \n",
       "          uid_73381     2905  \n",
       "          uid_117628    5618  \n",
       "          uid_21453     3730  \n",
       "...                      ...  \n",
       "epoch_199 uid_229622    3658  \n",
       "          uid_167368    2138  \n",
       "          uid_21772    25741  \n",
       "          uid_176555   53189  \n",
       "          uid_166868   57655  \n",
       "\n",
       "[2000 rows x 15 columns]"
      ]
     },
     "execution_count": 38,
     "metadata": {},
     "output_type": "execute_result"
    }
   ],
   "source": [
    "results"
   ]
  },
  {
   "cell_type": "code",
   "execution_count": 19,
   "metadata": {},
   "outputs": [],
   "source": [
    "# movielens = movielens_shorter"
   ]
  },
  {
   "cell_type": "code",
   "execution_count": 20,
   "metadata": {},
   "outputs": [],
   "source": [
    "# popular_iids = movielens_short.iid.value_counts()[movielens_short.iid.value_counts()>1000].index"
   ]
  },
  {
   "cell_type": "code",
   "execution_count": 21,
   "metadata": {},
   "outputs": [],
   "source": [
    "# movielens_short[movielens_short.iid.isin(popular_iids)].shape"
   ]
  },
  {
   "cell_type": "code",
   "execution_count": 54,
   "metadata": {},
   "outputs": [],
   "source": [
    "# movielens_upd = movielens.append(pd.DataFrame([[50, 52, 5.0]], columns = ['uid', 'iid', 'rating'])).reset_index(drop=True)"
   ]
  },
  {
   "cell_type": "code",
   "execution_count": 24,
   "metadata": {},
   "outputs": [],
   "source": [
    "# movielens_upd"
   ]
  },
  {
   "cell_type": "code",
   "execution_count": 36,
   "metadata": {},
   "outputs": [
    {
     "data": {
      "text/plain": [
       "((2741736, 3), (2741737, 3))"
      ]
     },
     "execution_count": 36,
     "metadata": {},
     "output_type": "execute_result"
    }
   ],
   "source": [
    "# movielens.shape, movielens_upd.shape"
   ]
  },
  {
   "cell_type": "code",
   "execution_count": 55,
   "metadata": {},
   "outputs": [],
   "source": [
    "# data = surprise.Dataset.load_from_df(movielens_upd, reader)"
   ]
  },
  {
   "cell_type": "code",
   "execution_count": 56,
   "metadata": {},
   "outputs": [],
   "source": [
    "# loaded_model.trainset = data.build_full_trainset()"
   ]
  },
  {
   "cell_type": "code",
   "execution_count": 57,
   "metadata": {},
   "outputs": [],
   "source": [
    "# loaded_model.l = 1"
   ]
  },
  {
   "cell_type": "code",
   "execution_count": 58,
   "metadata": {},
   "outputs": [],
   "source": [
    "# loaded_model.verbose = True"
   ]
  },
  {
   "cell_type": "code",
   "execution_count": 25,
   "metadata": {},
   "outputs": [],
   "source": [
    "# loaded_model.sgd(loaded_model.trainset)"
   ]
  },
  {
   "cell_type": "code",
   "execution_count": 42,
   "metadata": {},
   "outputs": [
    {
     "name": "stdout",
     "output_type": "stream",
     "text": [
      "CPU times: user 28min 7s, sys: 279 ms, total: 28min 7s\n",
      "Wall time: 28min 8s\n"
     ]
    }
   ],
   "source": [
    "# %%time\n",
    "# data = surprise.Dataset.load_from_df(movielens_upd, reader)\n",
    "# alg = surprise.SVDpp()\n",
    "# output = alg.fit(data.build_full_trainset())"
   ]
  },
  {
   "cell_type": "code",
   "execution_count": 29,
   "metadata": {},
   "outputs": [],
   "source": [
    "# filename = 'finalized_model.sav'\n",
    "# # pickle.dump(alg, open(filename, 'wb'))"
   ]
  },
  {
   "cell_type": "code",
   "execution_count": 30,
   "metadata": {},
   "outputs": [],
   "source": [
    "# loaded_model = pickle.load(open(filename, 'rb'))"
   ]
  },
  {
   "cell_type": "code",
   "execution_count": 31,
   "metadata": {},
   "outputs": [],
   "source": [
    "# loaded_model.predict(uid = '50', iid = '52').est"
   ]
  },
  {
   "cell_type": "code",
   "execution_count": 208,
   "metadata": {
    "scrolled": true
   },
   "outputs": [
    {
     "name": "stdout",
     "output_type": "stream",
     "text": [
      " processing epoch 0\n",
      " processing epoch 1\n",
      " processing epoch 2\n",
      " processing epoch 3\n",
      " processing epoch 4\n",
      " processing epoch 5\n",
      " processing epoch 6\n",
      " processing epoch 7\n",
      " processing epoch 8\n",
      " processing epoch 9\n",
      " processing epoch 10\n",
      " processing epoch 11\n",
      " processing epoch 12\n",
      " processing epoch 13\n",
      " processing epoch 14\n",
      " processing epoch 15\n",
      " processing epoch 16\n",
      " processing epoch 17\n",
      " processing epoch 18\n",
      " processing epoch 19\n",
      "CPU times: user 4.57 s, sys: 4.03 ms, total: 4.57 s\n",
      "Wall time: 4.56 s\n"
     ]
    }
   ],
   "source": [
    "%%time\n",
    "data = surprise.Dataset.load_from_df(movielens_similar, reader)\n",
    "alg = surprise.SVDpp(verbose=True)\n",
    "output = alg.fit(data.build_full_trainset())"
   ]
  }
 ],
 "metadata": {
  "kernelspec": {
   "display_name": "escaping_echo_chambers",
   "language": "python",
   "name": "escaping_echo_chambers"
  },
  "language_info": {
   "codemirror_mode": {
    "name": "ipython",
    "version": 3
   },
   "file_extension": ".py",
   "mimetype": "text/x-python",
   "name": "python",
   "nbconvert_exporter": "python",
   "pygments_lexer": "ipython3",
   "version": "3.8.5"
  }
 },
 "nbformat": 4,
 "nbformat_minor": 2
}
